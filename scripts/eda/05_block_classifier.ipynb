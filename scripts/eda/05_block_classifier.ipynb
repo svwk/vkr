{
 "cells": [
  {
   "cell_type": "markdown",
   "source": [
    "# Анализ вакансий\n",
    "**Часть 5**\n",
    "## Создание классификатора текстовых блоков объявлений"
   ],
   "metadata": {
    "collapsed": false
   },
   "id": "b5521f86c6325352"
  },
  {
   "cell_type": "markdown",
   "source": [
    "# 1. Служебный код\n",
    "## 1.1. Импорт\n",
    "### 1.1.1. Импорт библиотек"
   ],
   "metadata": {
    "collapsed": false
   },
   "id": "b50a576075fd03f6"
  },
  {
   "cell_type": "code",
   "execution_count": 1,
   "id": "initial_id",
   "metadata": {
    "collapsed": true,
    "ExecuteTime": {
     "end_time": "2024-05-21T11:55:20.311721609Z",
     "start_time": "2024-05-21T11:55:18.671711459Z"
    }
   },
   "outputs": [],
   "source": [
    "import pandas as pd\n",
    "import matplotlib.pyplot as plt\n",
    "import seaborn as sns\n",
    "import warnings\n",
    "from datetime import datetime\n",
    "import nltk\n",
    "from sklearn.linear_model import LogisticRegression\n",
    "from sklearn.model_selection import train_test_split, GridSearchCV\n",
    "from sklearn.metrics import classification_report, f1_score, accuracy_score\n",
    "from sentence_transformers import SentenceTransformer, util\n",
    "import torch\n",
    "from sklearn.metrics import f1_score, accuracy_score, recall_score, precision_score, confusion_matrix\n",
    "from importlib import reload"
   ]
  },
  {
   "cell_type": "markdown",
   "source": [
    "### 1.1.2. Импорт модулей"
   ],
   "metadata": {
    "collapsed": false
   },
   "id": "cf1dff3eabd7a6e5"
  },
  {
   "cell_type": "code",
   "execution_count": 28,
   "outputs": [
    {
     "data": {
      "text/plain": "<module 'scripts.model_scripts.text_process' from '/mnt/data/projects/active/urfu/vkr/scripts/model_scripts/text_process.py'>"
     },
     "execution_count": 28,
     "metadata": {},
     "output_type": "execute_result"
    }
   ],
   "source": [
    "import config\n",
    "reload(config)\n",
    "from config import settings\n",
    "\n",
    "import scripts.utils.files as files\n",
    "reload(files)\n",
    "\n",
    "import scripts.utils.tasks as tasks\n",
    "\n",
    "import scripts.model_scripts.text_process as proc\n",
    "reload(proc)"
   ],
   "metadata": {
    "collapsed": false,
    "ExecuteTime": {
     "end_time": "2024-05-21T12:34:24.884418236Z",
     "start_time": "2024-05-21T12:34:09.220872208Z"
    }
   },
   "id": "55fa781661dd81d6"
  },
  {
   "cell_type": "markdown",
   "source": [
    "\n",
    "## 1.2. Настройка параметров"
   ],
   "metadata": {
    "collapsed": false
   },
   "id": "f4c15384bb15de3f"
  },
  {
   "cell_type": "code",
   "execution_count": 3,
   "outputs": [],
   "source": [
    "pd.set_option(\"display.max_rows\", 20)\n",
    "pd.set_option(\"display.max_columns\", 20)\n",
    "pd.set_option(\"display.precision\",6)\n",
    "pd.set_option(\"plotting.backend\", \"matplotlib\")\n",
    "warnings.simplefilter(\"ignore\")\n",
    "\n",
    "#Для корректного отображения графиков в ноутбуках используется команда %matplotlib inline\n",
    "%matplotlib inline\n",
    "# для корректного отображения графиков на тёмном фоне\n",
    "plt.style.use('default')\n",
    "RANDOM_STATE = 123"
   ],
   "metadata": {
    "collapsed": false,
    "ExecuteTime": {
     "end_time": "2024-05-21T11:59:50.830154680Z",
     "start_time": "2024-05-21T11:59:50.777900586Z"
    }
   },
   "id": "1257074dec9264d1"
  },
  {
   "cell_type": "code",
   "execution_count": 4,
   "outputs": [],
   "source": [
    "MODEL_SUBDIR = settings.get_fresh('BLOCK_MODELING_SUBDIR')\n",
    "PROCESSED_SUBDIR = settings.get_fresh('PROCESSED_LOCAL_SUBDIR')\n",
    "MODEL_LOCAL_DIR = settings.get_fresh('MODEL_LOCAL_DIR')\n",
    "NLTK_DIR  = settings.get_fresh('NLTK_DIR')\n",
    "FILENAME_EMB_SUFFIX = settings.get_fresh('FILENAME_EMB_SUFFIX')\n",
    "DTYPES = settings.get_fresh('types.CSV_DTYPES')"
   ],
   "metadata": {
    "collapsed": false,
    "ExecuteTime": {
     "end_time": "2024-05-21T12:00:04.161201530Z",
     "start_time": "2024-05-21T11:59:59.291225986Z"
    }
   },
   "id": "8d1e2e989367798e"
  },
  {
   "cell_type": "code",
   "execution_count": 5,
   "outputs": [],
   "source": [
    "MODEL1_NAME='paraphrase_minilm_l12'\n",
    "MODEL2_NAME= 'distiluse_cased_v2'\n",
    "MODEL3_NAME='paraphrase_mpnet_v2'\n",
    "MODEL4_NAME='stsb_xlm_r'\n",
    "\n",
    "MODELS = {\n",
    "    MODEL1_NAME:\n",
    "              'sentence-transformers/paraphrase-multilingual-MiniLM-L12-v2',\n",
    "       MODEL2_NAME:\n",
    "             'sentence-transformers/distiluse-base-multilingual-cased-v2',\n",
    "         MODEL3_NAME:\n",
    "              'sentence-transformers/paraphrase-multilingual-mpnet-base-v2',\n",
    "         MODEL4_NAME:\n",
    "              'sentence-transformers/stsb-xlm-r-multilingual'\n",
    "}\n",
    "\n",
    "N_COMPONENTS=[2, 3, 4]"
   ],
   "metadata": {
    "collapsed": false,
    "ExecuteTime": {
     "end_time": "2024-05-21T12:00:06.760205771Z",
     "start_time": "2024-05-21T12:00:06.732107785Z"
    }
   },
   "id": "ac460c9574a1cfed"
  },
  {
   "cell_type": "code",
   "execution_count": 6,
   "outputs": [
    {
     "name": "stderr",
     "output_type": "stream",
     "text": [
      "[nltk_data] Downloading package punkt to /var/lib/python/python_venvs/\n",
      "[nltk_data]     torch_streamlit/lib/nltk_data/...\n",
      "[nltk_data]   Package punkt is already up-to-date!\n",
      "[nltk_data] Downloading package stopwords to /var/lib/python/python_ve\n",
      "[nltk_data]     nvs/torch_streamlit/lib/nltk_data/...\n",
      "[nltk_data]   Package stopwords is already up-to-date!\n"
     ]
    },
    {
     "data": {
      "text/plain": "True"
     },
     "execution_count": 6,
     "metadata": {},
     "output_type": "execute_result"
    }
   ],
   "source": [
    "nltk.download('punkt', download_dir=NLTK_DIR)\n",
    "nltk.download('stopwords', download_dir=NLTK_DIR)"
   ],
   "metadata": {
    "collapsed": false,
    "ExecuteTime": {
     "end_time": "2024-05-21T11:46:55.067476732Z",
     "start_time": "2024-05-21T11:46:54.854903187Z"
    }
   },
   "id": "7a81f412178fdf88"
  },
  {
   "cell_type": "code",
   "execution_count": 6,
   "outputs": [
    {
     "name": "stdout",
     "output_type": "stream",
     "text": [
      "True\n",
      "1\n",
      "0\n"
     ]
    }
   ],
   "source": [
    "print(torch.cuda.is_available())\n",
    "print(torch.cuda.device_count())\n",
    "print(torch.cuda.current_device())"
   ],
   "metadata": {
    "collapsed": false,
    "ExecuteTime": {
     "end_time": "2024-05-21T12:00:13.709652325Z",
     "start_time": "2024-05-21T12:00:13.681238884Z"
    }
   },
   "id": "3031721834dbd198"
  },
  {
   "cell_type": "code",
   "execution_count": 7,
   "outputs": [
    {
     "data": {
      "text/plain": "device(type='cuda')"
     },
     "execution_count": 7,
     "metadata": {},
     "output_type": "execute_result"
    }
   ],
   "source": [
    "DEVICE = torch.device(\"cuda\" if torch.cuda.is_available() else \"cpu\")\n",
    "DEVICE"
   ],
   "metadata": {
    "collapsed": false,
    "ExecuteTime": {
     "end_time": "2024-05-21T12:00:16.772807535Z",
     "start_time": "2024-05-21T12:00:16.749249368Z"
    }
   },
   "id": "4b1c22ed75e2cc03"
  },
  {
   "cell_type": "markdown",
   "source": [
    "## 1.3. Код (вспомогательные методы)"
   ],
   "metadata": {
    "collapsed": false
   },
   "id": "2abe7235df137f3"
  },
  {
   "cell_type": "code",
   "execution_count": 8,
   "outputs": [],
   "source": [
    "def classification_metrics(pipeline, X_test, y_test):\n",
    "    \"\"\"\n",
    "    Вывод метрик\n",
    "    :param pipeline: обученный пайплайн обработки\n",
    "    :param X_test: тестовая выборка\n",
    "    :param y_test: значения целевой переменной для тестовой выборки\n",
    "    :return: None\n",
    "    \"\"\"\n",
    "    y_pred = pipeline.predict(X_test)\n",
    "    avg = \"micro\"\n",
    "    print(\"f1_score: \", f1_score(y_test, y_pred, average=avg))\n",
    "    print(\"accuracy: \", accuracy_score(y_test, y_pred))\n",
    "    print(\"precision: \", precision_score(y_test, y_pred, average=avg))\n",
    "    print(\"recall: \", recall_score(y_test, y_pred, average=avg))\n",
    "    confusion_matrix(y_test, y_pred)"
   ],
   "metadata": {
    "collapsed": false,
    "ExecuteTime": {
     "end_time": "2024-05-21T12:00:21.440489955Z",
     "start_time": "2024-05-21T12:00:21.394158718Z"
    }
   },
   "id": "429bac3b0974cfcc"
  },
  {
   "cell_type": "markdown",
   "source": [
    "# 2. Загрузка данных и общее описание набора данных\n",
    "## 2.1 Загрузка данных"
   ],
   "metadata": {
    "collapsed": false
   },
   "id": "38bd335f1870ab7c"
  },
  {
   "cell_type": "markdown",
   "source": [
    "В качестве исходного набора данных будем использовать размеченный дататасет с извлеченнными разделами:"
   ],
   "metadata": {
    "collapsed": false
   },
   "id": "2c3cf8bf4eb3cf50"
  },
  {
   "cell_type": "code",
   "execution_count": 9,
   "outputs": [],
   "source": [
    "filename=settings.get_fresh('FILENAME_BLOCKS_EXTRACTED_EDITED')\n",
    "df_descriptions_ed= files.load_file(filename, PROCESSED_SUBDIR, dtypes = DTYPES,  to_decompress = True, with_dates = False)"
   ],
   "metadata": {
    "collapsed": false,
    "ExecuteTime": {
     "end_time": "2024-05-21T12:00:42.206382770Z",
     "start_time": "2024-05-21T12:00:25.945874584Z"
    }
   },
   "id": "7fc9e7eec17c356f"
  },
  {
   "cell_type": "code",
   "execution_count": 11,
   "outputs": [
    {
     "data": {
      "text/plain": "               id                                              title  \\\n0        42153070                                                NaN   \n1        42153070  Основной стек технологий, встречающийся на наш...   \n2        42153070                                   Что нужно делать   \n3        42153070                                        Ждем от вас   \n4        42153070              Успешному кандидату готовы предложить   \n...           ...                                                ...   \n1365073  13279864                                                NaN   \n1365074  13279864                                             Задачи   \n1365075  13279864                                          Нам важно   \n1365076  13279864                        Дополнительным плюсом будет   \n1365077  13279864                                      Мы предлагаем   \n\n                                                   content  content_type  \\\n0        КОРУС Консалтинг – одна из крупнейших консалти...             0   \n1        Классические хранилища: Oracle, PostgreSQL/Gre...             1   \n2        взаимодействовать с бизнес-аналитиками команды...             1   \n3        опыт взаимодействия с командой разработки;\\nоп...             1   \n4        В вопросах компенсации ориентируемся на предло...             1   \n...                                                    ...           ...   \n1365073  Приглашаем присоединиться к команде, которая р...             0   \n1365074  Проектирование и разработка высоконагруженных ...             1   \n1365075  Опыт разработки на Java от 2-х;\\nОпыт работы с...             1   \n1365076  Практические навыки работы Spring Core (знания...             1   \n1365077  Работа в крупной консалтинговой IT-компании;\\n...             1   \n\n         semantic_type  block_id  \n0                    0         5  \n1                    0         7  \n2                    2         9  \n3                    3        11  \n4                    0        13  \n...                ...       ...  \n1365073              0         1  \n1365074              2         3  \n1365075              3         5  \n1365076              4         7  \n1365077              5         9  \n\n[1365078 rows x 6 columns]",
      "text/html": "<div>\n<style scoped>\n    .dataframe tbody tr th:only-of-type {\n        vertical-align: middle;\n    }\n\n    .dataframe tbody tr th {\n        vertical-align: top;\n    }\n\n    .dataframe thead th {\n        text-align: right;\n    }\n</style>\n<table border=\"1\" class=\"dataframe\">\n  <thead>\n    <tr style=\"text-align: right;\">\n      <th></th>\n      <th>id</th>\n      <th>title</th>\n      <th>content</th>\n      <th>content_type</th>\n      <th>semantic_type</th>\n      <th>block_id</th>\n    </tr>\n  </thead>\n  <tbody>\n    <tr>\n      <th>0</th>\n      <td>42153070</td>\n      <td>NaN</td>\n      <td>КОРУС Консалтинг – одна из крупнейших консалти...</td>\n      <td>0</td>\n      <td>0</td>\n      <td>5</td>\n    </tr>\n    <tr>\n      <th>1</th>\n      <td>42153070</td>\n      <td>Основной стек технологий, встречающийся на наш...</td>\n      <td>Классические хранилища: Oracle, PostgreSQL/Gre...</td>\n      <td>1</td>\n      <td>0</td>\n      <td>7</td>\n    </tr>\n    <tr>\n      <th>2</th>\n      <td>42153070</td>\n      <td>Что нужно делать</td>\n      <td>взаимодействовать с бизнес-аналитиками команды...</td>\n      <td>1</td>\n      <td>2</td>\n      <td>9</td>\n    </tr>\n    <tr>\n      <th>3</th>\n      <td>42153070</td>\n      <td>Ждем от вас</td>\n      <td>опыт взаимодействия с командой разработки;\\nоп...</td>\n      <td>1</td>\n      <td>3</td>\n      <td>11</td>\n    </tr>\n    <tr>\n      <th>4</th>\n      <td>42153070</td>\n      <td>Успешному кандидату готовы предложить</td>\n      <td>В вопросах компенсации ориентируемся на предло...</td>\n      <td>1</td>\n      <td>0</td>\n      <td>13</td>\n    </tr>\n    <tr>\n      <th>...</th>\n      <td>...</td>\n      <td>...</td>\n      <td>...</td>\n      <td>...</td>\n      <td>...</td>\n      <td>...</td>\n    </tr>\n    <tr>\n      <th>1365073</th>\n      <td>13279864</td>\n      <td>NaN</td>\n      <td>Приглашаем присоединиться к команде, которая р...</td>\n      <td>0</td>\n      <td>0</td>\n      <td>1</td>\n    </tr>\n    <tr>\n      <th>1365074</th>\n      <td>13279864</td>\n      <td>Задачи</td>\n      <td>Проектирование и разработка высоконагруженных ...</td>\n      <td>1</td>\n      <td>2</td>\n      <td>3</td>\n    </tr>\n    <tr>\n      <th>1365075</th>\n      <td>13279864</td>\n      <td>Нам важно</td>\n      <td>Опыт разработки на Java от 2-х;\\nОпыт работы с...</td>\n      <td>1</td>\n      <td>3</td>\n      <td>5</td>\n    </tr>\n    <tr>\n      <th>1365076</th>\n      <td>13279864</td>\n      <td>Дополнительным плюсом будет</td>\n      <td>Практические навыки работы Spring Core (знания...</td>\n      <td>1</td>\n      <td>4</td>\n      <td>7</td>\n    </tr>\n    <tr>\n      <th>1365077</th>\n      <td>13279864</td>\n      <td>Мы предлагаем</td>\n      <td>Работа в крупной консалтинговой IT-компании;\\n...</td>\n      <td>1</td>\n      <td>5</td>\n      <td>9</td>\n    </tr>\n  </tbody>\n</table>\n<p>1365078 rows × 6 columns</p>\n</div>"
     },
     "execution_count": 11,
     "metadata": {},
     "output_type": "execute_result"
    }
   ],
   "source": [
    "df_descriptions_ed"
   ],
   "metadata": {
    "collapsed": false,
    "ExecuteTime": {
     "end_time": "2024-05-21T11:29:35.478143103Z",
     "start_time": "2024-05-21T11:29:35.420743802Z"
    }
   },
   "id": "219b0116653a29ec"
  },
  {
   "cell_type": "markdown",
   "source": [
    "## 2.2. Информация о наборе данных"
   ],
   "metadata": {
    "collapsed": false
   },
   "id": "fd8890b71d81cb82"
  },
  {
   "cell_type": "code",
   "execution_count": 12,
   "outputs": [
    {
     "name": "stdout",
     "output_type": "stream",
     "text": [
      "Строк - 1365078\n",
      "Столбцов - 6\n"
     ]
    }
   ],
   "source": [
    "print(f'Строк - {df_descriptions_ed.shape[0]}\\nСтолбцов - {df_descriptions_ed.shape[1]}')"
   ],
   "metadata": {
    "collapsed": false,
    "ExecuteTime": {
     "end_time": "2024-05-21T11:29:44.880174526Z",
     "start_time": "2024-05-21T11:29:44.844705592Z"
    }
   },
   "id": "c928a8292c8ac204"
  },
  {
   "cell_type": "code",
   "execution_count": 13,
   "outputs": [
    {
     "name": "stdout",
     "output_type": "stream",
     "text": [
      "<class 'pandas.core.frame.DataFrame'>\n",
      "RangeIndex: 1365078 entries, 0 to 1365077\n",
      "Data columns (total 6 columns):\n",
      " #   Column         Non-Null Count    Dtype \n",
      "---  ------         --------------    ----- \n",
      " 0   id             1365078 non-null  int64 \n",
      " 1   title          995455 non-null   object\n",
      " 2   content        1364743 non-null  object\n",
      " 3   content_type   1365078 non-null  int64 \n",
      " 4   semantic_type  1365078 non-null  int64 \n",
      " 5   block_id       1365078 non-null  int64 \n",
      "dtypes: int64(4), object(2)\n",
      "memory usage: 62.5+ MB\n"
     ]
    }
   ],
   "source": [
    "df_descriptions_ed.info()"
   ],
   "metadata": {
    "collapsed": false,
    "ExecuteTime": {
     "end_time": "2024-05-21T11:29:48.045251372Z",
     "start_time": "2024-05-21T11:29:47.871410564Z"
    }
   },
   "id": "772238c53220ed20"
  },
  {
   "cell_type": "code",
   "execution_count": 12,
   "outputs": [
    {
     "data": {
      "text/plain": "         id                                              title  \\\n0  42153070                                                NaN   \n1  42153070  Основной стек технологий, встречающийся на наш...   \n2  42153070                                   Что нужно делать   \n3  42153070                                        Ждем от вас   \n4  42153070              Успешному кандидату готовы предложить   \n\n                                             content  content_type  \\\n0  КОРУС Консалтинг – одна из крупнейших консалти...             0   \n1  Классические хранилища: Oracle, PostgreSQL/Gre...             1   \n2  взаимодействовать с бизнес-аналитиками команды...             1   \n3  опыт взаимодействия с командой разработки;\\nоп...             1   \n4  В вопросах компенсации ориентируемся на предло...             1   \n\n   semantic_type  block_id  \n0              0         5  \n1              0         7  \n2              2         9  \n3              3        11  \n4              0        13  ",
      "text/html": "<div>\n<style scoped>\n    .dataframe tbody tr th:only-of-type {\n        vertical-align: middle;\n    }\n\n    .dataframe tbody tr th {\n        vertical-align: top;\n    }\n\n    .dataframe thead th {\n        text-align: right;\n    }\n</style>\n<table border=\"1\" class=\"dataframe\">\n  <thead>\n    <tr style=\"text-align: right;\">\n      <th></th>\n      <th>id</th>\n      <th>title</th>\n      <th>content</th>\n      <th>content_type</th>\n      <th>semantic_type</th>\n      <th>block_id</th>\n    </tr>\n  </thead>\n  <tbody>\n    <tr>\n      <th>0</th>\n      <td>42153070</td>\n      <td>NaN</td>\n      <td>КОРУС Консалтинг – одна из крупнейших консалти...</td>\n      <td>0</td>\n      <td>0</td>\n      <td>5</td>\n    </tr>\n    <tr>\n      <th>1</th>\n      <td>42153070</td>\n      <td>Основной стек технологий, встречающийся на наш...</td>\n      <td>Классические хранилища: Oracle, PostgreSQL/Gre...</td>\n      <td>1</td>\n      <td>0</td>\n      <td>7</td>\n    </tr>\n    <tr>\n      <th>2</th>\n      <td>42153070</td>\n      <td>Что нужно делать</td>\n      <td>взаимодействовать с бизнес-аналитиками команды...</td>\n      <td>1</td>\n      <td>2</td>\n      <td>9</td>\n    </tr>\n    <tr>\n      <th>3</th>\n      <td>42153070</td>\n      <td>Ждем от вас</td>\n      <td>опыт взаимодействия с командой разработки;\\nоп...</td>\n      <td>1</td>\n      <td>3</td>\n      <td>11</td>\n    </tr>\n    <tr>\n      <th>4</th>\n      <td>42153070</td>\n      <td>Успешному кандидату готовы предложить</td>\n      <td>В вопросах компенсации ориентируемся на предло...</td>\n      <td>1</td>\n      <td>0</td>\n      <td>13</td>\n    </tr>\n  </tbody>\n</table>\n</div>"
     },
     "execution_count": 12,
     "metadata": {},
     "output_type": "execute_result"
    }
   ],
   "source": [
    "df_descriptions_ed.head()"
   ],
   "metadata": {
    "collapsed": false,
    "ExecuteTime": {
     "end_time": "2024-05-19T19:28:09.208807170Z",
     "start_time": "2024-05-19T19:28:09.177030290Z"
    }
   },
   "id": "602fc82d0b19ec73"
  },
  {
   "cell_type": "markdown",
   "source": [
    "Датасет содержит набор блоков текстов с заголовками, синтаксически извлеченных из оригинальных текстов с описаниями вакансий. Для классификации блоков текста их нужно векторизовать.\n",
    " Также есть признак, отражающий семантический тип блока, заполненный вручную, который будет использоваться для формирования меток классов для классификации."
   ],
   "metadata": {
    "collapsed": false
   },
   "id": "41be64c3d90a8c9d"
  },
  {
   "cell_type": "markdown",
   "source": [
    "# 3. Подготовка данных\n",
    "## 3.1. Предобработка датасета\n",
    "Датасет очень большой, для обучения такой объем избыточен. Уменьшим его."
   ],
   "metadata": {
    "collapsed": false
   },
   "id": "3551cfa277bfd9a6"
  },
  {
   "cell_type": "markdown",
   "source": [
    "Проверим его на дубли и на пропуски:"
   ],
   "metadata": {
    "collapsed": false
   },
   "id": "2be4cf4e02374e7f"
  },
  {
   "cell_type": "code",
   "execution_count": 10,
   "outputs": [
    {
     "name": "stdout",
     "output_type": "stream",
     "text": [
      "Дубликатов в данных: 403365\n"
     ]
    }
   ],
   "source": [
    "print(f\"Дубликатов в данных: {df_descriptions_ed.content.duplicated().sum()}\")"
   ],
   "metadata": {
    "collapsed": false,
    "ExecuteTime": {
     "end_time": "2024-05-21T12:00:54.453376100Z",
     "start_time": "2024-05-21T12:00:54.395780073Z"
    }
   },
   "id": "498082530d4cb8a5"
  },
  {
   "cell_type": "code",
   "execution_count": 11,
   "outputs": [
    {
     "name": "stdout",
     "output_type": "stream",
     "text": [
      "Пропусков в данных: 335\n"
     ]
    }
   ],
   "source": [
    "print(f\"Пропусков в данных: {df_descriptions_ed.content.isna().sum()}\")"
   ],
   "metadata": {
    "collapsed": false,
    "ExecuteTime": {
     "end_time": "2024-05-21T12:00:56.998466849Z",
     "start_time": "2024-05-21T12:00:56.991836247Z"
    }
   },
   "id": "a7d23cbf207e2524"
  },
  {
   "cell_type": "markdown",
   "source": [
    "Удаляем дубли и пропуски:"
   ],
   "metadata": {
    "collapsed": false
   },
   "id": "28f1d2518078ed90"
  },
  {
   "cell_type": "code",
   "execution_count": 12,
   "outputs": [
    {
     "name": "stdout",
     "output_type": "stream",
     "text": [
      "Пропусков в данных: 0\n"
     ]
    }
   ],
   "source": [
    "df_descriptions_ed.dropna(inplace=True, ignore_index=True, subset=['content'])\n",
    "print(f\"Пропусков в данных: {df_descriptions_ed.content.isna().sum()}\")"
   ],
   "metadata": {
    "collapsed": false,
    "ExecuteTime": {
     "end_time": "2024-05-21T12:01:00.160762856Z",
     "start_time": "2024-05-21T12:00:59.893163033Z"
    }
   },
   "id": "81243d4eab8ba642"
  },
  {
   "cell_type": "code",
   "execution_count": 13,
   "outputs": [
    {
     "name": "stdout",
     "output_type": "stream",
     "text": [
      "Дубликатов в данных: 0\n"
     ]
    }
   ],
   "source": [
    "df_descriptions_ed.drop(df_descriptions_ed[df_descriptions_ed['content'].duplicated(keep='last')].index, inplace=True, errors=\"ignore\")\n",
    "df_descriptions_ed.reset_index(drop=True, inplace=True)\n",
    "print(f\"Дубликатов в данных: {df_descriptions_ed.content.duplicated().sum()}\")"
   ],
   "metadata": {
    "collapsed": false,
    "ExecuteTime": {
     "end_time": "2024-05-21T12:01:04.266278787Z",
     "start_time": "2024-05-21T12:01:04.102784933Z"
    }
   },
   "id": "61d3e5c4c6618ed"
  },
  {
   "cell_type": "markdown",
   "source": [
    "## 3.2. Создание меток классов"
   ],
   "metadata": {
    "collapsed": false
   },
   "id": "6253a34bdf80353c"
  },
  {
   "cell_type": "markdown",
   "source": [
    "Посмотрим, как представлены разные значения признака семантического типа в датасете:"
   ],
   "metadata": {
    "collapsed": false
   },
   "id": "1b45e13d3cb8d5b8"
  },
  {
   "cell_type": "code",
   "execution_count": 14,
   "outputs": [],
   "source": [
    "semantic_counts = df_descriptions_ed.semantic_type.value_counts()"
   ],
   "metadata": {
    "collapsed": false,
    "ExecuteTime": {
     "end_time": "2024-05-21T12:01:09.391175149Z",
     "start_time": "2024-05-21T12:01:09.378413604Z"
    }
   },
   "id": "4102c9b7903ce379"
  },
  {
   "cell_type": "code",
   "execution_count": 15,
   "outputs": [
    {
     "data": {
      "text/plain": "<Figure size 800x400 with 1 Axes>",
      "image/png": "[encoded data removed]"
     },
     "metadata": {},
     "output_type": "display_data"
    }
   ],
   "source": [
    "plt.figure(figsize=(8, 4))\n",
    "sns.barplot(x=semantic_counts.index, y=semantic_counts.values)\n",
    "plt.title('Распределение текстов по семантическому типу')\n",
    "plt.ylabel('Количество текстов', fontsize=12)\n",
    "plt.xlabel('Семантический тип', fontsize=12)\n",
    "plt.xticks(rotation=45)\n",
    "plt.show()"
   ],
   "metadata": {
    "collapsed": false,
    "ExecuteTime": {
     "end_time": "2024-05-21T12:01:11.591944613Z",
     "start_time": "2024-05-21T12:01:11.451634390Z"
    }
   },
   "id": "56876b89b270d3b3"
  },
  {
   "cell_type": "markdown",
   "source": [
    "Анализ графика показывает, что разные классы представлены не в равной степени, распределение классов у нас\n",
    "несбалансировано.\n",
    "Наименее представлен семантический тип 1 - описание. Но к описанию также относятся также блоки типа 0 без заголовка,\n",
    "которые не были размечены.\n",
    "Введем 3 новых класса для классификации блоков:\n",
    "- 0 - описание вакансии (semantictype = 0 или 1);\n",
    "- 1 - требования (semantictype = 2, 3 или 4);\n",
    "- 2 - условия работы  (semantictype = 5);"
   ],
   "metadata": {
    "collapsed": false
   },
   "id": "5f2e245fab5c7535"
  },
  {
   "cell_type": "code",
   "execution_count": 16,
   "outputs": [
    {
     "data": {
      "text/plain": "              id                                              title  \\\n202140  35168629                                       Преимущества   \n178738  49182307                                        Наши задачи   \n8222    50831770                                             Проект   \n446086  37620696                                         О продукте   \n266182  38594235           ТРЕБУЕТСЯ Data Scientist (можно удаленно   \n...          ...                                                ...   \n174914  48990135                                         О компании   \n522963  32826928                                       Преимущества   \n664244  24195290                                         Что делаем   \n506642  29447078  В команду мобильной разработки требуется IOS d...   \n634     48548113                                     Что предлагаем   \n\n                                                  content  content_type  \\\n202140  Опыт работы на аналогичной позиции более 2 год...             1   \n178738  Разработка модулей и отчетов 1С:Бухгалтерия 3 ...             1   \n8222    Mini Royale: Nations -\\n это управляемый комью...             2   \n446086  Билетная система (полноценная система для авто...             0   \n266182  В международную IT- компанию, нашего партнера,...             0   \n...                                                   ...           ...   \n174914  Мы занимаемся разработкой решений для электрон...             0   \n522963  Создание аналитического сервиса с высоким уров...             0   \n664244  Разрабатывать корпоративную CRM(с нуля\\nРазлич...             0   \n506642  Motorsport Network\\n – крупнейшая в мире мульт...             2   \n634     Интересный проект и атмосферу стартапа.\\nГибко...             1   \n\n        semantic_type  block_id  \n202140              1         6  \n178738              1         4  \n8222                1         3  \n446086              1        14  \n266182              1         3  \n...               ...       ...  \n174914              1         2  \n522963              1        15  \n664244              1         9  \n506642              1         2  \n634                 1        12  \n\n[15000 rows x 6 columns]",
      "text/html": "<div>\n<style scoped>\n    .dataframe tbody tr th:only-of-type {\n        vertical-align: middle;\n    }\n\n    .dataframe tbody tr th {\n        vertical-align: top;\n    }\n\n    .dataframe thead th {\n        text-align: right;\n    }\n</style>\n<table border=\"1\" class=\"dataframe\">\n  <thead>\n    <tr style=\"text-align: right;\">\n      <th></th>\n      <th>id</th>\n      <th>title</th>\n      <th>content</th>\n      <th>content_type</th>\n      <th>semantic_type</th>\n      <th>block_id</th>\n    </tr>\n  </thead>\n  <tbody>\n    <tr>\n      <th>202140</th>\n      <td>35168629</td>\n      <td>Преимущества</td>\n      <td>Опыт работы на аналогичной позиции более 2 год...</td>\n      <td>1</td>\n      <td>1</td>\n      <td>6</td>\n    </tr>\n    <tr>\n      <th>178738</th>\n      <td>49182307</td>\n      <td>Наши задачи</td>\n      <td>Разработка модулей и отчетов 1С:Бухгалтерия 3 ...</td>\n      <td>1</td>\n      <td>1</td>\n      <td>4</td>\n    </tr>\n    <tr>\n      <th>8222</th>\n      <td>50831770</td>\n      <td>Проект</td>\n      <td>Mini Royale: Nations -\\n это управляемый комью...</td>\n      <td>2</td>\n      <td>1</td>\n      <td>3</td>\n    </tr>\n    <tr>\n      <th>446086</th>\n      <td>37620696</td>\n      <td>О продукте</td>\n      <td>Билетная система (полноценная система для авто...</td>\n      <td>0</td>\n      <td>1</td>\n      <td>14</td>\n    </tr>\n    <tr>\n      <th>266182</th>\n      <td>38594235</td>\n      <td>ТРЕБУЕТСЯ Data Scientist (можно удаленно</td>\n      <td>В международную IT- компанию, нашего партнера,...</td>\n      <td>0</td>\n      <td>1</td>\n      <td>3</td>\n    </tr>\n    <tr>\n      <th>...</th>\n      <td>...</td>\n      <td>...</td>\n      <td>...</td>\n      <td>...</td>\n      <td>...</td>\n      <td>...</td>\n    </tr>\n    <tr>\n      <th>174914</th>\n      <td>48990135</td>\n      <td>О компании</td>\n      <td>Мы занимаемся разработкой решений для электрон...</td>\n      <td>0</td>\n      <td>1</td>\n      <td>2</td>\n    </tr>\n    <tr>\n      <th>522963</th>\n      <td>32826928</td>\n      <td>Преимущества</td>\n      <td>Создание аналитического сервиса с высоким уров...</td>\n      <td>0</td>\n      <td>1</td>\n      <td>15</td>\n    </tr>\n    <tr>\n      <th>664244</th>\n      <td>24195290</td>\n      <td>Что делаем</td>\n      <td>Разрабатывать корпоративную CRM(с нуля\\nРазлич...</td>\n      <td>0</td>\n      <td>1</td>\n      <td>9</td>\n    </tr>\n    <tr>\n      <th>506642</th>\n      <td>29447078</td>\n      <td>В команду мобильной разработки требуется IOS d...</td>\n      <td>Motorsport Network\\n – крупнейшая в мире мульт...</td>\n      <td>2</td>\n      <td>1</td>\n      <td>2</td>\n    </tr>\n    <tr>\n      <th>634</th>\n      <td>48548113</td>\n      <td>Что предлагаем</td>\n      <td>Интересный проект и атмосферу стартапа.\\nГибко...</td>\n      <td>1</td>\n      <td>1</td>\n      <td>12</td>\n    </tr>\n  </tbody>\n</table>\n<p>15000 rows × 6 columns</p>\n</div>"
     },
     "execution_count": 16,
     "metadata": {},
     "output_type": "execute_result"
    }
   ],
   "source": [
    "df1=df_descriptions_ed[df_descriptions_ed.semantic_type==1].sample(n=15000)\n",
    "df1"
   ],
   "metadata": {
    "collapsed": false,
    "ExecuteTime": {
     "end_time": "2024-05-21T12:01:17.188250200Z",
     "start_time": "2024-05-21T12:01:17.144632636Z"
    }
   },
   "id": "8c0cb5ee5d8343a8"
  },
  {
   "cell_type": "markdown",
   "source": [
    "\n",
    "Составим новую выборку таким образом, чтобы все новые классы были представлены в равном количестве. Примем что\n",
    "требуемое количество для обучения равно 30000 строк данных каждого нового класса. Выборку будем производить случайным\n",
    " образом:"
   ],
   "metadata": {
    "collapsed": false
   },
   "id": "8e57ca8ed54af40b"
  },
  {
   "cell_type": "code",
   "execution_count": 17,
   "outputs": [
    {
     "data": {
      "text/plain": "              id title                                            content  \\\n111279  44978968   NaN  В отклике я прошу Вас оценить по системе от 1 ...   \n650029  32204086   NaN  Развивать и поддерживать систему автоматическо...   \n922311  18221972   NaN  Задание 1. Написать запрос для базы данных Pos...   \n269540  35954223   NaN  В ходе работу вы:\\nИзучите или укрепите знания...   \n369280  36118945   NaN  В крупную российскую страховую компанию требуе...   \n...          ...   ...                                                ...   \n679530  28890864   NaN  UXCrowd.ru – инновационная краудсорсинговая пл...   \n557037  33899688   NaN  Наш клиент- Группа компаний «Новые технологии»...   \n245402  40310282   NaN  В связи с расширением штата ищем сотрудника на...   \n328310  37734863   NaN  Компания ООО «МАРК» ищет начинающего программи...   \n62146   41741398   NaN  Ищем тестировщика, который всей душой болеет з...   \n\n        content_type  semantic_type  block_id  \n111279             0              0         8  \n650029             1              0         7  \n922311             2              0         8  \n269540             1              0         6  \n369280             0              0         1  \n...              ...            ...       ...  \n679530             0              0         2  \n557037             0              0         3  \n245402             0              0         1  \n328310             0              0         1  \n62146              0              0         2  \n\n[15000 rows x 6 columns]",
      "text/html": "<div>\n<style scoped>\n    .dataframe tbody tr th:only-of-type {\n        vertical-align: middle;\n    }\n\n    .dataframe tbody tr th {\n        vertical-align: top;\n    }\n\n    .dataframe thead th {\n        text-align: right;\n    }\n</style>\n<table border=\"1\" class=\"dataframe\">\n  <thead>\n    <tr style=\"text-align: right;\">\n      <th></th>\n      <th>id</th>\n      <th>title</th>\n      <th>content</th>\n      <th>content_type</th>\n      <th>semantic_type</th>\n      <th>block_id</th>\n    </tr>\n  </thead>\n  <tbody>\n    <tr>\n      <th>111279</th>\n      <td>44978968</td>\n      <td>NaN</td>\n      <td>В отклике я прошу Вас оценить по системе от 1 ...</td>\n      <td>0</td>\n      <td>0</td>\n      <td>8</td>\n    </tr>\n    <tr>\n      <th>650029</th>\n      <td>32204086</td>\n      <td>NaN</td>\n      <td>Развивать и поддерживать систему автоматическо...</td>\n      <td>1</td>\n      <td>0</td>\n      <td>7</td>\n    </tr>\n    <tr>\n      <th>922311</th>\n      <td>18221972</td>\n      <td>NaN</td>\n      <td>Задание 1. Написать запрос для базы данных Pos...</td>\n      <td>2</td>\n      <td>0</td>\n      <td>8</td>\n    </tr>\n    <tr>\n      <th>269540</th>\n      <td>35954223</td>\n      <td>NaN</td>\n      <td>В ходе работу вы:\\nИзучите или укрепите знания...</td>\n      <td>1</td>\n      <td>0</td>\n      <td>6</td>\n    </tr>\n    <tr>\n      <th>369280</th>\n      <td>36118945</td>\n      <td>NaN</td>\n      <td>В крупную российскую страховую компанию требуе...</td>\n      <td>0</td>\n      <td>0</td>\n      <td>1</td>\n    </tr>\n    <tr>\n      <th>...</th>\n      <td>...</td>\n      <td>...</td>\n      <td>...</td>\n      <td>...</td>\n      <td>...</td>\n      <td>...</td>\n    </tr>\n    <tr>\n      <th>679530</th>\n      <td>28890864</td>\n      <td>NaN</td>\n      <td>UXCrowd.ru – инновационная краудсорсинговая пл...</td>\n      <td>0</td>\n      <td>0</td>\n      <td>2</td>\n    </tr>\n    <tr>\n      <th>557037</th>\n      <td>33899688</td>\n      <td>NaN</td>\n      <td>Наш клиент- Группа компаний «Новые технологии»...</td>\n      <td>0</td>\n      <td>0</td>\n      <td>3</td>\n    </tr>\n    <tr>\n      <th>245402</th>\n      <td>40310282</td>\n      <td>NaN</td>\n      <td>В связи с расширением штата ищем сотрудника на...</td>\n      <td>0</td>\n      <td>0</td>\n      <td>1</td>\n    </tr>\n    <tr>\n      <th>328310</th>\n      <td>37734863</td>\n      <td>NaN</td>\n      <td>Компания ООО «МАРК» ищет начинающего программи...</td>\n      <td>0</td>\n      <td>0</td>\n      <td>1</td>\n    </tr>\n    <tr>\n      <th>62146</th>\n      <td>41741398</td>\n      <td>NaN</td>\n      <td>Ищем тестировщика, который всей душой болеет з...</td>\n      <td>0</td>\n      <td>0</td>\n      <td>2</td>\n    </tr>\n  </tbody>\n</table>\n<p>15000 rows × 6 columns</p>\n</div>"
     },
     "execution_count": 17,
     "metadata": {},
     "output_type": "execute_result"
    }
   ],
   "source": [
    "df2=df_descriptions_ed[(df_descriptions_ed.semantic_type==0) & (df_descriptions_ed.title.isna())].sample(n=15000)\n",
    "df2"
   ],
   "metadata": {
    "collapsed": false,
    "ExecuteTime": {
     "end_time": "2024-05-21T12:01:25.614914568Z",
     "start_time": "2024-05-21T12:01:25.556398049Z"
    }
   },
   "id": "aae5ca4643c54809"
  },
  {
   "cell_type": "code",
   "execution_count": 18,
   "outputs": [
    {
     "data": {
      "text/plain": "              id                     title  \\\n190956  49914676               Обязанности   \n639970  34359654               Обязанности   \n953424  14101006                Требования   \n342602  39529364  Чем предстоит заниматься   \n799742  20202699               Обязанности   \n...          ...                       ...   \n197487  50459415                Требования   \n642521  33669574               Обязанности   \n478851  33292492                Требования   \n673109  23889684               Обязанности   \n140073  46855346                Требования   \n\n                                                  content  content_type  \\\n190956  Поддержка проектов по вопросам web/app-аналити...             1   \n639970  Поддержка и доработка существующих информацион...             2   \n953424  Знание MySQL: индексы, внешние ключи, джойны;\\...             1   \n342602  Разработкой/корректировкой электрических принц...             1   \n799742  Проектирование систем автоматизации промышленн...             1   \n...                                                   ...           ...   \n197487  Опыт внедрения Битрикс24 и отличное знание про...             1   \n642521  Разработка frontend части наших проектов. Напи...             1   \n478851  Опыт коммерческой разработки на Kotlin под анд...             1   \n673109  Проектирование и разработка решений по автомат...             1   \n140073  Высшее образование (прикладная информатика);\\n...             1   \n\n        semantic_type  block_id  \n190956              2         2  \n639970              2         2  \n953424              3         4  \n342602              2         8  \n799742              2         2  \n...               ...       ...  \n197487              3         5  \n642521              2         3  \n478851              3         4  \n673109              2         2  \n140073              3         5  \n\n[30000 rows x 6 columns]",
      "text/html": "<div>\n<style scoped>\n    .dataframe tbody tr th:only-of-type {\n        vertical-align: middle;\n    }\n\n    .dataframe tbody tr th {\n        vertical-align: top;\n    }\n\n    .dataframe thead th {\n        text-align: right;\n    }\n</style>\n<table border=\"1\" class=\"dataframe\">\n  <thead>\n    <tr style=\"text-align: right;\">\n      <th></th>\n      <th>id</th>\n      <th>title</th>\n      <th>content</th>\n      <th>content_type</th>\n      <th>semantic_type</th>\n      <th>block_id</th>\n    </tr>\n  </thead>\n  <tbody>\n    <tr>\n      <th>190956</th>\n      <td>49914676</td>\n      <td>Обязанности</td>\n      <td>Поддержка проектов по вопросам web/app-аналити...</td>\n      <td>1</td>\n      <td>2</td>\n      <td>2</td>\n    </tr>\n    <tr>\n      <th>639970</th>\n      <td>34359654</td>\n      <td>Обязанности</td>\n      <td>Поддержка и доработка существующих информацион...</td>\n      <td>2</td>\n      <td>2</td>\n      <td>2</td>\n    </tr>\n    <tr>\n      <th>953424</th>\n      <td>14101006</td>\n      <td>Требования</td>\n      <td>Знание MySQL: индексы, внешние ключи, джойны;\\...</td>\n      <td>1</td>\n      <td>3</td>\n      <td>4</td>\n    </tr>\n    <tr>\n      <th>342602</th>\n      <td>39529364</td>\n      <td>Чем предстоит заниматься</td>\n      <td>Разработкой/корректировкой электрических принц...</td>\n      <td>1</td>\n      <td>2</td>\n      <td>8</td>\n    </tr>\n    <tr>\n      <th>799742</th>\n      <td>20202699</td>\n      <td>Обязанности</td>\n      <td>Проектирование систем автоматизации промышленн...</td>\n      <td>1</td>\n      <td>2</td>\n      <td>2</td>\n    </tr>\n    <tr>\n      <th>...</th>\n      <td>...</td>\n      <td>...</td>\n      <td>...</td>\n      <td>...</td>\n      <td>...</td>\n      <td>...</td>\n    </tr>\n    <tr>\n      <th>197487</th>\n      <td>50459415</td>\n      <td>Требования</td>\n      <td>Опыт внедрения Битрикс24 и отличное знание про...</td>\n      <td>1</td>\n      <td>3</td>\n      <td>5</td>\n    </tr>\n    <tr>\n      <th>642521</th>\n      <td>33669574</td>\n      <td>Обязанности</td>\n      <td>Разработка frontend части наших проектов. Напи...</td>\n      <td>1</td>\n      <td>2</td>\n      <td>3</td>\n    </tr>\n    <tr>\n      <th>478851</th>\n      <td>33292492</td>\n      <td>Требования</td>\n      <td>Опыт коммерческой разработки на Kotlin под анд...</td>\n      <td>1</td>\n      <td>3</td>\n      <td>4</td>\n    </tr>\n    <tr>\n      <th>673109</th>\n      <td>23889684</td>\n      <td>Обязанности</td>\n      <td>Проектирование и разработка решений по автомат...</td>\n      <td>1</td>\n      <td>2</td>\n      <td>2</td>\n    </tr>\n    <tr>\n      <th>140073</th>\n      <td>46855346</td>\n      <td>Требования</td>\n      <td>Высшее образование (прикладная информатика);\\n...</td>\n      <td>1</td>\n      <td>3</td>\n      <td>5</td>\n    </tr>\n  </tbody>\n</table>\n<p>30000 rows × 6 columns</p>\n</div>"
     },
     "execution_count": 18,
     "metadata": {},
     "output_type": "execute_result"
    }
   ],
   "source": [
    "df3=(df_descriptions_ed[(df_descriptions_ed.semantic_type.isin([2, 3, 4])) & (df_descriptions_ed.content_type.isin([1, 2]))].sample\n",
    "     (n=30000))\n",
    "df3"
   ],
   "metadata": {
    "collapsed": false,
    "ExecuteTime": {
     "end_time": "2024-05-21T12:01:28.648721114Z",
     "start_time": "2024-05-21T12:01:28.569767520Z"
    }
   },
   "id": "4d27b020ab4de7a4"
  },
  {
   "cell_type": "code",
   "execution_count": 19,
   "outputs": [
    {
     "data": {
      "text/plain": "              id              title  \\\n1759    49309105            Условия   \n940693  14344493     Условия работы   \n306823  39281124  Что мы предлагаем   \n323636  40491331            Условия   \n224004  40244821            Условия   \n...          ...                ...   \n685675  25187615            Условия   \n805070  20705413            Условия   \n671440  27818315            Условия   \n274823  36306603      Мы предлагаем   \n78100   42343226      Мы предлагаем   \n\n                                                  content  content_type  \\\n1759    Просторный кондиционированный офис в 5 мин. хо...             1   \n940693  Стабильная и надежная компания.\\nОфициальное т...             1   \n306823  Заработная плата обсуждается от 200 -300 по ре...             1   \n323636  Работа в государственной компании.\\nОформление...             1   \n224004  Мы готовы обсуждать заработную плату, тк рассм...             1   \n...                                                   ...           ...   \n685675  Официальное трудоустройство, полный социальный...             1   \n805070  Полная занятость\\nОфис в центре Москвы, от ст....             1   \n671440  В зависимости от опыта и навыков оплата 90 и б...             1   \n274823  Полностью белую заработную плату от 120 000 ру...             1   \n78100   Официальная заработная плата, выплачивается бе...             1   \n\n        semantic_type  block_id  \n1759                5        11  \n940693              5         6  \n306823              5        11  \n323636              5        16  \n224004              5        11  \n...               ...       ...  \n685675              5        11  \n805070              5         9  \n671440              5         7  \n274823              5        13  \n78100               5        10  \n\n[30000 rows x 6 columns]",
      "text/html": "<div>\n<style scoped>\n    .dataframe tbody tr th:only-of-type {\n        vertical-align: middle;\n    }\n\n    .dataframe tbody tr th {\n        vertical-align: top;\n    }\n\n    .dataframe thead th {\n        text-align: right;\n    }\n</style>\n<table border=\"1\" class=\"dataframe\">\n  <thead>\n    <tr style=\"text-align: right;\">\n      <th></th>\n      <th>id</th>\n      <th>title</th>\n      <th>content</th>\n      <th>content_type</th>\n      <th>semantic_type</th>\n      <th>block_id</th>\n    </tr>\n  </thead>\n  <tbody>\n    <tr>\n      <th>1759</th>\n      <td>49309105</td>\n      <td>Условия</td>\n      <td>Просторный кондиционированный офис в 5 мин. хо...</td>\n      <td>1</td>\n      <td>5</td>\n      <td>11</td>\n    </tr>\n    <tr>\n      <th>940693</th>\n      <td>14344493</td>\n      <td>Условия работы</td>\n      <td>Стабильная и надежная компания.\\nОфициальное т...</td>\n      <td>1</td>\n      <td>5</td>\n      <td>6</td>\n    </tr>\n    <tr>\n      <th>306823</th>\n      <td>39281124</td>\n      <td>Что мы предлагаем</td>\n      <td>Заработная плата обсуждается от 200 -300 по ре...</td>\n      <td>1</td>\n      <td>5</td>\n      <td>11</td>\n    </tr>\n    <tr>\n      <th>323636</th>\n      <td>40491331</td>\n      <td>Условия</td>\n      <td>Работа в государственной компании.\\nОформление...</td>\n      <td>1</td>\n      <td>5</td>\n      <td>16</td>\n    </tr>\n    <tr>\n      <th>224004</th>\n      <td>40244821</td>\n      <td>Условия</td>\n      <td>Мы готовы обсуждать заработную плату, тк рассм...</td>\n      <td>1</td>\n      <td>5</td>\n      <td>11</td>\n    </tr>\n    <tr>\n      <th>...</th>\n      <td>...</td>\n      <td>...</td>\n      <td>...</td>\n      <td>...</td>\n      <td>...</td>\n      <td>...</td>\n    </tr>\n    <tr>\n      <th>685675</th>\n      <td>25187615</td>\n      <td>Условия</td>\n      <td>Официальное трудоустройство, полный социальный...</td>\n      <td>1</td>\n      <td>5</td>\n      <td>11</td>\n    </tr>\n    <tr>\n      <th>805070</th>\n      <td>20705413</td>\n      <td>Условия</td>\n      <td>Полная занятость\\nОфис в центре Москвы, от ст....</td>\n      <td>1</td>\n      <td>5</td>\n      <td>9</td>\n    </tr>\n    <tr>\n      <th>671440</th>\n      <td>27818315</td>\n      <td>Условия</td>\n      <td>В зависимости от опыта и навыков оплата 90 и б...</td>\n      <td>1</td>\n      <td>5</td>\n      <td>7</td>\n    </tr>\n    <tr>\n      <th>274823</th>\n      <td>36306603</td>\n      <td>Мы предлагаем</td>\n      <td>Полностью белую заработную плату от 120 000 ру...</td>\n      <td>1</td>\n      <td>5</td>\n      <td>13</td>\n    </tr>\n    <tr>\n      <th>78100</th>\n      <td>42343226</td>\n      <td>Мы предлагаем</td>\n      <td>Официальная заработная плата, выплачивается бе...</td>\n      <td>1</td>\n      <td>5</td>\n      <td>10</td>\n    </tr>\n  </tbody>\n</table>\n<p>30000 rows × 6 columns</p>\n</div>"
     },
     "execution_count": 19,
     "metadata": {},
     "output_type": "execute_result"
    }
   ],
   "source": [
    "df4=df_descriptions_ed[df_descriptions_ed.semantic_type==5].sample(n=30000)\n",
    "df4"
   ],
   "metadata": {
    "collapsed": false,
    "ExecuteTime": {
     "end_time": "2024-05-21T12:01:31.773250598Z",
     "start_time": "2024-05-21T12:01:31.720953499Z"
    }
   },
   "id": "5b0bc67a48e2c6d"
  },
  {
   "cell_type": "markdown",
   "source": [
    "Объединим их в один датасет:"
   ],
   "metadata": {
    "collapsed": false
   },
   "id": "618cf38534f7a634"
  },
  {
   "cell_type": "code",
   "execution_count": 20,
   "outputs": [
    {
     "data": {
      "text/plain": "             id                         title  \\\n0      38661200       От кандидата мы ожидаем   \n1      24838668                  Будет плюсом   \n2      25877176                  Наши условия   \n3      40397206                           NaN   \n4      24466896                    Функционал   \n...         ...                           ...   \n89995  26587460                           NaN   \n89996  43484107                  Плюсом будет   \n89997  34928992                        Задачи   \n89998  12053271  Мы ищем специалиста, который   \n89999  38791310              Возможные задачи   \n\n                                                 content  content_type  \\\n0      знание HTML5 и CSS3, кросс-браузерная верстка,...             1   \n1      понимание и умение писать простейшие MySQL-зап...             1   \n2      Возможность удаленной работы или работы в Моск...             1   \n3      Система электронных платежей нового поколения,...             1   \n4      сбор, анализ, формализация, документирование и...             1   \n...                                                  ...           ...   \n89995  Уважаемые соискатели! Огромная просьба внимате...             0   \n89996  Опыт работы в технической поддержке ДБО и CRM\\...             1   \n89997  Разработка Web приложений на платформе Microso...             1   \n89998  Обладает хорошим знанием возможностей платформ...             1   \n89999  сбор телеметрических данных на MacOS и Linux\\n...             1   \n\n       semantic_type  block_id  \n0                  3         4  \n1                  4         7  \n2                  5         4  \n3                  0         4  \n4                  1         4  \n...              ...       ...  \n89995              0         1  \n89996              4         6  \n89997              2         3  \n89998              3         9  \n89999              2         9  \n\n[90000 rows x 6 columns]",
      "text/html": "<div>\n<style scoped>\n    .dataframe tbody tr th:only-of-type {\n        vertical-align: middle;\n    }\n\n    .dataframe tbody tr th {\n        vertical-align: top;\n    }\n\n    .dataframe thead th {\n        text-align: right;\n    }\n</style>\n<table border=\"1\" class=\"dataframe\">\n  <thead>\n    <tr style=\"text-align: right;\">\n      <th></th>\n      <th>id</th>\n      <th>title</th>\n      <th>content</th>\n      <th>content_type</th>\n      <th>semantic_type</th>\n      <th>block_id</th>\n    </tr>\n  </thead>\n  <tbody>\n    <tr>\n      <th>0</th>\n      <td>38661200</td>\n      <td>От кандидата мы ожидаем</td>\n      <td>знание HTML5 и CSS3, кросс-браузерная верстка,...</td>\n      <td>1</td>\n      <td>3</td>\n      <td>4</td>\n    </tr>\n    <tr>\n      <th>1</th>\n      <td>24838668</td>\n      <td>Будет плюсом</td>\n      <td>понимание и умение писать простейшие MySQL-зап...</td>\n      <td>1</td>\n      <td>4</td>\n      <td>7</td>\n    </tr>\n    <tr>\n      <th>2</th>\n      <td>25877176</td>\n      <td>Наши условия</td>\n      <td>Возможность удаленной работы или работы в Моск...</td>\n      <td>1</td>\n      <td>5</td>\n      <td>4</td>\n    </tr>\n    <tr>\n      <th>3</th>\n      <td>40397206</td>\n      <td>NaN</td>\n      <td>Система электронных платежей нового поколения,...</td>\n      <td>1</td>\n      <td>0</td>\n      <td>4</td>\n    </tr>\n    <tr>\n      <th>4</th>\n      <td>24466896</td>\n      <td>Функционал</td>\n      <td>сбор, анализ, формализация, документирование и...</td>\n      <td>1</td>\n      <td>1</td>\n      <td>4</td>\n    </tr>\n    <tr>\n      <th>...</th>\n      <td>...</td>\n      <td>...</td>\n      <td>...</td>\n      <td>...</td>\n      <td>...</td>\n      <td>...</td>\n    </tr>\n    <tr>\n      <th>89995</th>\n      <td>26587460</td>\n      <td>NaN</td>\n      <td>Уважаемые соискатели! Огромная просьба внимате...</td>\n      <td>0</td>\n      <td>0</td>\n      <td>1</td>\n    </tr>\n    <tr>\n      <th>89996</th>\n      <td>43484107</td>\n      <td>Плюсом будет</td>\n      <td>Опыт работы в технической поддержке ДБО и CRM\\...</td>\n      <td>1</td>\n      <td>4</td>\n      <td>6</td>\n    </tr>\n    <tr>\n      <th>89997</th>\n      <td>34928992</td>\n      <td>Задачи</td>\n      <td>Разработка Web приложений на платформе Microso...</td>\n      <td>1</td>\n      <td>2</td>\n      <td>3</td>\n    </tr>\n    <tr>\n      <th>89998</th>\n      <td>12053271</td>\n      <td>Мы ищем специалиста, который</td>\n      <td>Обладает хорошим знанием возможностей платформ...</td>\n      <td>1</td>\n      <td>3</td>\n      <td>9</td>\n    </tr>\n    <tr>\n      <th>89999</th>\n      <td>38791310</td>\n      <td>Возможные задачи</td>\n      <td>сбор телеметрических данных на MacOS и Linux\\n...</td>\n      <td>1</td>\n      <td>2</td>\n      <td>9</td>\n    </tr>\n  </tbody>\n</table>\n<p>90000 rows × 6 columns</p>\n</div>"
     },
     "execution_count": 20,
     "metadata": {},
     "output_type": "execute_result"
    }
   ],
   "source": [
    "df=pd.concat([df1,df2,df3,df4], ignore_index=True).sample(frac=1).reset_index(drop=True)\n",
    "df"
   ],
   "metadata": {
    "collapsed": false,
    "ExecuteTime": {
     "end_time": "2024-05-21T12:01:34.932092180Z",
     "start_time": "2024-05-21T12:01:34.879419993Z"
    }
   },
   "id": "41ed8a892245efe"
  },
  {
   "cell_type": "markdown",
   "source": [
    "Создадим новый столбец target_type и удалим старый столбец semantic_type"
   ],
   "metadata": {
    "collapsed": false
   },
   "id": "831a664736f77aca"
  },
  {
   "cell_type": "code",
   "execution_count": 21,
   "outputs": [
    {
     "data": {
      "text/plain": "                              title  \\\n0           От кандидата мы ожидаем   \n1                      Будет плюсом   \n2                      Наши условия   \n3                               NaN   \n4                        Функционал   \n...                             ...   \n89995                           NaN   \n89996                  Плюсом будет   \n89997                        Задачи   \n89998  Мы ищем специалиста, который   \n89999              Возможные задачи   \n\n                                                 content  target_type  \n0      знание HTML5 и CSS3, кросс-браузерная верстка,...            1  \n1      понимание и умение писать простейшие MySQL-зап...            1  \n2      Возможность удаленной работы или работы в Моск...            2  \n3      Система электронных платежей нового поколения,...            0  \n4      сбор, анализ, формализация, документирование и...            0  \n...                                                  ...          ...  \n89995  Уважаемые соискатели! Огромная просьба внимате...            0  \n89996  Опыт работы в технической поддержке ДБО и CRM\\...            1  \n89997  Разработка Web приложений на платформе Microso...            1  \n89998  Обладает хорошим знанием возможностей платформ...            1  \n89999  сбор телеметрических данных на MacOS и Linux\\n...            1  \n\n[90000 rows x 3 columns]",
      "text/html": "<div>\n<style scoped>\n    .dataframe tbody tr th:only-of-type {\n        vertical-align: middle;\n    }\n\n    .dataframe tbody tr th {\n        vertical-align: top;\n    }\n\n    .dataframe thead th {\n        text-align: right;\n    }\n</style>\n<table border=\"1\" class=\"dataframe\">\n  <thead>\n    <tr style=\"text-align: right;\">\n      <th></th>\n      <th>title</th>\n      <th>content</th>\n      <th>target_type</th>\n    </tr>\n  </thead>\n  <tbody>\n    <tr>\n      <th>0</th>\n      <td>От кандидата мы ожидаем</td>\n      <td>знание HTML5 и CSS3, кросс-браузерная верстка,...</td>\n      <td>1</td>\n    </tr>\n    <tr>\n      <th>1</th>\n      <td>Будет плюсом</td>\n      <td>понимание и умение писать простейшие MySQL-зап...</td>\n      <td>1</td>\n    </tr>\n    <tr>\n      <th>2</th>\n      <td>Наши условия</td>\n      <td>Возможность удаленной работы или работы в Моск...</td>\n      <td>2</td>\n    </tr>\n    <tr>\n      <th>3</th>\n      <td>NaN</td>\n      <td>Система электронных платежей нового поколения,...</td>\n      <td>0</td>\n    </tr>\n    <tr>\n      <th>4</th>\n      <td>Функционал</td>\n      <td>сбор, анализ, формализация, документирование и...</td>\n      <td>0</td>\n    </tr>\n    <tr>\n      <th>...</th>\n      <td>...</td>\n      <td>...</td>\n      <td>...</td>\n    </tr>\n    <tr>\n      <th>89995</th>\n      <td>NaN</td>\n      <td>Уважаемые соискатели! Огромная просьба внимате...</td>\n      <td>0</td>\n    </tr>\n    <tr>\n      <th>89996</th>\n      <td>Плюсом будет</td>\n      <td>Опыт работы в технической поддержке ДБО и CRM\\...</td>\n      <td>1</td>\n    </tr>\n    <tr>\n      <th>89997</th>\n      <td>Задачи</td>\n      <td>Разработка Web приложений на платформе Microso...</td>\n      <td>1</td>\n    </tr>\n    <tr>\n      <th>89998</th>\n      <td>Мы ищем специалиста, который</td>\n      <td>Обладает хорошим знанием возможностей платформ...</td>\n      <td>1</td>\n    </tr>\n    <tr>\n      <th>89999</th>\n      <td>Возможные задачи</td>\n      <td>сбор телеметрических данных на MacOS и Linux\\n...</td>\n      <td>1</td>\n    </tr>\n  </tbody>\n</table>\n<p>90000 rows × 3 columns</p>\n</div>"
     },
     "execution_count": 21,
     "metadata": {},
     "output_type": "execute_result"
    }
   ],
   "source": [
    "mapper={0:0, 1:0, 2:1,3:1,4:1,5:2}\n",
    "df['target_type'] = pd.to_numeric(df['semantic_type'].map(mapper), downcast='unsigned')\n",
    "df.drop(columns=['semantic_type', 'content_type', 'id', 'block_id'], inplace=True, errors='ignore')\n",
    "df"
   ],
   "metadata": {
    "collapsed": false,
    "ExecuteTime": {
     "end_time": "2024-05-21T12:01:38.993733039Z",
     "start_time": "2024-05-21T12:01:38.975091995Z"
    }
   },
   "id": "2ac69db205f39d4c"
  },
  {
   "cell_type": "markdown",
   "source": [
    "## 3.3. Предобработка блоков текста"
   ],
   "metadata": {
    "collapsed": false
   },
   "id": "1049b4cff3effb81"
  },
  {
   "cell_type": "markdown",
   "source": [
    "Для векторизации блоков текста получим их эмбединги с использованием библиотеки Sentence-transformers, предоставляющей простые методы вычисления эмбедингов (плотных векторных представлений) для предложений, абзацев и изображений. Эта библиотека включает как  готовые предварительно обученные модели для векторизации текста, так и соответствующие им средства токенизации. Есть многоязыковый модели с поддержкой русского языка, однако токенизайия производится без учета флективности русского языка. Поэтому блоки текста перед тем, как они будут переданы бибилиотеке для обработки, должны быть предварительно обработаны. Для этого необходимо:\n",
    " - разбить блоки на токены;\n",
    "- выполнить лемматизацию токенов;\n",
    "- исключить стоп-слова;\n",
    "- оставшиеся термы снова собрать в блок текста, с учетом разделителей предложений (точек).\n",
    "Векторизация блоков текстов выполнялась с помощью скрипта proc.tokenize_blocks:"
   ],
   "metadata": {
    "collapsed": false
   },
   "id": "306580e7de9d95e3"
  },
  {
   "cell_type": "code",
   "execution_count": 141,
   "outputs": [],
   "source": [
    "new_df = tasks.apply_parallel(df, proc.tokenize_blocks)"
   ],
   "metadata": {
    "collapsed": false,
    "ExecuteTime": {
     "end_time": "2024-05-19T04:13:09.733892356Z",
     "start_time": "2024-05-19T04:11:41.162158260Z"
    }
   },
   "id": "419424d35675233"
  },
  {
   "cell_type": "code",
   "execution_count": 30,
   "outputs": [],
   "source": [
    "new_df['raw_block']=new_df.title\n",
    "new_df.raw_block.fillna(\"\",inplace=True)\n",
    "new_df['raw_block']=new_df.raw_block.str.lower()+'. ' + new_df.content.str.lower()"
   ],
   "metadata": {
    "collapsed": false,
    "ExecuteTime": {
     "end_time": "2024-05-21T11:32:24.265780427Z",
     "start_time": "2024-05-21T11:32:24.171074301Z"
    }
   },
   "id": "919b4d19f7950003"
  },
  {
   "cell_type": "code",
   "execution_count": 32,
   "outputs": [],
   "source": [
    "df=new_df.copy()\n",
    "df.drop(columns=['title', 'content'], inplace=True, errors='ignore')"
   ],
   "metadata": {
    "collapsed": false,
    "ExecuteTime": {
     "end_time": "2024-05-21T11:32:38.441449522Z",
     "start_time": "2024-05-21T11:32:38.413174487Z"
    }
   },
   "id": "b74bb7499d60f703"
  },
  {
   "cell_type": "markdown",
   "source": [
    "Для выполнения классификации будет использоваться новый признак - 'tokenized_block'.\n",
    "Проверим его на дубли и на пропуски:"
   ],
   "metadata": {
    "collapsed": false
   },
   "id": "79fafd36cb193cb4"
  },
  {
   "cell_type": "code",
   "execution_count": 148,
   "outputs": [
    {
     "name": "stdout",
     "output_type": "stream",
     "text": [
      "Дубликатов в данных: 533\n"
     ]
    }
   ],
   "source": [
    "print(f\"Дубликатов в данных: {df.tokenized_block.duplicated().sum()}\")"
   ],
   "metadata": {
    "collapsed": false,
    "ExecuteTime": {
     "end_time": "2024-05-19T04:18:40.831512880Z",
     "start_time": "2024-05-19T04:18:40.806636258Z"
    }
   },
   "id": "5821235f03caa673"
  },
  {
   "cell_type": "code",
   "execution_count": 149,
   "outputs": [
    {
     "name": "stdout",
     "output_type": "stream",
     "text": [
      "Пропусков в данных: 0\n"
     ]
    }
   ],
   "source": [
    "print(f\"Пропусков в данных: {df.tokenized_block.isna().sum()}\")"
   ],
   "metadata": {
    "collapsed": false,
    "ExecuteTime": {
     "end_time": "2024-05-19T04:18:43.464247151Z",
     "start_time": "2024-05-19T04:18:43.424898493Z"
    }
   },
   "id": "47b0a2a067d2a194"
  },
  {
   "cell_type": "markdown",
   "source": [
    "Удаляем дубли и пропуски:"
   ],
   "metadata": {
    "collapsed": false
   },
   "id": "9ad80975215faf99"
  },
  {
   "cell_type": "code",
   "execution_count": 133,
   "outputs": [
    {
     "name": "stdout",
     "output_type": "stream",
     "text": [
      "Пропусков в данных: 0\n"
     ]
    }
   ],
   "source": [
    "df.dropna(inplace=True, ignore_index=True, subset=['tokenized_block'])\n",
    "print(f\"Пропусков в данных: {df.tokenized_block.isna().sum()}\")"
   ],
   "metadata": {
    "collapsed": false,
    "ExecuteTime": {
     "end_time": "2024-05-19T04:07:41.817559093Z",
     "start_time": "2024-05-19T04:07:41.718890070Z"
    }
   },
   "id": "1e08ebec31e76be7"
  },
  {
   "cell_type": "code",
   "execution_count": 153,
   "outputs": [
    {
     "name": "stdout",
     "output_type": "stream",
     "text": [
      "Дубликатов в данных: 0\n"
     ]
    }
   ],
   "source": [
    "df.drop(df[df['tokenized_block'].duplicated(keep='last')].index, inplace=True, errors=\"ignore\")\n",
    "df.reset_index(drop=True, inplace=True)\n",
    "print(f\"Дубликатов в данных: {df.tokenized_block.duplicated().sum()}\")"
   ],
   "metadata": {
    "collapsed": false,
    "ExecuteTime": {
     "end_time": "2024-05-19T04:20:11.917414972Z",
     "start_time": "2024-05-19T04:20:11.760052228Z"
    }
   },
   "id": "8e59dbd107cfe0b1"
  },
  {
   "cell_type": "code",
   "execution_count": 24,
   "outputs": [
    {
     "data": {
      "text/plain": "       target_type                                    tokenized_block  \\\n0                1  чем предстоять заниматься.участвовать в обсужд...   \n1                2  условие.полный рабочий день.как работа в офис ...   \n2                1  требование.знакомство с мобильный разработка п...   \n3                2  условие.комфортный офис в пешеходный доступнос...   \n4                0  о мы.g soft это развивающийся софтверный компа...   \n...            ...                                                ...   \n89462            0  csssr крупный цех по производство фронтенд в р...   \n89463            2  мы предлагать.высокий заработный плата 210 000...   \n89464            1  задача.разработка серверный часть платёжный си...   \n89465            0  мы расти и развиваться поэтому мы в команда тр...   \n89466            2  компания предлагать.бонус за релокация.компенс...   \n\n                                               raw_block  \n0      чем предстоит заниматься. участвовать в обсужд...  \n1      условия. полный рабочий день;\\nкак работа в оф...  \n2      требования. знакомство с мобильной разработкой...  \n3      условия. комфортный офис в пешеходной доступно...  \n4      о нас. g-soft – это развивающаяся софтверная к...  \n...                                                  ...  \n89462  . csssr — крупнейший цех по производству фронт...  \n89463  мы предлагаем. высокая заработная плата 210 00...  \n89464  задачи. разработка серверной части платежной с...  \n89465  . мы растем и развиваемся, поэтому нам в коман...  \n89466  компания предлагает. бонус за релокацию;\\nкомп...  \n\n[89467 rows x 3 columns]",
      "text/html": "<div>\n<style scoped>\n    .dataframe tbody tr th:only-of-type {\n        vertical-align: middle;\n    }\n\n    .dataframe tbody tr th {\n        vertical-align: top;\n    }\n\n    .dataframe thead th {\n        text-align: right;\n    }\n</style>\n<table border=\"1\" class=\"dataframe\">\n  <thead>\n    <tr style=\"text-align: right;\">\n      <th></th>\n      <th>target_type</th>\n      <th>tokenized_block</th>\n      <th>raw_block</th>\n    </tr>\n  </thead>\n  <tbody>\n    <tr>\n      <th>0</th>\n      <td>1</td>\n      <td>чем предстоять заниматься.участвовать в обсужд...</td>\n      <td>чем предстоит заниматься. участвовать в обсужд...</td>\n    </tr>\n    <tr>\n      <th>1</th>\n      <td>2</td>\n      <td>условие.полный рабочий день.как работа в офис ...</td>\n      <td>условия. полный рабочий день;\\nкак работа в оф...</td>\n    </tr>\n    <tr>\n      <th>2</th>\n      <td>1</td>\n      <td>требование.знакомство с мобильный разработка п...</td>\n      <td>требования. знакомство с мобильной разработкой...</td>\n    </tr>\n    <tr>\n      <th>3</th>\n      <td>2</td>\n      <td>условие.комфортный офис в пешеходный доступнос...</td>\n      <td>условия. комфортный офис в пешеходной доступно...</td>\n    </tr>\n    <tr>\n      <th>4</th>\n      <td>0</td>\n      <td>о мы.g soft это развивающийся софтверный компа...</td>\n      <td>о нас. g-soft – это развивающаяся софтверная к...</td>\n    </tr>\n    <tr>\n      <th>...</th>\n      <td>...</td>\n      <td>...</td>\n      <td>...</td>\n    </tr>\n    <tr>\n      <th>89462</th>\n      <td>0</td>\n      <td>csssr крупный цех по производство фронтенд в р...</td>\n      <td>. csssr — крупнейший цех по производству фронт...</td>\n    </tr>\n    <tr>\n      <th>89463</th>\n      <td>2</td>\n      <td>мы предлагать.высокий заработный плата 210 000...</td>\n      <td>мы предлагаем. высокая заработная плата 210 00...</td>\n    </tr>\n    <tr>\n      <th>89464</th>\n      <td>1</td>\n      <td>задача.разработка серверный часть платёжный си...</td>\n      <td>задачи. разработка серверной части платежной с...</td>\n    </tr>\n    <tr>\n      <th>89465</th>\n      <td>0</td>\n      <td>мы расти и развиваться поэтому мы в команда тр...</td>\n      <td>. мы растем и развиваемся, поэтому нам в коман...</td>\n    </tr>\n    <tr>\n      <th>89466</th>\n      <td>2</td>\n      <td>компания предлагать.бонус за релокация.компенс...</td>\n      <td>компания предлагает. бонус за релокацию;\\nкомп...</td>\n    </tr>\n  </tbody>\n</table>\n<p>89467 rows × 3 columns</p>\n</div>"
     },
     "execution_count": 24,
     "metadata": {},
     "output_type": "execute_result"
    }
   ],
   "source": [
    "df"
   ],
   "metadata": {
    "collapsed": false,
    "ExecuteTime": {
     "end_time": "2024-05-21T12:04:06.070862083Z",
     "start_time": "2024-05-21T12:04:06.036739018Z"
    }
   },
   "id": "169d9752c12895c8"
  },
  {
   "cell_type": "code",
   "execution_count": 154,
   "outputs": [
    {
     "name": "stdout",
     "output_type": "stream",
     "text": [
      "<class 'pandas.core.frame.DataFrame'>\n",
      "RangeIndex: 89467 entries, 0 to 89466\n",
      "Data columns (total 3 columns):\n",
      " #   Column           Non-Null Count  Dtype \n",
      "---  ------           --------------  ----- \n",
      " 0   target_type      89467 non-null  uint8 \n",
      " 1   tokenized_block  89467 non-null  object\n",
      " 2   raw_block        89467 non-null  object\n",
      "dtypes: object(2), uint8(1)\n",
      "memory usage: 1.5+ MB\n"
     ]
    }
   ],
   "source": [
    "df.info()"
   ],
   "metadata": {
    "collapsed": false,
    "ExecuteTime": {
     "end_time": "2024-05-19T04:20:15.181046147Z",
     "start_time": "2024-05-19T04:20:15.137473840Z"
    }
   },
   "id": "37bcd36020813bbc"
  },
  {
   "cell_type": "markdown",
   "source": [
    "Уникальных значений:"
   ],
   "metadata": {
    "collapsed": false
   },
   "id": "7ff1845d7f2b8463"
  },
  {
   "cell_type": "code",
   "execution_count": 23,
   "outputs": [
    {
     "data": {
      "text/plain": "target_type            3\ntokenized_block    89466\nraw_block          89467\ndtype: int64"
     },
     "execution_count": 23,
     "metadata": {},
     "output_type": "execute_result"
    }
   ],
   "source": [
    "df.nunique()"
   ],
   "metadata": {
    "collapsed": false,
    "ExecuteTime": {
     "end_time": "2024-05-21T12:03:47.524467897Z",
     "start_time": "2024-05-21T12:03:47.223553998Z"
    }
   },
   "id": "eaa76b97a8edb790"
  },
  {
   "cell_type": "markdown",
   "source": [
    "Все тексты в наборе данных уникальны."
   ],
   "metadata": {
    "collapsed": false
   },
   "id": "135928489b4905f8"
  },
  {
   "cell_type": "markdown",
   "source": [
    "## 3.4. Сохранение датасета"
   ],
   "metadata": {
    "collapsed": false
   },
   "id": "73eb94aefca3c46"
  },
  {
   "cell_type": "markdown",
   "source": [
    "Сохраним полученный датасет:"
   ],
   "metadata": {
    "collapsed": false
   },
   "id": "926d59e4f1e697c4"
  },
  {
   "cell_type": "code",
   "execution_count": 155,
   "outputs": [
    {
     "data": {
      "text/plain": "'/home/svs/data/projects/active/urfu/vkr/data/processed/blocks_tokenized_004.csv.gz'"
     },
     "execution_count": 155,
     "metadata": {},
     "output_type": "execute_result"
    }
   ],
   "source": [
    "filename=settings.get_fresh('FILENAME_BLOCKS_TOKENIZED')\n",
    "files.save_dataframe(df,filename, MODEL_SUBDIR, to_compress=True)"
   ],
   "metadata": {
    "collapsed": false,
    "ExecuteTime": {
     "start_time": "2024-05-19T04:20:23.093334159Z"
    }
   },
   "id": "5eff1573402d8b70"
  },
  {
   "cell_type": "markdown",
   "source": [
    "Загрузка этого датасета:"
   ],
   "metadata": {
    "collapsed": false
   },
   "id": "fb8aa59e4ae1e7e7"
  },
  {
   "cell_type": "code",
   "execution_count": 22,
   "outputs": [],
   "source": [
    "filename=settings.get_fresh('FILENAME_BLOCKS_TOKENIZED')\n",
    "df= files.load_file(filename, MODEL_SUBDIR, to_decompress=True, with_dates=False)"
   ],
   "metadata": {
    "collapsed": false,
    "ExecuteTime": {
     "end_time": "2024-05-21T12:03:42.161006869Z",
     "start_time": "2024-05-21T12:03:39.051736617Z"
    }
   },
   "id": "2786d9d084eb487f"
  },
  {
   "cell_type": "markdown",
   "source": [
    "# 4. Исследовательский анализ данных (exploratory data analysis - EDA)"
   ],
   "metadata": {
    "collapsed": false
   },
   "id": "9b949d3c5ba7c716"
  },
  {
   "cell_type": "markdown",
   "source": [
    "Ранее уже были выполнены очистка, разделение текста на токены, морфологическая обработка токенов. Для этого, как и раньше,"
   ],
   "metadata": {
    "collapsed": false
   },
   "id": "3a30665fd50e3a47"
  },
  {
   "cell_type": "markdown",
   "source": [
    "Длина текстов в символах"
   ],
   "metadata": {
    "collapsed": false
   },
   "id": "e849915379bf8f5b"
  },
  {
   "cell_type": "code",
   "execution_count": 157,
   "outputs": [
    {
     "name": "stdout",
     "output_type": "stream",
     "text": [
      "Максимальная длина текста:  6731\n",
      "Минимальная длина текста:  0\n",
      "Средняя длина текста:  327\n"
     ]
    },
    {
     "data": {
      "text/plain": "<Figure size 800x400 with 1 Axes>",
      "image/png": "[encoded data removed]"
     },
     "metadata": {},
     "output_type": "display_data"
    }
   ],
   "source": [
    "# Количество букв в каждом тексте\n",
    "df[\"letter_count\"]=df['tokenized_block'].apply(len)\n",
    "print(\"Максимальная длина текста: \",df.letter_count.max())\n",
    "print(\"Минимальная длина текста: \",df.letter_count.min())\n",
    "print(\"Средняя длина текста: \",round(df.letter_count.mean()))\n",
    "df.groupby('target_type')['letter_count'].describe()\n",
    "plt.figure(figsize=(8, 4))\n",
    "bins = 20\n",
    "plt.hist(df['letter_count'], bins=bins)\n",
    "plt.xlabel('Количество букв')\n",
    "plt.ylabel('Частота')\n",
    "plt.title('Количество букв в тексте')\n",
    "plt.grid()\n",
    "plt.show()"
   ],
   "metadata": {
    "collapsed": false,
    "ExecuteTime": {
     "end_time": "2024-05-19T05:59:05.341433484Z",
     "start_time": "2024-05-19T05:59:05.194871957Z"
    }
   },
   "id": "34b6f10e2f17323"
  },
  {
   "cell_type": "markdown",
   "source": [
    "Длина текстов в словах"
   ],
   "metadata": {
    "collapsed": false
   },
   "id": "b55904f4ebb9ed49"
  },
  {
   "cell_type": "code",
   "execution_count": 158,
   "outputs": [
    {
     "name": "stdout",
     "output_type": "stream",
     "text": [
      "Максимальная длина текста:  936\n",
      "Минимальная длина текста:  0\n",
      "Средняя длина текста:  40\n",
      "Медиана длины текста:  33\n"
     ]
    },
    {
     "data": {
      "text/plain": "<Figure size 800x400 with 1 Axes>",
      "image/png": "[encoded data removed]"
     },
     "metadata": {},
     "output_type": "display_data"
    }
   ],
   "source": [
    "# Количество слов в каждом тексте\n",
    "df['word_count']=df['tokenized_block'].astype(str).str.split().map(lambda x: len(x))\n",
    "print(\"Максимальная длина текста: \",df.word_count.max())\n",
    "print(\"Минимальная длина текста: \",df.word_count.min())\n",
    "print(\"Средняя длина текста: \",round(df.word_count.mean()))\n",
    "print(\"Медиана длины текста: \",round(df.word_count.median()))\n",
    "df.groupby('target_type')['word_count'].describe()\n",
    "plt.figure(figsize=(8, 4))\n",
    "bins = 20\n",
    "plt.hist(df['word_count'], bins=bins)\n",
    "plt.xlabel('Количество слов')\n",
    "plt.ylabel('Частота')\n",
    "plt.title('Количество слов в тексте')\n",
    "plt.grid()\n",
    "plt.show()"
   ],
   "metadata": {
    "collapsed": false,
    "ExecuteTime": {
     "end_time": "2024-05-19T05:59:26.865100969Z",
     "start_time": "2024-05-19T05:59:26.123280055Z"
    }
   },
   "id": "f4bf76e2effc149a"
  },
  {
   "cell_type": "markdown",
   "source": [
    "Общая статистика"
   ],
   "metadata": {
    "collapsed": false
   },
   "id": "51b4b646f3f11fd5"
  },
  {
   "cell_type": "code",
   "execution_count": 159,
   "outputs": [
    {
     "data": {
      "text/plain": "        target_type  letter_count    word_count\ncount  89467.000000  89467.000000  89467.000000\nmean       1.000749    327.245711     39.938212\nstd        0.815489    234.071370     30.059543\nmin        0.000000      0.000000      0.000000\n25%        0.000000    167.000000     19.000000\n50%        1.000000    274.000000     33.000000\n75%        2.000000    426.000000     52.000000\nmax        2.000000   6731.000000    936.000000",
      "text/html": "<div>\n<style scoped>\n    .dataframe tbody tr th:only-of-type {\n        vertical-align: middle;\n    }\n\n    .dataframe tbody tr th {\n        vertical-align: top;\n    }\n\n    .dataframe thead th {\n        text-align: right;\n    }\n</style>\n<table border=\"1\" class=\"dataframe\">\n  <thead>\n    <tr style=\"text-align: right;\">\n      <th></th>\n      <th>target_type</th>\n      <th>letter_count</th>\n      <th>word_count</th>\n    </tr>\n  </thead>\n  <tbody>\n    <tr>\n      <th>count</th>\n      <td>89467.000000</td>\n      <td>89467.000000</td>\n      <td>89467.000000</td>\n    </tr>\n    <tr>\n      <th>mean</th>\n      <td>1.000749</td>\n      <td>327.245711</td>\n      <td>39.938212</td>\n    </tr>\n    <tr>\n      <th>std</th>\n      <td>0.815489</td>\n      <td>234.071370</td>\n      <td>30.059543</td>\n    </tr>\n    <tr>\n      <th>min</th>\n      <td>0.000000</td>\n      <td>0.000000</td>\n      <td>0.000000</td>\n    </tr>\n    <tr>\n      <th>25%</th>\n      <td>0.000000</td>\n      <td>167.000000</td>\n      <td>19.000000</td>\n    </tr>\n    <tr>\n      <th>50%</th>\n      <td>1.000000</td>\n      <td>274.000000</td>\n      <td>33.000000</td>\n    </tr>\n    <tr>\n      <th>75%</th>\n      <td>2.000000</td>\n      <td>426.000000</td>\n      <td>52.000000</td>\n    </tr>\n    <tr>\n      <th>max</th>\n      <td>2.000000</td>\n      <td>6731.000000</td>\n      <td>936.000000</td>\n    </tr>\n  </tbody>\n</table>\n</div>"
     },
     "execution_count": 159,
     "metadata": {},
     "output_type": "execute_result"
    }
   ],
   "source": [
    "df.describe()"
   ],
   "metadata": {
    "collapsed": false,
    "ExecuteTime": {
     "start_time": "2024-05-19T05:59:36.918357539Z"
    }
   },
   "id": "93102edd9ea3c9e4"
  },
  {
   "cell_type": "markdown",
   "source": [
    "В текстах от 1 до 936 слов, в среднем 33, верхнему квартилю соответствует значение 52.\n",
    "Аналогично, в текстах от 0 до 6731 символов, в среднем 274, верхнему квартилю соответствует значение 426."
   ],
   "metadata": {
    "collapsed": false
   },
   "id": "c8c70e4b94788deb"
  },
  {
   "cell_type": "code",
   "execution_count": 160,
   "outputs": [
    {
     "name": "stdout",
     "output_type": "stream",
     "text": [
      "Всего символов:  29277692\n",
      "Всего слов:  3573152\n"
     ]
    }
   ],
   "source": [
    "print(\"Всего символов: \", df.letter_count.sum())\n",
    "print(\"Всего слов: \", df.word_count.sum())"
   ],
   "metadata": {
    "collapsed": false,
    "ExecuteTime": {
     "end_time": "2024-05-19T06:01:03.506330835Z",
     "start_time": "2024-05-19T06:01:03.466348861Z"
    }
   },
   "id": "48c4d9905befad18"
  },
  {
   "cell_type": "markdown",
   "source": [
    "Найдем слова, встречающиеся чаще всего в текстах"
   ],
   "metadata": {
    "collapsed": false
   },
   "id": "7fd3adca798d9b40"
  },
  {
   "cell_type": "code",
   "execution_count": 161,
   "outputs": [
    {
     "name": "stdout",
     "output_type": "stream",
     "text": [
      "Всего уникальных слов:  1211\n"
     ]
    },
    {
     "data": {
      "text/plain": "word\nи             173793\nв             130356\nс              82641\nработа         55571\nна             54176\nпо             42659\nдля            31682\nмы             31313\nразработка     26370\nот             23961\nName: count, dtype: int64"
     },
     "execution_count": 161,
     "metadata": {},
     "output_type": "execute_result"
    }
   ],
   "source": [
    "popular_words=[]\n",
    "for text in df.tokenized_block.values:\n",
    "    popular_words +=text.split()\n",
    "popular_words = pd.Series(popular_words).value_counts(sort=True,ascending=False )\n",
    "popular_words.index.rename('word', True)\n",
    "print(\"Всего уникальных слов: \", popular_words.nunique())\n",
    "popular_words.head(10)"
   ],
   "metadata": {
    "collapsed": false,
    "ExecuteTime": {
     "end_time": "2024-05-19T06:01:19.325757726Z",
     "start_time": "2024-05-19T06:01:18.488913394Z"
    }
   },
   "id": "435d73ba3f1b91e4"
  },
  {
   "cell_type": "markdown",
   "source": [
    "Из слов самые популярные оказались артикли, союзы, модальные глаголы и предлоги.\n",
    "В целом тексты по своему составу достаточно стандартны, что позволяет использовать существующие обученные для\n",
    "русского языка модели и библиотеки."
   ],
   "metadata": {
    "collapsed": false
   },
   "id": "7304c7f584d83556"
  },
  {
   "cell_type": "markdown",
   "source": [
    "# 5. Классификация блоков текста"
   ],
   "metadata": {
    "collapsed": false
   },
   "id": "a3ce7d03cca8feb9"
  },
  {
   "cell_type": "markdown",
   "source": [
    "## 5.1. Векторизация текста"
   ],
   "metadata": {
    "collapsed": false
   },
   "id": "9e8104d089957ddd"
  },
  {
   "cell_type": "markdown",
   "source": [
    "Тексты блоков достаточно длинные, поэтому для их векторизации использовались плотные векторные представления\n",
    "(эмбединги), полученные с помощью библиотеки Sentence-transformers.\n"
   ],
   "metadata": {
    "collapsed": false
   },
   "id": "deb65fd74f9474c7"
  },
  {
   "cell_type": "code",
   "execution_count": 29,
   "outputs": [
    {
     "name": "stdout",
     "output_type": "stream",
     "text": [
      "encoding paraphrase_minilm_l122024-05-21 15:34:59.943421\n",
      "Сохранено: /mnt/docs/DataStorage/vkr/models/paraphrase_minilm_l12_block_vectorization_model.dmp\n",
      "done paraphrase_minilm_l122024-05-21 15:36:32.818011\n",
      "encoding distiluse_cased_v22024-05-21 15:36:35.808025\n",
      "Сохранено: /mnt/docs/DataStorage/vkr/models/distiluse_cased_v2_block_vectorization_model.dmp\n",
      "done distiluse_cased_v22024-05-21 15:38:52.397851\n",
      "encoding paraphrase_mpnet_v22024-05-21 15:38:56.524799\n",
      "Сохранено: /mnt/docs/DataStorage/vkr/models/paraphrase_mpnet_v2_block_vectorization_model.dmp\n",
      "done paraphrase_mpnet_v22024-05-21 15:43:00.234774\n",
      "encoding stsb_xlm_r2024-05-21 15:43:04.389239\n",
      "Сохранено: /mnt/docs/DataStorage/vkr/models/stsb_xlm_r_block_vectorization_model.dmp\n",
      "done stsb_xlm_r2024-05-21 15:47:08.126073\n",
      "2024-05-21 15:47:08.126332\n"
     ]
    }
   ],
   "source": [
    "emb_dict={}\n",
    "FILENAME_BLOCK_VECTORIZATION_MODEL = settings.get_fresh('FILENAME_BLOCK_VECTORIZATION_MODEL')\n",
    "for m_key in MODELS:\n",
    "   model = SentenceTransformer(MODELS[m_key])\n",
    "   print('encoding '+m_key + str(datetime.now()))\n",
    "   embeddings = model.encode(df.tokenized_block, device=DEVICE)\n",
    "   emb_dict[f'{m_key}_emb']=embeddings\n",
    "   # filename = f'{m_key}_{FILENAME_EMB_SUFFIX}'\n",
    "   # processed_data_file_path = files.save_data_dump(embeddings, filename, MODEL_SUBDIR)\n",
    "   filename = f'{m_key}_{FILENAME_BLOCK_VECTORIZATION_MODEL}'\n",
    "   processed_data_file_path = files.save_model(model, filename)\n",
    "   print('Сохранено: '+ processed_data_file_path)\n",
    "   print('done '+m_key+str(datetime.now()))\n",
    "print(datetime.now())"
   ],
   "metadata": {
    "collapsed": false,
    "ExecuteTime": {
     "end_time": "2024-05-21T12:47:08.170996456Z",
     "start_time": "2024-05-21T12:34:56.260761989Z"
    }
   },
   "id": "2035e1de056a8f27"
  },
  {
   "cell_type": "markdown",
   "source": [
    "Визуализация векторного представления"
   ],
   "metadata": {
    "collapsed": false
   },
   "id": "a529bb50452cda14"
  },
  {
   "cell_type": "code",
   "execution_count": 30,
   "outputs": [
    {
     "data": {
      "text/plain": "<matplotlib.collections.PathCollection at 0x7f235666e320>"
     },
     "execution_count": 30,
     "metadata": {},
     "output_type": "execute_result"
    },
    {
     "data": {
      "text/plain": "<Figure size 2000x1000 with 1 Axes>",
      "image/png": "[encoded data removed]"
     },
     "metadata": {},
     "output_type": "display_data"
    }
   ],
   "source": [
    "plt.figure(figsize=(20,10))\n",
    "plt.scatter(emb_dict[f'{MODEL3_NAME}_emb'][:,0], emb_dict[f'{MODEL3_NAME}_emb'][:,1])"
   ],
   "metadata": {
    "collapsed": false,
    "ExecuteTime": {
     "end_time": "2024-05-21T12:48:01.648426728Z",
     "start_time": "2024-05-21T12:48:01.198818814Z"
    }
   },
   "id": "6cfbf8a3cf6c0a46"
  },
  {
   "cell_type": "code",
   "execution_count": 31,
   "outputs": [
    {
     "data": {
      "text/plain": "'/mnt/docs/DataStorage/vkr/data/block_modeling/block_embeddings_002.dmp'"
     },
     "execution_count": 31,
     "metadata": {},
     "output_type": "execute_result"
    }
   ],
   "source": [
    "filename=settings.get_fresh('FILENAME_BLOCK_EMBEDDINGS')\n",
    "processed_data_file_path = files.save_data_dump(emb_dict, filename, MODEL_SUBDIR)\n",
    "processed_data_file_path"
   ],
   "metadata": {
    "collapsed": false,
    "ExecuteTime": {
     "end_time": "2024-05-21T12:48:13.317394830Z",
     "start_time": "2024-05-21T12:48:11.983848111Z"
    }
   },
   "id": "8ca67ca3c320b1d2"
  },
  {
   "cell_type": "code",
   "execution_count": 43,
   "outputs": [],
   "source": [
    "filename=settings.get_fresh('FILENAME_BLOCK_EMBEDDINGS')\n",
    "emb_dict = files.load_data_dump(filename, MODEL_SUBDIR)"
   ],
   "metadata": {
    "collapsed": false,
    "ExecuteTime": {
     "start_time": "2024-05-21T11:36:57.354769062Z"
    }
   },
   "id": "2fabc454ade8d9f0"
  },
  {
   "cell_type": "markdown",
   "source": [
    "Выделяем данные для обучения и тестирования"
   ],
   "metadata": {
    "collapsed": false
   },
   "id": "884f87650ed90418"
  },
  {
   "cell_type": "markdown",
   "source": [
    "## 5.2. Выбор метрики оценки качества для алгоритмов\n",
    "Будем использовать метрики accuracy и F1-оценку.\n",
    "Accuracy — это основной показатель, который описывает общую точность предсказания модели по всем классам. Он рассчитывается как отношение количества правильных прогнозов к их общему количеству.\n",
    "F1-оценка: Эта более сложная метрика учитывает баланс между точностью (precision) и полнотой (recall)."
   ],
   "metadata": {
    "collapsed": false
   },
   "id": "5001d2cf0f50845"
  },
  {
   "cell_type": "markdown",
   "source": [
    "## 5.3. Классификация методом логистической регрессии"
   ],
   "metadata": {
    "collapsed": false
   },
   "id": "27d8abf4d75d3c9e"
  },
  {
   "cell_type": "code",
   "execution_count": 32,
   "outputs": [
    {
     "name": "stdout",
     "output_type": "stream",
     "text": [
      "sentence-transformers/paraphrase-multilingual-MiniLM-L12-v2\n",
      "0.8952721582653403\n",
      "f1_score= 0.8944778668804744\n",
      "accuracy= 0.8952721582653403\n",
      "              precision    recall  f1-score   support\n",
      "\n",
      "           0       0.87      0.82      0.84      8915\n",
      "           1       0.90      0.93      0.92      9073\n",
      "           2       0.91      0.94      0.92      8853\n",
      "\n",
      "    accuracy                           0.90     26841\n",
      "   macro avg       0.89      0.90      0.89     26841\n",
      "weighted avg       0.89      0.90      0.89     26841\n",
      "\n",
      "________________________\n",
      "sentence-transformers/distiluse-base-multilingual-cased-v2\n",
      "0.8960917998584256\n",
      "f1_score= 0.8948040950936924\n",
      "accuracy= 0.8960917998584256\n",
      "              precision    recall  f1-score   support\n",
      "\n",
      "           0       0.88      0.80      0.84      8915\n",
      "           1       0.90      0.95      0.92      9073\n",
      "           2       0.90      0.94      0.92      8853\n",
      "\n",
      "    accuracy                           0.90     26841\n",
      "   macro avg       0.90      0.90      0.89     26841\n",
      "weighted avg       0.90      0.90      0.89     26841\n",
      "\n",
      "________________________\n",
      "sentence-transformers/paraphrase-multilingual-mpnet-base-v2\n",
      "0.9087962445512462\n",
      "f1_score= 0.9078756780981485\n",
      "accuracy= 0.9087962445512462\n",
      "              precision    recall  f1-score   support\n",
      "\n",
      "           0       0.90      0.83      0.86      8915\n",
      "           1       0.91      0.95      0.93      9073\n",
      "           2       0.91      0.95      0.93      8853\n",
      "\n",
      "    accuracy                           0.91     26841\n",
      "   macro avg       0.91      0.91      0.91     26841\n",
      "weighted avg       0.91      0.91      0.91     26841\n",
      "\n",
      "________________________\n",
      "sentence-transformers/stsb-xlm-r-multilingual\n",
      "0.8856227413285646\n",
      "f1_score= 0.8843145216432771\n",
      "accuracy= 0.8856227413285646\n",
      "              precision    recall  f1-score   support\n",
      "\n",
      "           0       0.87      0.79      0.83      8915\n",
      "           1       0.90      0.94      0.92      9073\n",
      "           2       0.89      0.93      0.91      8853\n",
      "\n",
      "    accuracy                           0.89     26841\n",
      "   macro avg       0.88      0.89      0.88     26841\n",
      "weighted avg       0.88      0.89      0.88     26841\n",
      "\n",
      "________________________\n"
     ]
    }
   ],
   "source": [
    "y= df['target_type']\n",
    "for m_key in MODELS:\n",
    "    print(MODELS[m_key])\n",
    "    X=emb_dict[f'{m_key}_emb']\n",
    "    X_train, X_test, y_train, y_test = train_test_split( X, y, test_size=0.3, random_state=RANDOM_STATE)\n",
    "    lr = LogisticRegression(random_state=RANDOM_STATE, max_iter=100)\n",
    "    lr.fit(X_train, y_train)    \n",
    "    print(lr.score(X_test, y_test))\n",
    "    y_pred = lr.predict(X_test)\n",
    "    f1_score_ml = f1_score(y_test, y_pred, average='weighted')\n",
    "    print('f1_score=', f1_score_ml)\n",
    "    print('accuracy=', accuracy_score(y_test, y_pred))\n",
    "    classification_metrics = classification_report(y_test, y_pred, target_names=[ '0','1', '2'])\n",
    "    print(classification_metrics)\n",
    "    print('________________________')"
   ],
   "metadata": {
    "collapsed": false,
    "ExecuteTime": {
     "end_time": "2024-05-21T12:53:11.756504885Z",
     "start_time": "2024-05-21T12:52:41.147468093Z"
    }
   },
   "id": "db1482ed84dd6284"
  },
  {
   "cell_type": "markdown",
   "source": [
    "Выбранная модель векторизации:"
   ],
   "metadata": {
    "collapsed": false
   },
   "id": "ad03d265b714e96b"
  },
  {
   "cell_type": "code",
   "execution_count": 43,
   "outputs": [],
   "source": [
    "selected_model=MODEL3_NAME"
   ],
   "metadata": {
    "collapsed": false,
    "ExecuteTime": {
     "end_time": "2024-05-21T12:58:46.432441589Z",
     "start_time": "2024-05-21T12:58:46.364643661Z"
    }
   },
   "id": "fe9dffb43df06697"
  },
  {
   "cell_type": "markdown",
   "source": [
    "Подбор гиперпараметров логистической регрессии:"
   ],
   "metadata": {
    "collapsed": false
   },
   "id": "4f8f6d9910c9beee"
  },
  {
   "cell_type": "code",
   "execution_count": null,
   "outputs": [],
   "source": [
    "X=emb_dict[f'{selected_model}_emb']\n",
    "y= df['target_type']\n",
    "param_grid = [\n",
    "    {'penalty' : ['l1', 'l2', 'elasticnet', 'none'],\n",
    "    'C' : [.5, 1, 2],\n",
    "    'solver' : ['lbfgs','newton-cg','liblinear','saga'],\n",
    "    'max_iter' : [100, 300, 500, 1000]\n",
    "    }\n",
    "]\n",
    "\n",
    "lr = LogisticRegression(random_state=RANDOM_STATE, max_iter=100)\n",
    "lr_hypertuned = GridSearchCV(lr, param_grid = param_grid, cv = 3, verbose=True, n_jobs=-1)\n",
    "res_hypertuned = lr_hypertuned.fit(X,y)\n",
    "best_estimator = res_hypertuned.best_estimator_"
   ],
   "metadata": {
    "collapsed": false
   },
   "id": "34d48abc6683943b"
  },
  {
   "cell_type": "markdown",
   "source": [
    "Найденные оптимальные параметры:"
   ],
   "metadata": {
    "collapsed": false
   },
   "id": "f8a2a490d05f207a"
  },
  {
   "cell_type": "code",
   "execution_count": 222,
   "outputs": [
    {
     "name": "stdout",
     "output_type": "stream",
     "text": [
      "LogisticRegression(C=0.5, max_iter=300, penalty='none', random_state=123,\n",
      "                   solver='saga')\n"
     ]
    }
   ],
   "source": [
    "print(best_estimator)"
   ],
   "metadata": {
    "collapsed": false,
    "ExecuteTime": {
     "start_time": "2024-05-19T18:37:09.339559564Z"
    }
   },
   "id": "a9ac9497f5392ac6"
  },
  {
   "cell_type": "markdown",
   "source": [
    "Определяем долю правильных ответов (accuracy) и метрику f1_score на тестовом наборе данных"
   ],
   "metadata": {
    "collapsed": false
   },
   "id": "cadb203f4aeafad3"
  },
  {
   "cell_type": "code",
   "execution_count": 226,
   "outputs": [
    {
     "name": "stdout",
     "output_type": "stream",
     "text": [
      "              precision    recall  f1-score   support\n",
      "\n",
      "           0       0.92      0.87      0.90      8915\n",
      "           1       0.93      0.96      0.95      9073\n",
      "           2       0.94      0.96      0.95      8853\n",
      "\n",
      "    accuracy                           0.93     26841\n",
      "   macro avg       0.93      0.93      0.93     26841\n",
      "weighted avg       0.93      0.93      0.93     26841\n",
      "\n",
      "f1_score= 0.9299181510773732\n",
      "accuracy= 0.9303304645877576\n"
     ]
    }
   ],
   "source": [
    "#Найденные гиперпараметры:\n",
    "# LogisticRegression(C=0.5, max_iter=300, penalty='none', random_state=123,solver='saga')\n",
    "X=emb_dict[f'{selected_model}_emb']\n",
    "X_train, X_test, y_train, y_test = train_test_split( X, y, test_size=0.3, random_state=RANDOM_STATE)\n",
    "y_pred = best_estimator.predict(X_test)\n",
    "classification_metrics = classification_report(y_test, y_pred, target_names=[ '0','1', '2'])\n",
    "print(classification_metrics)\n",
    "f1_score_ml = f1_score(y_test, y_pred, average='weighted')\n",
    "print('f1_score=', f1_score_ml)\n",
    "print('accuracy=', accuracy_score(y_test, y_pred))"
   ],
   "metadata": {
    "collapsed": false,
    "ExecuteTime": {
     "start_time": "2024-05-19T18:42:48.977856703Z"
    }
   },
   "id": "3ac7a7e1e39d502e"
  },
  {
   "cell_type": "code",
   "execution_count": 45,
   "outputs": [
    {
     "name": "stdout",
     "output_type": "stream",
     "text": [
      "/mnt/docs/DataStorage/vkr/models/block_classification_model_002.dmp\n"
     ]
    }
   ],
   "source": [
    "filename=settings.get_fresh('FILENAME_BLOCK_CLASSIFICATION_MODEL')\n",
    "processed_data_file_path = files.save_model(best_estimator, filename)\n",
    "print(processed_data_file_path)"
   ],
   "metadata": {
    "collapsed": false,
    "ExecuteTime": {
     "end_time": "2024-05-21T13:05:44.071779543Z",
     "start_time": "2024-05-21T13:05:43.707458076Z"
    }
   },
   "id": "9866fe9aec20ab0a"
  }
 ],
 "metadata": {
  "kernelspec": {
   "display_name": "Python 3",
   "language": "python",
   "name": "python3"
  },
  "language_info": {
   "codemirror_mode": {
    "name": "ipython",
    "version": 2
   },
   "file_extension": ".py",
   "mimetype": "text/x-python",
   "name": "python",
   "nbconvert_exporter": "python",
   "pygments_lexer": "ipython2",
   "version": "2.7.6"
  }
 },
 "nbformat": 4,
 "nbformat_minor": 5
}
