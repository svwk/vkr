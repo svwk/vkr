{
 "cells": [
  {
   "cell_type": "markdown",
   "source": [
    "# Анализ вакансий\n",
    "**Часть 1**\n",
    "## Первичная обработка данных"
   ],
   "metadata": {
    "collapsed": false
   },
   "id": "e5c7f768ec31df18"
  },
  {
   "cell_type": "markdown",
   "source": [
    "# 1. Служебный код"
   ],
   "metadata": {
    "collapsed": false
   },
   "id": "63973575393e32bf"
  },
  {
   "cell_type": "markdown",
   "source": [
    "## 1.1. Импорт необходимых библиотек"
   ],
   "metadata": {
    "collapsed": false
   },
   "id": "a4cc731fb066db14"
  },
  {
   "cell_type": "code",
   "execution_count": 1,
   "id": "8d5862b186b2634d",
   "metadata": {
    "collapsed": true,
    "ExecuteTime": {
     "end_time": "2024-05-08T23:34:45.492731242Z",
     "start_time": "2024-05-08T23:34:45.492278207Z"
    }
   },
   "outputs": [],
   "source": [
    "from importlib import reload\n",
    "import pandas as pd\n",
    "import warnings"
   ]
  },
  {
   "cell_type": "code",
   "execution_count": 2,
   "outputs": [
    {
     "data": {
      "text/plain": "<module 'scripts.data_scripts.files' from '/mnt/data/projects/active/urfu/vkr/scripts/data_scripts/files.py'>"
     },
     "execution_count": 2,
     "metadata": {},
     "output_type": "execute_result"
    }
   ],
   "source": [
    "import config\n",
    "reload(config)\n",
    "from config import settings\n",
    "\n",
    "import scripts.data_scripts.prepare_data as prepare\n",
    "reload(prepare)\n",
    "\n",
    "import scripts.utils.files as files\n",
    "reload(files)"
   ],
   "metadata": {
    "collapsed": false,
    "ExecuteTime": {
     "end_time": "2024-05-08T23:37:48.115438531Z",
     "start_time": "2024-05-08T23:37:44.168465811Z"
    }
   },
   "id": "initial_id"
  },
  {
   "cell_type": "markdown",
   "source": [
    "## 1.2. Настройка параметров"
   ],
   "metadata": {
    "collapsed": false
   },
   "id": "a298e32e316a5d13"
  },
  {
   "cell_type": "code",
   "execution_count": 3,
   "outputs": [],
   "source": [
    "pd.set_option(\"display.max_rows\", 20)\n",
    "pd.set_option(\"display.max_columns\", 20)\n",
    "pd.set_option(\"display.precision\",6)\n",
    "warnings.simplefilter(\"ignore\")\n",
    "\n",
    "RAW_DATA_FILES=[\"hh_data_it_2022\", \"hh_data_it_2021\", \"hh_data_it_2020\", \"hh_data_it_2019\", \"hh_data_it_2018\", \"hh_data_it_2017\", \"hh_data_it_2016\", \"hh_data_it_2015\"]"
   ],
   "metadata": {
    "collapsed": false,
    "ExecuteTime": {
     "end_time": "2024-05-08T23:37:54.992013161Z",
     "start_time": "2024-05-08T23:37:54.975976548Z"
    }
   },
   "id": "a5452db7d831c220"
  },
  {
   "cell_type": "markdown",
   "source": [
    "# 2 Загрузка данных и общее описание набора данных"
   ],
   "metadata": {
    "collapsed": false
   },
   "id": "f39640c0896ac85b"
  },
  {
   "cell_type": "markdown",
   "source": [
    "## 2.1 Словесное описание признаков"
   ],
   "metadata": {
    "collapsed": false
   },
   "id": "19fd99a5e0bef4de"
  },
  {
   "cell_type": "markdown",
   "source": [
    "Элементами данных являются описания вакансий, полученные с сайта hh.ru, полученные с помощью api.hh.ru.\n",
    "Для анализа взяты не все параметры вакансии, а только те, которые необходимы для задач анализа.\n",
    "Таким образом, признаки, полученные при парсинге данных с сайта-агрегатора api.hh.ru:\n",
    "\n",
    "- id (int): Идентификатор вакансии\n",
    "- name (string): Название\n",
    "- description (string): Описание в html\n",
    "- key_skills (Array of string): Ключевые навыки, список названий ключевых навыков, не более 30\n",
    "- experience_id (string): Опыт работы, возможные значения: \"noExperience\" (\"Нет опыта\"),\"between1And3\" (\"От 1 года до 3 лет\"), \"between3And6\" (\"От 3 до 6 лет\"), \"moreThan6\" (\"Более 6 лет\")\n",
    "- published_at (string): Дата и время публикации вакансии\n",
    "- employer_id (string) и employer_name: Идентификатор и название компании\n",
    "- salary_from (string): Нижняя граница зарплаты\n",
    "- salary_to (string): Верхняя граница зарплаты\n",
    "- salary_currency (string): Код валюты\n",
    "- area_id (string): Идентификатор региона\n",
    "- area_name (string): Название региона\n",
    "- spec_id_0, spec_id_1, spec_id_2 и spec_0, spec_1, spec_2 - коды и названия специализаций в классификаторе hh.ru"
   ],
   "metadata": {
    "collapsed": false
   },
   "id": "2b9d29435d9e45cc"
  },
  {
   "cell_type": "markdown",
   "source": [
    "## 2.2. Загрузка данных"
   ],
   "metadata": {
    "collapsed": false
   },
   "id": "79cf4c26818b4f88"
  },
  {
   "cell_type": "markdown",
   "source": [
    "Данные разбиты по годам в несколько файлов. Выполним загрузку двух из них за 2021 и 2022 года."
   ],
   "metadata": {
    "collapsed": false
   },
   "id": "8b9f3ce87fd61fc0"
  },
  {
   "cell_type": "code",
   "execution_count": 4,
   "outputs": [],
   "source": [
    "raw_data_local_subdir = settings.get_fresh('RAW_DATA_LOCAL_SUBDIR')\n",
    "df_list=files.load_files(RAW_DATA_FILES, raw_data_local_subdir, to_decompress=True)"
   ],
   "metadata": {
    "collapsed": false,
    "ExecuteTime": {
     "end_time": "2024-05-08T23:41:35.907850301Z",
     "start_time": "2024-05-08T23:38:04.949418218Z"
    }
   },
   "id": "1cfe5e01e7737f24"
  },
  {
   "cell_type": "markdown",
   "source": [
    "## 2.3. Информация о данных"
   ],
   "metadata": {
    "collapsed": false
   },
   "id": "99ccc361cdd6f1c5"
  },
  {
   "cell_type": "markdown",
   "source": [
    "### Размеры наборов данных"
   ],
   "metadata": {
    "collapsed": false
   },
   "id": "8dd3e7307e452a48"
  },
  {
   "cell_type": "code",
   "execution_count": 5,
   "outputs": [
    {
     "name": "stdout",
     "output_type": "stream",
     "text": [
      "Размер датаcета hh_data_it_2022:\n",
      "Строк - 40398\n",
      "Столбцов - 40\n",
      "Размер датаcета hh_data_it_2021:\n",
      "Строк - 287915\n",
      "Столбцов - 19\n",
      "Размер датаcета hh_data_it_2020:\n",
      "Строк - 587637\n",
      "Столбцов - 19\n",
      "Размер датаcета hh_data_it_2019:\n",
      "Строк - 535956\n",
      "Столбцов - 19\n",
      "Размер датаcета hh_data_it_2018:\n",
      "Строк - 517670\n",
      "Столбцов - 19\n",
      "Размер датаcета hh_data_it_2017:\n",
      "Строк - 391464\n",
      "Столбцов - 19\n",
      "Размер датаcета hh_data_it_2016:\n",
      "Строк - 332460\n",
      "Столбцов - 19\n",
      "Размер датаcета hh_data_it_2015:\n",
      "Строк - 284763\n",
      "Столбцов - 19\n"
     ]
    }
   ],
   "source": [
    "for i, dfi in df_list.items():\n",
    "    print(f'Размер датаcета {i}:')\n",
    "    print(f'Строк - {dfi.shape[0]}\\nСтолбцов - {dfi.shape[1]}')"
   ],
   "metadata": {
    "collapsed": false,
    "ExecuteTime": {
     "end_time": "2024-05-06T13:58:17.069445448Z",
     "start_time": "2024-05-06T13:58:17.015116948Z"
    }
   },
   "id": "d587cf600c5509ec"
  },
  {
   "cell_type": "code",
   "execution_count": 6,
   "outputs": [
    {
     "name": "stdout",
     "output_type": "stream",
     "text": [
      "hh_data_it_2022\n"
     ]
    },
    {
     "data": {
      "text/plain": "             id                                               name  spec_id_0  \\\n0      42151148  Эксперт по тестированию на проникновение/Пенте...     1221.0   \n1      42151191  Эксперт по тестированию на проникновение/Пенте...     1221.0   \n2      42151224  Специалист технической поддержки (бухгалтерски...     1172.0   \n3      42152647                               Оператор системы WMS     1110.0   \n4      42153070                 Системный аналитик (DWH/BI, DG/DQ)     1221.0   \n...         ...                                                ...        ...   \n40393  54155520          Junior Frontend Developer (JS, CSS, HTML)     1221.0   \n40394  54155562  Наладчик станков и манипуляторов с программным...    18142.0   \n40395  54155600            Специалист по планированию производства    17751.0   \n40396  54155643                                    Главный механик    25381.0   \n40397  54155670                               Менеджер IT-проектов    12092.0   \n\n                                             description  \\\n0      <p>Привет! Мы расширяем команду пентестеров. И...   \n1      <p>Привет! Мы расширяем команду пентестеров. И...   \n2      <p>Крупный российский разработчик информационн...   \n3      <p>ГК «Бест», на рынке находится с 1992 года, ...   \n4      <p><strong>КОРУС Консалтинг</strong> – одна из...   \n...                                                  ...   \n40393  <p><strong>Кто мы?</strong></p> <p>Мы молодая ...   \n40394  <p><strong>ГРУППА КОМПАНИЙ &quot;КАМАЗ&quot; -...   \n40395  <p><strong>Компания АО «Главснабсервис» являет...   \n40396  <p> </p> <strong>Требования:</strong> <ul> <li...   \n40397  <p><strong>Веб-Центр - </strong>это IT-компани...   \n\n                                              key_skills experience_id  \\\n0                                                    NaN  between1And3   \n1                                                    NaN  between1And3   \n2                                                    NaN  noExperience   \n3                                                    NaN  noExperience   \n4      SQL\\nMS Visio\\nРазработка технических заданий\\...  between3And6   \n...                                                  ...           ...   \n40393         JavaScript\\nGit\\nAtlassian Jira\\nHTML\\nCSS  noExperience   \n40394                                                NaN  between1And3   \n40395  Производственное планирование\\n1С: Производств...  between1And3   \n40396  Управление персоналом\\nДеловое общение\\nMS Dos...  between3And6   \n40397                                                NaN  between1And3   \n\n      employer_id                                      employer_name  \\\n0            2393                   Программный Продукт, ИТ-компания   \n1            2393                   Программный Продукт, ИТ-компания   \n2           72977                                          БАРС Груп   \n3            3155  Бест, Торгово-производственная компания, Екате...   \n4             675                                   КОРУС Консалтинг   \n...           ...                                                ...   \n40393     5481550                                            makeROI   \n40394       52951                                              КАМАЗ   \n40395     1349115                                     Главснабсервис   \n40396     5593245                                  Первый хлебозавод   \n40397      739489                                          Веб-Центр   \n\n      salary_from salary_to  ... Unnamed: 70 Unnamed: 71 Unnamed: 72  \\\n0             NaN       NaN  ...         NaN         NaN         NaN   \n1             NaN       NaN  ...         NaN         NaN         NaN   \n2           25000       NaN  ...         NaN         NaN         NaN   \n3           45000       NaN  ...         NaN         NaN         NaN   \n4             NaN       NaN  ...         NaN         NaN         NaN   \n...           ...       ...  ...         ...         ...         ...   \n40393       24000     48000  ...         NaN         NaN         NaN   \n40394       40000     45000  ...         NaN         NaN         NaN   \n40395       85000       NaN  ...         NaN         NaN         NaN   \n40396       53000     53000  ...         NaN         NaN         NaN   \n40397         NaN       NaN  ...         NaN         NaN         NaN   \n\n      Unnamed: 73 Unnamed: 74 spec_id_1 spec_id_2  \\\n0             NaN         NaN    1110.0    1272.0   \n1             NaN         NaN    1110.0    1272.0   \n2             NaN         NaN    1273.0    1082.0   \n3             NaN         NaN    1273.0    1420.0   \n4             NaN         NaN    1272.0    1025.0   \n...           ...         ...       ...       ...   \n40393         NaN         NaN    1050.0    1082.0   \n40394         NaN         NaN   29511.0   29162.0   \n40395         NaN         NaN    1025.0    3026.0   \n40396         NaN         NaN   25386.0    1082.0   \n40397         NaN         NaN    1327.0       NaN   \n\n                               spec_0                                  spec_1  \\\n0       Программирование, Разработка               Компьютерная безопасность    \n1       Программирование, Разработка               Компьютерная безопасность    \n2      Начальный уровень, Мало опыта                 Системный администратор    \n3          Компьютерная безопасность                 Системный администратор    \n4       Программирование, Разработка                    Системная интеграция    \n...                               ...                                     ...   \n40393   Программирование, Разработка   Системы управления предприятием (ERP)    \n40394                 Машиностроение                     Токарь, Фрезеровщик    \n40395                         Другое                                Аналитик    \n40396              Сервисный инженер    Инсталляция и настройка оборудования    \n40397      Информационные технологии                    Управление проектами    \n\n                          spec_2  \n0          Системная интеграция   \n1          Системная интеграция   \n2                       Инженер   \n3      Администратор баз данных   \n4                      Аналитик   \n...                          ...  \n40393                   Инженер   \n40394                  Наладчик   \n40395                  Аналитик   \n40396                   Инженер   \n40397                        NaN  \n\n[40398 rows x 40 columns]",
      "text/html": "<div>\n<style scoped>\n    .dataframe tbody tr th:only-of-type {\n        vertical-align: middle;\n    }\n\n    .dataframe tbody tr th {\n        vertical-align: top;\n    }\n\n    .dataframe thead th {\n        text-align: right;\n    }\n</style>\n<table border=\"1\" class=\"dataframe\">\n  <thead>\n    <tr style=\"text-align: right;\">\n      <th></th>\n      <th>id</th>\n      <th>name</th>\n      <th>spec_id_0</th>\n      <th>description</th>\n      <th>key_skills</th>\n      <th>experience_id</th>\n      <th>employer_id</th>\n      <th>employer_name</th>\n      <th>salary_from</th>\n      <th>salary_to</th>\n      <th>...</th>\n      <th>Unnamed: 70</th>\n      <th>Unnamed: 71</th>\n      <th>Unnamed: 72</th>\n      <th>Unnamed: 73</th>\n      <th>Unnamed: 74</th>\n      <th>spec_id_1</th>\n      <th>spec_id_2</th>\n      <th>spec_0</th>\n      <th>spec_1</th>\n      <th>spec_2</th>\n    </tr>\n  </thead>\n  <tbody>\n    <tr>\n      <th>0</th>\n      <td>42151148</td>\n      <td>Эксперт по тестированию на проникновение/Пенте...</td>\n      <td>1221.0</td>\n      <td>&lt;p&gt;Привет! Мы расширяем команду пентестеров. И...</td>\n      <td>NaN</td>\n      <td>between1And3</td>\n      <td>2393</td>\n      <td>Программный Продукт, ИТ-компания</td>\n      <td>NaN</td>\n      <td>NaN</td>\n      <td>...</td>\n      <td>NaN</td>\n      <td>NaN</td>\n      <td>NaN</td>\n      <td>NaN</td>\n      <td>NaN</td>\n      <td>1110.0</td>\n      <td>1272.0</td>\n      <td>Программирование, Разработка</td>\n      <td>Компьютерная безопасность</td>\n      <td>Системная интеграция</td>\n    </tr>\n    <tr>\n      <th>1</th>\n      <td>42151191</td>\n      <td>Эксперт по тестированию на проникновение/Пенте...</td>\n      <td>1221.0</td>\n      <td>&lt;p&gt;Привет! Мы расширяем команду пентестеров. И...</td>\n      <td>NaN</td>\n      <td>between1And3</td>\n      <td>2393</td>\n      <td>Программный Продукт, ИТ-компания</td>\n      <td>NaN</td>\n      <td>NaN</td>\n      <td>...</td>\n      <td>NaN</td>\n      <td>NaN</td>\n      <td>NaN</td>\n      <td>NaN</td>\n      <td>NaN</td>\n      <td>1110.0</td>\n      <td>1272.0</td>\n      <td>Программирование, Разработка</td>\n      <td>Компьютерная безопасность</td>\n      <td>Системная интеграция</td>\n    </tr>\n    <tr>\n      <th>2</th>\n      <td>42151224</td>\n      <td>Специалист технической поддержки (бухгалтерски...</td>\n      <td>1172.0</td>\n      <td>&lt;p&gt;Крупный российский разработчик информационн...</td>\n      <td>NaN</td>\n      <td>noExperience</td>\n      <td>72977</td>\n      <td>БАРС Груп</td>\n      <td>25000</td>\n      <td>NaN</td>\n      <td>...</td>\n      <td>NaN</td>\n      <td>NaN</td>\n      <td>NaN</td>\n      <td>NaN</td>\n      <td>NaN</td>\n      <td>1273.0</td>\n      <td>1082.0</td>\n      <td>Начальный уровень, Мало опыта</td>\n      <td>Системный администратор</td>\n      <td>Инженер</td>\n    </tr>\n    <tr>\n      <th>3</th>\n      <td>42152647</td>\n      <td>Оператор системы WMS</td>\n      <td>1110.0</td>\n      <td>&lt;p&gt;ГК «Бест», на рынке находится с 1992 года, ...</td>\n      <td>NaN</td>\n      <td>noExperience</td>\n      <td>3155</td>\n      <td>Бест, Торгово-производственная компания, Екате...</td>\n      <td>45000</td>\n      <td>NaN</td>\n      <td>...</td>\n      <td>NaN</td>\n      <td>NaN</td>\n      <td>NaN</td>\n      <td>NaN</td>\n      <td>NaN</td>\n      <td>1273.0</td>\n      <td>1420.0</td>\n      <td>Компьютерная безопасность</td>\n      <td>Системный администратор</td>\n      <td>Администратор баз данных</td>\n    </tr>\n    <tr>\n      <th>4</th>\n      <td>42153070</td>\n      <td>Системный аналитик (DWH/BI, DG/DQ)</td>\n      <td>1221.0</td>\n      <td>&lt;p&gt;&lt;strong&gt;КОРУС Консалтинг&lt;/strong&gt; – одна из...</td>\n      <td>SQL\\nMS Visio\\nРазработка технических заданий\\...</td>\n      <td>between3And6</td>\n      <td>675</td>\n      <td>КОРУС Консалтинг</td>\n      <td>NaN</td>\n      <td>NaN</td>\n      <td>...</td>\n      <td>NaN</td>\n      <td>NaN</td>\n      <td>NaN</td>\n      <td>NaN</td>\n      <td>NaN</td>\n      <td>1272.0</td>\n      <td>1025.0</td>\n      <td>Программирование, Разработка</td>\n      <td>Системная интеграция</td>\n      <td>Аналитик</td>\n    </tr>\n    <tr>\n      <th>...</th>\n      <td>...</td>\n      <td>...</td>\n      <td>...</td>\n      <td>...</td>\n      <td>...</td>\n      <td>...</td>\n      <td>...</td>\n      <td>...</td>\n      <td>...</td>\n      <td>...</td>\n      <td>...</td>\n      <td>...</td>\n      <td>...</td>\n      <td>...</td>\n      <td>...</td>\n      <td>...</td>\n      <td>...</td>\n      <td>...</td>\n      <td>...</td>\n      <td>...</td>\n      <td>...</td>\n    </tr>\n    <tr>\n      <th>40393</th>\n      <td>54155520</td>\n      <td>Junior Frontend Developer (JS, CSS, HTML)</td>\n      <td>1221.0</td>\n      <td>&lt;p&gt;&lt;strong&gt;Кто мы?&lt;/strong&gt;&lt;/p&gt; &lt;p&gt;Мы молодая ...</td>\n      <td>JavaScript\\nGit\\nAtlassian Jira\\nHTML\\nCSS</td>\n      <td>noExperience</td>\n      <td>5481550</td>\n      <td>makeROI</td>\n      <td>24000</td>\n      <td>48000</td>\n      <td>...</td>\n      <td>NaN</td>\n      <td>NaN</td>\n      <td>NaN</td>\n      <td>NaN</td>\n      <td>NaN</td>\n      <td>1050.0</td>\n      <td>1082.0</td>\n      <td>Программирование, Разработка</td>\n      <td>Системы управления предприятием (ERP)</td>\n      <td>Инженер</td>\n    </tr>\n    <tr>\n      <th>40394</th>\n      <td>54155562</td>\n      <td>Наладчик станков и манипуляторов с программным...</td>\n      <td>18142.0</td>\n      <td>&lt;p&gt;&lt;strong&gt;ГРУППА КОМПАНИЙ &amp;quot;КАМАЗ&amp;quot; -...</td>\n      <td>NaN</td>\n      <td>between1And3</td>\n      <td>52951</td>\n      <td>КАМАЗ</td>\n      <td>40000</td>\n      <td>45000</td>\n      <td>...</td>\n      <td>NaN</td>\n      <td>NaN</td>\n      <td>NaN</td>\n      <td>NaN</td>\n      <td>NaN</td>\n      <td>29511.0</td>\n      <td>29162.0</td>\n      <td>Машиностроение</td>\n      <td>Токарь, Фрезеровщик</td>\n      <td>Наладчик</td>\n    </tr>\n    <tr>\n      <th>40395</th>\n      <td>54155600</td>\n      <td>Специалист по планированию производства</td>\n      <td>17751.0</td>\n      <td>&lt;p&gt;&lt;strong&gt;Компания АО «Главснабсервис» являет...</td>\n      <td>Производственное планирование\\n1С: Производств...</td>\n      <td>between1And3</td>\n      <td>1349115</td>\n      <td>Главснабсервис</td>\n      <td>85000</td>\n      <td>NaN</td>\n      <td>...</td>\n      <td>NaN</td>\n      <td>NaN</td>\n      <td>NaN</td>\n      <td>NaN</td>\n      <td>NaN</td>\n      <td>1025.0</td>\n      <td>3026.0</td>\n      <td>Другое</td>\n      <td>Аналитик</td>\n      <td>Аналитик</td>\n    </tr>\n    <tr>\n      <th>40396</th>\n      <td>54155643</td>\n      <td>Главный механик</td>\n      <td>25381.0</td>\n      <td>&lt;p&gt; &lt;/p&gt; &lt;strong&gt;Требования:&lt;/strong&gt; &lt;ul&gt; &lt;li...</td>\n      <td>Управление персоналом\\nДеловое общение\\nMS Dos...</td>\n      <td>between3And6</td>\n      <td>5593245</td>\n      <td>Первый хлебозавод</td>\n      <td>53000</td>\n      <td>53000</td>\n      <td>...</td>\n      <td>NaN</td>\n      <td>NaN</td>\n      <td>NaN</td>\n      <td>NaN</td>\n      <td>NaN</td>\n      <td>25386.0</td>\n      <td>1082.0</td>\n      <td>Сервисный инженер</td>\n      <td>Инсталляция и настройка оборудования</td>\n      <td>Инженер</td>\n    </tr>\n    <tr>\n      <th>40397</th>\n      <td>54155670</td>\n      <td>Менеджер IT-проектов</td>\n      <td>12092.0</td>\n      <td>&lt;p&gt;&lt;strong&gt;Веб-Центр - &lt;/strong&gt;это IT-компани...</td>\n      <td>NaN</td>\n      <td>between1And3</td>\n      <td>739489</td>\n      <td>Веб-Центр</td>\n      <td>NaN</td>\n      <td>NaN</td>\n      <td>...</td>\n      <td>NaN</td>\n      <td>NaN</td>\n      <td>NaN</td>\n      <td>NaN</td>\n      <td>NaN</td>\n      <td>1327.0</td>\n      <td>NaN</td>\n      <td>Информационные технологии</td>\n      <td>Управление проектами</td>\n      <td>NaN</td>\n    </tr>\n  </tbody>\n</table>\n<p>40398 rows × 40 columns</p>\n</div>"
     },
     "metadata": {},
     "output_type": "display_data"
    },
    {
     "name": "stdout",
     "output_type": "stream",
     "text": [
      "hh_data_it_2021\n"
     ]
    },
    {
     "data": {
      "text/plain": "              id                                               name  \\\n0       39870033                       PHP Веб-разработчик Bitrix24   \n1       39870044                                Инженер-программист   \n2       39870105  Ведущий специалист (Отдел технического обслужи...   \n3       39870253                                    Разработчик ETL   \n4       39870287         PHP разработчик / PHP Developer (удаленно)   \n...          ...                                                ...   \n287910  50771532                Оператор службы поддержки водителей   \n287911  50771536  Trainee Business Analyst / Начинающий бизнес-а...   \n287912  50771547  Инженер по эксплуатации систем ( Глогасс, Тахо...   \n287913  50771612     Ассистент менеджера по работе с маркетплейсами   \n287914  50774154                                SQL (ETL) Developer   \n\n        spec_id_0                                        description  \\\n0            1221  <p><strong>Факт </strong>- лидер рынка веб-инт...   \n1            1221  <strong>Обязанности:</strong> <ul> <li>Выполне...   \n2            1395  <strong>Обязанности:</strong> <ul> <li>Монитор...   \n3            1395  <p>Компания «Сбербанк», блок Технологии, сейча...   \n4            1221  <p>С 2005 года наша команда занимается цифрово...   \n...           ...                                                ...   \n287910       1172  <p><strong>В известную службу такси требуется ...   \n287911      15093  <p><strong>Tapston</strong> (Tapston Developme...   \n287912       7267  <strong>Обязанности:</strong> <ul> <li>Поддерж...   \n287913       1359  <p><strong>Обязанности: </strong></p> <ul> <li...   \n287914       1221  <p><em><strong>О проекте:</strong></em></p> <p...   \n\n                                               key_skills experience_id  \\\n0       PHP\\nBackend\\nWEB\\nБитрикс24\\nБитрикс\\nBitrix ...  between1And3   \n1       1С: Предприятие 8\\nПользователь ПК\\nУмение раб...  between1And3   \n2        Сборка ПК\\nРемонт ПК\\nНастройка ПК\\nНастройка ПО  between1And3   \n3                                                     NaN  between1And3   \n4            Git\\nHTML\\nCSS\\nPHP\\nMySQL\\nAjax\\nJavaScript  between1And3   \n...                                                   ...           ...   \n287910  Грамотная речь\\nДеловое общение\\nКлиентоориент...  noExperience   \n287911  Английский язык\\nAtlassian Jira\\nAtlassian Con...  noExperience   \n287912  Настройка ПК\\nНастройка ПО\\nТехническая поддер...  noExperience   \n287913  Пользователь ПК\\nЭлектронный документооборот\\n...  between1And3   \n287914  SQL\\nJava\\nTeradata\\nУправление проектами\\nАнг...  between3And6   \n\n        employer_id                         employer_name  salary_from  \\\n0          939762.0                                  Факт     100000.0   \n1         4653343.0                               Контакт      20000.0   \n2            3388.0  «Газпромбанк» (Акционерное общество)          NaN   \n3            3529.0                              Сбербанк          NaN   \n4          570957.0                   Simtech Development     120000.0   \n...             ...                                   ...          ...   \n287910    3634424.0              Ростелеком Контакт-центр      25000.0   \n287911    3116933.0                   Тэпстон Девелопмент          NaN   \n287912    3813756.0                            Автобус 62      45000.0   \n287913         41.0                                 ЮНЭКТ      48000.0   \n287914    1156409.0                           Сервис Деск          NaN   \n\n        salary_to salary_currency  area_id   area_name  \\\n0             NaN             RUR       70    Оренбург   \n1         25000.0             RUR       61  Йошкар-Ола   \n2             NaN             NaN       77      Рязань   \n3             NaN             NaN        1      Москва   \n4             NaN             RUR       79     Саратов   \n...           ...             ...      ...         ...   \n287910        NaN             RUR      107   Чебоксары   \n287911        NaN             NaN     1002       Минск   \n287912    50000.0             RUR       77      Рязань   \n287913        NaN             RUR        1      Москва   \n287914        NaN             NaN     1002       Минск   \n\n                    published_at  spec_id_1  spec_id_2  \\\n0      2021-01-18 09:39:51+03:00        NaN        NaN   \n1      2021-01-16 10:39:23+03:00     1082.0        NaN   \n2      2021-01-12 09:55:42+03:00     5192.0        NaN   \n3      2021-01-15 16:40:06+03:00     1221.0     1270.0   \n4      2021-01-13 12:11:37+03:00     1359.0        NaN   \n...                          ...        ...        ...   \n287910 2021-12-30 18:00:57+03:00     1089.0    12180.0   \n287911 2021-12-30 18:01:42+03:00     1221.0     1272.0   \n287912 2021-12-30 18:05:05+03:00     7733.0    21017.0   \n287913 2021-12-30 18:14:05+03:00        NaN        NaN   \n287914 2021-12-31 13:35:34+03:00     1082.0        NaN   \n\n                                                   spec_0  \\\n0                           Программирование, Разработка    \n1                           Программирование, Разработка    \n2                                          Банковское ПО    \n3                                          Банковское ПО    \n4                           Программирование, Разработка    \n...                                                   ...   \n287910                     Начальный уровень, Мало опыта    \n287911  Информационные технологии, Интернет, Мультимедиа    \n287912                            Сервисное обслуживание    \n287913                             Электронная коммерция    \n287914                      Программирование, Разработка    \n\n                               spec_1                          spec_2  \n0                                 NaN                             NaN  \n1                            Инженер                              NaN  \n2         Обменные пункты, Банкоматы                              NaN  \n3       Программирование, Разработка              Сетевые технологии   \n4              Электронная коммерция                              NaN  \n...                               ...                             ...  \n287910                      Интернет   Начальный уровень, Мало опыта   \n287911  Программирование, Разработка            Системная интеграция   \n287912                        Другое                   Автоперевозки   \n287913                            NaN                             NaN  \n287914                       Инженер                              NaN  \n\n[287915 rows x 19 columns]",
      "text/html": "<div>\n<style scoped>\n    .dataframe tbody tr th:only-of-type {\n        vertical-align: middle;\n    }\n\n    .dataframe tbody tr th {\n        vertical-align: top;\n    }\n\n    .dataframe thead th {\n        text-align: right;\n    }\n</style>\n<table border=\"1\" class=\"dataframe\">\n  <thead>\n    <tr style=\"text-align: right;\">\n      <th></th>\n      <th>id</th>\n      <th>name</th>\n      <th>spec_id_0</th>\n      <th>description</th>\n      <th>key_skills</th>\n      <th>experience_id</th>\n      <th>employer_id</th>\n      <th>employer_name</th>\n      <th>salary_from</th>\n      <th>salary_to</th>\n      <th>salary_currency</th>\n      <th>area_id</th>\n      <th>area_name</th>\n      <th>published_at</th>\n      <th>spec_id_1</th>\n      <th>spec_id_2</th>\n      <th>spec_0</th>\n      <th>spec_1</th>\n      <th>spec_2</th>\n    </tr>\n  </thead>\n  <tbody>\n    <tr>\n      <th>0</th>\n      <td>39870033</td>\n      <td>PHP Веб-разработчик Bitrix24</td>\n      <td>1221</td>\n      <td>&lt;p&gt;&lt;strong&gt;Факт &lt;/strong&gt;- лидер рынка веб-инт...</td>\n      <td>PHP\\nBackend\\nWEB\\nБитрикс24\\nБитрикс\\nBitrix ...</td>\n      <td>between1And3</td>\n      <td>939762.0</td>\n      <td>Факт</td>\n      <td>100000.0</td>\n      <td>NaN</td>\n      <td>RUR</td>\n      <td>70</td>\n      <td>Оренбург</td>\n      <td>2021-01-18 09:39:51+03:00</td>\n      <td>NaN</td>\n      <td>NaN</td>\n      <td>Программирование, Разработка</td>\n      <td>NaN</td>\n      <td>NaN</td>\n    </tr>\n    <tr>\n      <th>1</th>\n      <td>39870044</td>\n      <td>Инженер-программист</td>\n      <td>1221</td>\n      <td>&lt;strong&gt;Обязанности:&lt;/strong&gt; &lt;ul&gt; &lt;li&gt;Выполне...</td>\n      <td>1С: Предприятие 8\\nПользователь ПК\\nУмение раб...</td>\n      <td>between1And3</td>\n      <td>4653343.0</td>\n      <td>Контакт</td>\n      <td>20000.0</td>\n      <td>25000.0</td>\n      <td>RUR</td>\n      <td>61</td>\n      <td>Йошкар-Ола</td>\n      <td>2021-01-16 10:39:23+03:00</td>\n      <td>1082.0</td>\n      <td>NaN</td>\n      <td>Программирование, Разработка</td>\n      <td>Инженер</td>\n      <td>NaN</td>\n    </tr>\n    <tr>\n      <th>2</th>\n      <td>39870105</td>\n      <td>Ведущий специалист (Отдел технического обслужи...</td>\n      <td>1395</td>\n      <td>&lt;strong&gt;Обязанности:&lt;/strong&gt; &lt;ul&gt; &lt;li&gt;Монитор...</td>\n      <td>Сборка ПК\\nРемонт ПК\\nНастройка ПК\\nНастройка ПО</td>\n      <td>between1And3</td>\n      <td>3388.0</td>\n      <td>«Газпромбанк» (Акционерное общество)</td>\n      <td>NaN</td>\n      <td>NaN</td>\n      <td>NaN</td>\n      <td>77</td>\n      <td>Рязань</td>\n      <td>2021-01-12 09:55:42+03:00</td>\n      <td>5192.0</td>\n      <td>NaN</td>\n      <td>Банковское ПО</td>\n      <td>Обменные пункты, Банкоматы</td>\n      <td>NaN</td>\n    </tr>\n    <tr>\n      <th>3</th>\n      <td>39870253</td>\n      <td>Разработчик ETL</td>\n      <td>1395</td>\n      <td>&lt;p&gt;Компания «Сбербанк», блок Технологии, сейча...</td>\n      <td>NaN</td>\n      <td>between1And3</td>\n      <td>3529.0</td>\n      <td>Сбербанк</td>\n      <td>NaN</td>\n      <td>NaN</td>\n      <td>NaN</td>\n      <td>1</td>\n      <td>Москва</td>\n      <td>2021-01-15 16:40:06+03:00</td>\n      <td>1221.0</td>\n      <td>1270.0</td>\n      <td>Банковское ПО</td>\n      <td>Программирование, Разработка</td>\n      <td>Сетевые технологии</td>\n    </tr>\n    <tr>\n      <th>4</th>\n      <td>39870287</td>\n      <td>PHP разработчик / PHP Developer (удаленно)</td>\n      <td>1221</td>\n      <td>&lt;p&gt;С 2005 года наша команда занимается цифрово...</td>\n      <td>Git\\nHTML\\nCSS\\nPHP\\nMySQL\\nAjax\\nJavaScript</td>\n      <td>between1And3</td>\n      <td>570957.0</td>\n      <td>Simtech Development</td>\n      <td>120000.0</td>\n      <td>NaN</td>\n      <td>RUR</td>\n      <td>79</td>\n      <td>Саратов</td>\n      <td>2021-01-13 12:11:37+03:00</td>\n      <td>1359.0</td>\n      <td>NaN</td>\n      <td>Программирование, Разработка</td>\n      <td>Электронная коммерция</td>\n      <td>NaN</td>\n    </tr>\n    <tr>\n      <th>...</th>\n      <td>...</td>\n      <td>...</td>\n      <td>...</td>\n      <td>...</td>\n      <td>...</td>\n      <td>...</td>\n      <td>...</td>\n      <td>...</td>\n      <td>...</td>\n      <td>...</td>\n      <td>...</td>\n      <td>...</td>\n      <td>...</td>\n      <td>...</td>\n      <td>...</td>\n      <td>...</td>\n      <td>...</td>\n      <td>...</td>\n      <td>...</td>\n    </tr>\n    <tr>\n      <th>287910</th>\n      <td>50771532</td>\n      <td>Оператор службы поддержки водителей</td>\n      <td>1172</td>\n      <td>&lt;p&gt;&lt;strong&gt;В известную службу такси требуется ...</td>\n      <td>Грамотная речь\\nДеловое общение\\nКлиентоориент...</td>\n      <td>noExperience</td>\n      <td>3634424.0</td>\n      <td>Ростелеком Контакт-центр</td>\n      <td>25000.0</td>\n      <td>NaN</td>\n      <td>RUR</td>\n      <td>107</td>\n      <td>Чебоксары</td>\n      <td>2021-12-30 18:00:57+03:00</td>\n      <td>1089.0</td>\n      <td>12180.0</td>\n      <td>Начальный уровень, Мало опыта</td>\n      <td>Интернет</td>\n      <td>Начальный уровень, Мало опыта</td>\n    </tr>\n    <tr>\n      <th>287911</th>\n      <td>50771536</td>\n      <td>Trainee Business Analyst / Начинающий бизнес-а...</td>\n      <td>15093</td>\n      <td>&lt;p&gt;&lt;strong&gt;Tapston&lt;/strong&gt; (Tapston Developme...</td>\n      <td>Английский язык\\nAtlassian Jira\\nAtlassian Con...</td>\n      <td>noExperience</td>\n      <td>3116933.0</td>\n      <td>Тэпстон Девелопмент</td>\n      <td>NaN</td>\n      <td>NaN</td>\n      <td>NaN</td>\n      <td>1002</td>\n      <td>Минск</td>\n      <td>2021-12-30 18:01:42+03:00</td>\n      <td>1221.0</td>\n      <td>1272.0</td>\n      <td>Информационные технологии, Интернет, Мультимедиа</td>\n      <td>Программирование, Разработка</td>\n      <td>Системная интеграция</td>\n    </tr>\n    <tr>\n      <th>287912</th>\n      <td>50771547</td>\n      <td>Инженер по эксплуатации систем ( Глогасс, Тахо...</td>\n      <td>7267</td>\n      <td>&lt;strong&gt;Обязанности:&lt;/strong&gt; &lt;ul&gt; &lt;li&gt;Поддерж...</td>\n      <td>Настройка ПК\\nНастройка ПО\\nТехническая поддер...</td>\n      <td>noExperience</td>\n      <td>3813756.0</td>\n      <td>Автобус 62</td>\n      <td>45000.0</td>\n      <td>50000.0</td>\n      <td>RUR</td>\n      <td>77</td>\n      <td>Рязань</td>\n      <td>2021-12-30 18:05:05+03:00</td>\n      <td>7733.0</td>\n      <td>21017.0</td>\n      <td>Сервисное обслуживание</td>\n      <td>Другое</td>\n      <td>Автоперевозки</td>\n    </tr>\n    <tr>\n      <th>287913</th>\n      <td>50771612</td>\n      <td>Ассистент менеджера по работе с маркетплейсами</td>\n      <td>1359</td>\n      <td>&lt;p&gt;&lt;strong&gt;Обязанности: &lt;/strong&gt;&lt;/p&gt; &lt;ul&gt; &lt;li...</td>\n      <td>Пользователь ПК\\nЭлектронный документооборот\\n...</td>\n      <td>between1And3</td>\n      <td>41.0</td>\n      <td>ЮНЭКТ</td>\n      <td>48000.0</td>\n      <td>NaN</td>\n      <td>RUR</td>\n      <td>1</td>\n      <td>Москва</td>\n      <td>2021-12-30 18:14:05+03:00</td>\n      <td>NaN</td>\n      <td>NaN</td>\n      <td>Электронная коммерция</td>\n      <td>NaN</td>\n      <td>NaN</td>\n    </tr>\n    <tr>\n      <th>287914</th>\n      <td>50774154</td>\n      <td>SQL (ETL) Developer</td>\n      <td>1221</td>\n      <td>&lt;p&gt;&lt;em&gt;&lt;strong&gt;О проекте:&lt;/strong&gt;&lt;/em&gt;&lt;/p&gt; &lt;p...</td>\n      <td>SQL\\nJava\\nTeradata\\nУправление проектами\\nАнг...</td>\n      <td>between3And6</td>\n      <td>1156409.0</td>\n      <td>Сервис Деск</td>\n      <td>NaN</td>\n      <td>NaN</td>\n      <td>NaN</td>\n      <td>1002</td>\n      <td>Минск</td>\n      <td>2021-12-31 13:35:34+03:00</td>\n      <td>1082.0</td>\n      <td>NaN</td>\n      <td>Программирование, Разработка</td>\n      <td>Инженер</td>\n      <td>NaN</td>\n    </tr>\n  </tbody>\n</table>\n<p>287915 rows × 19 columns</p>\n</div>"
     },
     "metadata": {},
     "output_type": "display_data"
    },
    {
     "name": "stdout",
     "output_type": "stream",
     "text": [
      "hh_data_it_2020\n"
     ]
    },
    {
     "data": {
      "text/plain": "              id                                               name  \\\n0       30711158                                     Тестировщик QA   \n1       30711538                                    PHP-разработчик   \n2       30713109                               Оператор саll-центра   \n3       30714567  Продавец - Консультант офиса продаж и обслужив...   \n4       30716168                            Технический консультант   \n...          ...                                                ...   \n587632  29701878              Senior Data Scientist (Академгородок)   \n587633  29703872                               Менеджер по продажам   \n587634  29704859                             Ведущий программист 1С   \n587635  29707339                            Marketing Product Owner   \n587636  29707473                              Middle ABAP Developer   \n\n        spec_id_0                                        description  \\\n0            1117  <p><strong>О Компании</strong></p> <p>Мы помог...   \n1            1221  <p><strong>Vigrom</strong> сегодня – междунаро...   \n2            4278  <p>Каждый день миллионы пользователей находят ...   \n3           17269  <p><strong>В твоих руках - отличная возможност...   \n4            1221  <p><strong>Компания «Северсталь-Инфоком» - цен...   \n...           ...                                                ...   \n587632       1395  <p><strong>LС Group </strong>– продуктовая IT-...   \n587633       1225  <p><em>Мы помогаем владельцам малого и среднег...   \n587634       1221  <p>Компания PricewaterhouseCoopers (PwC) реали...   \n587635       1327  <p><strong>Grow Food готовит и доставляет здор...   \n587636       1221  <p><strong>Ключевые функции и обязанности:</st...   \n\n                                               key_skills experience_id  \\\n0                                                     NaN  between1And3   \n1       PHP\\nSQL\\nООП\\nPostgreSQL\\nMemcached\\nSymfony\\...  between1And3   \n2                                                     NaN  noExperience   \n3                                                     NaN  noExperience   \n4       Bash\\nPowerShell\\nC++\\nC#\\nJava\\nPerl\\nPython\\...  between1And3   \n...                                                   ...           ...   \n587632                                                NaN  between3And6   \n587633                                                NaN  noExperience   \n587634  1C: Бухгалтерия\\n1С: Предприятие 8\\n1С: Управл...     moreThan6   \n587635                                                NaN  between3And6   \n587636                                               ABAP  between3And6   \n\n        employer_id         employer_name  salary_from  salary_to  \\\n0         3034828.0      Смарт консалтинг          NaN        NaN   \n1         1110684.0          Vigrom Corp.          NaN        NaN   \n2            1740.0                Яндекс          NaN        NaN   \n3         1217313.0        МегаФон Ритейл      23000.0    29000.0   \n4            6041.0    Северсталь, Москва          NaN        NaN   \n...             ...                   ...          ...        ...   \n587632    2994882.0            ЭЛСИ ГРУПП          NaN        NaN   \n587633      59436.0               ТаксНет      40000.0        NaN   \n587634       1201.0                   PwC          NaN        NaN   \n587635    2104558.0              GrowFood          NaN        NaN   \n587636     759873.0  LeverX International          NaN        NaN   \n\n       salary_currency  area_id        area_name              published_at  \\\n0                  NaN        4      Новосибирск 2020-10-12 05:18:46+03:00   \n1                  NaN       71            Пенза 2020-01-28 10:52:44+03:00   \n2                  NaN        2  Санкт-Петербург 2020-03-21 10:07:10+03:00   \n3                  RUR     1395          Копейск 2020-01-13 12:38:10+03:00   \n4                  NaN     1753        Череповец 2020-01-23 17:59:56+03:00   \n...                ...      ...              ...                       ...   \n587632             NaN        4      Новосибирск 2020-03-12 07:44:15+03:00   \n587633             RUR       88           Казань 2020-03-27 13:24:22+03:00   \n587634             NaN       88           Казань 2020-01-13 11:48:07+03:00   \n587635             NaN        2  Санкт-Петербург 2020-01-06 11:14:00+03:00   \n587636             NaN     1002            Минск 2020-10-02 12:27:34+03:00   \n\n        spec_id_1  spec_id_2                              spec_0  \\\n0             NaN        NaN                       Тестирование    \n1          1009.0     1010.0       Программирование, Разработка    \n2          1295.0        NaN              Сотрудник call-центра    \n3         17623.0    17242.0  Телекоммуникации, Сетевые решения    \n4          1050.0        NaN       Программирование, Разработка    \n...           ...        ...                                 ...   \n587632     1221.0     1327.0                      Банковское ПО    \n587633    17183.0    17538.0                            Продажи    \n587634     1272.0     1113.0       Программирование, Разработка    \n587635        NaN        NaN               Управление проектами    \n587636        NaN        NaN       Программирование, Разработка    \n\n                                        spec_1  \\\n0                                          NaN   \n1                                 Web инженер    \n2                            Телекоммуникации    \n3                           Финансовые услуги    \n4       Системы управления предприятием (ERP)    \n...                                        ...   \n587632           Программирование, Разработка    \n587633          Начальный уровень, Мало опыта    \n587634                   Системная интеграция    \n587635                                     NaN   \n587636                                     NaN   \n\n                                     spec_2  \n0                                       NaN  \n1                               Web мастер   \n2                                       NaN  \n3                           Прямые продажи   \n4                                       NaN  \n...                                     ...  \n587632                Управление проектами   \n587633  Продажи по телефону, Телемаркетинг   \n587634              Консалтинг, Аутсорсинг   \n587635                                  NaN  \n587636                                  NaN  \n\n[587637 rows x 19 columns]",
      "text/html": "<div>\n<style scoped>\n    .dataframe tbody tr th:only-of-type {\n        vertical-align: middle;\n    }\n\n    .dataframe tbody tr th {\n        vertical-align: top;\n    }\n\n    .dataframe thead th {\n        text-align: right;\n    }\n</style>\n<table border=\"1\" class=\"dataframe\">\n  <thead>\n    <tr style=\"text-align: right;\">\n      <th></th>\n      <th>id</th>\n      <th>name</th>\n      <th>spec_id_0</th>\n      <th>description</th>\n      <th>key_skills</th>\n      <th>experience_id</th>\n      <th>employer_id</th>\n      <th>employer_name</th>\n      <th>salary_from</th>\n      <th>salary_to</th>\n      <th>salary_currency</th>\n      <th>area_id</th>\n      <th>area_name</th>\n      <th>published_at</th>\n      <th>spec_id_1</th>\n      <th>spec_id_2</th>\n      <th>spec_0</th>\n      <th>spec_1</th>\n      <th>spec_2</th>\n    </tr>\n  </thead>\n  <tbody>\n    <tr>\n      <th>0</th>\n      <td>30711158</td>\n      <td>Тестировщик QA</td>\n      <td>1117</td>\n      <td>&lt;p&gt;&lt;strong&gt;О Компании&lt;/strong&gt;&lt;/p&gt; &lt;p&gt;Мы помог...</td>\n      <td>NaN</td>\n      <td>between1And3</td>\n      <td>3034828.0</td>\n      <td>Смарт консалтинг</td>\n      <td>NaN</td>\n      <td>NaN</td>\n      <td>NaN</td>\n      <td>4</td>\n      <td>Новосибирск</td>\n      <td>2020-10-12 05:18:46+03:00</td>\n      <td>NaN</td>\n      <td>NaN</td>\n      <td>Тестирование</td>\n      <td>NaN</td>\n      <td>NaN</td>\n    </tr>\n    <tr>\n      <th>1</th>\n      <td>30711538</td>\n      <td>PHP-разработчик</td>\n      <td>1221</td>\n      <td>&lt;p&gt;&lt;strong&gt;Vigrom&lt;/strong&gt; сегодня – междунаро...</td>\n      <td>PHP\\nSQL\\nООП\\nPostgreSQL\\nMemcached\\nSymfony\\...</td>\n      <td>between1And3</td>\n      <td>1110684.0</td>\n      <td>Vigrom Corp.</td>\n      <td>NaN</td>\n      <td>NaN</td>\n      <td>NaN</td>\n      <td>71</td>\n      <td>Пенза</td>\n      <td>2020-01-28 10:52:44+03:00</td>\n      <td>1009.0</td>\n      <td>1010.0</td>\n      <td>Программирование, Разработка</td>\n      <td>Web инженер</td>\n      <td>Web мастер</td>\n    </tr>\n    <tr>\n      <th>2</th>\n      <td>30713109</td>\n      <td>Оператор саll-центра</td>\n      <td>4278</td>\n      <td>&lt;p&gt;Каждый день миллионы пользователей находят ...</td>\n      <td>NaN</td>\n      <td>noExperience</td>\n      <td>1740.0</td>\n      <td>Яндекс</td>\n      <td>NaN</td>\n      <td>NaN</td>\n      <td>NaN</td>\n      <td>2</td>\n      <td>Санкт-Петербург</td>\n      <td>2020-03-21 10:07:10+03:00</td>\n      <td>1295.0</td>\n      <td>NaN</td>\n      <td>Сотрудник call-центра</td>\n      <td>Телекоммуникации</td>\n      <td>NaN</td>\n    </tr>\n    <tr>\n      <th>3</th>\n      <td>30714567</td>\n      <td>Продавец - Консультант офиса продаж и обслужив...</td>\n      <td>17269</td>\n      <td>&lt;p&gt;&lt;strong&gt;В твоих руках - отличная возможност...</td>\n      <td>NaN</td>\n      <td>noExperience</td>\n      <td>1217313.0</td>\n      <td>МегаФон Ритейл</td>\n      <td>23000.0</td>\n      <td>29000.0</td>\n      <td>RUR</td>\n      <td>1395</td>\n      <td>Копейск</td>\n      <td>2020-01-13 12:38:10+03:00</td>\n      <td>17623.0</td>\n      <td>17242.0</td>\n      <td>Телекоммуникации, Сетевые решения</td>\n      <td>Финансовые услуги</td>\n      <td>Прямые продажи</td>\n    </tr>\n    <tr>\n      <th>4</th>\n      <td>30716168</td>\n      <td>Технический консультант</td>\n      <td>1221</td>\n      <td>&lt;p&gt;&lt;strong&gt;Компания «Северсталь-Инфоком» - цен...</td>\n      <td>Bash\\nPowerShell\\nC++\\nC#\\nJava\\nPerl\\nPython\\...</td>\n      <td>between1And3</td>\n      <td>6041.0</td>\n      <td>Северсталь, Москва</td>\n      <td>NaN</td>\n      <td>NaN</td>\n      <td>NaN</td>\n      <td>1753</td>\n      <td>Череповец</td>\n      <td>2020-01-23 17:59:56+03:00</td>\n      <td>1050.0</td>\n      <td>NaN</td>\n      <td>Программирование, Разработка</td>\n      <td>Системы управления предприятием (ERP)</td>\n      <td>NaN</td>\n    </tr>\n    <tr>\n      <th>...</th>\n      <td>...</td>\n      <td>...</td>\n      <td>...</td>\n      <td>...</td>\n      <td>...</td>\n      <td>...</td>\n      <td>...</td>\n      <td>...</td>\n      <td>...</td>\n      <td>...</td>\n      <td>...</td>\n      <td>...</td>\n      <td>...</td>\n      <td>...</td>\n      <td>...</td>\n      <td>...</td>\n      <td>...</td>\n      <td>...</td>\n      <td>...</td>\n    </tr>\n    <tr>\n      <th>587632</th>\n      <td>29701878</td>\n      <td>Senior Data Scientist (Академгородок)</td>\n      <td>1395</td>\n      <td>&lt;p&gt;&lt;strong&gt;LС Group &lt;/strong&gt;– продуктовая IT-...</td>\n      <td>NaN</td>\n      <td>between3And6</td>\n      <td>2994882.0</td>\n      <td>ЭЛСИ ГРУПП</td>\n      <td>NaN</td>\n      <td>NaN</td>\n      <td>NaN</td>\n      <td>4</td>\n      <td>Новосибирск</td>\n      <td>2020-03-12 07:44:15+03:00</td>\n      <td>1221.0</td>\n      <td>1327.0</td>\n      <td>Банковское ПО</td>\n      <td>Программирование, Разработка</td>\n      <td>Управление проектами</td>\n    </tr>\n    <tr>\n      <th>587633</th>\n      <td>29703872</td>\n      <td>Менеджер по продажам</td>\n      <td>1225</td>\n      <td>&lt;p&gt;&lt;em&gt;Мы помогаем владельцам малого и среднег...</td>\n      <td>NaN</td>\n      <td>noExperience</td>\n      <td>59436.0</td>\n      <td>ТаксНет</td>\n      <td>40000.0</td>\n      <td>NaN</td>\n      <td>RUR</td>\n      <td>88</td>\n      <td>Казань</td>\n      <td>2020-03-27 13:24:22+03:00</td>\n      <td>17183.0</td>\n      <td>17538.0</td>\n      <td>Продажи</td>\n      <td>Начальный уровень, Мало опыта</td>\n      <td>Продажи по телефону, Телемаркетинг</td>\n    </tr>\n    <tr>\n      <th>587634</th>\n      <td>29704859</td>\n      <td>Ведущий программист 1С</td>\n      <td>1221</td>\n      <td>&lt;p&gt;Компания PricewaterhouseCoopers (PwC) реали...</td>\n      <td>1C: Бухгалтерия\\n1С: Предприятие 8\\n1С: Управл...</td>\n      <td>moreThan6</td>\n      <td>1201.0</td>\n      <td>PwC</td>\n      <td>NaN</td>\n      <td>NaN</td>\n      <td>NaN</td>\n      <td>88</td>\n      <td>Казань</td>\n      <td>2020-01-13 11:48:07+03:00</td>\n      <td>1272.0</td>\n      <td>1113.0</td>\n      <td>Программирование, Разработка</td>\n      <td>Системная интеграция</td>\n      <td>Консалтинг, Аутсорсинг</td>\n    </tr>\n    <tr>\n      <th>587635</th>\n      <td>29707339</td>\n      <td>Marketing Product Owner</td>\n      <td>1327</td>\n      <td>&lt;p&gt;&lt;strong&gt;Grow Food готовит и доставляет здор...</td>\n      <td>NaN</td>\n      <td>between3And6</td>\n      <td>2104558.0</td>\n      <td>GrowFood</td>\n      <td>NaN</td>\n      <td>NaN</td>\n      <td>NaN</td>\n      <td>2</td>\n      <td>Санкт-Петербург</td>\n      <td>2020-01-06 11:14:00+03:00</td>\n      <td>NaN</td>\n      <td>NaN</td>\n      <td>Управление проектами</td>\n      <td>NaN</td>\n      <td>NaN</td>\n    </tr>\n    <tr>\n      <th>587636</th>\n      <td>29707473</td>\n      <td>Middle ABAP Developer</td>\n      <td>1221</td>\n      <td>&lt;p&gt;&lt;strong&gt;Ключевые функции и обязанности:&lt;/st...</td>\n      <td>ABAP</td>\n      <td>between3And6</td>\n      <td>759873.0</td>\n      <td>LeverX International</td>\n      <td>NaN</td>\n      <td>NaN</td>\n      <td>NaN</td>\n      <td>1002</td>\n      <td>Минск</td>\n      <td>2020-10-02 12:27:34+03:00</td>\n      <td>NaN</td>\n      <td>NaN</td>\n      <td>Программирование, Разработка</td>\n      <td>NaN</td>\n      <td>NaN</td>\n    </tr>\n  </tbody>\n</table>\n<p>587637 rows × 19 columns</p>\n</div>"
     },
     "metadata": {},
     "output_type": "display_data"
    },
    {
     "name": "stdout",
     "output_type": "stream",
     "text": [
      "hh_data_it_2019\n"
     ]
    },
    {
     "data": {
      "text/plain": "              id                                               name  \\\n0       30710009                            Системный администратор   \n1       30710016  Менеджер по продаже проектов автоматизации САП...   \n2       30710022   Менеджер по продажам и обслуживанию в Сall-Центр   \n3       30710036                                 Senior разработчик   \n4       30710047                                 Разработчик Python   \n...          ...                                                ...   \n535951  29709954                           Менеджер по продажам b2b   \n535952  29709980  Менеджер продаж корпоративным клиентам (сущест...   \n535953  29709981                                         Инженер ИТ   \n535954  29709987                        Контент-менеджер в IT отдел   \n535955  29709989                          Android разработчик (SDK)   \n\n        spec_id_0                                        description  \\\n0            1270  <p>Системное администрирование и поддержка пол...   \n1           17112  <p><em>Представительство крупной российской IT...   \n2            1295  <p>Компания Барнаулгоргаз - крупнейшая компани...   \n3            1221  <p>Компания «Этажи» с 2000 года помогает выгод...   \n4            1221  <strong>Что мы ожидаем от вас:</strong> <ul> <...   \n...           ...                                                ...   \n535951      17269  <p><strong>Задачи должности:</strong></p> <ul>...   \n535952       1203  <p><strong>Обязанности:</strong></p> <ul> <li>...   \n535953       1273  <p><strong>Обязанности:</strong></p> <p>- Уста...   \n535954       1172  <p><strong>Обязанности:</strong></p> <ul> <li>...   \n535955       1221  <p>Компания ABBYY ищет <strong>Android разрабо...   \n\n                                               key_skills experience_id  \\\n0                                                     NaN  between1And3   \n1                                                     NaN  between1And3   \n2       Грамотная речь\\nРабота в команде\\nВедение пере...  noExperience   \n3                                                     NaN  between3And6   \n4                                                     NaN  between1And3   \n...                                                   ...           ...   \n535951                                                NaN  between1And3   \n535952  Привлечение клиентов\\nB2B Продажи\\nВедение пер...  between1And3   \n535953                                                NaN     moreThan6   \n535954                                                NaN  between1And3   \n535955                             C++\\nAndroid SDK\\nJava  between1And3   \n\n        employer_id                employer_name  salary_from  salary_to  \\\n0          140043.0                        Kramp          NaN        NaN   \n1           41144.0                        АСКОН      35000.0        NaN   \n2         2651392.0                Барнаулгоргаз      20000.0    57000.0   \n3          669587.0  Этажи, федеральная компания      75000.0        NaN   \n4           33305.0                     СКБ-Банк          NaN        NaN   \n...             ...                          ...          ...        ...   \n535951     608106.0                  МегаКом, ГК      35000.0        NaN   \n535952     608106.0                  МегаКом, ГК      40000.0        NaN   \n535953    1443514.0                 Бауцентр Рус      56000.0    70000.0   \n535954       4303.0              СиСофт, (CSoft)          NaN    50000.0   \n535955        301.0                        ABBYY          NaN        NaN   \n\n       salary_currency  area_id                     area_name  \\\n0                  NaN     2078                         Чехов   \n1                  RUR        4                   Новосибирск   \n2                  RUR       11                       Барнаул   \n3                  RUR       95                        Тюмень   \n4                  NaN        3                  Екатеринбург   \n...                ...      ...                           ...   \n535951             RUR        4                   Новосибирск   \n535952             RUR        4                   Новосибирск   \n535953             RUR     2062  Пушкино (Московская область)   \n535954             RUR        1                        Москва   \n535955             NaN        1                        Москва   \n\n                    published_at  spec_id_1  spec_id_2  \\\n0      2019-03-25 07:22:32+03:00     1273.0     1089.0   \n1      2019-06-14 06:57:56+03:00    17149.0    18081.0   \n2      2019-03-25 07:23:53+03:00        NaN        NaN   \n3      2019-03-25 07:25:45+03:00     1327.0     1536.0   \n4      2019-03-25 07:26:29+03:00        NaN        NaN   \n...                          ...        ...        ...   \n535951 2019-01-17 13:36:52+03:00    17149.0    17538.0   \n535952 2019-01-17 13:37:24+03:00     1270.0     1295.0   \n535953 2019-01-23 09:35:51+03:00     1082.0        NaN   \n535954 2019-03-13 11:57:03+03:00     1270.0     1272.0   \n535955 2019-03-06 12:52:49+03:00        NaN        NaN   \n\n                                      spec_0                           spec_1  \\\n0                        Сетевые технологии          Системный администратор    \n1                    Компьютерные программы   Менеджер по работе с клиентами    \n2                          Телекоммуникации                               NaN   \n3              Программирование, Разработка             Управление проектами    \n4              Программирование, Разработка                               NaN   \n...                                      ...                              ...   \n535951    Телекоммуникации, Сетевые решения   Менеджер по работе с клиентами    \n535952  Передача данных и доступ в интернет               Сетевые технологии    \n535953              Системный администратор                          Инженер    \n535954        Начальный уровень, Мало опыта               Сетевые технологии    \n535955         Программирование, Разработка                               NaN   \n\n                                     spec_2  \n0                                 Интернет   \n1                                  Инженер   \n2                                       NaN  \n3                              CRM системы   \n4                                       NaN  \n...                                     ...  \n535951  Продажи по телефону, Телемаркетинг   \n535952                    Телекоммуникации   \n535953                                  NaN  \n535954                Системная интеграция   \n535955                                  NaN  \n\n[535956 rows x 19 columns]",
      "text/html": "<div>\n<style scoped>\n    .dataframe tbody tr th:only-of-type {\n        vertical-align: middle;\n    }\n\n    .dataframe tbody tr th {\n        vertical-align: top;\n    }\n\n    .dataframe thead th {\n        text-align: right;\n    }\n</style>\n<table border=\"1\" class=\"dataframe\">\n  <thead>\n    <tr style=\"text-align: right;\">\n      <th></th>\n      <th>id</th>\n      <th>name</th>\n      <th>spec_id_0</th>\n      <th>description</th>\n      <th>key_skills</th>\n      <th>experience_id</th>\n      <th>employer_id</th>\n      <th>employer_name</th>\n      <th>salary_from</th>\n      <th>salary_to</th>\n      <th>salary_currency</th>\n      <th>area_id</th>\n      <th>area_name</th>\n      <th>published_at</th>\n      <th>spec_id_1</th>\n      <th>spec_id_2</th>\n      <th>spec_0</th>\n      <th>spec_1</th>\n      <th>spec_2</th>\n    </tr>\n  </thead>\n  <tbody>\n    <tr>\n      <th>0</th>\n      <td>30710009</td>\n      <td>Системный администратор</td>\n      <td>1270</td>\n      <td>&lt;p&gt;Системное администрирование и поддержка пол...</td>\n      <td>NaN</td>\n      <td>between1And3</td>\n      <td>140043.0</td>\n      <td>Kramp</td>\n      <td>NaN</td>\n      <td>NaN</td>\n      <td>NaN</td>\n      <td>2078</td>\n      <td>Чехов</td>\n      <td>2019-03-25 07:22:32+03:00</td>\n      <td>1273.0</td>\n      <td>1089.0</td>\n      <td>Сетевые технологии</td>\n      <td>Системный администратор</td>\n      <td>Интернет</td>\n    </tr>\n    <tr>\n      <th>1</th>\n      <td>30710016</td>\n      <td>Менеджер по продаже проектов автоматизации САП...</td>\n      <td>17112</td>\n      <td>&lt;p&gt;&lt;em&gt;Представительство крупной российской IT...</td>\n      <td>NaN</td>\n      <td>between1And3</td>\n      <td>41144.0</td>\n      <td>АСКОН</td>\n      <td>35000.0</td>\n      <td>NaN</td>\n      <td>RUR</td>\n      <td>4</td>\n      <td>Новосибирск</td>\n      <td>2019-06-14 06:57:56+03:00</td>\n      <td>17149.0</td>\n      <td>18081.0</td>\n      <td>Компьютерные программы</td>\n      <td>Менеджер по работе с клиентами</td>\n      <td>Инженер</td>\n    </tr>\n    <tr>\n      <th>2</th>\n      <td>30710022</td>\n      <td>Менеджер по продажам и обслуживанию в Сall-Центр</td>\n      <td>1295</td>\n      <td>&lt;p&gt;Компания Барнаулгоргаз - крупнейшая компани...</td>\n      <td>Грамотная речь\\nРабота в команде\\nВедение пере...</td>\n      <td>noExperience</td>\n      <td>2651392.0</td>\n      <td>Барнаулгоргаз</td>\n      <td>20000.0</td>\n      <td>57000.0</td>\n      <td>RUR</td>\n      <td>11</td>\n      <td>Барнаул</td>\n      <td>2019-03-25 07:23:53+03:00</td>\n      <td>NaN</td>\n      <td>NaN</td>\n      <td>Телекоммуникации</td>\n      <td>NaN</td>\n      <td>NaN</td>\n    </tr>\n    <tr>\n      <th>3</th>\n      <td>30710036</td>\n      <td>Senior разработчик</td>\n      <td>1221</td>\n      <td>&lt;p&gt;Компания «Этажи» с 2000 года помогает выгод...</td>\n      <td>NaN</td>\n      <td>between3And6</td>\n      <td>669587.0</td>\n      <td>Этажи, федеральная компания</td>\n      <td>75000.0</td>\n      <td>NaN</td>\n      <td>RUR</td>\n      <td>95</td>\n      <td>Тюмень</td>\n      <td>2019-03-25 07:25:45+03:00</td>\n      <td>1327.0</td>\n      <td>1536.0</td>\n      <td>Программирование, Разработка</td>\n      <td>Управление проектами</td>\n      <td>CRM системы</td>\n    </tr>\n    <tr>\n      <th>4</th>\n      <td>30710047</td>\n      <td>Разработчик Python</td>\n      <td>1221</td>\n      <td>&lt;strong&gt;Что мы ожидаем от вас:&lt;/strong&gt; &lt;ul&gt; &lt;...</td>\n      <td>NaN</td>\n      <td>between1And3</td>\n      <td>33305.0</td>\n      <td>СКБ-Банк</td>\n      <td>NaN</td>\n      <td>NaN</td>\n      <td>NaN</td>\n      <td>3</td>\n      <td>Екатеринбург</td>\n      <td>2019-03-25 07:26:29+03:00</td>\n      <td>NaN</td>\n      <td>NaN</td>\n      <td>Программирование, Разработка</td>\n      <td>NaN</td>\n      <td>NaN</td>\n    </tr>\n    <tr>\n      <th>...</th>\n      <td>...</td>\n      <td>...</td>\n      <td>...</td>\n      <td>...</td>\n      <td>...</td>\n      <td>...</td>\n      <td>...</td>\n      <td>...</td>\n      <td>...</td>\n      <td>...</td>\n      <td>...</td>\n      <td>...</td>\n      <td>...</td>\n      <td>...</td>\n      <td>...</td>\n      <td>...</td>\n      <td>...</td>\n      <td>...</td>\n      <td>...</td>\n    </tr>\n    <tr>\n      <th>535951</th>\n      <td>29709954</td>\n      <td>Менеджер по продажам b2b</td>\n      <td>17269</td>\n      <td>&lt;p&gt;&lt;strong&gt;Задачи должности:&lt;/strong&gt;&lt;/p&gt; &lt;ul&gt;...</td>\n      <td>NaN</td>\n      <td>between1And3</td>\n      <td>608106.0</td>\n      <td>МегаКом, ГК</td>\n      <td>35000.0</td>\n      <td>NaN</td>\n      <td>RUR</td>\n      <td>4</td>\n      <td>Новосибирск</td>\n      <td>2019-01-17 13:36:52+03:00</td>\n      <td>17149.0</td>\n      <td>17538.0</td>\n      <td>Телекоммуникации, Сетевые решения</td>\n      <td>Менеджер по работе с клиентами</td>\n      <td>Продажи по телефону, Телемаркетинг</td>\n    </tr>\n    <tr>\n      <th>535952</th>\n      <td>29709980</td>\n      <td>Менеджер продаж корпоративным клиентам (сущест...</td>\n      <td>1203</td>\n      <td>&lt;p&gt;&lt;strong&gt;Обязанности:&lt;/strong&gt;&lt;/p&gt; &lt;ul&gt; &lt;li&gt;...</td>\n      <td>Привлечение клиентов\\nB2B Продажи\\nВедение пер...</td>\n      <td>between1And3</td>\n      <td>608106.0</td>\n      <td>МегаКом, ГК</td>\n      <td>40000.0</td>\n      <td>NaN</td>\n      <td>RUR</td>\n      <td>4</td>\n      <td>Новосибирск</td>\n      <td>2019-01-17 13:37:24+03:00</td>\n      <td>1270.0</td>\n      <td>1295.0</td>\n      <td>Передача данных и доступ в интернет</td>\n      <td>Сетевые технологии</td>\n      <td>Телекоммуникации</td>\n    </tr>\n    <tr>\n      <th>535953</th>\n      <td>29709981</td>\n      <td>Инженер ИТ</td>\n      <td>1273</td>\n      <td>&lt;p&gt;&lt;strong&gt;Обязанности:&lt;/strong&gt;&lt;/p&gt; &lt;p&gt;- Уста...</td>\n      <td>NaN</td>\n      <td>moreThan6</td>\n      <td>1443514.0</td>\n      <td>Бауцентр Рус</td>\n      <td>56000.0</td>\n      <td>70000.0</td>\n      <td>RUR</td>\n      <td>2062</td>\n      <td>Пушкино (Московская область)</td>\n      <td>2019-01-23 09:35:51+03:00</td>\n      <td>1082.0</td>\n      <td>NaN</td>\n      <td>Системный администратор</td>\n      <td>Инженер</td>\n      <td>NaN</td>\n    </tr>\n    <tr>\n      <th>535954</th>\n      <td>29709987</td>\n      <td>Контент-менеджер в IT отдел</td>\n      <td>1172</td>\n      <td>&lt;p&gt;&lt;strong&gt;Обязанности:&lt;/strong&gt;&lt;/p&gt; &lt;ul&gt; &lt;li&gt;...</td>\n      <td>NaN</td>\n      <td>between1And3</td>\n      <td>4303.0</td>\n      <td>СиСофт, (CSoft)</td>\n      <td>NaN</td>\n      <td>50000.0</td>\n      <td>RUR</td>\n      <td>1</td>\n      <td>Москва</td>\n      <td>2019-03-13 11:57:03+03:00</td>\n      <td>1270.0</td>\n      <td>1272.0</td>\n      <td>Начальный уровень, Мало опыта</td>\n      <td>Сетевые технологии</td>\n      <td>Системная интеграция</td>\n    </tr>\n    <tr>\n      <th>535955</th>\n      <td>29709989</td>\n      <td>Android разработчик (SDK)</td>\n      <td>1221</td>\n      <td>&lt;p&gt;Компания ABBYY ищет &lt;strong&gt;Android разрабо...</td>\n      <td>C++\\nAndroid SDK\\nJava</td>\n      <td>between1And3</td>\n      <td>301.0</td>\n      <td>ABBYY</td>\n      <td>NaN</td>\n      <td>NaN</td>\n      <td>NaN</td>\n      <td>1</td>\n      <td>Москва</td>\n      <td>2019-03-06 12:52:49+03:00</td>\n      <td>NaN</td>\n      <td>NaN</td>\n      <td>Программирование, Разработка</td>\n      <td>NaN</td>\n      <td>NaN</td>\n    </tr>\n  </tbody>\n</table>\n<p>535956 rows × 19 columns</p>\n</div>"
     },
     "metadata": {},
     "output_type": "display_data"
    },
    {
     "name": "stdout",
     "output_type": "stream",
     "text": [
      "hh_data_it_2018\n"
     ]
    },
    {
     "data": {
      "text/plain": "              id                                               name  \\\n0       16398095                    Программист С++ / С++ Developer   \n1       16399803                               Менеджер по продажам   \n2       28720019  Ведущий специалист контроля качества обслужива...   \n3       28720032        Специалист по абонентским подключениям (ИП)   \n4       28720034                               Специалист ИТ-отдела   \n...          ...                                                ...   \n517665  24079923                                   Бизнес-ассистент   \n517666  24079935                                       Веб-дизайнер   \n517667  24079946                       Копирайтер интернет-проектов   \n517668  24079958                               Инженер по внедрению   \n517669  24079967                       Монтажник слаботочных систем   \n\n        spec_id_0                                        description  \\\n0            1221  <p><strong>Netwrix Corporation </strong>- межд...   \n1           17269  <p><strong>ООО «УЦСБ» – Уральский центр систем...   \n2           17269  <p>Ищем к себе в команду коллегу и единомышлен...   \n3            1203  <p><strong>NETBYNET (бренд Wifire) ГК МегаФон ...   \n4            1110  <p>Онлайн-кинотеатр ShowJet ищет в свою команд...   \n...           ...                                                ...   \n517665       4205  <p>Компании<strong> Робополис</strong>, а имен...   \n517666      11062  <p><strong>Работа в крупном интернет-проекте, ...   \n517667      11076  <p>Интернет-издательство RedRocketMedia ищет в...   \n517668       1110  <p>Команда R-Vision создает инновационный прод...   \n517669       1203  <p>Компании требуется монтажник слаботочных си...   \n\n                                               key_skills experience_id  \\\n0                                                     NaN  between1And3   \n1       B2B Продажи\\nАктивные продажи\\nВедение перегов...  between1And3   \n2                                                     NaN  noExperience   \n3                                                     NaN  noExperience   \n4                                                     NaN  between1And3   \n...                                                   ...           ...   \n517665  Реклама\\nУправление проектами\\nМаркетинговые к...  between1And3   \n517666                                                NaN  between1And3   \n517667  Редактирование текстов\\nНаписание текстов\\nКор...  between1And3   \n517668                                                NaN  between1And3   \n517669                                                NaN  noExperience   \n\n        employer_id                        employer_name  salary_from  \\\n0          574211.0                  Netwrix Corporation          NaN   \n1          662065.0  Уральский центр систем безопасности          NaN   \n2         1898133.0       Волна мобайл (ООО КТК ТЕЛЕКОМ)          NaN   \n3           43410.0                             NETBYNET          NaN   \n4         1763369.0                              ШоуДжет          NaN   \n...             ...                                  ...          ...   \n517665    3020731.0                       Мирей Роботикс      35000.0   \n517666    2220449.0                          МЕГА Сервис      45000.0   \n517667    1330054.0                       RedRocketMedia      25000.0   \n517668    1885395.0                               Р-Вижн          NaN   \n517669    1410133.0                           Верный Бит      25000.0   \n\n        salary_to salary_currency  area_id        area_name  \\\n0             NaN             NaN        2  Санкт-Петербург   \n1             NaN             NaN        3     Екатеринбург   \n2             NaN             NaN      131      Симферополь   \n3             NaN             NaN        2  Санкт-Петербург   \n4             NaN             NaN        1           Москва   \n...           ...             ...      ...              ...   \n517665    40000.0             RUR       78           Самара   \n517666    60000.0             RUR       89            Тверь   \n517667    30000.0             RUR       19           Брянск   \n517668        NaN             NaN        1           Москва   \n517669    35000.0             RUR       53        Краснодар   \n\n                    published_at  spec_id_1  spec_id_2  \\\n0      2018-04-13 11:29:31+03:00     1082.0        NaN   \n1      2018-05-10 10:47:56+03:00    17333.0    17446.0   \n2      2018-11-08 15:02:04+03:00    17149.0    25382.0   \n3      2018-11-16 10:22:50+03:00     1172.0     1082.0   \n4      2018-11-08 15:02:41+03:00     1089.0        NaN   \n...                          ...        ...        ...   \n517665 2018-01-13 13:54:29+03:00     2469.0     1327.0   \n517666 2018-01-13 13:57:39+03:00     3064.0     1089.0   \n517667 2018-02-12 17:37:47+03:00    11134.0    11071.0   \n517668 2018-03-14 09:26:22+03:00     1082.0        NaN   \n517669 2018-01-13 14:11:20+03:00     1270.0     1273.0   \n\n                                      spec_0  \\\n0              Программирование, Разработка    \n1         Телекоммуникации, Сетевые решения    \n2         Телекоммуникации, Сетевые решения    \n3       Передача данных и доступ в интернет    \n4                 Компьютерная безопасность    \n...                                      ...   \n517665               Персональный ассистент    \n517666            Дизайн, графика, живопись    \n517667            Издательская деятельность    \n517668            Компьютерная безопасность    \n517669  Передача данных и доступ в интернет    \n\n                                          spec_1  \\\n0                                       Инженер    \n1                            Услуги для бизнеса    \n2                Менеджер по работе с клиентами    \n3                 Начальный уровень, Мало опыта    \n4                                      Интернет    \n...                                          ...   \n517665                   Первичная документация    \n517666                                 Дизайнер    \n517667  Литературная, Редакторская деятельность    \n517668                                  Инженер    \n517669                       Сетевые технологии    \n\n                                 spec_2  \n0                                   NaN  \n1                 Системы безопасности   \n2       Руководитель сервисного центра   \n3                              Инженер   \n4                                   NaN  \n...                                 ...  \n517665            Управление проектами   \n517666                        Интернет   \n517667                    Журналистика   \n517668                              NaN  \n517669         Системный администратор   \n\n[517670 rows x 19 columns]",
      "text/html": "<div>\n<style scoped>\n    .dataframe tbody tr th:only-of-type {\n        vertical-align: middle;\n    }\n\n    .dataframe tbody tr th {\n        vertical-align: top;\n    }\n\n    .dataframe thead th {\n        text-align: right;\n    }\n</style>\n<table border=\"1\" class=\"dataframe\">\n  <thead>\n    <tr style=\"text-align: right;\">\n      <th></th>\n      <th>id</th>\n      <th>name</th>\n      <th>spec_id_0</th>\n      <th>description</th>\n      <th>key_skills</th>\n      <th>experience_id</th>\n      <th>employer_id</th>\n      <th>employer_name</th>\n      <th>salary_from</th>\n      <th>salary_to</th>\n      <th>salary_currency</th>\n      <th>area_id</th>\n      <th>area_name</th>\n      <th>published_at</th>\n      <th>spec_id_1</th>\n      <th>spec_id_2</th>\n      <th>spec_0</th>\n      <th>spec_1</th>\n      <th>spec_2</th>\n    </tr>\n  </thead>\n  <tbody>\n    <tr>\n      <th>0</th>\n      <td>16398095</td>\n      <td>Программист С++ / С++ Developer</td>\n      <td>1221</td>\n      <td>&lt;p&gt;&lt;strong&gt;Netwrix Corporation &lt;/strong&gt;- межд...</td>\n      <td>NaN</td>\n      <td>between1And3</td>\n      <td>574211.0</td>\n      <td>Netwrix Corporation</td>\n      <td>NaN</td>\n      <td>NaN</td>\n      <td>NaN</td>\n      <td>2</td>\n      <td>Санкт-Петербург</td>\n      <td>2018-04-13 11:29:31+03:00</td>\n      <td>1082.0</td>\n      <td>NaN</td>\n      <td>Программирование, Разработка</td>\n      <td>Инженер</td>\n      <td>NaN</td>\n    </tr>\n    <tr>\n      <th>1</th>\n      <td>16399803</td>\n      <td>Менеджер по продажам</td>\n      <td>17269</td>\n      <td>&lt;p&gt;&lt;strong&gt;ООО «УЦСБ» – Уральский центр систем...</td>\n      <td>B2B Продажи\\nАктивные продажи\\nВедение перегов...</td>\n      <td>between1And3</td>\n      <td>662065.0</td>\n      <td>Уральский центр систем безопасности</td>\n      <td>NaN</td>\n      <td>NaN</td>\n      <td>NaN</td>\n      <td>3</td>\n      <td>Екатеринбург</td>\n      <td>2018-05-10 10:47:56+03:00</td>\n      <td>17333.0</td>\n      <td>17446.0</td>\n      <td>Телекоммуникации, Сетевые решения</td>\n      <td>Услуги для бизнеса</td>\n      <td>Системы безопасности</td>\n    </tr>\n    <tr>\n      <th>2</th>\n      <td>28720019</td>\n      <td>Ведущий специалист контроля качества обслужива...</td>\n      <td>17269</td>\n      <td>&lt;p&gt;Ищем к себе в команду коллегу и единомышлен...</td>\n      <td>NaN</td>\n      <td>noExperience</td>\n      <td>1898133.0</td>\n      <td>Волна мобайл (ООО КТК ТЕЛЕКОМ)</td>\n      <td>NaN</td>\n      <td>NaN</td>\n      <td>NaN</td>\n      <td>131</td>\n      <td>Симферополь</td>\n      <td>2018-11-08 15:02:04+03:00</td>\n      <td>17149.0</td>\n      <td>25382.0</td>\n      <td>Телекоммуникации, Сетевые решения</td>\n      <td>Менеджер по работе с клиентами</td>\n      <td>Руководитель сервисного центра</td>\n    </tr>\n    <tr>\n      <th>3</th>\n      <td>28720032</td>\n      <td>Специалист по абонентским подключениям (ИП)</td>\n      <td>1203</td>\n      <td>&lt;p&gt;&lt;strong&gt;NETBYNET (бренд Wifire) ГК МегаФон ...</td>\n      <td>NaN</td>\n      <td>noExperience</td>\n      <td>43410.0</td>\n      <td>NETBYNET</td>\n      <td>NaN</td>\n      <td>NaN</td>\n      <td>NaN</td>\n      <td>2</td>\n      <td>Санкт-Петербург</td>\n      <td>2018-11-16 10:22:50+03:00</td>\n      <td>1172.0</td>\n      <td>1082.0</td>\n      <td>Передача данных и доступ в интернет</td>\n      <td>Начальный уровень, Мало опыта</td>\n      <td>Инженер</td>\n    </tr>\n    <tr>\n      <th>4</th>\n      <td>28720034</td>\n      <td>Специалист ИТ-отдела</td>\n      <td>1110</td>\n      <td>&lt;p&gt;Онлайн-кинотеатр ShowJet ищет в свою команд...</td>\n      <td>NaN</td>\n      <td>between1And3</td>\n      <td>1763369.0</td>\n      <td>ШоуДжет</td>\n      <td>NaN</td>\n      <td>NaN</td>\n      <td>NaN</td>\n      <td>1</td>\n      <td>Москва</td>\n      <td>2018-11-08 15:02:41+03:00</td>\n      <td>1089.0</td>\n      <td>NaN</td>\n      <td>Компьютерная безопасность</td>\n      <td>Интернет</td>\n      <td>NaN</td>\n    </tr>\n    <tr>\n      <th>...</th>\n      <td>...</td>\n      <td>...</td>\n      <td>...</td>\n      <td>...</td>\n      <td>...</td>\n      <td>...</td>\n      <td>...</td>\n      <td>...</td>\n      <td>...</td>\n      <td>...</td>\n      <td>...</td>\n      <td>...</td>\n      <td>...</td>\n      <td>...</td>\n      <td>...</td>\n      <td>...</td>\n      <td>...</td>\n      <td>...</td>\n      <td>...</td>\n    </tr>\n    <tr>\n      <th>517665</th>\n      <td>24079923</td>\n      <td>Бизнес-ассистент</td>\n      <td>4205</td>\n      <td>&lt;p&gt;Компании&lt;strong&gt; Робополис&lt;/strong&gt;, а имен...</td>\n      <td>Реклама\\nУправление проектами\\nМаркетинговые к...</td>\n      <td>between1And3</td>\n      <td>3020731.0</td>\n      <td>Мирей Роботикс</td>\n      <td>35000.0</td>\n      <td>40000.0</td>\n      <td>RUR</td>\n      <td>78</td>\n      <td>Самара</td>\n      <td>2018-01-13 13:54:29+03:00</td>\n      <td>2469.0</td>\n      <td>1327.0</td>\n      <td>Персональный ассистент</td>\n      <td>Первичная документация</td>\n      <td>Управление проектами</td>\n    </tr>\n    <tr>\n      <th>517666</th>\n      <td>24079935</td>\n      <td>Веб-дизайнер</td>\n      <td>11062</td>\n      <td>&lt;p&gt;&lt;strong&gt;Работа в крупном интернет-проекте, ...</td>\n      <td>NaN</td>\n      <td>between1And3</td>\n      <td>2220449.0</td>\n      <td>МЕГА Сервис</td>\n      <td>45000.0</td>\n      <td>60000.0</td>\n      <td>RUR</td>\n      <td>89</td>\n      <td>Тверь</td>\n      <td>2018-01-13 13:57:39+03:00</td>\n      <td>3064.0</td>\n      <td>1089.0</td>\n      <td>Дизайн, графика, живопись</td>\n      <td>Дизайнер</td>\n      <td>Интернет</td>\n    </tr>\n    <tr>\n      <th>517667</th>\n      <td>24079946</td>\n      <td>Копирайтер интернет-проектов</td>\n      <td>11076</td>\n      <td>&lt;p&gt;Интернет-издательство RedRocketMedia ищет в...</td>\n      <td>Редактирование текстов\\nНаписание текстов\\nКор...</td>\n      <td>between1And3</td>\n      <td>1330054.0</td>\n      <td>RedRocketMedia</td>\n      <td>25000.0</td>\n      <td>30000.0</td>\n      <td>RUR</td>\n      <td>19</td>\n      <td>Брянск</td>\n      <td>2018-02-12 17:37:47+03:00</td>\n      <td>11134.0</td>\n      <td>11071.0</td>\n      <td>Издательская деятельность</td>\n      <td>Литературная, Редакторская деятельность</td>\n      <td>Журналистика</td>\n    </tr>\n    <tr>\n      <th>517668</th>\n      <td>24079958</td>\n      <td>Инженер по внедрению</td>\n      <td>1110</td>\n      <td>&lt;p&gt;Команда R-Vision создает инновационный прод...</td>\n      <td>NaN</td>\n      <td>between1And3</td>\n      <td>1885395.0</td>\n      <td>Р-Вижн</td>\n      <td>NaN</td>\n      <td>NaN</td>\n      <td>NaN</td>\n      <td>1</td>\n      <td>Москва</td>\n      <td>2018-03-14 09:26:22+03:00</td>\n      <td>1082.0</td>\n      <td>NaN</td>\n      <td>Компьютерная безопасность</td>\n      <td>Инженер</td>\n      <td>NaN</td>\n    </tr>\n    <tr>\n      <th>517669</th>\n      <td>24079967</td>\n      <td>Монтажник слаботочных систем</td>\n      <td>1203</td>\n      <td>&lt;p&gt;Компании требуется монтажник слаботочных си...</td>\n      <td>NaN</td>\n      <td>noExperience</td>\n      <td>1410133.0</td>\n      <td>Верный Бит</td>\n      <td>25000.0</td>\n      <td>35000.0</td>\n      <td>RUR</td>\n      <td>53</td>\n      <td>Краснодар</td>\n      <td>2018-01-13 14:11:20+03:00</td>\n      <td>1270.0</td>\n      <td>1273.0</td>\n      <td>Передача данных и доступ в интернет</td>\n      <td>Сетевые технологии</td>\n      <td>Системный администратор</td>\n    </tr>\n  </tbody>\n</table>\n<p>517670 rows × 19 columns</p>\n</div>"
     },
     "metadata": {},
     "output_type": "display_data"
    },
    {
     "name": "stdout",
     "output_type": "stream",
     "text": [
      "hh_data_it_2017\n"
     ]
    },
    {
     "data": {
      "text/plain": "              id                                               name  \\\n0       16269274                        Бизнес-аналитик 2 категории   \n1       16392512                               Менеджер по продажам   \n2       16399012                        Senior Game Project Manager   \n3       23690079  Монтажник слаботочных систем / Монтажник систе...   \n4       23690090                         Ведущий менеджер по аренде   \n...          ...                                                ...   \n391459  21829953                                    PHP-разработчик   \n391460  21829954  Инженер по техническому сопровождению информац...   \n391461  21829963                               Оператор call-центра   \n391462  21829989                              Главный архитектор IT   \n391463  16027586  Менеджер по продажам торгового оборудования (м...   \n\n        spec_id_0                                        description  \\\n0           12251  <p><strong>Обязанности:</strong></p> <ul> <li>...   \n1           17269  <p><em><strong>«Манго Телеком» - первый россий...   \n2            1475  <p><strong>Requirements:</strong></p> <ul> <li...   \n3            1203  <p>Монтажник слаботочных систем / Монтажник си...   \n4            1270  <p>Билайн – это прежде всего высокопрофессиона...   \n...           ...                                                ...   \n391459       1221  <p><strong>Обязанности:</strong></p> <ul> <li>...   \n391460       1203  <p><strong>Обязанности:</strong></p> <ul> <li>...   \n391461       6319  <p><strong>Обязанности:</strong></p> <ul> <li>...   \n391462       1270  <strong>Обязанности:</strong> <ul> <li>Основна...   \n391463      17333  <p><strong>Первый</strong><strong> БИТ </stron...   \n\n                                               key_skills experience_id  \\\n0                                                     NaN  between3And6   \n1                                                     NaN  between1And3   \n2                                                     NaN  between3And6   \n3                                                     NaN  between1And3   \n4                                                     NaN  between1And3   \n...                                                   ...           ...   \n391459  PHP\\nYii\\nJavaScript\\nCSS3\\nSQL\\nPHP5\\nООП\\nHT...  between3And6   \n391460                                                NaN  between1And3   \n391461                                                NaN  noExperience   \n391462                                                NaN  between3And6   \n391463                                                NaN  between1And3   \n\n        employer_id                 employer_name  salary_from  salary_to  \\\n0           28435.0           Группа компаний БТК          NaN    55000.0   \n1           32918.0                  MANGO OFFICE      30000.0    80000.0   \n2           62126.0                     Sperasoft          NaN        NaN   \n3         2595750.0                АВН-Инжиниринг      35000.0        NaN   \n4            4934.0                        Билайн          NaN        NaN   \n...             ...                           ...          ...        ...   \n391459    1292168.0                 Polonium Arts      70000.0        NaN   \n391460     819947.0                   ЦентрИнформ      30000.0    35000.0   \n391461     720606.0               Правильные люди      25000.0    30000.0   \n391462       2346.0  Волга-Днепр, Группа компаний          NaN        NaN   \n391463       3177.0                    Первый Бит      30000.0    80000.0   \n\n       salary_currency  area_id        area_name              published_at  \\\n0                  RUR        2  Санкт-Петербург 2017-02-13 09:41:24+03:00   \n1                  RUR       76   Ростов-на-Дону 2017-01-12 18:56:25+03:00   \n2                  NaN        2  Санкт-Петербург 2017-03-29 16:02:57+03:00   \n3                  RUR       88           Казань 2017-12-03 14:05:50+03:00   \n4                  NaN        1           Москва 2017-12-12 10:16:01+03:00   \n...                ...      ...              ...                       ...   \n391459             RUR       19           Брянск 2017-07-04 16:50:17+03:00   \n391460             RUR        2  Санкт-Петербург 2017-09-25 12:39:50+03:00   \n391461             RUR        2  Санкт-Петербург 2017-09-08 10:16:00+03:00   \n391462             NaN        1           Москва 2017-07-04 16:51:37+03:00   \n391463             RUR        1           Москва 2017-03-20 18:25:44+03:00   \n\n        spec_id_1  spec_id_2                                spec_0  \\\n0         12197.0     1050.0        Реинжиниринг бизнес процессов    \n1         17333.0    17112.0    Телекоммуникации, Сетевые решения    \n2          1327.0        NaN                           Игровое ПО    \n3          1270.0     1082.0  Передача данных и доступ в интернет    \n4          1225.0     1277.0                   Сетевые технологии    \n...           ...        ...                                   ...   \n391459     1009.0     1010.0         Программирование, Разработка    \n391460     1272.0     1082.0  Передача данных и доступ в интернет    \n391461    15320.0    15391.0                Управление персоналом    \n391462     1272.0     1050.0                   Сетевые технологии    \n391463    17112.0    17183.0                   Услуги для бизнеса    \n\n                                   spec_1  \\\n0       Организационное консультирование    \n1                     Услуги для бизнеса    \n2                   Управление проектами    \n3                     Сетевые технологии    \n4                                Продажи    \n...                                   ...   \n391459                       Web инженер    \n391460              Системная интеграция    \n391461             Управление персоналом    \n391462              Системная интеграция    \n391463            Компьютерные программы    \n\n                                        spec_2  \n0       Системы управления предприятием (ERP)   \n1                      Компьютерные программы   \n2                                          NaN  \n3                                     Инженер   \n4            Сотовые, Беспроводные технологии   \n...                                        ...  \n391459                             Web мастер   \n391460                                Инженер   \n391461                       Консультирование   \n391462  Системы управления предприятием (ERP)   \n391463          Начальный уровень, Мало опыта   \n\n[391464 rows x 19 columns]",
      "text/html": "<div>\n<style scoped>\n    .dataframe tbody tr th:only-of-type {\n        vertical-align: middle;\n    }\n\n    .dataframe tbody tr th {\n        vertical-align: top;\n    }\n\n    .dataframe thead th {\n        text-align: right;\n    }\n</style>\n<table border=\"1\" class=\"dataframe\">\n  <thead>\n    <tr style=\"text-align: right;\">\n      <th></th>\n      <th>id</th>\n      <th>name</th>\n      <th>spec_id_0</th>\n      <th>description</th>\n      <th>key_skills</th>\n      <th>experience_id</th>\n      <th>employer_id</th>\n      <th>employer_name</th>\n      <th>salary_from</th>\n      <th>salary_to</th>\n      <th>salary_currency</th>\n      <th>area_id</th>\n      <th>area_name</th>\n      <th>published_at</th>\n      <th>spec_id_1</th>\n      <th>spec_id_2</th>\n      <th>spec_0</th>\n      <th>spec_1</th>\n      <th>spec_2</th>\n    </tr>\n  </thead>\n  <tbody>\n    <tr>\n      <th>0</th>\n      <td>16269274</td>\n      <td>Бизнес-аналитик 2 категории</td>\n      <td>12251</td>\n      <td>&lt;p&gt;&lt;strong&gt;Обязанности:&lt;/strong&gt;&lt;/p&gt; &lt;ul&gt; &lt;li&gt;...</td>\n      <td>NaN</td>\n      <td>between3And6</td>\n      <td>28435.0</td>\n      <td>Группа компаний БТК</td>\n      <td>NaN</td>\n      <td>55000.0</td>\n      <td>RUR</td>\n      <td>2</td>\n      <td>Санкт-Петербург</td>\n      <td>2017-02-13 09:41:24+03:00</td>\n      <td>12197.0</td>\n      <td>1050.0</td>\n      <td>Реинжиниринг бизнес процессов</td>\n      <td>Организационное консультирование</td>\n      <td>Системы управления предприятием (ERP)</td>\n    </tr>\n    <tr>\n      <th>1</th>\n      <td>16392512</td>\n      <td>Менеджер по продажам</td>\n      <td>17269</td>\n      <td>&lt;p&gt;&lt;em&gt;&lt;strong&gt;«Манго Телеком» - первый россий...</td>\n      <td>NaN</td>\n      <td>between1And3</td>\n      <td>32918.0</td>\n      <td>MANGO OFFICE</td>\n      <td>30000.0</td>\n      <td>80000.0</td>\n      <td>RUR</td>\n      <td>76</td>\n      <td>Ростов-на-Дону</td>\n      <td>2017-01-12 18:56:25+03:00</td>\n      <td>17333.0</td>\n      <td>17112.0</td>\n      <td>Телекоммуникации, Сетевые решения</td>\n      <td>Услуги для бизнеса</td>\n      <td>Компьютерные программы</td>\n    </tr>\n    <tr>\n      <th>2</th>\n      <td>16399012</td>\n      <td>Senior Game Project Manager</td>\n      <td>1475</td>\n      <td>&lt;p&gt;&lt;strong&gt;Requirements:&lt;/strong&gt;&lt;/p&gt; &lt;ul&gt; &lt;li...</td>\n      <td>NaN</td>\n      <td>between3And6</td>\n      <td>62126.0</td>\n      <td>Sperasoft</td>\n      <td>NaN</td>\n      <td>NaN</td>\n      <td>NaN</td>\n      <td>2</td>\n      <td>Санкт-Петербург</td>\n      <td>2017-03-29 16:02:57+03:00</td>\n      <td>1327.0</td>\n      <td>NaN</td>\n      <td>Игровое ПО</td>\n      <td>Управление проектами</td>\n      <td>NaN</td>\n    </tr>\n    <tr>\n      <th>3</th>\n      <td>23690079</td>\n      <td>Монтажник слаботочных систем / Монтажник систе...</td>\n      <td>1203</td>\n      <td>&lt;p&gt;Монтажник слаботочных систем / Монтажник си...</td>\n      <td>NaN</td>\n      <td>between1And3</td>\n      <td>2595750.0</td>\n      <td>АВН-Инжиниринг</td>\n      <td>35000.0</td>\n      <td>NaN</td>\n      <td>RUR</td>\n      <td>88</td>\n      <td>Казань</td>\n      <td>2017-12-03 14:05:50+03:00</td>\n      <td>1270.0</td>\n      <td>1082.0</td>\n      <td>Передача данных и доступ в интернет</td>\n      <td>Сетевые технологии</td>\n      <td>Инженер</td>\n    </tr>\n    <tr>\n      <th>4</th>\n      <td>23690090</td>\n      <td>Ведущий менеджер по аренде</td>\n      <td>1270</td>\n      <td>&lt;p&gt;Билайн – это прежде всего высокопрофессиона...</td>\n      <td>NaN</td>\n      <td>between1And3</td>\n      <td>4934.0</td>\n      <td>Билайн</td>\n      <td>NaN</td>\n      <td>NaN</td>\n      <td>NaN</td>\n      <td>1</td>\n      <td>Москва</td>\n      <td>2017-12-12 10:16:01+03:00</td>\n      <td>1225.0</td>\n      <td>1277.0</td>\n      <td>Сетевые технологии</td>\n      <td>Продажи</td>\n      <td>Сотовые, Беспроводные технологии</td>\n    </tr>\n    <tr>\n      <th>...</th>\n      <td>...</td>\n      <td>...</td>\n      <td>...</td>\n      <td>...</td>\n      <td>...</td>\n      <td>...</td>\n      <td>...</td>\n      <td>...</td>\n      <td>...</td>\n      <td>...</td>\n      <td>...</td>\n      <td>...</td>\n      <td>...</td>\n      <td>...</td>\n      <td>...</td>\n      <td>...</td>\n      <td>...</td>\n      <td>...</td>\n      <td>...</td>\n    </tr>\n    <tr>\n      <th>391459</th>\n      <td>21829953</td>\n      <td>PHP-разработчик</td>\n      <td>1221</td>\n      <td>&lt;p&gt;&lt;strong&gt;Обязанности:&lt;/strong&gt;&lt;/p&gt; &lt;ul&gt; &lt;li&gt;...</td>\n      <td>PHP\\nYii\\nJavaScript\\nCSS3\\nSQL\\nPHP5\\nООП\\nHT...</td>\n      <td>between3And6</td>\n      <td>1292168.0</td>\n      <td>Polonium Arts</td>\n      <td>70000.0</td>\n      <td>NaN</td>\n      <td>RUR</td>\n      <td>19</td>\n      <td>Брянск</td>\n      <td>2017-07-04 16:50:17+03:00</td>\n      <td>1009.0</td>\n      <td>1010.0</td>\n      <td>Программирование, Разработка</td>\n      <td>Web инженер</td>\n      <td>Web мастер</td>\n    </tr>\n    <tr>\n      <th>391460</th>\n      <td>21829954</td>\n      <td>Инженер по техническому сопровождению информац...</td>\n      <td>1203</td>\n      <td>&lt;p&gt;&lt;strong&gt;Обязанности:&lt;/strong&gt;&lt;/p&gt; &lt;ul&gt; &lt;li&gt;...</td>\n      <td>NaN</td>\n      <td>between1And3</td>\n      <td>819947.0</td>\n      <td>ЦентрИнформ</td>\n      <td>30000.0</td>\n      <td>35000.0</td>\n      <td>RUR</td>\n      <td>2</td>\n      <td>Санкт-Петербург</td>\n      <td>2017-09-25 12:39:50+03:00</td>\n      <td>1272.0</td>\n      <td>1082.0</td>\n      <td>Передача данных и доступ в интернет</td>\n      <td>Системная интеграция</td>\n      <td>Инженер</td>\n    </tr>\n    <tr>\n      <th>391461</th>\n      <td>21829963</td>\n      <td>Оператор call-центра</td>\n      <td>6319</td>\n      <td>&lt;p&gt;&lt;strong&gt;Обязанности:&lt;/strong&gt;&lt;/p&gt; &lt;ul&gt; &lt;li&gt;...</td>\n      <td>NaN</td>\n      <td>noExperience</td>\n      <td>720606.0</td>\n      <td>Правильные люди</td>\n      <td>25000.0</td>\n      <td>30000.0</td>\n      <td>RUR</td>\n      <td>2</td>\n      <td>Санкт-Петербург</td>\n      <td>2017-09-08 10:16:00+03:00</td>\n      <td>15320.0</td>\n      <td>15391.0</td>\n      <td>Управление персоналом</td>\n      <td>Управление персоналом</td>\n      <td>Консультирование</td>\n    </tr>\n    <tr>\n      <th>391462</th>\n      <td>21829989</td>\n      <td>Главный архитектор IT</td>\n      <td>1270</td>\n      <td>&lt;strong&gt;Обязанности:&lt;/strong&gt; &lt;ul&gt; &lt;li&gt;Основна...</td>\n      <td>NaN</td>\n      <td>between3And6</td>\n      <td>2346.0</td>\n      <td>Волга-Днепр, Группа компаний</td>\n      <td>NaN</td>\n      <td>NaN</td>\n      <td>NaN</td>\n      <td>1</td>\n      <td>Москва</td>\n      <td>2017-07-04 16:51:37+03:00</td>\n      <td>1272.0</td>\n      <td>1050.0</td>\n      <td>Сетевые технологии</td>\n      <td>Системная интеграция</td>\n      <td>Системы управления предприятием (ERP)</td>\n    </tr>\n    <tr>\n      <th>391463</th>\n      <td>16027586</td>\n      <td>Менеджер по продажам торгового оборудования (м...</td>\n      <td>17333</td>\n      <td>&lt;p&gt;&lt;strong&gt;Первый&lt;/strong&gt;&lt;strong&gt; БИТ &lt;/stron...</td>\n      <td>NaN</td>\n      <td>between1And3</td>\n      <td>3177.0</td>\n      <td>Первый Бит</td>\n      <td>30000.0</td>\n      <td>80000.0</td>\n      <td>RUR</td>\n      <td>1</td>\n      <td>Москва</td>\n      <td>2017-03-20 18:25:44+03:00</td>\n      <td>17112.0</td>\n      <td>17183.0</td>\n      <td>Услуги для бизнеса</td>\n      <td>Компьютерные программы</td>\n      <td>Начальный уровень, Мало опыта</td>\n    </tr>\n  </tbody>\n</table>\n<p>391464 rows × 19 columns</p>\n</div>"
     },
     "metadata": {},
     "output_type": "display_data"
    },
    {
     "name": "stdout",
     "output_type": "stream",
     "text": [
      "hh_data_it_2016\n"
     ]
    },
    {
     "data": {
      "text/plain": "              id                                    name  spec_id_0  \\\n0       16260123                      Системный аналитик       1221   \n1       16260126          Менеджер по работе с клиентами       1225   \n2       16260127           Ведущий менеджер по персоналу       1172   \n3       16260130         Специалист по подбору персонала       1172   \n4       16260135         Специалист по подбору персонала       1172   \n...          ...                                     ...        ...   \n332455  16029968                    Фронтенд-разработчик       1221   \n332456  16029976              Менеджер интернет-магазина      17256   \n332457  16029981                         Project manager       1225   \n332458  16029984                           Инженер связи       1203   \n332459  16029994  Менеджер по продажам систем управления      17397   \n\n                                              description  \\\n0       <p>Современная и амбициозная российская компан...   \n1       <p><em><strong>Развивающаяся компания, успешно...   \n2       <p><strong>Требования:</strong></p> <p>1.Продв...   \n3       <p><strong>Обязанности:</strong></p> <p>1. Под...   \n4       <p><strong>Обязанности:</strong></p> <p>1. Под...   \n...                                                   ...   \n332455  <p>В команду DigitalWand требуется хороший фро...   \n332456  <p><strong>Обязанности:</strong></p> <ul> <li>...   \n332457  <p><em>Компания Sale Partners ЧП «Золотые бере...   \n332458  <p><strong>Обязанности</strong>:</p> <ul> <li>...   \n332459  <p><strong>Требования:</strong></p> <ul> <li>В...   \n\n                                               key_skills experience_id  \\\n0       UML\\nUse Case Analysis\\nнаписание технических ...  between1And3   \n1       Активные продажи\\nХолодные продажи\\nВедение пе...  between3And6   \n2                                                     NaN  noExperience   \n3                                                     NaN  noExperience   \n4                                                     NaN  noExperience   \n...                                                   ...           ...   \n332455  HTML5\\nCSS3\\nБЭМ\\nGit\\njQuery\\nJavaScript\\nAja...  between1And3   \n332456                                                NaN  between1And3   \n332457  Project management\\nУправление проектами\\nВеде...  between1And3   \n332458                                                NaN  noExperience   \n332459                                                NaN  between3And6   \n\n        employer_id      employer_name  salary_from  salary_to  \\\n0          707239.0             Embria          NaN        NaN   \n1         1391634.0     Брайт Солюшенз          NaN        NaN   \n2         2139835.0       Галкина А.А.      20000.0    25000.0   \n3         2139835.0       Галкина А.А.      32000.0    35000.0   \n4         2139835.0       Галкина А.А.      25000.0    35000.0   \n...             ...                ...          ...        ...   \n332455    1901832.0        DigitalWand      20000.0    40000.0   \n332456     649011.0          INTERMODA      25000.0    40000.0   \n332457    1936811.0  ЧП Золотые Берега       4000.0     8000.0   \n332458       2206.0    Простор Телеком      25000.0        NaN   \n332459      69650.0  Ракурс-инжиниринг      50000.0        NaN   \n\n       salary_currency  area_id        area_name              published_at  \\\n0                  NaN        2  Санкт-Петербург 2016-03-10 20:56:17+03:00   \n1                  NaN     1002            Минск 2016-03-10 20:57:08+03:00   \n2                  RUR        1           Москва 2016-03-10 20:57:31+03:00   \n3                  RUR        1           Москва 2016-03-10 20:58:06+03:00   \n4                  RUR        2  Санкт-Петербург 2016-03-10 20:58:49+03:00   \n...                ...      ...              ...                       ...   \n332455             RUR       99              Уфа 2016-02-17 12:36:24+03:00   \n332456             RUR       66  Нижний Новгород 2016-04-27 13:08:52+03:00   \n332457             UAH      127           Одесса 2016-02-17 12:37:03+03:00   \n332458             RUR       92             Тула 2016-02-17 12:37:14+03:00   \n332459             RUR        2  Санкт-Петербург 2016-03-18 12:37:57+03:00   \n\n        spec_id_1  spec_id_2                                          spec_0  \\\n0          1272.0     1296.0                   Программирование, Разработка    \n1          1137.0     3148.0                                        Продажи    \n2          1089.0     6319.0                  Начальный уровень, Мало опыта    \n3          1089.0     6254.0                  Начальный уровень, Мало опыта    \n4          1089.0     6254.0                  Начальный уровень, Мало опыта    \n...           ...        ...                                             ...   \n332455        NaN        NaN                   Программирование, Разработка    \n332456    17242.0    17149.0                             Розничная торговля    \n332457     1327.0        NaN                                        Продажи    \n332458     1082.0     1089.0            Передача данных и доступ в интернет    \n332459    17625.0    17242.0  Электротехническое оборудование, Светотехника    \n\n                                     spec_1                           spec_2  \n0                     Системная интеграция             Технический писатель   \n1                                Маркетинг   Менеджер по работе с клиентами   \n2                                 Интернет            Управление персоналом   \n3                                 Интернет                       Рекрутмент   \n4                                 Интернет                       Рекрутмент   \n...                                     ...                              ...  \n332455                                  NaN                              NaN  \n332456                      Прямые продажи   Менеджер по работе с клиентами   \n332457                Управление проектами                               NaN  \n332458                             Инженер                         Интернет   \n332459  Решения по автоматизации процессов                   Прямые продажи   \n\n[332460 rows x 19 columns]",
      "text/html": "<div>\n<style scoped>\n    .dataframe tbody tr th:only-of-type {\n        vertical-align: middle;\n    }\n\n    .dataframe tbody tr th {\n        vertical-align: top;\n    }\n\n    .dataframe thead th {\n        text-align: right;\n    }\n</style>\n<table border=\"1\" class=\"dataframe\">\n  <thead>\n    <tr style=\"text-align: right;\">\n      <th></th>\n      <th>id</th>\n      <th>name</th>\n      <th>spec_id_0</th>\n      <th>description</th>\n      <th>key_skills</th>\n      <th>experience_id</th>\n      <th>employer_id</th>\n      <th>employer_name</th>\n      <th>salary_from</th>\n      <th>salary_to</th>\n      <th>salary_currency</th>\n      <th>area_id</th>\n      <th>area_name</th>\n      <th>published_at</th>\n      <th>spec_id_1</th>\n      <th>spec_id_2</th>\n      <th>spec_0</th>\n      <th>spec_1</th>\n      <th>spec_2</th>\n    </tr>\n  </thead>\n  <tbody>\n    <tr>\n      <th>0</th>\n      <td>16260123</td>\n      <td>Системный аналитик</td>\n      <td>1221</td>\n      <td>&lt;p&gt;Современная и амбициозная российская компан...</td>\n      <td>UML\\nUse Case Analysis\\nнаписание технических ...</td>\n      <td>between1And3</td>\n      <td>707239.0</td>\n      <td>Embria</td>\n      <td>NaN</td>\n      <td>NaN</td>\n      <td>NaN</td>\n      <td>2</td>\n      <td>Санкт-Петербург</td>\n      <td>2016-03-10 20:56:17+03:00</td>\n      <td>1272.0</td>\n      <td>1296.0</td>\n      <td>Программирование, Разработка</td>\n      <td>Системная интеграция</td>\n      <td>Технический писатель</td>\n    </tr>\n    <tr>\n      <th>1</th>\n      <td>16260126</td>\n      <td>Менеджер по работе с клиентами</td>\n      <td>1225</td>\n      <td>&lt;p&gt;&lt;em&gt;&lt;strong&gt;Развивающаяся компания, успешно...</td>\n      <td>Активные продажи\\nХолодные продажи\\nВедение пе...</td>\n      <td>between3And6</td>\n      <td>1391634.0</td>\n      <td>Брайт Солюшенз</td>\n      <td>NaN</td>\n      <td>NaN</td>\n      <td>NaN</td>\n      <td>1002</td>\n      <td>Минск</td>\n      <td>2016-03-10 20:57:08+03:00</td>\n      <td>1137.0</td>\n      <td>3148.0</td>\n      <td>Продажи</td>\n      <td>Маркетинг</td>\n      <td>Менеджер по работе с клиентами</td>\n    </tr>\n    <tr>\n      <th>2</th>\n      <td>16260127</td>\n      <td>Ведущий менеджер по персоналу</td>\n      <td>1172</td>\n      <td>&lt;p&gt;&lt;strong&gt;Требования:&lt;/strong&gt;&lt;/p&gt; &lt;p&gt;1.Продв...</td>\n      <td>NaN</td>\n      <td>noExperience</td>\n      <td>2139835.0</td>\n      <td>Галкина А.А.</td>\n      <td>20000.0</td>\n      <td>25000.0</td>\n      <td>RUR</td>\n      <td>1</td>\n      <td>Москва</td>\n      <td>2016-03-10 20:57:31+03:00</td>\n      <td>1089.0</td>\n      <td>6319.0</td>\n      <td>Начальный уровень, Мало опыта</td>\n      <td>Интернет</td>\n      <td>Управление персоналом</td>\n    </tr>\n    <tr>\n      <th>3</th>\n      <td>16260130</td>\n      <td>Специалист по подбору персонала</td>\n      <td>1172</td>\n      <td>&lt;p&gt;&lt;strong&gt;Обязанности:&lt;/strong&gt;&lt;/p&gt; &lt;p&gt;1. Под...</td>\n      <td>NaN</td>\n      <td>noExperience</td>\n      <td>2139835.0</td>\n      <td>Галкина А.А.</td>\n      <td>32000.0</td>\n      <td>35000.0</td>\n      <td>RUR</td>\n      <td>1</td>\n      <td>Москва</td>\n      <td>2016-03-10 20:58:06+03:00</td>\n      <td>1089.0</td>\n      <td>6254.0</td>\n      <td>Начальный уровень, Мало опыта</td>\n      <td>Интернет</td>\n      <td>Рекрутмент</td>\n    </tr>\n    <tr>\n      <th>4</th>\n      <td>16260135</td>\n      <td>Специалист по подбору персонала</td>\n      <td>1172</td>\n      <td>&lt;p&gt;&lt;strong&gt;Обязанности:&lt;/strong&gt;&lt;/p&gt; &lt;p&gt;1. Под...</td>\n      <td>NaN</td>\n      <td>noExperience</td>\n      <td>2139835.0</td>\n      <td>Галкина А.А.</td>\n      <td>25000.0</td>\n      <td>35000.0</td>\n      <td>RUR</td>\n      <td>2</td>\n      <td>Санкт-Петербург</td>\n      <td>2016-03-10 20:58:49+03:00</td>\n      <td>1089.0</td>\n      <td>6254.0</td>\n      <td>Начальный уровень, Мало опыта</td>\n      <td>Интернет</td>\n      <td>Рекрутмент</td>\n    </tr>\n    <tr>\n      <th>...</th>\n      <td>...</td>\n      <td>...</td>\n      <td>...</td>\n      <td>...</td>\n      <td>...</td>\n      <td>...</td>\n      <td>...</td>\n      <td>...</td>\n      <td>...</td>\n      <td>...</td>\n      <td>...</td>\n      <td>...</td>\n      <td>...</td>\n      <td>...</td>\n      <td>...</td>\n      <td>...</td>\n      <td>...</td>\n      <td>...</td>\n      <td>...</td>\n    </tr>\n    <tr>\n      <th>332455</th>\n      <td>16029968</td>\n      <td>Фронтенд-разработчик</td>\n      <td>1221</td>\n      <td>&lt;p&gt;В команду DigitalWand требуется хороший фро...</td>\n      <td>HTML5\\nCSS3\\nБЭМ\\nGit\\njQuery\\nJavaScript\\nAja...</td>\n      <td>between1And3</td>\n      <td>1901832.0</td>\n      <td>DigitalWand</td>\n      <td>20000.0</td>\n      <td>40000.0</td>\n      <td>RUR</td>\n      <td>99</td>\n      <td>Уфа</td>\n      <td>2016-02-17 12:36:24+03:00</td>\n      <td>NaN</td>\n      <td>NaN</td>\n      <td>Программирование, Разработка</td>\n      <td>NaN</td>\n      <td>NaN</td>\n    </tr>\n    <tr>\n      <th>332456</th>\n      <td>16029976</td>\n      <td>Менеджер интернет-магазина</td>\n      <td>17256</td>\n      <td>&lt;p&gt;&lt;strong&gt;Обязанности:&lt;/strong&gt;&lt;/p&gt; &lt;ul&gt; &lt;li&gt;...</td>\n      <td>NaN</td>\n      <td>between1And3</td>\n      <td>649011.0</td>\n      <td>INTERMODA</td>\n      <td>25000.0</td>\n      <td>40000.0</td>\n      <td>RUR</td>\n      <td>66</td>\n      <td>Нижний Новгород</td>\n      <td>2016-04-27 13:08:52+03:00</td>\n      <td>17242.0</td>\n      <td>17149.0</td>\n      <td>Розничная торговля</td>\n      <td>Прямые продажи</td>\n      <td>Менеджер по работе с клиентами</td>\n    </tr>\n    <tr>\n      <th>332457</th>\n      <td>16029981</td>\n      <td>Project manager</td>\n      <td>1225</td>\n      <td>&lt;p&gt;&lt;em&gt;Компания Sale Partners ЧП «Золотые бере...</td>\n      <td>Project management\\nУправление проектами\\nВеде...</td>\n      <td>between1And3</td>\n      <td>1936811.0</td>\n      <td>ЧП Золотые Берега</td>\n      <td>4000.0</td>\n      <td>8000.0</td>\n      <td>UAH</td>\n      <td>127</td>\n      <td>Одесса</td>\n      <td>2016-02-17 12:37:03+03:00</td>\n      <td>1327.0</td>\n      <td>NaN</td>\n      <td>Продажи</td>\n      <td>Управление проектами</td>\n      <td>NaN</td>\n    </tr>\n    <tr>\n      <th>332458</th>\n      <td>16029984</td>\n      <td>Инженер связи</td>\n      <td>1203</td>\n      <td>&lt;p&gt;&lt;strong&gt;Обязанности&lt;/strong&gt;:&lt;/p&gt; &lt;ul&gt; &lt;li&gt;...</td>\n      <td>NaN</td>\n      <td>noExperience</td>\n      <td>2206.0</td>\n      <td>Простор Телеком</td>\n      <td>25000.0</td>\n      <td>NaN</td>\n      <td>RUR</td>\n      <td>92</td>\n      <td>Тула</td>\n      <td>2016-02-17 12:37:14+03:00</td>\n      <td>1082.0</td>\n      <td>1089.0</td>\n      <td>Передача данных и доступ в интернет</td>\n      <td>Инженер</td>\n      <td>Интернет</td>\n    </tr>\n    <tr>\n      <th>332459</th>\n      <td>16029994</td>\n      <td>Менеджер по продажам систем управления</td>\n      <td>17397</td>\n      <td>&lt;p&gt;&lt;strong&gt;Требования:&lt;/strong&gt;&lt;/p&gt; &lt;ul&gt; &lt;li&gt;В...</td>\n      <td>NaN</td>\n      <td>between3And6</td>\n      <td>69650.0</td>\n      <td>Ракурс-инжиниринг</td>\n      <td>50000.0</td>\n      <td>NaN</td>\n      <td>RUR</td>\n      <td>2</td>\n      <td>Санкт-Петербург</td>\n      <td>2016-03-18 12:37:57+03:00</td>\n      <td>17625.0</td>\n      <td>17242.0</td>\n      <td>Электротехническое оборудование, Светотехника</td>\n      <td>Решения по автоматизации процессов</td>\n      <td>Прямые продажи</td>\n    </tr>\n  </tbody>\n</table>\n<p>332460 rows × 19 columns</p>\n</div>"
     },
     "metadata": {},
     "output_type": "display_data"
    },
    {
     "name": "stdout",
     "output_type": "stream",
     "text": [
      "hh_data_it_2015\n"
     ]
    },
    {
     "data": {
      "text/plain": "              id                                              name  spec_id_0  \\\n0        7382570                                Solution Architect       1221   \n1        7382593                                 Technical Manager       1221   \n2        7382700                                  .NET Разработчик       1221   \n3       12760014  Специалист технической поддержки (г. Зеленоград)      15093   \n4       12760016            Технический специалист (г. Зеленоград)      12092   \n...          ...                                               ...        ...   \n284758  13279918                  JavaScript разработчик Front-End       1221   \n284759  13279965  Менеджер проектов 1С / Специалист-проектировщик.       1400   \n284760  13279985                         Главный системный инженер       1272   \n284761  13279991                                  Младший аналитик       1172   \n284762   4510160        Менеджер по работе с клиентами (г.Иркутск)       1172   \n\n                                              description key_skills  \\\n0       <p> <b><span>Responsibilities:</span></b></p><...        NaN   \n1       <p> <span>NetCracker Technology Corp., a large...        NaN   \n2       <p>Компания, которая является лидером в област...        NaN   \n3       <p><strong>Требования:</strong></p> <ul> <li>в...        NaN   \n4       <p><strong>Основные обязанности:</strong></p> ...        NaN   \n...                                                   ...        ...   \n284758  <p><strong>Обазянности:</strong></p> <ul> <li>...        NaN   \n284759  <p><strong>Должностные обязанности:</strong></...        NaN   \n284760  <p><strong>Обязанности</strong>:</p> <ul> <li>...        NaN   \n284761  <p><strong>Обязанности:</strong></p> <ul> <li>...        NaN   \n284762  <p><strong>Группа компаний &quot;Госзаказ&quot...        NaN   \n\n       experience_id  employer_id                employer_name  salary_from  \\\n0       between3And6       3945.0  Netcracker Technology Corp.          NaN   \n1       between3And6       3945.0  Netcracker Technology Corp.          NaN   \n2       between3And6     841087.0                   IHS Global          NaN   \n3       between1And3      13820.0                АКАДО Телеком          NaN   \n4       between1And3      13820.0                АКАДО Телеком      36400.0   \n...              ...          ...                          ...          ...   \n284758  between1And3      40912.0                        БИФИТ          NaN   \n284759  between3And6    1305566.0                Хорошая связь          NaN   \n284760  between3And6    1651539.0                        Верси      35000.0   \n284761  noExperience       1735.0                 НПК КАТАРСИС      28000.0   \n284762  between1And3    2510893.0  Центр заключения контрактов      50000.0   \n\n        salary_to salary_currency  area_id        area_name  \\\n0             NaN             NaN        2  Санкт-Петербург   \n1             NaN             NaN        2  Санкт-Петербург   \n2             NaN             NaN     1002            Минск   \n3         36400.0             RUR     2088       Зеленоград   \n4         42000.0             RUR     2088       Зеленоград   \n...           ...             ...      ...              ...   \n284758        NaN             NaN        1           Москва   \n284759        NaN             NaN       73     Петрозаводск   \n284760        NaN             RUR       23         Владимир   \n284761    30000.0             RUR        2  Санкт-Петербург   \n284762    80000.0             RUR       35          Иркутск   \n\n                    published_at  spec_id_1  spec_id_2  \\\n0      2015-03-18 13:48:26+03:00     1270.0     1277.0   \n1      2015-03-18 13:48:26+03:00     1270.0     1295.0   \n2      2015-01-05 10:08:31+03:00        NaN        NaN   \n3      2015-02-11 09:14:08+03:00    15391.0     1211.0   \n4      2015-02-11 09:14:16+03:00     1273.0     1211.0   \n...                          ...        ...        ...   \n284758 2015-05-15 17:43:01+03:00     1110.0     1270.0   \n284759 2015-04-29 16:55:02+03:00     1003.0     1327.0   \n284760 2015-04-16 17:25:47+03:00     1273.0     1420.0   \n284761 2015-04-16 17:26:43+03:00     1025.0        NaN   \n284762 2015-06-20 21:57:52+03:00     1113.0     1225.0   \n\n                                                   spec_0  \\\n0                           Программирование, Разработка    \n1                           Программирование, Разработка    \n2                           Программирование, Разработка    \n3       Информационные технологии, Интернет, Мультимедиа    \n4                              Информационные технологии    \n...                                                   ...   \n284758                      Программирование, Разработка    \n284759                           Оптимизация сайта (SEO)    \n284760                              Системная интеграция    \n284761                     Начальный уровень, Мало опыта    \n284762                     Начальный уровень, Мало опыта    \n\n                            spec_1                             spec_2  \n0              Сетевые технологии   Сотовые, Беспроводные технологии   \n1              Сетевые технологии                   Телекоммуникации   \n2                              NaN                                NaN  \n3                Консультирование                Поддержка, Helpdesk   \n4         Системный администратор                Поддержка, Helpdesk   \n...                            ...                                ...  \n284758  Компьютерная безопасность                 Сетевые технологии   \n284759   CTO, CIO, Директор по IT               Управление проектами   \n284760    Системный администратор           Администратор баз данных   \n284761                   Аналитик                                 NaN  \n284762     Консалтинг, Аутсорсинг                            Продажи   \n\n[284763 rows x 19 columns]",
      "text/html": "<div>\n<style scoped>\n    .dataframe tbody tr th:only-of-type {\n        vertical-align: middle;\n    }\n\n    .dataframe tbody tr th {\n        vertical-align: top;\n    }\n\n    .dataframe thead th {\n        text-align: right;\n    }\n</style>\n<table border=\"1\" class=\"dataframe\">\n  <thead>\n    <tr style=\"text-align: right;\">\n      <th></th>\n      <th>id</th>\n      <th>name</th>\n      <th>spec_id_0</th>\n      <th>description</th>\n      <th>key_skills</th>\n      <th>experience_id</th>\n      <th>employer_id</th>\n      <th>employer_name</th>\n      <th>salary_from</th>\n      <th>salary_to</th>\n      <th>salary_currency</th>\n      <th>area_id</th>\n      <th>area_name</th>\n      <th>published_at</th>\n      <th>spec_id_1</th>\n      <th>spec_id_2</th>\n      <th>spec_0</th>\n      <th>spec_1</th>\n      <th>spec_2</th>\n    </tr>\n  </thead>\n  <tbody>\n    <tr>\n      <th>0</th>\n      <td>7382570</td>\n      <td>Solution Architect</td>\n      <td>1221</td>\n      <td>&lt;p&gt; &lt;b&gt;&lt;span&gt;Responsibilities:&lt;/span&gt;&lt;/b&gt;&lt;/p&gt;&lt;...</td>\n      <td>NaN</td>\n      <td>between3And6</td>\n      <td>3945.0</td>\n      <td>Netcracker Technology Corp.</td>\n      <td>NaN</td>\n      <td>NaN</td>\n      <td>NaN</td>\n      <td>2</td>\n      <td>Санкт-Петербург</td>\n      <td>2015-03-18 13:48:26+03:00</td>\n      <td>1270.0</td>\n      <td>1277.0</td>\n      <td>Программирование, Разработка</td>\n      <td>Сетевые технологии</td>\n      <td>Сотовые, Беспроводные технологии</td>\n    </tr>\n    <tr>\n      <th>1</th>\n      <td>7382593</td>\n      <td>Technical Manager</td>\n      <td>1221</td>\n      <td>&lt;p&gt; &lt;span&gt;NetCracker Technology Corp., a large...</td>\n      <td>NaN</td>\n      <td>between3And6</td>\n      <td>3945.0</td>\n      <td>Netcracker Technology Corp.</td>\n      <td>NaN</td>\n      <td>NaN</td>\n      <td>NaN</td>\n      <td>2</td>\n      <td>Санкт-Петербург</td>\n      <td>2015-03-18 13:48:26+03:00</td>\n      <td>1270.0</td>\n      <td>1295.0</td>\n      <td>Программирование, Разработка</td>\n      <td>Сетевые технологии</td>\n      <td>Телекоммуникации</td>\n    </tr>\n    <tr>\n      <th>2</th>\n      <td>7382700</td>\n      <td>.NET Разработчик</td>\n      <td>1221</td>\n      <td>&lt;p&gt;Компания, которая является лидером в област...</td>\n      <td>NaN</td>\n      <td>between3And6</td>\n      <td>841087.0</td>\n      <td>IHS Global</td>\n      <td>NaN</td>\n      <td>NaN</td>\n      <td>NaN</td>\n      <td>1002</td>\n      <td>Минск</td>\n      <td>2015-01-05 10:08:31+03:00</td>\n      <td>NaN</td>\n      <td>NaN</td>\n      <td>Программирование, Разработка</td>\n      <td>NaN</td>\n      <td>NaN</td>\n    </tr>\n    <tr>\n      <th>3</th>\n      <td>12760014</td>\n      <td>Специалист технической поддержки (г. Зеленоград)</td>\n      <td>15093</td>\n      <td>&lt;p&gt;&lt;strong&gt;Требования:&lt;/strong&gt;&lt;/p&gt; &lt;ul&gt; &lt;li&gt;в...</td>\n      <td>NaN</td>\n      <td>between1And3</td>\n      <td>13820.0</td>\n      <td>АКАДО Телеком</td>\n      <td>NaN</td>\n      <td>36400.0</td>\n      <td>RUR</td>\n      <td>2088</td>\n      <td>Зеленоград</td>\n      <td>2015-02-11 09:14:08+03:00</td>\n      <td>15391.0</td>\n      <td>1211.0</td>\n      <td>Информационные технологии, Интернет, Мультимедиа</td>\n      <td>Консультирование</td>\n      <td>Поддержка, Helpdesk</td>\n    </tr>\n    <tr>\n      <th>4</th>\n      <td>12760016</td>\n      <td>Технический специалист (г. Зеленоград)</td>\n      <td>12092</td>\n      <td>&lt;p&gt;&lt;strong&gt;Основные обязанности:&lt;/strong&gt;&lt;/p&gt; ...</td>\n      <td>NaN</td>\n      <td>between1And3</td>\n      <td>13820.0</td>\n      <td>АКАДО Телеком</td>\n      <td>36400.0</td>\n      <td>42000.0</td>\n      <td>RUR</td>\n      <td>2088</td>\n      <td>Зеленоград</td>\n      <td>2015-02-11 09:14:16+03:00</td>\n      <td>1273.0</td>\n      <td>1211.0</td>\n      <td>Информационные технологии</td>\n      <td>Системный администратор</td>\n      <td>Поддержка, Helpdesk</td>\n    </tr>\n    <tr>\n      <th>...</th>\n      <td>...</td>\n      <td>...</td>\n      <td>...</td>\n      <td>...</td>\n      <td>...</td>\n      <td>...</td>\n      <td>...</td>\n      <td>...</td>\n      <td>...</td>\n      <td>...</td>\n      <td>...</td>\n      <td>...</td>\n      <td>...</td>\n      <td>...</td>\n      <td>...</td>\n      <td>...</td>\n      <td>...</td>\n      <td>...</td>\n      <td>...</td>\n    </tr>\n    <tr>\n      <th>284758</th>\n      <td>13279918</td>\n      <td>JavaScript разработчик Front-End</td>\n      <td>1221</td>\n      <td>&lt;p&gt;&lt;strong&gt;Обазянности:&lt;/strong&gt;&lt;/p&gt; &lt;ul&gt; &lt;li&gt;...</td>\n      <td>NaN</td>\n      <td>between1And3</td>\n      <td>40912.0</td>\n      <td>БИФИТ</td>\n      <td>NaN</td>\n      <td>NaN</td>\n      <td>NaN</td>\n      <td>1</td>\n      <td>Москва</td>\n      <td>2015-05-15 17:43:01+03:00</td>\n      <td>1110.0</td>\n      <td>1270.0</td>\n      <td>Программирование, Разработка</td>\n      <td>Компьютерная безопасность</td>\n      <td>Сетевые технологии</td>\n    </tr>\n    <tr>\n      <th>284759</th>\n      <td>13279965</td>\n      <td>Менеджер проектов 1С / Специалист-проектировщик.</td>\n      <td>1400</td>\n      <td>&lt;p&gt;&lt;strong&gt;Должностные обязанности:&lt;/strong&gt;&lt;/...</td>\n      <td>NaN</td>\n      <td>between3And6</td>\n      <td>1305566.0</td>\n      <td>Хорошая связь</td>\n      <td>NaN</td>\n      <td>NaN</td>\n      <td>NaN</td>\n      <td>73</td>\n      <td>Петрозаводск</td>\n      <td>2015-04-29 16:55:02+03:00</td>\n      <td>1003.0</td>\n      <td>1327.0</td>\n      <td>Оптимизация сайта (SEO)</td>\n      <td>CTO, CIO, Директор по IT</td>\n      <td>Управление проектами</td>\n    </tr>\n    <tr>\n      <th>284760</th>\n      <td>13279985</td>\n      <td>Главный системный инженер</td>\n      <td>1272</td>\n      <td>&lt;p&gt;&lt;strong&gt;Обязанности&lt;/strong&gt;:&lt;/p&gt; &lt;ul&gt; &lt;li&gt;...</td>\n      <td>NaN</td>\n      <td>between3And6</td>\n      <td>1651539.0</td>\n      <td>Верси</td>\n      <td>35000.0</td>\n      <td>NaN</td>\n      <td>RUR</td>\n      <td>23</td>\n      <td>Владимир</td>\n      <td>2015-04-16 17:25:47+03:00</td>\n      <td>1273.0</td>\n      <td>1420.0</td>\n      <td>Системная интеграция</td>\n      <td>Системный администратор</td>\n      <td>Администратор баз данных</td>\n    </tr>\n    <tr>\n      <th>284761</th>\n      <td>13279991</td>\n      <td>Младший аналитик</td>\n      <td>1172</td>\n      <td>&lt;p&gt;&lt;strong&gt;Обязанности:&lt;/strong&gt;&lt;/p&gt; &lt;ul&gt; &lt;li&gt;...</td>\n      <td>NaN</td>\n      <td>noExperience</td>\n      <td>1735.0</td>\n      <td>НПК КАТАРСИС</td>\n      <td>28000.0</td>\n      <td>30000.0</td>\n      <td>RUR</td>\n      <td>2</td>\n      <td>Санкт-Петербург</td>\n      <td>2015-04-16 17:26:43+03:00</td>\n      <td>1025.0</td>\n      <td>NaN</td>\n      <td>Начальный уровень, Мало опыта</td>\n      <td>Аналитик</td>\n      <td>NaN</td>\n    </tr>\n    <tr>\n      <th>284762</th>\n      <td>4510160</td>\n      <td>Менеджер по работе с клиентами (г.Иркутск)</td>\n      <td>1172</td>\n      <td>&lt;p&gt;&lt;strong&gt;Группа компаний &amp;quot;Госзаказ&amp;quot...</td>\n      <td>NaN</td>\n      <td>between1And3</td>\n      <td>2510893.0</td>\n      <td>Центр заключения контрактов</td>\n      <td>50000.0</td>\n      <td>80000.0</td>\n      <td>RUR</td>\n      <td>35</td>\n      <td>Иркутск</td>\n      <td>2015-06-20 21:57:52+03:00</td>\n      <td>1113.0</td>\n      <td>1225.0</td>\n      <td>Начальный уровень, Мало опыта</td>\n      <td>Консалтинг, Аутсорсинг</td>\n      <td>Продажи</td>\n    </tr>\n  </tbody>\n</table>\n<p>284763 rows × 19 columns</p>\n</div>"
     },
     "metadata": {},
     "output_type": "display_data"
    }
   ],
   "source": [
    "for key in df_list.keys():\n",
    "    print(key)\n",
    "    display(df_list[key])"
   ],
   "metadata": {
    "collapsed": false,
    "ExecuteTime": {
     "end_time": "2024-05-06T13:58:27.730677725Z",
     "start_time": "2024-05-06T13:58:27.463223246Z"
    }
   },
   "id": "6402f9f8de2e42d"
  },
  {
   "cell_type": "markdown",
   "source": [
    "### Описание типов данных по признакам"
   ],
   "metadata": {
    "collapsed": false
   },
   "id": "4b5cad29c4bbdf7d"
  },
  {
   "cell_type": "code",
   "execution_count": 7,
   "outputs": [
    {
     "name": "stdout",
     "output_type": "stream",
     "text": [
      "\n",
      "Датаcет hh_data_it_2022:\n",
      "<class 'pandas.core.frame.DataFrame'>\n",
      "RangeIndex: 40398 entries, 0 to 40397\n",
      "Data columns (total 40 columns):\n",
      " #   Column           Non-Null Count  Dtype  \n",
      "---  ------           --------------  -----  \n",
      " 0   id               40398 non-null  int64  \n",
      " 1   name             40339 non-null  object \n",
      " 2   spec_id_0        40186 non-null  float64\n",
      " 3   description      40398 non-null  object \n",
      " 4   key_skills       33633 non-null  object \n",
      " 5   experience_id    40391 non-null  object \n",
      " 6   employer_id      40284 non-null  object \n",
      " 7   employer_name    40368 non-null  object \n",
      " 8   salary_from      18011 non-null  object \n",
      " 9   salary_to        10750 non-null  object \n",
      " 10  salary_currency  19837 non-null  object \n",
      " 11  area_id          40320 non-null  object \n",
      " 12  area_name        40306 non-null  object \n",
      " 13  published_at     40343 non-null  object \n",
      " 14  Unnamed: 54      132 non-null    object \n",
      " 15  Unnamed: 55      113 non-null    object \n",
      " 16  Unnamed: 56      79 non-null     object \n",
      " 17  Unnamed: 57      78 non-null     object \n",
      " 18  Unnamed: 58      72 non-null     object \n",
      " 19  Unnamed: 59      58 non-null     object \n",
      " 20  Unnamed: 60      55 non-null     object \n",
      " 21  Unnamed: 61      40 non-null     object \n",
      " 22  Unnamed: 62      33 non-null     object \n",
      " 23  Unnamed: 63      31 non-null     object \n",
      " 24  Unnamed: 64      25 non-null     object \n",
      " 25  Unnamed: 65      17 non-null     object \n",
      " 26  Unnamed: 66      9 non-null      object \n",
      " 27  Unnamed: 67      5 non-null      object \n",
      " 28  Unnamed: 68      5 non-null      object \n",
      " 29  Unnamed: 69      9 non-null      object \n",
      " 30  Unnamed: 70      6 non-null      object \n",
      " 31  Unnamed: 71      2 non-null      object \n",
      " 32  Unnamed: 72      2 non-null      object \n",
      " 33  Unnamed: 73      2 non-null      object \n",
      " 34  Unnamed: 74      1 non-null      object \n",
      " 35  spec_id_1        38361 non-null  float64\n",
      " 36  spec_id_2        35284 non-null  float64\n",
      " 37  spec_0           40186 non-null  object \n",
      " 38  spec_1           38361 non-null  object \n",
      " 39  spec_2           35284 non-null  object \n",
      "dtypes: float64(3), int64(1), object(36)\n",
      "memory usage: 12.3+ MB\n",
      "\n",
      "Датаcет hh_data_it_2021:\n",
      "<class 'pandas.core.frame.DataFrame'>\n",
      "RangeIndex: 287915 entries, 0 to 287914\n",
      "Data columns (total 19 columns):\n",
      " #   Column           Non-Null Count   Dtype                    \n",
      "---  ------           --------------   -----                    \n",
      " 0   id               287915 non-null  int64                    \n",
      " 1   name             287915 non-null  object                   \n",
      " 2   spec_id_0        287915 non-null  int64                    \n",
      " 3   description      287915 non-null  object                   \n",
      " 4   key_skills       229830 non-null  object                   \n",
      " 5   experience_id    287915 non-null  object                   \n",
      " 6   employer_id      287477 non-null  float64                  \n",
      " 7   employer_name    287915 non-null  object                   \n",
      " 8   salary_from      124427 non-null  float64                  \n",
      " 9   salary_to        78088 non-null   float64                  \n",
      " 10  salary_currency  137310 non-null  object                   \n",
      " 11  area_id          287915 non-null  int64                    \n",
      " 12  area_name        287915 non-null  object                   \n",
      " 13  published_at     287915 non-null  datetime64[ns, UTC+03:00]\n",
      " 14  spec_id_1        224241 non-null  float64                  \n",
      " 15  spec_id_2        177547 non-null  float64                  \n",
      " 16  spec_0           287915 non-null  object                   \n",
      " 17  spec_1           224241 non-null  object                   \n",
      " 18  spec_2           177547 non-null  object                   \n",
      "dtypes: datetime64[ns, UTC+03:00](1), float64(5), int64(3), object(10)\n",
      "memory usage: 41.7+ MB\n",
      "\n",
      "Датаcет hh_data_it_2020:\n",
      "<class 'pandas.core.frame.DataFrame'>\n",
      "RangeIndex: 587637 entries, 0 to 587636\n",
      "Data columns (total 19 columns):\n",
      " #   Column           Non-Null Count   Dtype                    \n",
      "---  ------           --------------   -----                    \n",
      " 0   id               587637 non-null  int64                    \n",
      " 1   name             587637 non-null  object                   \n",
      " 2   spec_id_0        587637 non-null  int64                    \n",
      " 3   description      587637 non-null  object                   \n",
      " 4   key_skills       431738 non-null  object                   \n",
      " 5   experience_id    587637 non-null  object                   \n",
      " 6   employer_id      586477 non-null  float64                  \n",
      " 7   employer_name    587637 non-null  object                   \n",
      " 8   salary_from      258741 non-null  float64                  \n",
      " 9   salary_to        164509 non-null  float64                  \n",
      " 10  salary_currency  285014 non-null  object                   \n",
      " 11  area_id          587637 non-null  int64                    \n",
      " 12  area_name        587637 non-null  object                   \n",
      " 13  published_at     587637 non-null  datetime64[ns, UTC+03:00]\n",
      " 14  spec_id_1        466800 non-null  float64                  \n",
      " 15  spec_id_2        370571 non-null  float64                  \n",
      " 16  spec_0           587637 non-null  object                   \n",
      " 17  spec_1           466800 non-null  object                   \n",
      " 18  spec_2           370571 non-null  object                   \n",
      "dtypes: datetime64[ns, UTC+03:00](1), float64(5), int64(3), object(10)\n",
      "memory usage: 85.2+ MB\n",
      "\n",
      "Датаcет hh_data_it_2019:\n",
      "<class 'pandas.core.frame.DataFrame'>\n",
      "RangeIndex: 535956 entries, 0 to 535955\n",
      "Data columns (total 19 columns):\n",
      " #   Column           Non-Null Count   Dtype                    \n",
      "---  ------           --------------   -----                    \n",
      " 0   id               535956 non-null  int64                    \n",
      " 1   name             535956 non-null  object                   \n",
      " 2   spec_id_0        535956 non-null  int64                    \n",
      " 3   description      535956 non-null  object                   \n",
      " 4   key_skills       253047 non-null  object                   \n",
      " 5   experience_id    535956 non-null  object                   \n",
      " 6   employer_id      534903 non-null  float64                  \n",
      " 7   employer_name    535956 non-null  object                   \n",
      " 8   salary_from      243087 non-null  float64                  \n",
      " 9   salary_to        154594 non-null  float64                  \n",
      " 10  salary_currency  266918 non-null  object                   \n",
      " 11  area_id          535956 non-null  int64                    \n",
      " 12  area_name        535956 non-null  object                   \n",
      " 13  published_at     535956 non-null  datetime64[ns, UTC+03:00]\n",
      " 14  spec_id_1        439291 non-null  float64                  \n",
      " 15  spec_id_2        355816 non-null  float64                  \n",
      " 16  spec_0           535956 non-null  object                   \n",
      " 17  spec_1           439291 non-null  object                   \n",
      " 18  spec_2           355816 non-null  object                   \n",
      "dtypes: datetime64[ns, UTC+03:00](1), float64(5), int64(3), object(10)\n",
      "memory usage: 77.7+ MB\n",
      "\n",
      "Датаcет hh_data_it_2018:\n",
      "<class 'pandas.core.frame.DataFrame'>\n",
      "RangeIndex: 517670 entries, 0 to 517669\n",
      "Data columns (total 19 columns):\n",
      " #   Column           Non-Null Count   Dtype                    \n",
      "---  ------           --------------   -----                    \n",
      " 0   id               517670 non-null  int64                    \n",
      " 1   name             517670 non-null  object                   \n",
      " 2   spec_id_0        517670 non-null  int64                    \n",
      " 3   description      517670 non-null  object                   \n",
      " 4   key_skills       173650 non-null  object                   \n",
      " 5   experience_id    517670 non-null  object                   \n",
      " 6   employer_id      516705 non-null  float64                  \n",
      " 7   employer_name    517670 non-null  object                   \n",
      " 8   salary_from      262150 non-null  float64                  \n",
      " 9   salary_to        170846 non-null  float64                  \n",
      " 10  salary_currency  283688 non-null  object                   \n",
      " 11  area_id          517670 non-null  int64                    \n",
      " 12  area_name        517670 non-null  object                   \n",
      " 13  published_at     517670 non-null  datetime64[ns, UTC+03:00]\n",
      " 14  spec_id_1        431249 non-null  float64                  \n",
      " 15  spec_id_2        356666 non-null  float64                  \n",
      " 16  spec_0           517670 non-null  object                   \n",
      " 17  spec_1           431249 non-null  object                   \n",
      " 18  spec_2           356666 non-null  object                   \n",
      "dtypes: datetime64[ns, UTC+03:00](1), float64(5), int64(3), object(10)\n",
      "memory usage: 75.0+ MB\n",
      "\n",
      "Датаcет hh_data_it_2017:\n",
      "<class 'pandas.core.frame.DataFrame'>\n",
      "RangeIndex: 391464 entries, 0 to 391463\n",
      "Data columns (total 19 columns):\n",
      " #   Column           Non-Null Count   Dtype                    \n",
      "---  ------           --------------   -----                    \n",
      " 0   id               391464 non-null  int64                    \n",
      " 1   name             391464 non-null  object                   \n",
      " 2   spec_id_0        391464 non-null  int64                    \n",
      " 3   description      391464 non-null  object                   \n",
      " 4   key_skills       114195 non-null  object                   \n",
      " 5   experience_id    391464 non-null  object                   \n",
      " 6   employer_id      390672 non-null  float64                  \n",
      " 7   employer_name    391464 non-null  object                   \n",
      " 8   salary_from      187747 non-null  float64                  \n",
      " 9   salary_to        111855 non-null  float64                  \n",
      " 10  salary_currency  203791 non-null  object                   \n",
      " 11  area_id          391464 non-null  int64                    \n",
      " 12  area_name        391464 non-null  object                   \n",
      " 13  published_at     391464 non-null  datetime64[ns, UTC+03:00]\n",
      " 14  spec_id_1        325442 non-null  float64                  \n",
      " 15  spec_id_2        267133 non-null  float64                  \n",
      " 16  spec_0           391464 non-null  object                   \n",
      " 17  spec_1           325442 non-null  object                   \n",
      " 18  spec_2           267133 non-null  object                   \n",
      "dtypes: datetime64[ns, UTC+03:00](1), float64(5), int64(3), object(10)\n",
      "memory usage: 56.7+ MB\n",
      "\n",
      "Датаcет hh_data_it_2016:\n",
      "<class 'pandas.core.frame.DataFrame'>\n",
      "RangeIndex: 332460 entries, 0 to 332459\n",
      "Data columns (total 19 columns):\n",
      " #   Column           Non-Null Count   Dtype                    \n",
      "---  ------           --------------   -----                    \n",
      " 0   id               332460 non-null  int64                    \n",
      " 1   name             332460 non-null  object                   \n",
      " 2   spec_id_0        332460 non-null  int64                    \n",
      " 3   description      332460 non-null  object                   \n",
      " 4   key_skills       81745 non-null   object                   \n",
      " 5   experience_id    332460 non-null  object                   \n",
      " 6   employer_id      331766 non-null  float64                  \n",
      " 7   employer_name    332460 non-null  object                   \n",
      " 8   salary_from      165429 non-null  float64                  \n",
      " 9   salary_to        97742 non-null   float64                  \n",
      " 10  salary_currency  177431 non-null  object                   \n",
      " 11  area_id          332460 non-null  int64                    \n",
      " 12  area_name        332460 non-null  object                   \n",
      " 13  published_at     332460 non-null  datetime64[ns, UTC+03:00]\n",
      " 14  spec_id_1        281300 non-null  float64                  \n",
      " 15  spec_id_2        231981 non-null  float64                  \n",
      " 16  spec_0           332460 non-null  object                   \n",
      " 17  spec_1           281300 non-null  object                   \n",
      " 18  spec_2           231981 non-null  object                   \n",
      "dtypes: datetime64[ns, UTC+03:00](1), float64(5), int64(3), object(10)\n",
      "memory usage: 48.2+ MB\n",
      "\n",
      "Датаcет hh_data_it_2015:\n",
      "<class 'pandas.core.frame.DataFrame'>\n",
      "RangeIndex: 284763 entries, 0 to 284762\n",
      "Data columns (total 19 columns):\n",
      " #   Column           Non-Null Count   Dtype                    \n",
      "---  ------           --------------   -----                    \n",
      " 0   id               284763 non-null  int64                    \n",
      " 1   name             284763 non-null  object                   \n",
      " 2   spec_id_0        284763 non-null  int64                    \n",
      " 3   description      284763 non-null  object                   \n",
      " 4   key_skills       31596 non-null   object                   \n",
      " 5   experience_id    284763 non-null  object                   \n",
      " 6   employer_id      284203 non-null  float64                  \n",
      " 7   employer_name    284763 non-null  object                   \n",
      " 8   salary_from      137501 non-null  float64                  \n",
      " 9   salary_to        89131 non-null   float64                  \n",
      " 10  salary_currency  147698 non-null  object                   \n",
      " 11  area_id          284763 non-null  int64                    \n",
      " 12  area_name        284763 non-null  object                   \n",
      " 13  published_at     284763 non-null  datetime64[ns, UTC+03:00]\n",
      " 14  spec_id_1        241396 non-null  float64                  \n",
      " 15  spec_id_2        203511 non-null  float64                  \n",
      " 16  spec_0           284763 non-null  object                   \n",
      " 17  spec_1           241396 non-null  object                   \n",
      " 18  spec_2           203511 non-null  object                   \n",
      "dtypes: datetime64[ns, UTC+03:00](1), float64(5), int64(3), object(10)\n",
      "memory usage: 41.3+ MB\n"
     ]
    }
   ],
   "source": [
    "for i, dfi in df_list.items():\n",
    "    print(f'\\nДатаcет {i}:')\n",
    "    dfi.info()"
   ],
   "metadata": {
    "collapsed": false,
    "ExecuteTime": {
     "end_time": "2024-05-06T13:58:43.635432635Z",
     "start_time": "2024-05-06T13:58:42.540276190Z"
    }
   },
   "id": "f1dff3b72fe09f61"
  },
  {
   "cell_type": "markdown",
   "source": [
    "## 2.3. Предварительная обработка датасетов\n",
    "### Удаление аномальных данных"
   ],
   "metadata": {
    "collapsed": false
   },
   "id": "260389fcfa598321"
  },
  {
   "cell_type": "markdown",
   "source": [
    "Анализ полученных данных показывает, что некоторые строки загрузились неверно, что привело к появлению безымянных столбцов.\n",
    "Ошибка связана с дефектом в записи в csv файле с данными из-за наличия поля \"description\" со сложным форматированием. Поскольку количество данных достаточно велико, наиболее целесообразно просто удалить ошибочные данные."
   ],
   "metadata": {
    "collapsed": false
   },
   "id": "59c8d6d9fbfa2f64"
  },
  {
   "cell_type": "markdown",
   "source": [
    "Строки с ошибками:"
   ],
   "metadata": {
    "collapsed": false
   },
   "id": "b36d5c7ca5d226b2"
  },
  {
   "cell_type": "code",
   "execution_count": 8,
   "outputs": [
    {
     "name": "stdout",
     "output_type": "stream",
     "text": [
      "\n",
      "Датаcет hh_data_it_2022:\n"
     ]
    },
    {
     "data": {
      "text/plain": "             id      name  spec_id_0  \\\n39     43334290   1246145        NaN   \n40     43334291   1246145        NaN   \n160    45637986  Открытая        NaN   \n971    49020813       NaN        NaN   \n1405   49184951       RUR        NaN   \n...         ...       ...        ...   \n39852  54034752     False        NaN   \n40161  54152275  Открытая        NaN   \n40162  54152276  Открытая        NaN   \n40163  54152277  Открытая        NaN   \n40288  54154108       NaN        NaN   \n\n                                             description  \\\n39     <p><strong>Обязанности:</strong></p> <ul> <li>...   \n40     <p><strong>Обязанности:</strong></p> <ul> <li>...   \n160    <p><strong>В связи с увеличением объема произв...   \n971                                         <p>ООО &quot   \n1405   <strong>Обязанности:</strong> <ul> <li>Токарна...   \n...                                                  ...   \n39852  <p><strong>Вахта до конца декабря в г. Гродно ...   \n40161  <strong>Обязанности:</strong> <ul> <li> <p>Ана...   \n40162  <strong>Обязанности:</strong> <ul> <li> <p>Ана...   \n40163  <strong>Обязанности:</strong> <ul> <li> <p>Ана...   \n40288  <strong>Обязанности:</strong> <p>- работа на с...   \n\n                                              key_skills  \\\n39     </li> <li>проведение ремонта транспортных средств   \n40     </li> <li>проведение ремонта транспортных средств   \n160    </li> </ul> <strong>Требования:</strong> <ul> ...   \n971                               Грин Агро-Сахалин&quot   \n1405             </li> <li>Глубокое сверление и расточка   \n...                                                  ...   \n39852  </li> <li>Опыт работы шлифовщиком от 1 года.</...   \n40161  </p> </li> <li> <p>Анализ исходного кода пакет...   \n40162  </p> </li> <li> <p>Анализ исходного кода пакет...   \n40163  </p> </li> <li> <p>Анализ исходного кода пакет...   \n40288                             <br />- внимательность   \n\n                               experience_id  \\\n39             </li> <li>знание программы 1С   \n40             </li> <li>знание программы 1С   \n160            </strong></li> <li>Спецодежда   \n971             заработная плата.</li> </ul>   \n1405                                   False   \n...                                      ...   \n39852                                  False   \n40161  </p> </li> <li> <p>Знание СУБД Oracle   \n40162  </p> </li> <li> <p>Знание СУБД Oracle   \n40163  </p> </li> <li> <p>Знание СУБД Oracle   \n40288      <br />- стабильное наличие работы   \n\n                                         employer_id  \\\n39     </p> </li> <li> <p>Предоставляется спецодежда   \n40     </p> </li> <li> <p>Предоставляется спецодежда   \n160                               От 1 года до 3 лет   \n971                                         standard   \n1405                                             NaN   \n...                                              ...   \n39852                                           True   \n40161                                  От 3 до 6 лет   \n40162                                  От 3 до 6 лет   \n40163                                  От 3 до 6 лет   \n40288                                            NaN   \n\n                                           employer_name salary_from  \\\n39     </p> </li> <li> <p>Трудоустройство осуществляе...    Стандарт   \n40     </p> </li> <li> <p>Трудоустройство осуществляе...    Стандарт   \n160    18.142 Машиностроение 18 Производство, сельско...        True   \n971                                             Стандарт       False   \n1405                                               False         NaN   \n...                                                  ...         ...   \n39852                                            2255720         NaN   \n40161  17.751 Другое 17 Продажи\\n1.25 Аналитик 1 Инфо...        True   \n40162  17.751 Другое 17 Продажи\\n1.25 Аналитик 1 Инфо...        True   \n40163  17.751 Другое 17 Продажи\\n1.25 Аналитик 1 Инфо...        True   \n40288                                               free         NaN   \n\n                           salary_to  ...       Unnamed: 70 Unnamed: 71  \\\n39                              True  ...  Полная занятость         NaN   \n40                              True  ...  Полная занятость         NaN   \n160    https://hh.ru/employer/140061  ...               NaN         NaN   \n971                             open  ...               NaN         NaN   \n1405                             NaN  ...               NaN         NaN   \n...                              ...  ...               ...         ...   \n39852                            NaN  ...               NaN         NaN   \n40161    https://hh.ru/employer/6189  ...               NaN         NaN   \n40162    https://hh.ru/employer/6189  ...               NaN         NaN   \n40163    https://hh.ru/employer/6189  ...               NaN         NaN   \n40288                          False  ...               NaN         NaN   \n\n      Unnamed: 72 Unnamed: 73 Unnamed: 74 spec_id_1 spec_id_2 spec_0 spec_1  \\\n39            NaN         NaN         NaN       NaN       NaN    NaN    NaN   \n40            NaN         NaN         NaN       NaN       NaN    NaN    NaN   \n160           NaN         NaN         NaN       NaN       NaN    NaN    NaN   \n971           NaN         NaN         NaN       NaN       NaN    NaN    NaN   \n1405          NaN         NaN         NaN       NaN       NaN    NaN    NaN   \n...           ...         ...         ...       ...       ...    ...    ...   \n39852         NaN         NaN         NaN       NaN       NaN    NaN    NaN   \n40161         NaN         NaN         NaN       NaN       NaN    NaN    NaN   \n40162         NaN         NaN         NaN       NaN       NaN    NaN    NaN   \n40163         NaN         NaN         NaN       NaN       NaN    NaN    NaN   \n40288         NaN         NaN         NaN       NaN       NaN    NaN    NaN   \n\n      spec_2  \n39       NaN  \n40       NaN  \n160      NaN  \n971      NaN  \n1405     NaN  \n...      ...  \n39852    NaN  \n40161    NaN  \n40162    NaN  \n40163    NaN  \n40288    NaN  \n\n[216 rows x 40 columns]",
      "text/html": "<div>\n<style scoped>\n    .dataframe tbody tr th:only-of-type {\n        vertical-align: middle;\n    }\n\n    .dataframe tbody tr th {\n        vertical-align: top;\n    }\n\n    .dataframe thead th {\n        text-align: right;\n    }\n</style>\n<table border=\"1\" class=\"dataframe\">\n  <thead>\n    <tr style=\"text-align: right;\">\n      <th></th>\n      <th>id</th>\n      <th>name</th>\n      <th>spec_id_0</th>\n      <th>description</th>\n      <th>key_skills</th>\n      <th>experience_id</th>\n      <th>employer_id</th>\n      <th>employer_name</th>\n      <th>salary_from</th>\n      <th>salary_to</th>\n      <th>...</th>\n      <th>Unnamed: 70</th>\n      <th>Unnamed: 71</th>\n      <th>Unnamed: 72</th>\n      <th>Unnamed: 73</th>\n      <th>Unnamed: 74</th>\n      <th>spec_id_1</th>\n      <th>spec_id_2</th>\n      <th>spec_0</th>\n      <th>spec_1</th>\n      <th>spec_2</th>\n    </tr>\n  </thead>\n  <tbody>\n    <tr>\n      <th>39</th>\n      <td>43334290</td>\n      <td>1246145</td>\n      <td>NaN</td>\n      <td>&lt;p&gt;&lt;strong&gt;Обязанности:&lt;/strong&gt;&lt;/p&gt; &lt;ul&gt; &lt;li&gt;...</td>\n      <td>&lt;/li&gt; &lt;li&gt;проведение ремонта транспортных средств</td>\n      <td>&lt;/li&gt; &lt;li&gt;знание программы 1С</td>\n      <td>&lt;/p&gt; &lt;/li&gt; &lt;li&gt; &lt;p&gt;Предоставляется спецодежда</td>\n      <td>&lt;/p&gt; &lt;/li&gt; &lt;li&gt; &lt;p&gt;Трудоустройство осуществляе...</td>\n      <td>Стандарт</td>\n      <td>True</td>\n      <td>...</td>\n      <td>Полная занятость</td>\n      <td>NaN</td>\n      <td>NaN</td>\n      <td>NaN</td>\n      <td>NaN</td>\n      <td>NaN</td>\n      <td>NaN</td>\n      <td>NaN</td>\n      <td>NaN</td>\n      <td>NaN</td>\n    </tr>\n    <tr>\n      <th>40</th>\n      <td>43334291</td>\n      <td>1246145</td>\n      <td>NaN</td>\n      <td>&lt;p&gt;&lt;strong&gt;Обязанности:&lt;/strong&gt;&lt;/p&gt; &lt;ul&gt; &lt;li&gt;...</td>\n      <td>&lt;/li&gt; &lt;li&gt;проведение ремонта транспортных средств</td>\n      <td>&lt;/li&gt; &lt;li&gt;знание программы 1С</td>\n      <td>&lt;/p&gt; &lt;/li&gt; &lt;li&gt; &lt;p&gt;Предоставляется спецодежда</td>\n      <td>&lt;/p&gt; &lt;/li&gt; &lt;li&gt; &lt;p&gt;Трудоустройство осуществляе...</td>\n      <td>Стандарт</td>\n      <td>True</td>\n      <td>...</td>\n      <td>Полная занятость</td>\n      <td>NaN</td>\n      <td>NaN</td>\n      <td>NaN</td>\n      <td>NaN</td>\n      <td>NaN</td>\n      <td>NaN</td>\n      <td>NaN</td>\n      <td>NaN</td>\n      <td>NaN</td>\n    </tr>\n    <tr>\n      <th>160</th>\n      <td>45637986</td>\n      <td>Открытая</td>\n      <td>NaN</td>\n      <td>&lt;p&gt;&lt;strong&gt;В связи с увеличением объема произв...</td>\n      <td>&lt;/li&gt; &lt;/ul&gt; &lt;strong&gt;Требования:&lt;/strong&gt; &lt;ul&gt; ...</td>\n      <td>&lt;/strong&gt;&lt;/li&gt; &lt;li&gt;Спецодежда</td>\n      <td>От 1 года до 3 лет</td>\n      <td>18.142 Машиностроение 18 Производство, сельско...</td>\n      <td>True</td>\n      <td>https://hh.ru/employer/140061</td>\n      <td>...</td>\n      <td>NaN</td>\n      <td>NaN</td>\n      <td>NaN</td>\n      <td>NaN</td>\n      <td>NaN</td>\n      <td>NaN</td>\n      <td>NaN</td>\n      <td>NaN</td>\n      <td>NaN</td>\n      <td>NaN</td>\n    </tr>\n    <tr>\n      <th>971</th>\n      <td>49020813</td>\n      <td>NaN</td>\n      <td>NaN</td>\n      <td>&lt;p&gt;ООО &amp;quot</td>\n      <td>Грин Агро-Сахалин&amp;quot</td>\n      <td>заработная плата.&lt;/li&gt; &lt;/ul&gt;</td>\n      <td>standard</td>\n      <td>Стандарт</td>\n      <td>False</td>\n      <td>open</td>\n      <td>...</td>\n      <td>NaN</td>\n      <td>NaN</td>\n      <td>NaN</td>\n      <td>NaN</td>\n      <td>NaN</td>\n      <td>NaN</td>\n      <td>NaN</td>\n      <td>NaN</td>\n      <td>NaN</td>\n      <td>NaN</td>\n    </tr>\n    <tr>\n      <th>1405</th>\n      <td>49184951</td>\n      <td>RUR</td>\n      <td>NaN</td>\n      <td>&lt;strong&gt;Обязанности:&lt;/strong&gt; &lt;ul&gt; &lt;li&gt;Токарна...</td>\n      <td>&lt;/li&gt; &lt;li&gt;Глубокое сверление и расточка</td>\n      <td>False</td>\n      <td>NaN</td>\n      <td>False</td>\n      <td>NaN</td>\n      <td>NaN</td>\n      <td>...</td>\n      <td>NaN</td>\n      <td>NaN</td>\n      <td>NaN</td>\n      <td>NaN</td>\n      <td>NaN</td>\n      <td>NaN</td>\n      <td>NaN</td>\n      <td>NaN</td>\n      <td>NaN</td>\n      <td>NaN</td>\n    </tr>\n    <tr>\n      <th>...</th>\n      <td>...</td>\n      <td>...</td>\n      <td>...</td>\n      <td>...</td>\n      <td>...</td>\n      <td>...</td>\n      <td>...</td>\n      <td>...</td>\n      <td>...</td>\n      <td>...</td>\n      <td>...</td>\n      <td>...</td>\n      <td>...</td>\n      <td>...</td>\n      <td>...</td>\n      <td>...</td>\n      <td>...</td>\n      <td>...</td>\n      <td>...</td>\n      <td>...</td>\n      <td>...</td>\n    </tr>\n    <tr>\n      <th>39852</th>\n      <td>54034752</td>\n      <td>False</td>\n      <td>NaN</td>\n      <td>&lt;p&gt;&lt;strong&gt;Вахта до конца декабря в г. Гродно ...</td>\n      <td>&lt;/li&gt; &lt;li&gt;Опыт работы шлифовщиком от 1 года.&lt;/...</td>\n      <td>False</td>\n      <td>True</td>\n      <td>2255720</td>\n      <td>NaN</td>\n      <td>NaN</td>\n      <td>...</td>\n      <td>NaN</td>\n      <td>NaN</td>\n      <td>NaN</td>\n      <td>NaN</td>\n      <td>NaN</td>\n      <td>NaN</td>\n      <td>NaN</td>\n      <td>NaN</td>\n      <td>NaN</td>\n      <td>NaN</td>\n    </tr>\n    <tr>\n      <th>40161</th>\n      <td>54152275</td>\n      <td>Открытая</td>\n      <td>NaN</td>\n      <td>&lt;strong&gt;Обязанности:&lt;/strong&gt; &lt;ul&gt; &lt;li&gt; &lt;p&gt;Ана...</td>\n      <td>&lt;/p&gt; &lt;/li&gt; &lt;li&gt; &lt;p&gt;Анализ исходного кода пакет...</td>\n      <td>&lt;/p&gt; &lt;/li&gt; &lt;li&gt; &lt;p&gt;Знание СУБД Oracle</td>\n      <td>От 3 до 6 лет</td>\n      <td>17.751 Другое 17 Продажи\\n1.25 Аналитик 1 Инфо...</td>\n      <td>True</td>\n      <td>https://hh.ru/employer/6189</td>\n      <td>...</td>\n      <td>NaN</td>\n      <td>NaN</td>\n      <td>NaN</td>\n      <td>NaN</td>\n      <td>NaN</td>\n      <td>NaN</td>\n      <td>NaN</td>\n      <td>NaN</td>\n      <td>NaN</td>\n      <td>NaN</td>\n    </tr>\n    <tr>\n      <th>40162</th>\n      <td>54152276</td>\n      <td>Открытая</td>\n      <td>NaN</td>\n      <td>&lt;strong&gt;Обязанности:&lt;/strong&gt; &lt;ul&gt; &lt;li&gt; &lt;p&gt;Ана...</td>\n      <td>&lt;/p&gt; &lt;/li&gt; &lt;li&gt; &lt;p&gt;Анализ исходного кода пакет...</td>\n      <td>&lt;/p&gt; &lt;/li&gt; &lt;li&gt; &lt;p&gt;Знание СУБД Oracle</td>\n      <td>От 3 до 6 лет</td>\n      <td>17.751 Другое 17 Продажи\\n1.25 Аналитик 1 Инфо...</td>\n      <td>True</td>\n      <td>https://hh.ru/employer/6189</td>\n      <td>...</td>\n      <td>NaN</td>\n      <td>NaN</td>\n      <td>NaN</td>\n      <td>NaN</td>\n      <td>NaN</td>\n      <td>NaN</td>\n      <td>NaN</td>\n      <td>NaN</td>\n      <td>NaN</td>\n      <td>NaN</td>\n    </tr>\n    <tr>\n      <th>40163</th>\n      <td>54152277</td>\n      <td>Открытая</td>\n      <td>NaN</td>\n      <td>&lt;strong&gt;Обязанности:&lt;/strong&gt; &lt;ul&gt; &lt;li&gt; &lt;p&gt;Ана...</td>\n      <td>&lt;/p&gt; &lt;/li&gt; &lt;li&gt; &lt;p&gt;Анализ исходного кода пакет...</td>\n      <td>&lt;/p&gt; &lt;/li&gt; &lt;li&gt; &lt;p&gt;Знание СУБД Oracle</td>\n      <td>От 3 до 6 лет</td>\n      <td>17.751 Другое 17 Продажи\\n1.25 Аналитик 1 Инфо...</td>\n      <td>True</td>\n      <td>https://hh.ru/employer/6189</td>\n      <td>...</td>\n      <td>NaN</td>\n      <td>NaN</td>\n      <td>NaN</td>\n      <td>NaN</td>\n      <td>NaN</td>\n      <td>NaN</td>\n      <td>NaN</td>\n      <td>NaN</td>\n      <td>NaN</td>\n      <td>NaN</td>\n    </tr>\n    <tr>\n      <th>40288</th>\n      <td>54154108</td>\n      <td>NaN</td>\n      <td>NaN</td>\n      <td>&lt;strong&gt;Обязанности:&lt;/strong&gt; &lt;p&gt;- работа на с...</td>\n      <td>&lt;br /&gt;- внимательность</td>\n      <td>&lt;br /&gt;- стабильное наличие работы</td>\n      <td>NaN</td>\n      <td>free</td>\n      <td>NaN</td>\n      <td>False</td>\n      <td>...</td>\n      <td>NaN</td>\n      <td>NaN</td>\n      <td>NaN</td>\n      <td>NaN</td>\n      <td>NaN</td>\n      <td>NaN</td>\n      <td>NaN</td>\n      <td>NaN</td>\n      <td>NaN</td>\n      <td>NaN</td>\n    </tr>\n  </tbody>\n</table>\n<p>216 rows × 40 columns</p>\n</div>"
     },
     "metadata": {},
     "output_type": "display_data"
    },
    {
     "name": "stdout",
     "output_type": "stream",
     "text": [
      "\n",
      "Датаcет hh_data_it_2021:\n"
     ]
    },
    {
     "data": {
      "text/plain": "Empty DataFrame\nColumns: [id, name, spec_id_0, description, key_skills, experience_id, employer_id, employer_name, salary_from, salary_to, salary_currency, area_id, area_name, published_at, spec_id_1, spec_id_2, spec_0, spec_1, spec_2]\nIndex: []",
      "text/html": "<div>\n<style scoped>\n    .dataframe tbody tr th:only-of-type {\n        vertical-align: middle;\n    }\n\n    .dataframe tbody tr th {\n        vertical-align: top;\n    }\n\n    .dataframe thead th {\n        text-align: right;\n    }\n</style>\n<table border=\"1\" class=\"dataframe\">\n  <thead>\n    <tr style=\"text-align: right;\">\n      <th></th>\n      <th>id</th>\n      <th>name</th>\n      <th>spec_id_0</th>\n      <th>description</th>\n      <th>key_skills</th>\n      <th>experience_id</th>\n      <th>employer_id</th>\n      <th>employer_name</th>\n      <th>salary_from</th>\n      <th>salary_to</th>\n      <th>salary_currency</th>\n      <th>area_id</th>\n      <th>area_name</th>\n      <th>published_at</th>\n      <th>spec_id_1</th>\n      <th>spec_id_2</th>\n      <th>spec_0</th>\n      <th>spec_1</th>\n      <th>spec_2</th>\n    </tr>\n  </thead>\n  <tbody>\n  </tbody>\n</table>\n</div>"
     },
     "metadata": {},
     "output_type": "display_data"
    },
    {
     "name": "stdout",
     "output_type": "stream",
     "text": [
      "\n",
      "Датаcет hh_data_it_2020:\n"
     ]
    },
    {
     "data": {
      "text/plain": "Empty DataFrame\nColumns: [id, name, spec_id_0, description, key_skills, experience_id, employer_id, employer_name, salary_from, salary_to, salary_currency, area_id, area_name, published_at, spec_id_1, spec_id_2, spec_0, spec_1, spec_2]\nIndex: []",
      "text/html": "<div>\n<style scoped>\n    .dataframe tbody tr th:only-of-type {\n        vertical-align: middle;\n    }\n\n    .dataframe tbody tr th {\n        vertical-align: top;\n    }\n\n    .dataframe thead th {\n        text-align: right;\n    }\n</style>\n<table border=\"1\" class=\"dataframe\">\n  <thead>\n    <tr style=\"text-align: right;\">\n      <th></th>\n      <th>id</th>\n      <th>name</th>\n      <th>spec_id_0</th>\n      <th>description</th>\n      <th>key_skills</th>\n      <th>experience_id</th>\n      <th>employer_id</th>\n      <th>employer_name</th>\n      <th>salary_from</th>\n      <th>salary_to</th>\n      <th>salary_currency</th>\n      <th>area_id</th>\n      <th>area_name</th>\n      <th>published_at</th>\n      <th>spec_id_1</th>\n      <th>spec_id_2</th>\n      <th>spec_0</th>\n      <th>spec_1</th>\n      <th>spec_2</th>\n    </tr>\n  </thead>\n  <tbody>\n  </tbody>\n</table>\n</div>"
     },
     "metadata": {},
     "output_type": "display_data"
    },
    {
     "name": "stdout",
     "output_type": "stream",
     "text": [
      "\n",
      "Датаcет hh_data_it_2019:\n"
     ]
    },
    {
     "data": {
      "text/plain": "Empty DataFrame\nColumns: [id, name, spec_id_0, description, key_skills, experience_id, employer_id, employer_name, salary_from, salary_to, salary_currency, area_id, area_name, published_at, spec_id_1, spec_id_2, spec_0, spec_1, spec_2]\nIndex: []",
      "text/html": "<div>\n<style scoped>\n    .dataframe tbody tr th:only-of-type {\n        vertical-align: middle;\n    }\n\n    .dataframe tbody tr th {\n        vertical-align: top;\n    }\n\n    .dataframe thead th {\n        text-align: right;\n    }\n</style>\n<table border=\"1\" class=\"dataframe\">\n  <thead>\n    <tr style=\"text-align: right;\">\n      <th></th>\n      <th>id</th>\n      <th>name</th>\n      <th>spec_id_0</th>\n      <th>description</th>\n      <th>key_skills</th>\n      <th>experience_id</th>\n      <th>employer_id</th>\n      <th>employer_name</th>\n      <th>salary_from</th>\n      <th>salary_to</th>\n      <th>salary_currency</th>\n      <th>area_id</th>\n      <th>area_name</th>\n      <th>published_at</th>\n      <th>spec_id_1</th>\n      <th>spec_id_2</th>\n      <th>spec_0</th>\n      <th>spec_1</th>\n      <th>spec_2</th>\n    </tr>\n  </thead>\n  <tbody>\n  </tbody>\n</table>\n</div>"
     },
     "metadata": {},
     "output_type": "display_data"
    },
    {
     "name": "stdout",
     "output_type": "stream",
     "text": [
      "\n",
      "Датаcет hh_data_it_2018:\n"
     ]
    },
    {
     "data": {
      "text/plain": "Empty DataFrame\nColumns: [id, name, spec_id_0, description, key_skills, experience_id, employer_id, employer_name, salary_from, salary_to, salary_currency, area_id, area_name, published_at, spec_id_1, spec_id_2, spec_0, spec_1, spec_2]\nIndex: []",
      "text/html": "<div>\n<style scoped>\n    .dataframe tbody tr th:only-of-type {\n        vertical-align: middle;\n    }\n\n    .dataframe tbody tr th {\n        vertical-align: top;\n    }\n\n    .dataframe thead th {\n        text-align: right;\n    }\n</style>\n<table border=\"1\" class=\"dataframe\">\n  <thead>\n    <tr style=\"text-align: right;\">\n      <th></th>\n      <th>id</th>\n      <th>name</th>\n      <th>spec_id_0</th>\n      <th>description</th>\n      <th>key_skills</th>\n      <th>experience_id</th>\n      <th>employer_id</th>\n      <th>employer_name</th>\n      <th>salary_from</th>\n      <th>salary_to</th>\n      <th>salary_currency</th>\n      <th>area_id</th>\n      <th>area_name</th>\n      <th>published_at</th>\n      <th>spec_id_1</th>\n      <th>spec_id_2</th>\n      <th>spec_0</th>\n      <th>spec_1</th>\n      <th>spec_2</th>\n    </tr>\n  </thead>\n  <tbody>\n  </tbody>\n</table>\n</div>"
     },
     "metadata": {},
     "output_type": "display_data"
    },
    {
     "name": "stdout",
     "output_type": "stream",
     "text": [
      "\n",
      "Датаcет hh_data_it_2017:\n"
     ]
    },
    {
     "data": {
      "text/plain": "Empty DataFrame\nColumns: [id, name, spec_id_0, description, key_skills, experience_id, employer_id, employer_name, salary_from, salary_to, salary_currency, area_id, area_name, published_at, spec_id_1, spec_id_2, spec_0, spec_1, spec_2]\nIndex: []",
      "text/html": "<div>\n<style scoped>\n    .dataframe tbody tr th:only-of-type {\n        vertical-align: middle;\n    }\n\n    .dataframe tbody tr th {\n        vertical-align: top;\n    }\n\n    .dataframe thead th {\n        text-align: right;\n    }\n</style>\n<table border=\"1\" class=\"dataframe\">\n  <thead>\n    <tr style=\"text-align: right;\">\n      <th></th>\n      <th>id</th>\n      <th>name</th>\n      <th>spec_id_0</th>\n      <th>description</th>\n      <th>key_skills</th>\n      <th>experience_id</th>\n      <th>employer_id</th>\n      <th>employer_name</th>\n      <th>salary_from</th>\n      <th>salary_to</th>\n      <th>salary_currency</th>\n      <th>area_id</th>\n      <th>area_name</th>\n      <th>published_at</th>\n      <th>spec_id_1</th>\n      <th>spec_id_2</th>\n      <th>spec_0</th>\n      <th>spec_1</th>\n      <th>spec_2</th>\n    </tr>\n  </thead>\n  <tbody>\n  </tbody>\n</table>\n</div>"
     },
     "metadata": {},
     "output_type": "display_data"
    },
    {
     "name": "stdout",
     "output_type": "stream",
     "text": [
      "\n",
      "Датаcет hh_data_it_2016:\n"
     ]
    },
    {
     "data": {
      "text/plain": "Empty DataFrame\nColumns: [id, name, spec_id_0, description, key_skills, experience_id, employer_id, employer_name, salary_from, salary_to, salary_currency, area_id, area_name, published_at, spec_id_1, spec_id_2, spec_0, spec_1, spec_2]\nIndex: []",
      "text/html": "<div>\n<style scoped>\n    .dataframe tbody tr th:only-of-type {\n        vertical-align: middle;\n    }\n\n    .dataframe tbody tr th {\n        vertical-align: top;\n    }\n\n    .dataframe thead th {\n        text-align: right;\n    }\n</style>\n<table border=\"1\" class=\"dataframe\">\n  <thead>\n    <tr style=\"text-align: right;\">\n      <th></th>\n      <th>id</th>\n      <th>name</th>\n      <th>spec_id_0</th>\n      <th>description</th>\n      <th>key_skills</th>\n      <th>experience_id</th>\n      <th>employer_id</th>\n      <th>employer_name</th>\n      <th>salary_from</th>\n      <th>salary_to</th>\n      <th>salary_currency</th>\n      <th>area_id</th>\n      <th>area_name</th>\n      <th>published_at</th>\n      <th>spec_id_1</th>\n      <th>spec_id_2</th>\n      <th>spec_0</th>\n      <th>spec_1</th>\n      <th>spec_2</th>\n    </tr>\n  </thead>\n  <tbody>\n  </tbody>\n</table>\n</div>"
     },
     "metadata": {},
     "output_type": "display_data"
    },
    {
     "name": "stdout",
     "output_type": "stream",
     "text": [
      "\n",
      "Датаcет hh_data_it_2015:\n"
     ]
    },
    {
     "data": {
      "text/plain": "Empty DataFrame\nColumns: [id, name, spec_id_0, description, key_skills, experience_id, employer_id, employer_name, salary_from, salary_to, salary_currency, area_id, area_name, published_at, spec_id_1, spec_id_2, spec_0, spec_1, spec_2]\nIndex: []",
      "text/html": "<div>\n<style scoped>\n    .dataframe tbody tr th:only-of-type {\n        vertical-align: middle;\n    }\n\n    .dataframe tbody tr th {\n        vertical-align: top;\n    }\n\n    .dataframe thead th {\n        text-align: right;\n    }\n</style>\n<table border=\"1\" class=\"dataframe\">\n  <thead>\n    <tr style=\"text-align: right;\">\n      <th></th>\n      <th>id</th>\n      <th>name</th>\n      <th>spec_id_0</th>\n      <th>description</th>\n      <th>key_skills</th>\n      <th>experience_id</th>\n      <th>employer_id</th>\n      <th>employer_name</th>\n      <th>salary_from</th>\n      <th>salary_to</th>\n      <th>salary_currency</th>\n      <th>area_id</th>\n      <th>area_name</th>\n      <th>published_at</th>\n      <th>spec_id_1</th>\n      <th>spec_id_2</th>\n      <th>spec_0</th>\n      <th>spec_1</th>\n      <th>spec_2</th>\n    </tr>\n  </thead>\n  <tbody>\n  </tbody>\n</table>\n</div>"
     },
     "metadata": {},
     "output_type": "display_data"
    }
   ],
   "source": [
    "for i, dfi in df_list.items():\n",
    "    wrong_cols = [col for col in dfi.columns if 'Unnamed' in col]\n",
    "    print(f'\\nДатаcет {i}:')\n",
    "    display(dfi.loc[dfi[wrong_cols].notna().any(axis=1)])"
   ],
   "metadata": {
    "collapsed": false,
    "ExecuteTime": {
     "end_time": "2024-05-06T13:59:09.416926391Z",
     "start_time": "2024-05-06T13:59:09.263273547Z"
    }
   },
   "id": "9d3dac75d23856b3"
  },
  {
   "cell_type": "markdown",
   "source": [
    "Удаляем некорректные строки, а также лишние столбцы:"
   ],
   "metadata": {
    "collapsed": false
   },
   "id": "b6401317dfa66a15"
  },
  {
   "cell_type": "code",
   "execution_count": 9,
   "outputs": [
    {
     "name": "stdout",
     "output_type": "stream",
     "text": [
      "\n",
      "Датаcет hh_data_it_2022: удалено столбцов 21\n",
      "<class 'pandas.core.frame.DataFrame'>\n",
      "RangeIndex: 40182 entries, 0 to 40181\n",
      "Data columns (total 19 columns):\n",
      " #   Column           Non-Null Count  Dtype  \n",
      "---  ------           --------------  -----  \n",
      " 0   id               40182 non-null  int64  \n",
      " 1   name             40182 non-null  object \n",
      " 2   spec_id_0        40182 non-null  float64\n",
      " 3   description      40182 non-null  object \n",
      " 4   key_skills       33417 non-null  object \n",
      " 5   experience_id    40182 non-null  object \n",
      " 6   employer_id      40122 non-null  object \n",
      " 7   employer_name    40182 non-null  object \n",
      " 8   salary_from      17871 non-null  object \n",
      " 9   salary_to        10599 non-null  object \n",
      " 10  salary_currency  19710 non-null  object \n",
      " 11  area_id          40182 non-null  object \n",
      " 12  area_name        40182 non-null  object \n",
      " 13  published_at     40182 non-null  object \n",
      " 14  spec_id_1        38357 non-null  float64\n",
      " 15  spec_id_2        35280 non-null  float64\n",
      " 16  spec_0           40182 non-null  object \n",
      " 17  spec_1           38357 non-null  object \n",
      " 18  spec_2           35280 non-null  object \n",
      "dtypes: float64(3), int64(1), object(15)\n",
      "memory usage: 5.8+ MB\n"
     ]
    },
    {
     "data": {
      "text/plain": "None"
     },
     "metadata": {},
     "output_type": "display_data"
    },
    {
     "name": "stdout",
     "output_type": "stream",
     "text": [
      "\n",
      "Датаcет hh_data_it_2021: удалено столбцов 0\n",
      "<class 'pandas.core.frame.DataFrame'>\n",
      "RangeIndex: 287915 entries, 0 to 287914\n",
      "Data columns (total 19 columns):\n",
      " #   Column           Non-Null Count   Dtype                    \n",
      "---  ------           --------------   -----                    \n",
      " 0   id               287915 non-null  int64                    \n",
      " 1   name             287915 non-null  object                   \n",
      " 2   spec_id_0        287915 non-null  int64                    \n",
      " 3   description      287915 non-null  object                   \n",
      " 4   key_skills       229830 non-null  object                   \n",
      " 5   experience_id    287915 non-null  object                   \n",
      " 6   employer_id      287477 non-null  float64                  \n",
      " 7   employer_name    287915 non-null  object                   \n",
      " 8   salary_from      124427 non-null  float64                  \n",
      " 9   salary_to        78088 non-null   float64                  \n",
      " 10  salary_currency  137310 non-null  object                   \n",
      " 11  area_id          287915 non-null  int64                    \n",
      " 12  area_name        287915 non-null  object                   \n",
      " 13  published_at     287915 non-null  datetime64[ns, UTC+03:00]\n",
      " 14  spec_id_1        224241 non-null  float64                  \n",
      " 15  spec_id_2        177547 non-null  float64                  \n",
      " 16  spec_0           287915 non-null  object                   \n",
      " 17  spec_1           224241 non-null  object                   \n",
      " 18  spec_2           177547 non-null  object                   \n",
      "dtypes: datetime64[ns, UTC+03:00](1), float64(5), int64(3), object(10)\n",
      "memory usage: 41.7+ MB\n"
     ]
    },
    {
     "data": {
      "text/plain": "None"
     },
     "metadata": {},
     "output_type": "display_data"
    },
    {
     "name": "stdout",
     "output_type": "stream",
     "text": [
      "\n",
      "Датаcет hh_data_it_2020: удалено столбцов 0\n",
      "<class 'pandas.core.frame.DataFrame'>\n",
      "RangeIndex: 587637 entries, 0 to 587636\n",
      "Data columns (total 19 columns):\n",
      " #   Column           Non-Null Count   Dtype                    \n",
      "---  ------           --------------   -----                    \n",
      " 0   id               587637 non-null  int64                    \n",
      " 1   name             587637 non-null  object                   \n",
      " 2   spec_id_0        587637 non-null  int64                    \n",
      " 3   description      587637 non-null  object                   \n",
      " 4   key_skills       431738 non-null  object                   \n",
      " 5   experience_id    587637 non-null  object                   \n",
      " 6   employer_id      586477 non-null  float64                  \n",
      " 7   employer_name    587637 non-null  object                   \n",
      " 8   salary_from      258741 non-null  float64                  \n",
      " 9   salary_to        164509 non-null  float64                  \n",
      " 10  salary_currency  285014 non-null  object                   \n",
      " 11  area_id          587637 non-null  int64                    \n",
      " 12  area_name        587637 non-null  object                   \n",
      " 13  published_at     587637 non-null  datetime64[ns, UTC+03:00]\n",
      " 14  spec_id_1        466800 non-null  float64                  \n",
      " 15  spec_id_2        370571 non-null  float64                  \n",
      " 16  spec_0           587637 non-null  object                   \n",
      " 17  spec_1           466800 non-null  object                   \n",
      " 18  spec_2           370571 non-null  object                   \n",
      "dtypes: datetime64[ns, UTC+03:00](1), float64(5), int64(3), object(10)\n",
      "memory usage: 85.2+ MB\n"
     ]
    },
    {
     "data": {
      "text/plain": "None"
     },
     "metadata": {},
     "output_type": "display_data"
    },
    {
     "name": "stdout",
     "output_type": "stream",
     "text": [
      "\n",
      "Датаcет hh_data_it_2019: удалено столбцов 0\n",
      "<class 'pandas.core.frame.DataFrame'>\n",
      "RangeIndex: 535956 entries, 0 to 535955\n",
      "Data columns (total 19 columns):\n",
      " #   Column           Non-Null Count   Dtype                    \n",
      "---  ------           --------------   -----                    \n",
      " 0   id               535956 non-null  int64                    \n",
      " 1   name             535956 non-null  object                   \n",
      " 2   spec_id_0        535956 non-null  int64                    \n",
      " 3   description      535956 non-null  object                   \n",
      " 4   key_skills       253047 non-null  object                   \n",
      " 5   experience_id    535956 non-null  object                   \n",
      " 6   employer_id      534903 non-null  float64                  \n",
      " 7   employer_name    535956 non-null  object                   \n",
      " 8   salary_from      243087 non-null  float64                  \n",
      " 9   salary_to        154594 non-null  float64                  \n",
      " 10  salary_currency  266918 non-null  object                   \n",
      " 11  area_id          535956 non-null  int64                    \n",
      " 12  area_name        535956 non-null  object                   \n",
      " 13  published_at     535956 non-null  datetime64[ns, UTC+03:00]\n",
      " 14  spec_id_1        439291 non-null  float64                  \n",
      " 15  spec_id_2        355816 non-null  float64                  \n",
      " 16  spec_0           535956 non-null  object                   \n",
      " 17  spec_1           439291 non-null  object                   \n",
      " 18  spec_2           355816 non-null  object                   \n",
      "dtypes: datetime64[ns, UTC+03:00](1), float64(5), int64(3), object(10)\n",
      "memory usage: 77.7+ MB\n"
     ]
    },
    {
     "data": {
      "text/plain": "None"
     },
     "metadata": {},
     "output_type": "display_data"
    },
    {
     "name": "stdout",
     "output_type": "stream",
     "text": [
      "\n",
      "Датаcет hh_data_it_2018: удалено столбцов 0\n",
      "<class 'pandas.core.frame.DataFrame'>\n",
      "RangeIndex: 517670 entries, 0 to 517669\n",
      "Data columns (total 19 columns):\n",
      " #   Column           Non-Null Count   Dtype                    \n",
      "---  ------           --------------   -----                    \n",
      " 0   id               517670 non-null  int64                    \n",
      " 1   name             517670 non-null  object                   \n",
      " 2   spec_id_0        517670 non-null  int64                    \n",
      " 3   description      517670 non-null  object                   \n",
      " 4   key_skills       173650 non-null  object                   \n",
      " 5   experience_id    517670 non-null  object                   \n",
      " 6   employer_id      516705 non-null  float64                  \n",
      " 7   employer_name    517670 non-null  object                   \n",
      " 8   salary_from      262150 non-null  float64                  \n",
      " 9   salary_to        170846 non-null  float64                  \n",
      " 10  salary_currency  283688 non-null  object                   \n",
      " 11  area_id          517670 non-null  int64                    \n",
      " 12  area_name        517670 non-null  object                   \n",
      " 13  published_at     517670 non-null  datetime64[ns, UTC+03:00]\n",
      " 14  spec_id_1        431249 non-null  float64                  \n",
      " 15  spec_id_2        356666 non-null  float64                  \n",
      " 16  spec_0           517670 non-null  object                   \n",
      " 17  spec_1           431249 non-null  object                   \n",
      " 18  spec_2           356666 non-null  object                   \n",
      "dtypes: datetime64[ns, UTC+03:00](1), float64(5), int64(3), object(10)\n",
      "memory usage: 75.0+ MB\n"
     ]
    },
    {
     "data": {
      "text/plain": "None"
     },
     "metadata": {},
     "output_type": "display_data"
    },
    {
     "name": "stdout",
     "output_type": "stream",
     "text": [
      "\n",
      "Датаcет hh_data_it_2017: удалено столбцов 0\n",
      "<class 'pandas.core.frame.DataFrame'>\n",
      "RangeIndex: 391464 entries, 0 to 391463\n",
      "Data columns (total 19 columns):\n",
      " #   Column           Non-Null Count   Dtype                    \n",
      "---  ------           --------------   -----                    \n",
      " 0   id               391464 non-null  int64                    \n",
      " 1   name             391464 non-null  object                   \n",
      " 2   spec_id_0        391464 non-null  int64                    \n",
      " 3   description      391464 non-null  object                   \n",
      " 4   key_skills       114195 non-null  object                   \n",
      " 5   experience_id    391464 non-null  object                   \n",
      " 6   employer_id      390672 non-null  float64                  \n",
      " 7   employer_name    391464 non-null  object                   \n",
      " 8   salary_from      187747 non-null  float64                  \n",
      " 9   salary_to        111855 non-null  float64                  \n",
      " 10  salary_currency  203791 non-null  object                   \n",
      " 11  area_id          391464 non-null  int64                    \n",
      " 12  area_name        391464 non-null  object                   \n",
      " 13  published_at     391464 non-null  datetime64[ns, UTC+03:00]\n",
      " 14  spec_id_1        325442 non-null  float64                  \n",
      " 15  spec_id_2        267133 non-null  float64                  \n",
      " 16  spec_0           391464 non-null  object                   \n",
      " 17  spec_1           325442 non-null  object                   \n",
      " 18  spec_2           267133 non-null  object                   \n",
      "dtypes: datetime64[ns, UTC+03:00](1), float64(5), int64(3), object(10)\n",
      "memory usage: 56.7+ MB\n"
     ]
    },
    {
     "data": {
      "text/plain": "None"
     },
     "metadata": {},
     "output_type": "display_data"
    },
    {
     "name": "stdout",
     "output_type": "stream",
     "text": [
      "\n",
      "Датаcет hh_data_it_2016: удалено столбцов 0\n",
      "<class 'pandas.core.frame.DataFrame'>\n",
      "RangeIndex: 332460 entries, 0 to 332459\n",
      "Data columns (total 19 columns):\n",
      " #   Column           Non-Null Count   Dtype                    \n",
      "---  ------           --------------   -----                    \n",
      " 0   id               332460 non-null  int64                    \n",
      " 1   name             332460 non-null  object                   \n",
      " 2   spec_id_0        332460 non-null  int64                    \n",
      " 3   description      332460 non-null  object                   \n",
      " 4   key_skills       81745 non-null   object                   \n",
      " 5   experience_id    332460 non-null  object                   \n",
      " 6   employer_id      331766 non-null  float64                  \n",
      " 7   employer_name    332460 non-null  object                   \n",
      " 8   salary_from      165429 non-null  float64                  \n",
      " 9   salary_to        97742 non-null   float64                  \n",
      " 10  salary_currency  177431 non-null  object                   \n",
      " 11  area_id          332460 non-null  int64                    \n",
      " 12  area_name        332460 non-null  object                   \n",
      " 13  published_at     332460 non-null  datetime64[ns, UTC+03:00]\n",
      " 14  spec_id_1        281300 non-null  float64                  \n",
      " 15  spec_id_2        231981 non-null  float64                  \n",
      " 16  spec_0           332460 non-null  object                   \n",
      " 17  spec_1           281300 non-null  object                   \n",
      " 18  spec_2           231981 non-null  object                   \n",
      "dtypes: datetime64[ns, UTC+03:00](1), float64(5), int64(3), object(10)\n",
      "memory usage: 48.2+ MB\n"
     ]
    },
    {
     "data": {
      "text/plain": "None"
     },
     "metadata": {},
     "output_type": "display_data"
    },
    {
     "name": "stdout",
     "output_type": "stream",
     "text": [
      "\n",
      "Датаcет hh_data_it_2015: удалено столбцов 0\n",
      "<class 'pandas.core.frame.DataFrame'>\n",
      "RangeIndex: 284763 entries, 0 to 284762\n",
      "Data columns (total 19 columns):\n",
      " #   Column           Non-Null Count   Dtype                    \n",
      "---  ------           --------------   -----                    \n",
      " 0   id               284763 non-null  int64                    \n",
      " 1   name             284763 non-null  object                   \n",
      " 2   spec_id_0        284763 non-null  int64                    \n",
      " 3   description      284763 non-null  object                   \n",
      " 4   key_skills       31596 non-null   object                   \n",
      " 5   experience_id    284763 non-null  object                   \n",
      " 6   employer_id      284203 non-null  float64                  \n",
      " 7   employer_name    284763 non-null  object                   \n",
      " 8   salary_from      137501 non-null  float64                  \n",
      " 9   salary_to        89131 non-null   float64                  \n",
      " 10  salary_currency  147698 non-null  object                   \n",
      " 11  area_id          284763 non-null  int64                    \n",
      " 12  area_name        284763 non-null  object                   \n",
      " 13  published_at     284763 non-null  datetime64[ns, UTC+03:00]\n",
      " 14  spec_id_1        241396 non-null  float64                  \n",
      " 15  spec_id_2        203511 non-null  float64                  \n",
      " 16  spec_0           284763 non-null  object                   \n",
      " 17  spec_1           241396 non-null  object                   \n",
      " 18  spec_2           203511 non-null  object                   \n",
      "dtypes: datetime64[ns, UTC+03:00](1), float64(5), int64(3), object(10)\n",
      "memory usage: 41.3+ MB\n"
     ]
    },
    {
     "data": {
      "text/plain": "None"
     },
     "metadata": {},
     "output_type": "display_data"
    }
   ],
   "source": [
    "for i, dfi in df_list.items():\n",
    "    dropped_count=prepare.remove_unnamed_cols(dfi)\n",
    "    print(f'\\nДатаcет {i}: удалено столбцов {dropped_count}')\n",
    "    display(dfi.info())"
   ],
   "metadata": {
    "collapsed": false,
    "ExecuteTime": {
     "end_time": "2024-05-06T13:59:19.972020146Z",
     "start_time": "2024-05-06T13:59:18.086762002Z"
    }
   },
   "id": "1d7a3d5b72721635"
  },
  {
   "cell_type": "markdown",
   "source": [
    "### Объединение данных"
   ],
   "metadata": {
    "collapsed": false
   },
   "id": "20cdeccabddf7bf9"
  },
  {
   "cell_type": "markdown",
   "source": [
    "Теперь можно эти датафреймы объединить:"
   ],
   "metadata": {
    "collapsed": false
   },
   "id": "3ad8ada228b6c740"
  },
  {
   "cell_type": "code",
   "execution_count": 11,
   "outputs": [
    {
     "name": "stdout",
     "output_type": "stream",
     "text": [
      "<class 'pandas.core.frame.DataFrame'>\n",
      "RangeIndex: 2978047 entries, 0 to 2978046\n",
      "Data columns (total 19 columns):\n",
      " #   Column           Dtype  \n",
      "---  ------           -----  \n",
      " 0   id               int64  \n",
      " 1   name             object \n",
      " 2   spec_id_0        float64\n",
      " 3   description      object \n",
      " 4   key_skills       object \n",
      " 5   experience_id    object \n",
      " 6   employer_id      object \n",
      " 7   employer_name    object \n",
      " 8   salary_from      object \n",
      " 9   salary_to        object \n",
      " 10  salary_currency  object \n",
      " 11  area_id          object \n",
      " 12  area_name        object \n",
      " 13  published_at     object \n",
      " 14  spec_id_1        float64\n",
      " 15  spec_id_2        float64\n",
      " 16  spec_0           object \n",
      " 17  spec_1           object \n",
      " 18  spec_2           object \n",
      "dtypes: float64(3), int64(1), object(15)\n",
      "memory usage: 431.7+ MB\n"
     ]
    }
   ],
   "source": [
    "df=prepare.concat_dataframes(df_list.values())\n",
    "df.info()"
   ],
   "metadata": {
    "collapsed": false,
    "ExecuteTime": {
     "end_time": "2024-05-06T14:00:58.739517556Z",
     "start_time": "2024-05-06T14:00:55.567110708Z"
    }
   },
   "id": "903fc96e7dd3a0eb"
  },
  {
   "cell_type": "markdown",
   "source": [
    "Столбцы spec_0, spec_1, spec_2 содержат информацию о специализации в соответствии с внутренней классификацией портала hh.ru.\n",
    "Согласно этой классификации, каждая вакансия может относиться к нескольким специализациям.\n",
    "Для данного исследования достаточно одной специализации. Она будет использоваться только для предварительной фильтрации данных.\n",
    "Всего в датасете представлено 482 специализации."
   ],
   "metadata": {
    "collapsed": false
   },
   "id": "5aae5d213b78b6e8"
  },
  {
   "cell_type": "code",
   "execution_count": 12,
   "outputs": [
    {
     "data": {
      "text/plain": "                                       0         1        2\nПрограммирование, Разработка    946676.0  187538.0  21946.0\nНачальный уровень, Мало опыта   215469.0   48296.0  30820.0\nБанковское ПО                   128122.0    5174.0   1680.0\nСетевые технологии              121688.0   89100.0  47969.0\nПродажи                         108528.0   81524.0  54082.0\n...                                  ...       ...      ...\nМашинист экскаватора                 NaN       NaN     10.0\nАвтожестянщик                        NaN       NaN      8.0\nМаляр                                NaN       NaN      7.0\nСемейное право                       NaN       NaN      5.0\nПроводник                            NaN       NaN      1.0\n\n[509 rows x 3 columns]",
      "text/html": "<div>\n<style scoped>\n    .dataframe tbody tr th:only-of-type {\n        vertical-align: middle;\n    }\n\n    .dataframe tbody tr th {\n        vertical-align: top;\n    }\n\n    .dataframe thead th {\n        text-align: right;\n    }\n</style>\n<table border=\"1\" class=\"dataframe\">\n  <thead>\n    <tr style=\"text-align: right;\">\n      <th></th>\n      <th>0</th>\n      <th>1</th>\n      <th>2</th>\n    </tr>\n  </thead>\n  <tbody>\n    <tr>\n      <th>Программирование, Разработка</th>\n      <td>946676.0</td>\n      <td>187538.0</td>\n      <td>21946.0</td>\n    </tr>\n    <tr>\n      <th>Начальный уровень, Мало опыта</th>\n      <td>215469.0</td>\n      <td>48296.0</td>\n      <td>30820.0</td>\n    </tr>\n    <tr>\n      <th>Банковское ПО</th>\n      <td>128122.0</td>\n      <td>5174.0</td>\n      <td>1680.0</td>\n    </tr>\n    <tr>\n      <th>Сетевые технологии</th>\n      <td>121688.0</td>\n      <td>89100.0</td>\n      <td>47969.0</td>\n    </tr>\n    <tr>\n      <th>Продажи</th>\n      <td>108528.0</td>\n      <td>81524.0</td>\n      <td>54082.0</td>\n    </tr>\n    <tr>\n      <th>...</th>\n      <td>...</td>\n      <td>...</td>\n      <td>...</td>\n    </tr>\n    <tr>\n      <th>Машинист экскаватора</th>\n      <td>NaN</td>\n      <td>NaN</td>\n      <td>10.0</td>\n    </tr>\n    <tr>\n      <th>Автожестянщик</th>\n      <td>NaN</td>\n      <td>NaN</td>\n      <td>8.0</td>\n    </tr>\n    <tr>\n      <th>Маляр</th>\n      <td>NaN</td>\n      <td>NaN</td>\n      <td>7.0</td>\n    </tr>\n    <tr>\n      <th>Семейное право</th>\n      <td>NaN</td>\n      <td>NaN</td>\n      <td>5.0</td>\n    </tr>\n    <tr>\n      <th>Проводник</th>\n      <td>NaN</td>\n      <td>NaN</td>\n      <td>1.0</td>\n    </tr>\n  </tbody>\n</table>\n<p>509 rows × 3 columns</p>\n</div>"
     },
     "execution_count": 12,
     "metadata": {},
     "output_type": "execute_result"
    }
   ],
   "source": [
    "spec_values=pd.concat([df.spec_0.value_counts(), df.spec_1.value_counts(), df.spec_2.value_counts()], axis=1, ignore_index=True)\n",
    "spec_values"
   ],
   "metadata": {
    "collapsed": false,
    "ExecuteTime": {
     "end_time": "2024-05-06T14:02:05.067098956Z",
     "start_time": "2024-05-06T14:02:04.858669498Z"
    }
   },
   "id": "b2fc696d8db4cdbd"
  },
  {
   "cell_type": "markdown",
   "source": [
    "Для дальнейшей работы ограничим количество специализаций.\n",
    "Для построения модели оставим только вакансии, относящиеся к наиболее многочисленной группе из таблицы выше: профессиональная область - \"1. Информационные технологии, интернет, телеком\", специализация - \"1.221. Программирование, Разработка\".\n",
    "Отберем только те вакансии, для которых хотя бы одна из трех специализаций совпадает с выбранной:"
   ],
   "metadata": {
    "collapsed": false
   },
   "id": "3089fc7863ebe1ae"
  },
  {
   "cell_type": "code",
   "execution_count": 13,
   "outputs": [
    {
     "data": {
      "text/plain": "               id                                               name  \\\n0        42151148  Эксперт по тестированию на проникновение/Пенте...   \n1        42151191  Эксперт по тестированию на проникновение/Пенте...   \n4        42153070                 Системный аналитик (DWH/BI, DG/DQ)   \n5        42227361                                   Специалист по IT   \n8        42323563                Системный администратор/программист   \n...           ...                                                ...   \n2978032  13279849                                    IOS разработчик   \n2978034  13279864                                   Java-разработчик   \n2978036  13279878                                      Квант-трейдер   \n2978038  13279885                 Frontend разработчик / верстальщик   \n2978042  13279918                   JavaScript разработчик Front-End   \n\n         spec_id_0                                        description  \\\n0           1221.0  <p>Привет! Мы расширяем команду пентестеров. И...   \n1           1221.0  <p>Привет! Мы расширяем команду пентестеров. И...   \n4           1221.0  <p><strong>КОРУС Консалтинг</strong> – одна из...   \n5           1395.0  <p><strong>Специалист по информационным технол...   \n8           1221.0  <strong>Обязанности:</strong> <ul> <li> <p>Адм...   \n...            ...                                                ...   \n2978032     1221.0  <p>amoCRM - это облачный сервис, который позво...   \n2978034     1221.0  <p>Приглашаем присоединиться к команде, котора...   \n2978036     1221.0  <p>Один из лидеров алгоритмической торговли на...   \n2978038     1221.0  <p>Оператору по приему моментальных платежей &...   \n2978042     1221.0  <p><strong>Обазянности:</strong></p> <ul> <li>...   \n\n                                                key_skills experience_id  \\\n0                                                      NaN  between1And3   \n1                                                      NaN  between1And3   \n4        SQL\\nMS Visio\\nРазработка технических заданий\\...  between3And6   \n5                                                      NaN  noExperience   \n8        Администрирование серверов Linux\\nАдминистриро...  between1And3   \n...                                                    ...           ...   \n2978032                                                NaN  between1And3   \n2978034       Java\\nSQL\\nJDBC\\nXML\\nXsd\\nSpring Core\\nSOAP  between1And3   \n2978036                                                NaN  between3And6   \n2978038                                                NaN  between1And3   \n2978042                                                NaN  between1And3   \n\n        employer_id                                      employer_name  \\\n0              2393                   Программный Продукт, ИТ-компания   \n1              2393                   Программный Продукт, ИТ-компания   \n4               675                                   КОРУС Консалтинг   \n5           1840010  филиал ФКУ Налог-Сервис ФНС России в Республик...   \n8           1080425  Челябинский государственный университет, ФГБОУ...   \n...             ...                                                ...   \n2978032    999442.0                                             amoCRM   \n2978034     22494.0                                           Неофлекс   \n2978036      1833.0                                 Брокеркредитсервис   \n2978038     48666.0                                         Чек-онлайн   \n2978042     40912.0                                              БИФИТ   \n\n        salary_from salary_to salary_currency area_id       area_name  \\\n0               NaN       NaN             NaN       4     Новосибирск   \n1               NaN       NaN             NaN       1          Москва   \n4               NaN       NaN             NaN       1          Москва   \n5             32000     50000             RUR      88          Казань   \n8             30000       NaN             RUR     104       Челябинск   \n...             ...       ...             ...     ...             ...   \n2978032         NaN   80000.0             RUR       1          Москва   \n2978034         NaN       NaN             NaN       1          Москва   \n2978036         NaN       NaN             NaN       1          Москва   \n2978038     30000.0       NaN             RUR      76  Ростов-на-Дону   \n2978042         NaN       NaN             NaN       1          Москва   \n\n                      published_at  spec_id_1  spec_id_2  \\\n0         2022-03-02T11:56:37+0300     1110.0     1272.0   \n1         2022-03-02T11:56:33+0300     1110.0     1272.0   \n4         2022-03-01T12:01:08+0300     1272.0     1025.0   \n5         2022-03-21T11:18:32+0300     1221.0     1420.0   \n8         2022-03-14T06:20:21+0300     1273.0        NaN   \n...                            ...        ...        ...   \n2978032  2015-04-16 17:10:46+03:00     1474.0        NaN   \n2978034  2015-11-10 09:53:27+03:00     1082.0        NaN   \n2978036  2015-05-06 20:52:06+03:00     1117.0     5101.0   \n2978038  2015-05-12 10:54:50+03:00        NaN        NaN   \n2978042  2015-05-15 17:43:01+03:00     1110.0     1270.0   \n\n                                spec_0                         spec_1  \\\n0        Программирование, Разработка      Компьютерная безопасность    \n1        Программирование, Разработка      Компьютерная безопасность    \n4        Программирование, Разработка           Системная интеграция    \n5                       Банковское ПО   Программирование, Разработка    \n8        Программирование, Разработка        Системный администратор    \n...                                ...                            ...   \n2978032  Программирование, Разработка                       Стартапы    \n2978034  Программирование, Разработка                        Инженер    \n2978036  Программирование, Разработка                   Тестирование    \n2978038  Программирование, Разработка                             NaN   \n2978042  Программирование, Разработка      Компьютерная безопасность    \n\n                            spec_2  \n0            Системная интеграция   \n1            Системная интеграция   \n4                        Аналитик   \n5        Администратор баз данных   \n8                              NaN  \n...                            ...  \n2978032                        NaN  \n2978034                        NaN  \n2978036          Трейдинг, Дилинг   \n2978038                        NaN  \n2978042        Сетевые технологии   \n\n[1156160 rows x 19 columns]",
      "text/html": "<div>\n<style scoped>\n    .dataframe tbody tr th:only-of-type {\n        vertical-align: middle;\n    }\n\n    .dataframe tbody tr th {\n        vertical-align: top;\n    }\n\n    .dataframe thead th {\n        text-align: right;\n    }\n</style>\n<table border=\"1\" class=\"dataframe\">\n  <thead>\n    <tr style=\"text-align: right;\">\n      <th></th>\n      <th>id</th>\n      <th>name</th>\n      <th>spec_id_0</th>\n      <th>description</th>\n      <th>key_skills</th>\n      <th>experience_id</th>\n      <th>employer_id</th>\n      <th>employer_name</th>\n      <th>salary_from</th>\n      <th>salary_to</th>\n      <th>salary_currency</th>\n      <th>area_id</th>\n      <th>area_name</th>\n      <th>published_at</th>\n      <th>spec_id_1</th>\n      <th>spec_id_2</th>\n      <th>spec_0</th>\n      <th>spec_1</th>\n      <th>spec_2</th>\n    </tr>\n  </thead>\n  <tbody>\n    <tr>\n      <th>0</th>\n      <td>42151148</td>\n      <td>Эксперт по тестированию на проникновение/Пенте...</td>\n      <td>1221.0</td>\n      <td>&lt;p&gt;Привет! Мы расширяем команду пентестеров. И...</td>\n      <td>NaN</td>\n      <td>between1And3</td>\n      <td>2393</td>\n      <td>Программный Продукт, ИТ-компания</td>\n      <td>NaN</td>\n      <td>NaN</td>\n      <td>NaN</td>\n      <td>4</td>\n      <td>Новосибирск</td>\n      <td>2022-03-02T11:56:37+0300</td>\n      <td>1110.0</td>\n      <td>1272.0</td>\n      <td>Программирование, Разработка</td>\n      <td>Компьютерная безопасность</td>\n      <td>Системная интеграция</td>\n    </tr>\n    <tr>\n      <th>1</th>\n      <td>42151191</td>\n      <td>Эксперт по тестированию на проникновение/Пенте...</td>\n      <td>1221.0</td>\n      <td>&lt;p&gt;Привет! Мы расширяем команду пентестеров. И...</td>\n      <td>NaN</td>\n      <td>between1And3</td>\n      <td>2393</td>\n      <td>Программный Продукт, ИТ-компания</td>\n      <td>NaN</td>\n      <td>NaN</td>\n      <td>NaN</td>\n      <td>1</td>\n      <td>Москва</td>\n      <td>2022-03-02T11:56:33+0300</td>\n      <td>1110.0</td>\n      <td>1272.0</td>\n      <td>Программирование, Разработка</td>\n      <td>Компьютерная безопасность</td>\n      <td>Системная интеграция</td>\n    </tr>\n    <tr>\n      <th>4</th>\n      <td>42153070</td>\n      <td>Системный аналитик (DWH/BI, DG/DQ)</td>\n      <td>1221.0</td>\n      <td>&lt;p&gt;&lt;strong&gt;КОРУС Консалтинг&lt;/strong&gt; – одна из...</td>\n      <td>SQL\\nMS Visio\\nРазработка технических заданий\\...</td>\n      <td>between3And6</td>\n      <td>675</td>\n      <td>КОРУС Консалтинг</td>\n      <td>NaN</td>\n      <td>NaN</td>\n      <td>NaN</td>\n      <td>1</td>\n      <td>Москва</td>\n      <td>2022-03-01T12:01:08+0300</td>\n      <td>1272.0</td>\n      <td>1025.0</td>\n      <td>Программирование, Разработка</td>\n      <td>Системная интеграция</td>\n      <td>Аналитик</td>\n    </tr>\n    <tr>\n      <th>5</th>\n      <td>42227361</td>\n      <td>Специалист по IT</td>\n      <td>1395.0</td>\n      <td>&lt;p&gt;&lt;strong&gt;Специалист по информационным технол...</td>\n      <td>NaN</td>\n      <td>noExperience</td>\n      <td>1840010</td>\n      <td>филиал ФКУ Налог-Сервис ФНС России в Республик...</td>\n      <td>32000</td>\n      <td>50000</td>\n      <td>RUR</td>\n      <td>88</td>\n      <td>Казань</td>\n      <td>2022-03-21T11:18:32+0300</td>\n      <td>1221.0</td>\n      <td>1420.0</td>\n      <td>Банковское ПО</td>\n      <td>Программирование, Разработка</td>\n      <td>Администратор баз данных</td>\n    </tr>\n    <tr>\n      <th>8</th>\n      <td>42323563</td>\n      <td>Системный администратор/программист</td>\n      <td>1221.0</td>\n      <td>&lt;strong&gt;Обязанности:&lt;/strong&gt; &lt;ul&gt; &lt;li&gt; &lt;p&gt;Адм...</td>\n      <td>Администрирование серверов Linux\\nАдминистриро...</td>\n      <td>between1And3</td>\n      <td>1080425</td>\n      <td>Челябинский государственный университет, ФГБОУ...</td>\n      <td>30000</td>\n      <td>NaN</td>\n      <td>RUR</td>\n      <td>104</td>\n      <td>Челябинск</td>\n      <td>2022-03-14T06:20:21+0300</td>\n      <td>1273.0</td>\n      <td>NaN</td>\n      <td>Программирование, Разработка</td>\n      <td>Системный администратор</td>\n      <td>NaN</td>\n    </tr>\n    <tr>\n      <th>...</th>\n      <td>...</td>\n      <td>...</td>\n      <td>...</td>\n      <td>...</td>\n      <td>...</td>\n      <td>...</td>\n      <td>...</td>\n      <td>...</td>\n      <td>...</td>\n      <td>...</td>\n      <td>...</td>\n      <td>...</td>\n      <td>...</td>\n      <td>...</td>\n      <td>...</td>\n      <td>...</td>\n      <td>...</td>\n      <td>...</td>\n      <td>...</td>\n    </tr>\n    <tr>\n      <th>2978032</th>\n      <td>13279849</td>\n      <td>IOS разработчик</td>\n      <td>1221.0</td>\n      <td>&lt;p&gt;amoCRM - это облачный сервис, который позво...</td>\n      <td>NaN</td>\n      <td>between1And3</td>\n      <td>999442.0</td>\n      <td>amoCRM</td>\n      <td>NaN</td>\n      <td>80000.0</td>\n      <td>RUR</td>\n      <td>1</td>\n      <td>Москва</td>\n      <td>2015-04-16 17:10:46+03:00</td>\n      <td>1474.0</td>\n      <td>NaN</td>\n      <td>Программирование, Разработка</td>\n      <td>Стартапы</td>\n      <td>NaN</td>\n    </tr>\n    <tr>\n      <th>2978034</th>\n      <td>13279864</td>\n      <td>Java-разработчик</td>\n      <td>1221.0</td>\n      <td>&lt;p&gt;Приглашаем присоединиться к команде, котора...</td>\n      <td>Java\\nSQL\\nJDBC\\nXML\\nXsd\\nSpring Core\\nSOAP</td>\n      <td>between1And3</td>\n      <td>22494.0</td>\n      <td>Неофлекс</td>\n      <td>NaN</td>\n      <td>NaN</td>\n      <td>NaN</td>\n      <td>1</td>\n      <td>Москва</td>\n      <td>2015-11-10 09:53:27+03:00</td>\n      <td>1082.0</td>\n      <td>NaN</td>\n      <td>Программирование, Разработка</td>\n      <td>Инженер</td>\n      <td>NaN</td>\n    </tr>\n    <tr>\n      <th>2978036</th>\n      <td>13279878</td>\n      <td>Квант-трейдер</td>\n      <td>1221.0</td>\n      <td>&lt;p&gt;Один из лидеров алгоритмической торговли на...</td>\n      <td>NaN</td>\n      <td>between3And6</td>\n      <td>1833.0</td>\n      <td>Брокеркредитсервис</td>\n      <td>NaN</td>\n      <td>NaN</td>\n      <td>NaN</td>\n      <td>1</td>\n      <td>Москва</td>\n      <td>2015-05-06 20:52:06+03:00</td>\n      <td>1117.0</td>\n      <td>5101.0</td>\n      <td>Программирование, Разработка</td>\n      <td>Тестирование</td>\n      <td>Трейдинг, Дилинг</td>\n    </tr>\n    <tr>\n      <th>2978038</th>\n      <td>13279885</td>\n      <td>Frontend разработчик / верстальщик</td>\n      <td>1221.0</td>\n      <td>&lt;p&gt;Оператору по приему моментальных платежей &amp;...</td>\n      <td>NaN</td>\n      <td>between1And3</td>\n      <td>48666.0</td>\n      <td>Чек-онлайн</td>\n      <td>30000.0</td>\n      <td>NaN</td>\n      <td>RUR</td>\n      <td>76</td>\n      <td>Ростов-на-Дону</td>\n      <td>2015-05-12 10:54:50+03:00</td>\n      <td>NaN</td>\n      <td>NaN</td>\n      <td>Программирование, Разработка</td>\n      <td>NaN</td>\n      <td>NaN</td>\n    </tr>\n    <tr>\n      <th>2978042</th>\n      <td>13279918</td>\n      <td>JavaScript разработчик Front-End</td>\n      <td>1221.0</td>\n      <td>&lt;p&gt;&lt;strong&gt;Обазянности:&lt;/strong&gt;&lt;/p&gt; &lt;ul&gt; &lt;li&gt;...</td>\n      <td>NaN</td>\n      <td>between1And3</td>\n      <td>40912.0</td>\n      <td>БИФИТ</td>\n      <td>NaN</td>\n      <td>NaN</td>\n      <td>NaN</td>\n      <td>1</td>\n      <td>Москва</td>\n      <td>2015-05-15 17:43:01+03:00</td>\n      <td>1110.0</td>\n      <td>1270.0</td>\n      <td>Программирование, Разработка</td>\n      <td>Компьютерная безопасность</td>\n      <td>Сетевые технологии</td>\n    </tr>\n  </tbody>\n</table>\n<p>1156160 rows × 19 columns</p>\n</div>"
     },
     "execution_count": 13,
     "metadata": {},
     "output_type": "execute_result"
    }
   ],
   "source": [
    "df = df[((df.spec_id_1.notna()) & (df.spec_id_1== 1221)) | ((df.spec_id_0.notna()) & (df.spec_id_0== 1221)) |((df.spec_id_2.notna()) & (df.spec_id_2== 1221)) ]\n",
    "df"
   ],
   "metadata": {
    "collapsed": false,
    "ExecuteTime": {
     "end_time": "2024-05-06T14:02:52.018337102Z",
     "start_time": "2024-05-06T14:02:51.397079650Z"
    }
   },
   "id": "3c0e45e2dfad7c20"
  },
  {
   "cell_type": "markdown",
   "source": [
    "Удалось значительно уменьшить объем датасета. Теперь шесть столбцов со специализацией больше не нужны и их можно удалить:"
   ],
   "metadata": {
    "collapsed": false
   },
   "id": "830b1ab90ac47662"
  },
  {
   "cell_type": "code",
   "execution_count": 14,
   "outputs": [
    {
     "data": {
      "text/plain": "6"
     },
     "execution_count": 14,
     "metadata": {},
     "output_type": "execute_result"
    }
   ],
   "source": [
    "prepare.drop_spec_cols(df)"
   ],
   "metadata": {
    "collapsed": false,
    "ExecuteTime": {
     "end_time": "2024-05-06T14:03:29.631390331Z",
     "start_time": "2024-05-06T14:03:29.400851194Z"
    }
   },
   "id": "a1446932d4fe413d"
  },
  {
   "cell_type": "markdown",
   "source": [
    "### Преобразования признаков"
   ],
   "metadata": {
    "collapsed": false
   },
   "id": "dacc85105e1aac0f"
  },
  {
   "cell_type": "markdown",
   "source": [
    "Столбцы 'key_skills', 'salary_from', 'salary_to', 'salary_currency', 'employer_id', 'spec_1', 'spec_2' содержат пустые значения. Это означает, что работодатель не заполнил эти поля. Для решения поставленной задачи эти столбцы существенной роли не играют, поскольку были добавлены в датасет для дополнительной информации о вакансии, поэтому заполним их значениями по умолчанию."
   ],
   "metadata": {
    "collapsed": false
   },
   "id": "39fdd6ea11db8e4b"
  },
  {
   "cell_type": "code",
   "execution_count": 15,
   "outputs": [
    {
     "data": {
      "text/plain": "id                      0\nname                    0\ndescription             0\nkey_skills         567644\nexperience_id           0\nemployer_id          2039\nemployer_name           0\nsalary_from        700923\nsalary_to          854811\nsalary_currency    653063\narea_id                 0\narea_name               0\npublished_at            0\ndtype: int64"
     },
     "execution_count": 15,
     "metadata": {},
     "output_type": "execute_result"
    }
   ],
   "source": [
    "df.isnull().sum()"
   ],
   "metadata": {
    "collapsed": false,
    "ExecuteTime": {
     "end_time": "2024-05-06T14:03:50.824436166Z",
     "start_time": "2024-05-06T14:03:50.271004319Z"
    }
   },
   "id": "674bdf3d300da0f"
  },
  {
   "cell_type": "code",
   "execution_count": 16,
   "outputs": [
    {
     "name": "stdout",
     "output_type": "stream",
     "text": [
      "Количество пропусков: id                 0\n",
      "name               0\n",
      "description        0\n",
      "key_skills         0\n",
      "experience_id      0\n",
      "employer_id        0\n",
      "employer_name      0\n",
      "salary_from        0\n",
      "salary_to          0\n",
      "salary_currency    0\n",
      "area_id            0\n",
      "area_name          0\n",
      "published_at       0\n",
      "dtype: int64\n"
     ]
    }
   ],
   "source": [
    "count=prepare.fill_nans(df)\n",
    "print('Количество пропусков:', count)"
   ],
   "metadata": {
    "collapsed": false,
    "ExecuteTime": {
     "end_time": "2024-05-06T14:04:46.361839893Z",
     "start_time": "2024-05-06T14:04:45.303762876Z"
    }
   },
   "id": "4eb12931b9ab42e1"
  },
  {
   "cell_type": "markdown",
   "source": [
    "Также некоторые столбцы имеют неверный тип данных:\n",
    "- столбец 'published_at' имеет тип данных 'object', а необходимо 'datetime';\n",
    "- столбцы 'area_id', 'employer_id' имеют тип данных 'object', а необходимо 'int32';\n",
    "- столбцы 'salary_from', 'salary_to' имеют тип данных 'object', а необходимо 'int32'.\n",
    "Исправим это:"
   ],
   "metadata": {
    "collapsed": false
   },
   "id": "21da2c66787c04d9"
  },
  {
   "cell_type": "code",
   "execution_count": 17,
   "outputs": [
    {
     "data": {
      "text/plain": "id                                     int64\nname                                  object\ndescription                           object\nkey_skills                            object\nexperience_id                         object\nemployer_id                           uint32\nemployer_name                         object\nsalary_from                           uint32\nsalary_to                             uint32\nsalary_currency                       object\narea_id                               uint16\narea_name                             object\npublished_at       datetime64[ns, UTC+03:00]\ndtype: object"
     },
     "execution_count": 17,
     "metadata": {},
     "output_type": "execute_result"
    }
   ],
   "source": [
    "prepare.fix_data_types(df)\n",
    "df.dtypes"
   ],
   "metadata": {
    "collapsed": false,
    "ExecuteTime": {
     "end_time": "2024-05-06T14:05:12.177190024Z",
     "start_time": "2024-05-06T14:04:56.363763442Z"
    }
   },
   "id": "a837650236573b9b"
  },
  {
   "cell_type": "markdown",
   "source": [
    "Проанализируем распределение значений в признаках:"
   ],
   "metadata": {
    "collapsed": false
   },
   "id": "2ff6d6a523ad36f3"
  },
  {
   "cell_type": "code",
   "execution_count": 18,
   "outputs": [
    {
     "data": {
      "text/plain": "                  name                                        description  \\\ncount          1156160                                            1156160   \nunique          250006                                             744300   \ntop     Программист 1С  <p>Приглашаем Senior .NET-разработчиков в наш ...   \nfreq             46319                                               1069   \n\n       key_skills experience_id employer_name salary_currency area_name  \ncount     1156160       1156160       1156160         1156160   1156160  \nunique     254990             4         77614              10      2934  \ntop                between1And3      Сбербанк             RUR    Москва  \nfreq       567644        584294         19160         1087150    345135  ",
      "text/html": "<div>\n<style scoped>\n    .dataframe tbody tr th:only-of-type {\n        vertical-align: middle;\n    }\n\n    .dataframe tbody tr th {\n        vertical-align: top;\n    }\n\n    .dataframe thead th {\n        text-align: right;\n    }\n</style>\n<table border=\"1\" class=\"dataframe\">\n  <thead>\n    <tr style=\"text-align: right;\">\n      <th></th>\n      <th>name</th>\n      <th>description</th>\n      <th>key_skills</th>\n      <th>experience_id</th>\n      <th>employer_name</th>\n      <th>salary_currency</th>\n      <th>area_name</th>\n    </tr>\n  </thead>\n  <tbody>\n    <tr>\n      <th>count</th>\n      <td>1156160</td>\n      <td>1156160</td>\n      <td>1156160</td>\n      <td>1156160</td>\n      <td>1156160</td>\n      <td>1156160</td>\n      <td>1156160</td>\n    </tr>\n    <tr>\n      <th>unique</th>\n      <td>250006</td>\n      <td>744300</td>\n      <td>254990</td>\n      <td>4</td>\n      <td>77614</td>\n      <td>10</td>\n      <td>2934</td>\n    </tr>\n    <tr>\n      <th>top</th>\n      <td>Программист 1С</td>\n      <td>&lt;p&gt;Приглашаем Senior .NET-разработчиков в наш ...</td>\n      <td></td>\n      <td>between1And3</td>\n      <td>Сбербанк</td>\n      <td>RUR</td>\n      <td>Москва</td>\n    </tr>\n    <tr>\n      <th>freq</th>\n      <td>46319</td>\n      <td>1069</td>\n      <td>567644</td>\n      <td>584294</td>\n      <td>19160</td>\n      <td>1087150</td>\n      <td>345135</td>\n    </tr>\n  </tbody>\n</table>\n</div>"
     },
     "execution_count": 18,
     "metadata": {},
     "output_type": "execute_result"
    }
   ],
   "source": [
    "df.describe(include=['object','datetime64[ns]', 'category'])"
   ],
   "metadata": {
    "collapsed": false,
    "ExecuteTime": {
     "end_time": "2024-05-06T14:05:43.388738195Z",
     "start_time": "2024-05-06T14:05:41.515988336Z"
    }
   },
   "id": "cfb621b563a402e1"
  },
  {
   "cell_type": "markdown",
   "source": [
    "Некоторые столбцы имеют ограниченный набор значений и, по сути, являются категориальными: столбец 'experience_id' содержит 4 уникальных значения, salary_currency - 10:"
   ],
   "metadata": {
    "collapsed": false
   },
   "id": "9ffc00b193c466fe"
  },
  {
   "cell_type": "code",
   "execution_count": 19,
   "outputs": [
    {
     "data": {
      "text/plain": "experience_id\nbetween1And3    584294\nbetween3And6    417260\nnoExperience    112260\nmoreThan6        42346\nName: count, dtype: int64"
     },
     "execution_count": 19,
     "metadata": {},
     "output_type": "execute_result"
    }
   ],
   "source": [
    "df.experience_id.value_counts()"
   ],
   "metadata": {
    "collapsed": false,
    "ExecuteTime": {
     "end_time": "2024-05-06T14:06:10.654967869Z",
     "start_time": "2024-05-06T14:06:10.613242254Z"
    }
   },
   "id": "1a40cb4347bc3e0d"
  },
  {
   "cell_type": "code",
   "execution_count": 20,
   "outputs": [
    {
     "data": {
      "text/plain": "salary_currency\nRUR    1087150\nUSD      29269\nKZT      18854\nBYR       8802\nEUR       5641\nUAH       4906\nUZS       1068\nKGS        294\nAZN        172\nGEL          4\nName: count, dtype: int64"
     },
     "execution_count": 20,
     "metadata": {},
     "output_type": "execute_result"
    }
   ],
   "source": [
    "df.salary_currency.value_counts()"
   ],
   "metadata": {
    "collapsed": false,
    "ExecuteTime": {
     "end_time": "2024-05-06T14:06:14.408806608Z",
     "start_time": "2024-05-06T14:06:14.392833025Z"
    }
   },
   "id": "7a0b3f5661aeeba0"
  },
  {
   "cell_type": "markdown",
   "source": [
    "Закодируем категориальные признаки целыми числами:"
   ],
   "metadata": {
    "collapsed": false
   },
   "id": "b5d31c2e0d3d1508"
  },
  {
   "cell_type": "code",
   "execution_count": 21,
   "outputs": [
    {
     "name": "stdout",
     "output_type": "stream",
     "text": [
      "<class 'pandas.core.frame.DataFrame'>\n",
      "Index: 1156160 entries, 0 to 2978042\n",
      "Data columns (total 13 columns):\n",
      " #   Column           Non-Null Count    Dtype                    \n",
      "---  ------           --------------    -----                    \n",
      " 0   id               1156160 non-null  int64                    \n",
      " 1   name             1156160 non-null  object                   \n",
      " 2   description      1156160 non-null  object                   \n",
      " 3   key_skills       1156160 non-null  object                   \n",
      " 4   experience_id    1156160 non-null  uint8                    \n",
      " 5   employer_id      1156160 non-null  uint32                   \n",
      " 6   employer_name    1156160 non-null  object                   \n",
      " 7   salary_from      1156160 non-null  uint32                   \n",
      " 8   salary_to        1156160 non-null  uint32                   \n",
      " 9   salary_currency  1156160 non-null  uint8                    \n",
      " 10  area_id          1156160 non-null  uint16                   \n",
      " 11  area_name        1156160 non-null  object                   \n",
      " 12  published_at     1156160 non-null  datetime64[ns, UTC+03:00]\n",
      "dtypes: datetime64[ns, UTC+03:00](1), int64(1), object(5), uint16(1), uint32(3), uint8(2)\n",
      "memory usage: 88.2+ MB\n"
     ]
    }
   ],
   "source": [
    "prepare.cat_to_num(df)\n",
    "df.info()"
   ],
   "metadata": {
    "collapsed": false,
    "ExecuteTime": {
     "end_time": "2024-05-06T14:06:19.509350638Z",
     "start_time": "2024-05-06T14:06:18.790689689Z"
    }
   },
   "id": "3e7a8472ee95d62"
  },
  {
   "cell_type": "markdown",
   "source": [
    "В результате выполненных преобразований размер данных в памяти уменьшился в несколько раз."
   ],
   "metadata": {
    "collapsed": false
   },
   "id": "2d7db7decec79c77"
  },
  {
   "cell_type": "markdown",
   "source": [
    "### Удаление дубликатов"
   ],
   "metadata": {
    "collapsed": false
   },
   "id": "5e5383b1e2cf56f8"
  },
  {
   "cell_type": "code",
   "execution_count": 22,
   "outputs": [
    {
     "data": {
      "text/plain": "                  name                                        description  \\\ncount          1156160                                            1156160   \nunique          250006                                             744300   \ntop     Программист 1С  <p>Приглашаем Senior .NET-разработчиков в наш ...   \nfreq             46319                                               1069   \n\n       key_skills employer_name area_name  \ncount     1156160       1156160   1156160  \nunique     254990         77614      2934  \ntop                    Сбербанк    Москва  \nfreq       567644         19160    345135  ",
      "text/html": "<div>\n<style scoped>\n    .dataframe tbody tr th:only-of-type {\n        vertical-align: middle;\n    }\n\n    .dataframe tbody tr th {\n        vertical-align: top;\n    }\n\n    .dataframe thead th {\n        text-align: right;\n    }\n</style>\n<table border=\"1\" class=\"dataframe\">\n  <thead>\n    <tr style=\"text-align: right;\">\n      <th></th>\n      <th>name</th>\n      <th>description</th>\n      <th>key_skills</th>\n      <th>employer_name</th>\n      <th>area_name</th>\n    </tr>\n  </thead>\n  <tbody>\n    <tr>\n      <th>count</th>\n      <td>1156160</td>\n      <td>1156160</td>\n      <td>1156160</td>\n      <td>1156160</td>\n      <td>1156160</td>\n    </tr>\n    <tr>\n      <th>unique</th>\n      <td>250006</td>\n      <td>744300</td>\n      <td>254990</td>\n      <td>77614</td>\n      <td>2934</td>\n    </tr>\n    <tr>\n      <th>top</th>\n      <td>Программист 1С</td>\n      <td>&lt;p&gt;Приглашаем Senior .NET-разработчиков в наш ...</td>\n      <td></td>\n      <td>Сбербанк</td>\n      <td>Москва</td>\n    </tr>\n    <tr>\n      <th>freq</th>\n      <td>46319</td>\n      <td>1069</td>\n      <td>567644</td>\n      <td>19160</td>\n      <td>345135</td>\n    </tr>\n  </tbody>\n</table>\n</div>"
     },
     "execution_count": 22,
     "metadata": {},
     "output_type": "execute_result"
    }
   ],
   "source": [
    "df.describe(include=['object','datetime64[ns]', 'category'])"
   ],
   "metadata": {
    "collapsed": false,
    "ExecuteTime": {
     "end_time": "2024-05-06T14:07:25.661104178Z",
     "start_time": "2024-05-06T14:07:23.760156794Z"
    }
   },
   "id": "43fa258672f874d7"
  },
  {
   "cell_type": "markdown",
   "source": [
    "Как видно из таблицы, в столбцах с текстовым содержимым много одинаковых данных. Это особенно нежелательно для признака с описанием вакансии. Работодатели часто создают однотипные объявления, например, для разных регионов, или републикуют свои объявления через некоторые интервалы времени. Оценим количество дублей."
   ],
   "metadata": {
    "collapsed": false
   },
   "id": "e338f216d7061817"
  },
  {
   "cell_type": "markdown",
   "source": [
    "Объявления с одинаковыми названием, описанием, работодателем, навыками и опытом (отличаются только полями, не создающими отличительных признаков вакансии, таких как дата публикации, регион, идентификатор и т.п.):"
   ],
   "metadata": {
    "collapsed": false
   },
   "id": "65a29853b96d1ec7"
  },
  {
   "cell_type": "code",
   "execution_count": 23,
   "outputs": [
    {
     "name": "stdout",
     "output_type": "stream",
     "text": [
      "Количество одинаковых объявлений: 539001\n"
     ]
    }
   ],
   "source": [
    "same_cols=['name','description','experience_id', 'key_skills', 'employer_id']\n",
    "print(f'Количество одинаковых объявлений: {df[same_cols].duplicated(keep=False).sum()}')"
   ],
   "metadata": {
    "collapsed": false,
    "ExecuteTime": {
     "end_time": "2024-05-06T14:07:50.477337176Z",
     "start_time": "2024-05-06T14:07:38.862492971Z"
    }
   },
   "id": "1f1b7d6a454fe37e"
  },
  {
   "cell_type": "code",
   "execution_count": 24,
   "outputs": [
    {
     "data": {
      "text/plain": "              id                                               name  \\\n0       24550613                              Серверный разработчик   \n1       24550612                              Серверный разработчик   \n2       24550614                              Серверный разработчик   \n3       18913578                             Senior PHP разработчик   \n4       18913580                             Senior PHP разработчик   \n...          ...                                                ...   \n538996  24966349                               Full Stack Developer   \n538997  24966348                               Full Stack Developer   \n538998  24966360  Full Stack Developer For Startup - Develop Awe...   \n538999  22810715  Full Stack Developer For Startup - AngularJS E...   \n539000  22810716  Full Stack Developer For Startup - AngularJS E...   \n\n                                              description  \\\n0                   <p> </p> <p> </p> <p>В связи с рас...   \n1                   <p> </p> <p> </p> <p>В связи с рас...   \n2                   <p> </p> <p> </p> <p>В связи с рас...   \n3                   <p> </p> <p><strong>Сегодня мы при...   \n4                   <p> </p> <p><strong>Сегодня мы при...   \n...                                                   ...   \n538996  ▬▬▬▬▬▬▬▬▬▬▬<br />Who are we?<br />▬▬▬▬▬▬▬▬▬▬▬<...   \n538997  ▬▬▬▬▬▬▬▬▬▬▬<br />Who are we?<br />▬▬▬▬▬▬▬▬▬▬▬<...   \n538998  ▬▬▬▬▬▬▬▬▬▬▬<br />Who are we?<br />▬▬▬▬▬▬▬▬▬▬▬<...   \n538999  ▬▬▬▬▬▬▬▬▬▬▬<br />Who are we?<br />▬▬▬▬▬▬▬▬▬▬▬<...   \n539000  ▬▬▬▬▬▬▬▬▬▬▬<br />Who are we?<br />▬▬▬▬▬▬▬▬▬▬▬<...   \n\n                  key_skills  experience_id  employer_id        employer_name  \\\n0                                         1      3239489              Картрек   \n1                                         1      3239489              Картрек   \n2                                         1      3239489              Картрек   \n3                                         2      2846280  Компания «ФИНТЕРРА»   \n4                                         2      2846280  Компания «ФИНТЕРРА»   \n...                      ...            ...          ...                  ...   \n538996             AngularJS              2      2160182         RapidSeedbox   \n538997             AngularJS              2      2160182         RapidSeedbox   \n538998  Software Development              2      2160182         RapidSeedbox   \n538999             AngularJS              2      2160182         RapidSeedbox   \n539000             AngularJS              2      2160182         RapidSeedbox   \n\n        salary_from  salary_to  salary_currency  area_id        area_name  \\\n0             50000      80000                0       88           Казань   \n1             50000      80000                0        3     Екатеринбург   \n2             50000      80000                0        4      Новосибирск   \n3            100000          0                0       95           Тюмень   \n4            100000          0                0       78           Самара   \n...             ...        ...              ...      ...              ...   \n538996       120000          0                0       72            Пермь   \n538997       120000          0                0       68             Омск   \n538998       120000          0                0        1           Москва   \n538999       120000          0                0        1           Москва   \n539000       120000          0                0        2  Санкт-Петербург   \n\n                    published_at  \n0      2018-02-13 16:36:30+03:00  \n1      2018-02-13 16:36:30+03:00  \n2      2018-02-13 16:36:30+03:00  \n3      2016-11-10 05:36:41+03:00  \n4      2016-11-10 05:37:07+03:00  \n...                          ...  \n538996 2018-03-17 06:23:23+03:00  \n538997 2018-03-17 06:23:23+03:00  \n538998 2018-04-16 06:37:11+03:00  \n538999 2017-10-20 18:09:57+03:00  \n539000 2017-10-20 18:09:57+03:00  \n\n[539001 rows x 13 columns]",
      "text/html": "<div>\n<style scoped>\n    .dataframe tbody tr th:only-of-type {\n        vertical-align: middle;\n    }\n\n    .dataframe tbody tr th {\n        vertical-align: top;\n    }\n\n    .dataframe thead th {\n        text-align: right;\n    }\n</style>\n<table border=\"1\" class=\"dataframe\">\n  <thead>\n    <tr style=\"text-align: right;\">\n      <th></th>\n      <th>id</th>\n      <th>name</th>\n      <th>description</th>\n      <th>key_skills</th>\n      <th>experience_id</th>\n      <th>employer_id</th>\n      <th>employer_name</th>\n      <th>salary_from</th>\n      <th>salary_to</th>\n      <th>salary_currency</th>\n      <th>area_id</th>\n      <th>area_name</th>\n      <th>published_at</th>\n    </tr>\n  </thead>\n  <tbody>\n    <tr>\n      <th>0</th>\n      <td>24550613</td>\n      <td>Серверный разработчик</td>\n      <td>&lt;p&gt; &lt;/p&gt; &lt;p&gt; &lt;/p&gt; &lt;p&gt;В связи с рас...</td>\n      <td></td>\n      <td>1</td>\n      <td>3239489</td>\n      <td>Картрек</td>\n      <td>50000</td>\n      <td>80000</td>\n      <td>0</td>\n      <td>88</td>\n      <td>Казань</td>\n      <td>2018-02-13 16:36:30+03:00</td>\n    </tr>\n    <tr>\n      <th>1</th>\n      <td>24550612</td>\n      <td>Серверный разработчик</td>\n      <td>&lt;p&gt; &lt;/p&gt; &lt;p&gt; &lt;/p&gt; &lt;p&gt;В связи с рас...</td>\n      <td></td>\n      <td>1</td>\n      <td>3239489</td>\n      <td>Картрек</td>\n      <td>50000</td>\n      <td>80000</td>\n      <td>0</td>\n      <td>3</td>\n      <td>Екатеринбург</td>\n      <td>2018-02-13 16:36:30+03:00</td>\n    </tr>\n    <tr>\n      <th>2</th>\n      <td>24550614</td>\n      <td>Серверный разработчик</td>\n      <td>&lt;p&gt; &lt;/p&gt; &lt;p&gt; &lt;/p&gt; &lt;p&gt;В связи с рас...</td>\n      <td></td>\n      <td>1</td>\n      <td>3239489</td>\n      <td>Картрек</td>\n      <td>50000</td>\n      <td>80000</td>\n      <td>0</td>\n      <td>4</td>\n      <td>Новосибирск</td>\n      <td>2018-02-13 16:36:30+03:00</td>\n    </tr>\n    <tr>\n      <th>3</th>\n      <td>18913578</td>\n      <td>Senior PHP разработчик</td>\n      <td>&lt;p&gt; &lt;/p&gt; &lt;p&gt;&lt;strong&gt;Сегодня мы при...</td>\n      <td></td>\n      <td>2</td>\n      <td>2846280</td>\n      <td>Компания «ФИНТЕРРА»</td>\n      <td>100000</td>\n      <td>0</td>\n      <td>0</td>\n      <td>95</td>\n      <td>Тюмень</td>\n      <td>2016-11-10 05:36:41+03:00</td>\n    </tr>\n    <tr>\n      <th>4</th>\n      <td>18913580</td>\n      <td>Senior PHP разработчик</td>\n      <td>&lt;p&gt; &lt;/p&gt; &lt;p&gt;&lt;strong&gt;Сегодня мы при...</td>\n      <td></td>\n      <td>2</td>\n      <td>2846280</td>\n      <td>Компания «ФИНТЕРРА»</td>\n      <td>100000</td>\n      <td>0</td>\n      <td>0</td>\n      <td>78</td>\n      <td>Самара</td>\n      <td>2016-11-10 05:37:07+03:00</td>\n    </tr>\n    <tr>\n      <th>...</th>\n      <td>...</td>\n      <td>...</td>\n      <td>...</td>\n      <td>...</td>\n      <td>...</td>\n      <td>...</td>\n      <td>...</td>\n      <td>...</td>\n      <td>...</td>\n      <td>...</td>\n      <td>...</td>\n      <td>...</td>\n      <td>...</td>\n    </tr>\n    <tr>\n      <th>538996</th>\n      <td>24966349</td>\n      <td>Full Stack Developer</td>\n      <td>▬▬▬▬▬▬▬▬▬▬▬&lt;br /&gt;Who are we?&lt;br /&gt;▬▬▬▬▬▬▬▬▬▬▬&lt;...</td>\n      <td>AngularJS</td>\n      <td>2</td>\n      <td>2160182</td>\n      <td>RapidSeedbox</td>\n      <td>120000</td>\n      <td>0</td>\n      <td>0</td>\n      <td>72</td>\n      <td>Пермь</td>\n      <td>2018-03-17 06:23:23+03:00</td>\n    </tr>\n    <tr>\n      <th>538997</th>\n      <td>24966348</td>\n      <td>Full Stack Developer</td>\n      <td>▬▬▬▬▬▬▬▬▬▬▬&lt;br /&gt;Who are we?&lt;br /&gt;▬▬▬▬▬▬▬▬▬▬▬&lt;...</td>\n      <td>AngularJS</td>\n      <td>2</td>\n      <td>2160182</td>\n      <td>RapidSeedbox</td>\n      <td>120000</td>\n      <td>0</td>\n      <td>0</td>\n      <td>68</td>\n      <td>Омск</td>\n      <td>2018-03-17 06:23:23+03:00</td>\n    </tr>\n    <tr>\n      <th>538998</th>\n      <td>24966360</td>\n      <td>Full Stack Developer For Startup - Develop Awe...</td>\n      <td>▬▬▬▬▬▬▬▬▬▬▬&lt;br /&gt;Who are we?&lt;br /&gt;▬▬▬▬▬▬▬▬▬▬▬&lt;...</td>\n      <td>Software Development</td>\n      <td>2</td>\n      <td>2160182</td>\n      <td>RapidSeedbox</td>\n      <td>120000</td>\n      <td>0</td>\n      <td>0</td>\n      <td>1</td>\n      <td>Москва</td>\n      <td>2018-04-16 06:37:11+03:00</td>\n    </tr>\n    <tr>\n      <th>538999</th>\n      <td>22810715</td>\n      <td>Full Stack Developer For Startup - AngularJS E...</td>\n      <td>▬▬▬▬▬▬▬▬▬▬▬&lt;br /&gt;Who are we?&lt;br /&gt;▬▬▬▬▬▬▬▬▬▬▬&lt;...</td>\n      <td>AngularJS</td>\n      <td>2</td>\n      <td>2160182</td>\n      <td>RapidSeedbox</td>\n      <td>120000</td>\n      <td>0</td>\n      <td>0</td>\n      <td>1</td>\n      <td>Москва</td>\n      <td>2017-10-20 18:09:57+03:00</td>\n    </tr>\n    <tr>\n      <th>539000</th>\n      <td>22810716</td>\n      <td>Full Stack Developer For Startup - AngularJS E...</td>\n      <td>▬▬▬▬▬▬▬▬▬▬▬&lt;br /&gt;Who are we?&lt;br /&gt;▬▬▬▬▬▬▬▬▬▬▬&lt;...</td>\n      <td>AngularJS</td>\n      <td>2</td>\n      <td>2160182</td>\n      <td>RapidSeedbox</td>\n      <td>120000</td>\n      <td>0</td>\n      <td>0</td>\n      <td>2</td>\n      <td>Санкт-Петербург</td>\n      <td>2017-10-20 18:09:57+03:00</td>\n    </tr>\n  </tbody>\n</table>\n<p>539001 rows × 13 columns</p>\n</div>"
     },
     "execution_count": 24,
     "metadata": {},
     "output_type": "execute_result"
    }
   ],
   "source": [
    "df2=df[df[same_cols].duplicated(keep=False)].sort_values(by='description', ascending=True, ignore_index=True)\n",
    "df2"
   ],
   "metadata": {
    "collapsed": false,
    "ExecuteTime": {
     "end_time": "2024-05-06T14:08:04.440399905Z",
     "start_time": "2024-05-06T14:07:56.010659393Z"
    }
   },
   "id": "d8fe1f3f5e3871c4"
  },
  {
   "cell_type": "markdown",
   "source": [
    "Дублей много. Их необходимо удалить:"
   ],
   "metadata": {
    "collapsed": false
   },
   "id": "3e64a698e3d2635"
  },
  {
   "cell_type": "code",
   "execution_count": 25,
   "outputs": [
    {
     "name": "stdout",
     "output_type": "stream",
     "text": [
      "Удалено одинаковых объявлений: 371449\n"
     ]
    }
   ],
   "source": [
    "dropped=prepare.drop_all_fields_duplicates(df,to_reset_index=True)\n",
    "print(f'Удалено одинаковых объявлений: {dropped}')"
   ],
   "metadata": {
    "collapsed": false,
    "ExecuteTime": {
     "end_time": "2024-05-06T14:08:19.809276129Z",
     "start_time": "2024-05-06T14:08:12.454948462Z"
    }
   },
   "id": "4b921fed8b72f11e"
  },
  {
   "cell_type": "code",
   "execution_count": 26,
   "outputs": [
    {
     "data": {
      "text/plain": "                  name                                        description  \\\ncount           784704                                             784704   \nunique          250003                                             744294   \ntop     Программист 1С  <p>China Electronic Technology Group Corporati...   \nfreq             29240                                                 43   \n\n       key_skills employer_name area_name  \ncount      784704        784704    784704  \nunique     254988         77578      1639  \ntop                    Сбербанк    Москва  \nfreq       371816         16005    264574  ",
      "text/html": "<div>\n<style scoped>\n    .dataframe tbody tr th:only-of-type {\n        vertical-align: middle;\n    }\n\n    .dataframe tbody tr th {\n        vertical-align: top;\n    }\n\n    .dataframe thead th {\n        text-align: right;\n    }\n</style>\n<table border=\"1\" class=\"dataframe\">\n  <thead>\n    <tr style=\"text-align: right;\">\n      <th></th>\n      <th>name</th>\n      <th>description</th>\n      <th>key_skills</th>\n      <th>employer_name</th>\n      <th>area_name</th>\n    </tr>\n  </thead>\n  <tbody>\n    <tr>\n      <th>count</th>\n      <td>784704</td>\n      <td>784704</td>\n      <td>784704</td>\n      <td>784704</td>\n      <td>784704</td>\n    </tr>\n    <tr>\n      <th>unique</th>\n      <td>250003</td>\n      <td>744294</td>\n      <td>254988</td>\n      <td>77578</td>\n      <td>1639</td>\n    </tr>\n    <tr>\n      <th>top</th>\n      <td>Программист 1С</td>\n      <td>&lt;p&gt;China Electronic Technology Group Corporati...</td>\n      <td></td>\n      <td>Сбербанк</td>\n      <td>Москва</td>\n    </tr>\n    <tr>\n      <th>freq</th>\n      <td>29240</td>\n      <td>43</td>\n      <td>371816</td>\n      <td>16005</td>\n      <td>264574</td>\n    </tr>\n  </tbody>\n</table>\n</div>"
     },
     "execution_count": 26,
     "metadata": {},
     "output_type": "execute_result"
    }
   ],
   "source": [
    "df.describe(include=['object','datetime64[ns]', 'category'])"
   ],
   "metadata": {
    "collapsed": false,
    "ExecuteTime": {
     "end_time": "2024-05-06T14:08:28.852674479Z",
     "start_time": "2024-05-06T14:08:27.351197637Z"
    }
   },
   "id": "ca5f32d6ba01d5ad"
  },
  {
   "cell_type": "markdown",
   "source": [
    "Анализ таблицы показывает, что все еще много объявлений с неуникальным содержимым. Исследуем этот вопрос."
   ],
   "metadata": {
    "collapsed": false
   },
   "id": "7a7f844f6ef165c9"
  },
  {
   "cell_type": "markdown",
   "source": [
    "Объявления с одинаковым описанием  (отличаются названием, работодателем, навыками и опытом):"
   ],
   "metadata": {
    "collapsed": false
   },
   "id": "4f5d5dd5fa2b9c44"
  },
  {
   "cell_type": "code",
   "execution_count": 27,
   "outputs": [
    {
     "data": {
      "text/plain": "             id                                               name  \\\n0      30398276                             JavaScript разработчик   \n1      30856099                             JavaScript разработчик   \n2      34009578                       DevOps engineer(офис Москва)   \n3      34009579                      DevOps engineer (офис Москва)   \n4      32765479                                        Программист   \n...         ...                                                ...   \n75291  20452680                               Senior iOS developer   \n75292  20398307                                    IOS программист   \n75293  24966349                               Full Stack Developer   \n75294  24966350                   Full Stack Developer For Startup   \n75295  24966362  Full Stack Developer For Startup - Develop Awe...   \n\n                                             description  \\\n0                  <p><strong><em>Позиция подразумева...   \n1                  <p><strong><em>Позиция подразумева...   \n2                  <p><strong>DevOps engineer</strong...   \n3                  <p><strong>DevOps engineer</strong...   \n4                  <p>Мы разрабатываем уникальные dig...   \n...                                                  ...   \n75291  Швейцарская компания приглашает для длительног...   \n75292  Швейцарская компания приглашает для длительног...   \n75293  ▬▬▬▬▬▬▬▬▬▬▬<br />Who are we?<br />▬▬▬▬▬▬▬▬▬▬▬<...   \n75294  ▬▬▬▬▬▬▬▬▬▬▬<br />Who are we?<br />▬▬▬▬▬▬▬▬▬▬▬<...   \n75295  ▬▬▬▬▬▬▬▬▬▬▬<br />Who are we?<br />▬▬▬▬▬▬▬▬▬▬▬<...   \n\n                                              key_skills  experience_id  \\\n0                 AngularJS\\nJavaScript\\njQuery\\nNode.js              2   \n1                 AngularJS\\nJavaScript\\njQuery\\nNode.js              1   \n2        Python\\nGit\\nLinux\\nBash\\nУправленческие навыки              1   \n3        Python\\nGit\\nLinux\\nBash\\nУправленческие навыки              1   \n4      PHP\\nYii\\nZend Framework\\nJavaScript\\njQuery\\n...              1   \n...                                                  ...            ...   \n75291                     iOS\\nC/C++\\nXcode\\nObjective-C              2   \n75292      iOS\\nC/C++\\nXcode\\nObjective-C\\nPython\\nSwift              2   \n75293                                          AngularJS              2   \n75294                                          AngularJS              2   \n75295                               Software Development              2   \n\n       employer_id       employer_name  salary_from  salary_to  \\\n0             6769  EPAM Systems, Inc.            0          0   \n1             6769  EPAM Systems, Inc.            0          0   \n2             4219               Tele2            0          0   \n3             4219               Tele2            0          0   \n4          2297436             Mozgami            0          0   \n...            ...                 ...          ...        ...   \n75291      1979728  Swiss Technologies         2000          0   \n75292      1979728  Swiss Technologies         2000          0   \n75293      2160182        RapidSeedbox       120000          0   \n75294      2160182        RapidSeedbox       120000          0   \n75295      2160182        RapidSeedbox       120000          0   \n\n       salary_currency  area_id        area_name              published_at  \n0                    0       15        Астрахань 2019-03-02 13:46:07+03:00  \n1                    0       51        Сыктывкар 2019-04-02 10:07:32+03:00  \n2                    0       26          Воронеж 2019-10-09 17:26:13+03:00  \n3                    0        2  Санкт-Петербург 2019-10-09 17:26:13+03:00  \n4                    0     2850        Кызыл-Кия 2019-09-27 14:24:04+03:00  \n...                ...      ...              ...                       ...  \n75291                1       54       Красноярск 2017-06-04 13:07:23+03:00  \n75292                1      135          Харьков 2017-04-28 23:53:29+03:00  \n75293                0       72            Пермь 2018-03-17 06:23:23+03:00  \n75294                0      104        Челябинск 2018-03-17 06:23:23+03:00  \n75295                0        3     Екатеринбург 2018-04-16 06:37:11+03:00  \n\n[75296 rows x 13 columns]",
      "text/html": "<div>\n<style scoped>\n    .dataframe tbody tr th:only-of-type {\n        vertical-align: middle;\n    }\n\n    .dataframe tbody tr th {\n        vertical-align: top;\n    }\n\n    .dataframe thead th {\n        text-align: right;\n    }\n</style>\n<table border=\"1\" class=\"dataframe\">\n  <thead>\n    <tr style=\"text-align: right;\">\n      <th></th>\n      <th>id</th>\n      <th>name</th>\n      <th>description</th>\n      <th>key_skills</th>\n      <th>experience_id</th>\n      <th>employer_id</th>\n      <th>employer_name</th>\n      <th>salary_from</th>\n      <th>salary_to</th>\n      <th>salary_currency</th>\n      <th>area_id</th>\n      <th>area_name</th>\n      <th>published_at</th>\n    </tr>\n  </thead>\n  <tbody>\n    <tr>\n      <th>0</th>\n      <td>30398276</td>\n      <td>JavaScript разработчик</td>\n      <td>&lt;p&gt;&lt;strong&gt;&lt;em&gt;Позиция подразумева...</td>\n      <td>AngularJS\\nJavaScript\\njQuery\\nNode.js</td>\n      <td>2</td>\n      <td>6769</td>\n      <td>EPAM Systems, Inc.</td>\n      <td>0</td>\n      <td>0</td>\n      <td>0</td>\n      <td>15</td>\n      <td>Астрахань</td>\n      <td>2019-03-02 13:46:07+03:00</td>\n    </tr>\n    <tr>\n      <th>1</th>\n      <td>30856099</td>\n      <td>JavaScript разработчик</td>\n      <td>&lt;p&gt;&lt;strong&gt;&lt;em&gt;Позиция подразумева...</td>\n      <td>AngularJS\\nJavaScript\\njQuery\\nNode.js</td>\n      <td>1</td>\n      <td>6769</td>\n      <td>EPAM Systems, Inc.</td>\n      <td>0</td>\n      <td>0</td>\n      <td>0</td>\n      <td>51</td>\n      <td>Сыктывкар</td>\n      <td>2019-04-02 10:07:32+03:00</td>\n    </tr>\n    <tr>\n      <th>2</th>\n      <td>34009578</td>\n      <td>DevOps engineer(офис Москва)</td>\n      <td>&lt;p&gt;&lt;strong&gt;DevOps engineer&lt;/strong...</td>\n      <td>Python\\nGit\\nLinux\\nBash\\nУправленческие навыки</td>\n      <td>1</td>\n      <td>4219</td>\n      <td>Tele2</td>\n      <td>0</td>\n      <td>0</td>\n      <td>0</td>\n      <td>26</td>\n      <td>Воронеж</td>\n      <td>2019-10-09 17:26:13+03:00</td>\n    </tr>\n    <tr>\n      <th>3</th>\n      <td>34009579</td>\n      <td>DevOps engineer (офис Москва)</td>\n      <td>&lt;p&gt;&lt;strong&gt;DevOps engineer&lt;/strong...</td>\n      <td>Python\\nGit\\nLinux\\nBash\\nУправленческие навыки</td>\n      <td>1</td>\n      <td>4219</td>\n      <td>Tele2</td>\n      <td>0</td>\n      <td>0</td>\n      <td>0</td>\n      <td>2</td>\n      <td>Санкт-Петербург</td>\n      <td>2019-10-09 17:26:13+03:00</td>\n    </tr>\n    <tr>\n      <th>4</th>\n      <td>32765479</td>\n      <td>Программист</td>\n      <td>&lt;p&gt;Мы разрабатываем уникальные dig...</td>\n      <td>PHP\\nYii\\nZend Framework\\nJavaScript\\njQuery\\n...</td>\n      <td>1</td>\n      <td>2297436</td>\n      <td>Mozgami</td>\n      <td>0</td>\n      <td>0</td>\n      <td>0</td>\n      <td>2850</td>\n      <td>Кызыл-Кия</td>\n      <td>2019-09-27 14:24:04+03:00</td>\n    </tr>\n    <tr>\n      <th>...</th>\n      <td>...</td>\n      <td>...</td>\n      <td>...</td>\n      <td>...</td>\n      <td>...</td>\n      <td>...</td>\n      <td>...</td>\n      <td>...</td>\n      <td>...</td>\n      <td>...</td>\n      <td>...</td>\n      <td>...</td>\n      <td>...</td>\n    </tr>\n    <tr>\n      <th>75291</th>\n      <td>20452680</td>\n      <td>Senior iOS developer</td>\n      <td>Швейцарская компания приглашает для длительног...</td>\n      <td>iOS\\nC/C++\\nXcode\\nObjective-C</td>\n      <td>2</td>\n      <td>1979728</td>\n      <td>Swiss Technologies</td>\n      <td>2000</td>\n      <td>0</td>\n      <td>1</td>\n      <td>54</td>\n      <td>Красноярск</td>\n      <td>2017-06-04 13:07:23+03:00</td>\n    </tr>\n    <tr>\n      <th>75292</th>\n      <td>20398307</td>\n      <td>IOS программист</td>\n      <td>Швейцарская компания приглашает для длительног...</td>\n      <td>iOS\\nC/C++\\nXcode\\nObjective-C\\nPython\\nSwift</td>\n      <td>2</td>\n      <td>1979728</td>\n      <td>Swiss Technologies</td>\n      <td>2000</td>\n      <td>0</td>\n      <td>1</td>\n      <td>135</td>\n      <td>Харьков</td>\n      <td>2017-04-28 23:53:29+03:00</td>\n    </tr>\n    <tr>\n      <th>75293</th>\n      <td>24966349</td>\n      <td>Full Stack Developer</td>\n      <td>▬▬▬▬▬▬▬▬▬▬▬&lt;br /&gt;Who are we?&lt;br /&gt;▬▬▬▬▬▬▬▬▬▬▬&lt;...</td>\n      <td>AngularJS</td>\n      <td>2</td>\n      <td>2160182</td>\n      <td>RapidSeedbox</td>\n      <td>120000</td>\n      <td>0</td>\n      <td>0</td>\n      <td>72</td>\n      <td>Пермь</td>\n      <td>2018-03-17 06:23:23+03:00</td>\n    </tr>\n    <tr>\n      <th>75294</th>\n      <td>24966350</td>\n      <td>Full Stack Developer For Startup</td>\n      <td>▬▬▬▬▬▬▬▬▬▬▬&lt;br /&gt;Who are we?&lt;br /&gt;▬▬▬▬▬▬▬▬▬▬▬&lt;...</td>\n      <td>AngularJS</td>\n      <td>2</td>\n      <td>2160182</td>\n      <td>RapidSeedbox</td>\n      <td>120000</td>\n      <td>0</td>\n      <td>0</td>\n      <td>104</td>\n      <td>Челябинск</td>\n      <td>2018-03-17 06:23:23+03:00</td>\n    </tr>\n    <tr>\n      <th>75295</th>\n      <td>24966362</td>\n      <td>Full Stack Developer For Startup - Develop Awe...</td>\n      <td>▬▬▬▬▬▬▬▬▬▬▬&lt;br /&gt;Who are we?&lt;br /&gt;▬▬▬▬▬▬▬▬▬▬▬&lt;...</td>\n      <td>Software Development</td>\n      <td>2</td>\n      <td>2160182</td>\n      <td>RapidSeedbox</td>\n      <td>120000</td>\n      <td>0</td>\n      <td>0</td>\n      <td>3</td>\n      <td>Екатеринбург</td>\n      <td>2018-04-16 06:37:11+03:00</td>\n    </tr>\n  </tbody>\n</table>\n<p>75296 rows × 13 columns</p>\n</div>"
     },
     "execution_count": 27,
     "metadata": {},
     "output_type": "execute_result"
    }
   ],
   "source": [
    "df[df.description.duplicated(keep=False)].sort_values(by='description', ascending=True, ignore_index=True)"
   ],
   "metadata": {
    "collapsed": false,
    "ExecuteTime": {
     "end_time": "2024-05-06T14:08:40.596934389Z",
     "start_time": "2024-05-06T14:08:40.428493460Z"
    }
   },
   "id": "c947a2d35bc65c06"
  },
  {
   "cell_type": "markdown",
   "source": [
    "Значительная часть объявлений имеет неуникальное описание. Необходимо выяснить, действительно ли они являются дублями."
   ],
   "metadata": {
    "collapsed": false
   },
   "id": "9907c64b9bba4f6e"
  },
  {
   "cell_type": "markdown",
   "source": [
    "Объявления с одинаковыми описанием и работодателем (отличаются названием, навыками и опытом):"
   ],
   "metadata": {
    "collapsed": false
   },
   "id": "1cee0aaaf9922809"
  },
  {
   "cell_type": "code",
   "execution_count": 28,
   "outputs": [
    {
     "data": {
      "text/plain": "             id                                               name  \\\n0      30398276                             JavaScript разработчик   \n1      30856099                             JavaScript разработчик   \n2      34009578                       DevOps engineer(офис Москва)   \n3      34009579                      DevOps engineer (офис Москва)   \n4      31301144                           Back-end Web Разработчик   \n...         ...                                                ...   \n73540  20452680                               Senior iOS developer   \n73541  20398307                                    IOS программист   \n73542  24966362  Full Stack Developer For Startup - Develop Awe...   \n73543  24966349                               Full Stack Developer   \n73544  24966350                   Full Stack Developer For Startup   \n\n                                             description  \\\n0                  <p><strong><em>Позиция подразумева...   \n1                  <p><strong><em>Позиция подразумева...   \n2                  <p><strong>DevOps engineer</strong...   \n3                  <p><strong>DevOps engineer</strong...   \n4                  <p>Мы разрабатываем уникальные dig...   \n...                                                  ...   \n73540  Швейцарская компания приглашает для длительног...   \n73541  Швейцарская компания приглашает для длительног...   \n73542  ▬▬▬▬▬▬▬▬▬▬▬<br />Who are we?<br />▬▬▬▬▬▬▬▬▬▬▬<...   \n73543  ▬▬▬▬▬▬▬▬▬▬▬<br />Who are we?<br />▬▬▬▬▬▬▬▬▬▬▬<...   \n73544  ▬▬▬▬▬▬▬▬▬▬▬<br />Who are we?<br />▬▬▬▬▬▬▬▬▬▬▬<...   \n\n                                              key_skills  experience_id  \\\n0                 AngularJS\\nJavaScript\\njQuery\\nNode.js              2   \n1                 AngularJS\\nJavaScript\\njQuery\\nNode.js              1   \n2        Python\\nGit\\nLinux\\nBash\\nУправленческие навыки              1   \n3        Python\\nGit\\nLinux\\nBash\\nУправленческие навыки              1   \n4      PHP\\nYii\\nZend Framework\\nJavaScript\\njQuery\\n...              1   \n...                                                  ...            ...   \n73540                     iOS\\nC/C++\\nXcode\\nObjective-C              2   \n73541      iOS\\nC/C++\\nXcode\\nObjective-C\\nPython\\nSwift              2   \n73542                               Software Development              2   \n73543                                          AngularJS              2   \n73544                                          AngularJS              2   \n\n       employer_id       employer_name  salary_from  salary_to  \\\n0             6769  EPAM Systems, Inc.            0          0   \n1             6769  EPAM Systems, Inc.            0          0   \n2             4219               Tele2            0          0   \n3             4219               Tele2            0          0   \n4          2297436             Mozgami            0          0   \n...            ...                 ...          ...        ...   \n73540      1979728  Swiss Technologies         2000          0   \n73541      1979728  Swiss Technologies         2000          0   \n73542      2160182        RapidSeedbox       120000          0   \n73543      2160182        RapidSeedbox       120000          0   \n73544      2160182        RapidSeedbox       120000          0   \n\n       salary_currency  area_id        area_name              published_at  \n0                    0       15        Астрахань 2019-03-02 13:46:07+03:00  \n1                    0       51        Сыктывкар 2019-04-02 10:07:32+03:00  \n2                    0       26          Воронеж 2019-10-09 17:26:13+03:00  \n3                    0        2  Санкт-Петербург 2019-10-09 17:26:13+03:00  \n4                    0     2855           Токмок 2019-05-28 14:57:49+03:00  \n...                ...      ...              ...                       ...  \n73540                1       54       Красноярск 2017-06-04 13:07:23+03:00  \n73541                1      135          Харьков 2017-04-28 23:53:29+03:00  \n73542                0        3     Екатеринбург 2018-04-16 06:37:11+03:00  \n73543                0       72            Пермь 2018-03-17 06:23:23+03:00  \n73544                0      104        Челябинск 2018-03-17 06:23:23+03:00  \n\n[73545 rows x 13 columns]",
      "text/html": "<div>\n<style scoped>\n    .dataframe tbody tr th:only-of-type {\n        vertical-align: middle;\n    }\n\n    .dataframe tbody tr th {\n        vertical-align: top;\n    }\n\n    .dataframe thead th {\n        text-align: right;\n    }\n</style>\n<table border=\"1\" class=\"dataframe\">\n  <thead>\n    <tr style=\"text-align: right;\">\n      <th></th>\n      <th>id</th>\n      <th>name</th>\n      <th>description</th>\n      <th>key_skills</th>\n      <th>experience_id</th>\n      <th>employer_id</th>\n      <th>employer_name</th>\n      <th>salary_from</th>\n      <th>salary_to</th>\n      <th>salary_currency</th>\n      <th>area_id</th>\n      <th>area_name</th>\n      <th>published_at</th>\n    </tr>\n  </thead>\n  <tbody>\n    <tr>\n      <th>0</th>\n      <td>30398276</td>\n      <td>JavaScript разработчик</td>\n      <td>&lt;p&gt;&lt;strong&gt;&lt;em&gt;Позиция подразумева...</td>\n      <td>AngularJS\\nJavaScript\\njQuery\\nNode.js</td>\n      <td>2</td>\n      <td>6769</td>\n      <td>EPAM Systems, Inc.</td>\n      <td>0</td>\n      <td>0</td>\n      <td>0</td>\n      <td>15</td>\n      <td>Астрахань</td>\n      <td>2019-03-02 13:46:07+03:00</td>\n    </tr>\n    <tr>\n      <th>1</th>\n      <td>30856099</td>\n      <td>JavaScript разработчик</td>\n      <td>&lt;p&gt;&lt;strong&gt;&lt;em&gt;Позиция подразумева...</td>\n      <td>AngularJS\\nJavaScript\\njQuery\\nNode.js</td>\n      <td>1</td>\n      <td>6769</td>\n      <td>EPAM Systems, Inc.</td>\n      <td>0</td>\n      <td>0</td>\n      <td>0</td>\n      <td>51</td>\n      <td>Сыктывкар</td>\n      <td>2019-04-02 10:07:32+03:00</td>\n    </tr>\n    <tr>\n      <th>2</th>\n      <td>34009578</td>\n      <td>DevOps engineer(офис Москва)</td>\n      <td>&lt;p&gt;&lt;strong&gt;DevOps engineer&lt;/strong...</td>\n      <td>Python\\nGit\\nLinux\\nBash\\nУправленческие навыки</td>\n      <td>1</td>\n      <td>4219</td>\n      <td>Tele2</td>\n      <td>0</td>\n      <td>0</td>\n      <td>0</td>\n      <td>26</td>\n      <td>Воронеж</td>\n      <td>2019-10-09 17:26:13+03:00</td>\n    </tr>\n    <tr>\n      <th>3</th>\n      <td>34009579</td>\n      <td>DevOps engineer (офис Москва)</td>\n      <td>&lt;p&gt;&lt;strong&gt;DevOps engineer&lt;/strong...</td>\n      <td>Python\\nGit\\nLinux\\nBash\\nУправленческие навыки</td>\n      <td>1</td>\n      <td>4219</td>\n      <td>Tele2</td>\n      <td>0</td>\n      <td>0</td>\n      <td>0</td>\n      <td>2</td>\n      <td>Санкт-Петербург</td>\n      <td>2019-10-09 17:26:13+03:00</td>\n    </tr>\n    <tr>\n      <th>4</th>\n      <td>31301144</td>\n      <td>Back-end Web Разработчик</td>\n      <td>&lt;p&gt;Мы разрабатываем уникальные dig...</td>\n      <td>PHP\\nYii\\nZend Framework\\nJavaScript\\njQuery\\n...</td>\n      <td>1</td>\n      <td>2297436</td>\n      <td>Mozgami</td>\n      <td>0</td>\n      <td>0</td>\n      <td>0</td>\n      <td>2855</td>\n      <td>Токмок</td>\n      <td>2019-05-28 14:57:49+03:00</td>\n    </tr>\n    <tr>\n      <th>...</th>\n      <td>...</td>\n      <td>...</td>\n      <td>...</td>\n      <td>...</td>\n      <td>...</td>\n      <td>...</td>\n      <td>...</td>\n      <td>...</td>\n      <td>...</td>\n      <td>...</td>\n      <td>...</td>\n      <td>...</td>\n      <td>...</td>\n    </tr>\n    <tr>\n      <th>73540</th>\n      <td>20452680</td>\n      <td>Senior iOS developer</td>\n      <td>Швейцарская компания приглашает для длительног...</td>\n      <td>iOS\\nC/C++\\nXcode\\nObjective-C</td>\n      <td>2</td>\n      <td>1979728</td>\n      <td>Swiss Technologies</td>\n      <td>2000</td>\n      <td>0</td>\n      <td>1</td>\n      <td>54</td>\n      <td>Красноярск</td>\n      <td>2017-06-04 13:07:23+03:00</td>\n    </tr>\n    <tr>\n      <th>73541</th>\n      <td>20398307</td>\n      <td>IOS программист</td>\n      <td>Швейцарская компания приглашает для длительног...</td>\n      <td>iOS\\nC/C++\\nXcode\\nObjective-C\\nPython\\nSwift</td>\n      <td>2</td>\n      <td>1979728</td>\n      <td>Swiss Technologies</td>\n      <td>2000</td>\n      <td>0</td>\n      <td>1</td>\n      <td>135</td>\n      <td>Харьков</td>\n      <td>2017-04-28 23:53:29+03:00</td>\n    </tr>\n    <tr>\n      <th>73542</th>\n      <td>24966362</td>\n      <td>Full Stack Developer For Startup - Develop Awe...</td>\n      <td>▬▬▬▬▬▬▬▬▬▬▬&lt;br /&gt;Who are we?&lt;br /&gt;▬▬▬▬▬▬▬▬▬▬▬&lt;...</td>\n      <td>Software Development</td>\n      <td>2</td>\n      <td>2160182</td>\n      <td>RapidSeedbox</td>\n      <td>120000</td>\n      <td>0</td>\n      <td>0</td>\n      <td>3</td>\n      <td>Екатеринбург</td>\n      <td>2018-04-16 06:37:11+03:00</td>\n    </tr>\n    <tr>\n      <th>73543</th>\n      <td>24966349</td>\n      <td>Full Stack Developer</td>\n      <td>▬▬▬▬▬▬▬▬▬▬▬&lt;br /&gt;Who are we?&lt;br /&gt;▬▬▬▬▬▬▬▬▬▬▬&lt;...</td>\n      <td>AngularJS</td>\n      <td>2</td>\n      <td>2160182</td>\n      <td>RapidSeedbox</td>\n      <td>120000</td>\n      <td>0</td>\n      <td>0</td>\n      <td>72</td>\n      <td>Пермь</td>\n      <td>2018-03-17 06:23:23+03:00</td>\n    </tr>\n    <tr>\n      <th>73544</th>\n      <td>24966350</td>\n      <td>Full Stack Developer For Startup</td>\n      <td>▬▬▬▬▬▬▬▬▬▬▬&lt;br /&gt;Who are we?&lt;br /&gt;▬▬▬▬▬▬▬▬▬▬▬&lt;...</td>\n      <td>AngularJS</td>\n      <td>2</td>\n      <td>2160182</td>\n      <td>RapidSeedbox</td>\n      <td>120000</td>\n      <td>0</td>\n      <td>0</td>\n      <td>104</td>\n      <td>Челябинск</td>\n      <td>2018-03-17 06:23:23+03:00</td>\n    </tr>\n  </tbody>\n</table>\n<p>73545 rows × 13 columns</p>\n</div>"
     },
     "execution_count": 28,
     "metadata": {},
     "output_type": "execute_result"
    }
   ],
   "source": [
    "same_cols=['description', 'employer_id']\n",
    "df[df[same_cols].duplicated(keep=False)].sort_values(by='description', ascending=True, ignore_index=True)"
   ],
   "metadata": {
    "collapsed": false,
    "ExecuteTime": {
     "end_time": "2024-05-06T14:09:03.707418807Z",
     "start_time": "2024-05-06T14:08:58.352283663Z"
    }
   },
   "id": "f36dab65af63a8ff"
  },
  {
   "cell_type": "code",
   "execution_count": 29,
   "outputs": [
    {
     "name": "stdout",
     "output_type": "stream",
     "text": [
      "Количество одинаковых объявлений: 73545\n"
     ]
    }
   ],
   "source": [
    "print(f'Количество одинаковых объявлений: {df[same_cols].duplicated(keep=False).sum()}')"
   ],
   "metadata": {
    "collapsed": false,
    "ExecuteTime": {
     "end_time": "2024-05-06T14:09:19.773144198Z",
     "start_time": "2024-05-06T14:09:14.576024251Z"
    }
   },
   "id": "1315442884c98792"
  },
  {
   "cell_type": "markdown",
   "source": [
    "Из таблицы видно, что очень много работодателей используют один и тот же текст объявлений для разных вакансий и должностей."
   ],
   "metadata": {
    "collapsed": false
   },
   "id": "d4f6f87a0d594898"
  },
  {
   "cell_type": "markdown",
   "source": [
    "Объявления с одинаковыми названием, описанием и работодателем (отличаются только навыками и опытом):"
   ],
   "metadata": {
    "collapsed": false
   },
   "id": "ff877c812d320329"
  },
  {
   "cell_type": "code",
   "execution_count": 30,
   "outputs": [
    {
     "data": {
      "text/plain": "             id                       name  \\\n0      30856099     JavaScript разработчик   \n1      30398276     JavaScript разработчик   \n2      34519188     Android\\ iOS Developer   \n3      34519187     Android\\ iOS Developer   \n4      32362823  Технический архитектор 1С   \n...         ...                        ...   \n28972  39081282             Программист C#   \n28973  20398326            Программист iOS   \n28974  20398329       Senior iOS developer   \n28975  20463031       Senior iOS developer   \n28976  20463034            Программист iOS   \n\n                                             description  \\\n0                  <p><strong><em>Позиция подразумева...   \n1                  <p><strong><em>Позиция подразумева...   \n2                  <strong>Задача:</strong> <ul> <li>...   \n3                  <strong>Задача:</strong> <ul> <li>...   \n4      <em><strong>Ваши задачи:</strong></em> <ul> <l...   \n...                                                  ...   \n28972  Чем заниматься : Разрабатывать и поддерживать ...   \n28973  Швейцарская компания приглашает для длительног...   \n28974  Швейцарская компания приглашает для длительног...   \n28975  Швейцарская компания приглашает для длительног...   \n28976  Швейцарская компания приглашает для длительног...   \n\n                                              key_skills  experience_id  \\\n0                 AngularJS\\nJavaScript\\njQuery\\nNode.js              1   \n1                 AngularJS\\nJavaScript\\njQuery\\nNode.js              2   \n2      Git\\nAndroid\\nKotlin\\nJava\\niOS\\nSwift\\nObject...              1   \n3      Git\\nAndroid\\nKotlin\\nJava\\niOS\\nObjective-C\\n...              1   \n4                                                                     2   \n...                                                  ...            ...   \n28972    Git\\nC#\\nXML\\nOracle Pl/SQL\\nMS SQL Server\\nSQL              0   \n28973                     iOS\\nC/C++\\nXcode\\nObjective-C              2   \n28974                     iOS\\nC/C++\\nXcode\\nObjective-C              2   \n28975              iOS\\nC/C++\\nXcode\\nObjective-C\\nSwift              2   \n28976              iOS\\nC/C++\\nXcode\\nObjective-C\\nSwift              2   \n\n       employer_id       employer_name  salary_from  salary_to  \\\n0             6769  EPAM Systems, Inc.            0          0   \n1             6769  EPAM Systems, Inc.            0          0   \n2          1947330       ANCOR FinTech            0          0   \n3          1947330       ANCOR FinTech            0          0   \n4              139                 IBS            0          0   \n...            ...                 ...          ...        ...   \n28972      4258227            В2-Групп            0          0   \n28973      1979728  Swiss Technologies         2000          0   \n28974      1979728  Swiss Technologies         2000          0   \n28975      1979728  Swiss Technologies         2000          0   \n28976      1979728  Swiss Technologies         2000          0   \n\n       salary_currency  area_id                     area_name  \\\n0                    0       51                     Сыктывкар   \n1                    0       15                     Астрахань   \n2                    0       54                    Красноярск   \n3                    0       90                         Томск   \n4                    0        1                        Москва   \n...                ...      ...                           ...   \n28972                0     3695                  Промышленная   \n28973                1       32  Иваново (Ивановская область)   \n28974                1      131                   Симферополь   \n28975                1        1                        Москва   \n28976                1        2               Санкт-Петербург   \n\n                   published_at  \n0     2019-04-02 10:07:32+03:00  \n1     2019-03-02 13:46:07+03:00  \n2     2019-11-12 07:10:11+03:00  \n3     2019-11-12 07:10:11+03:00  \n4     2019-08-05 09:24:36+03:00  \n...                         ...  \n28972 2020-09-07 16:50:43+03:00  \n28973 2017-05-29 00:24:49+03:00  \n28974 2017-05-29 00:26:27+03:00  \n28975 2017-06-07 16:44:55+03:00  \n28976 2017-06-07 16:46:36+03:00  \n\n[28977 rows x 13 columns]",
      "text/html": "<div>\n<style scoped>\n    .dataframe tbody tr th:only-of-type {\n        vertical-align: middle;\n    }\n\n    .dataframe tbody tr th {\n        vertical-align: top;\n    }\n\n    .dataframe thead th {\n        text-align: right;\n    }\n</style>\n<table border=\"1\" class=\"dataframe\">\n  <thead>\n    <tr style=\"text-align: right;\">\n      <th></th>\n      <th>id</th>\n      <th>name</th>\n      <th>description</th>\n      <th>key_skills</th>\n      <th>experience_id</th>\n      <th>employer_id</th>\n      <th>employer_name</th>\n      <th>salary_from</th>\n      <th>salary_to</th>\n      <th>salary_currency</th>\n      <th>area_id</th>\n      <th>area_name</th>\n      <th>published_at</th>\n    </tr>\n  </thead>\n  <tbody>\n    <tr>\n      <th>0</th>\n      <td>30856099</td>\n      <td>JavaScript разработчик</td>\n      <td>&lt;p&gt;&lt;strong&gt;&lt;em&gt;Позиция подразумева...</td>\n      <td>AngularJS\\nJavaScript\\njQuery\\nNode.js</td>\n      <td>1</td>\n      <td>6769</td>\n      <td>EPAM Systems, Inc.</td>\n      <td>0</td>\n      <td>0</td>\n      <td>0</td>\n      <td>51</td>\n      <td>Сыктывкар</td>\n      <td>2019-04-02 10:07:32+03:00</td>\n    </tr>\n    <tr>\n      <th>1</th>\n      <td>30398276</td>\n      <td>JavaScript разработчик</td>\n      <td>&lt;p&gt;&lt;strong&gt;&lt;em&gt;Позиция подразумева...</td>\n      <td>AngularJS\\nJavaScript\\njQuery\\nNode.js</td>\n      <td>2</td>\n      <td>6769</td>\n      <td>EPAM Systems, Inc.</td>\n      <td>0</td>\n      <td>0</td>\n      <td>0</td>\n      <td>15</td>\n      <td>Астрахань</td>\n      <td>2019-03-02 13:46:07+03:00</td>\n    </tr>\n    <tr>\n      <th>2</th>\n      <td>34519188</td>\n      <td>Android\\ iOS Developer</td>\n      <td>&lt;strong&gt;Задача:&lt;/strong&gt; &lt;ul&gt; &lt;li&gt;...</td>\n      <td>Git\\nAndroid\\nKotlin\\nJava\\niOS\\nSwift\\nObject...</td>\n      <td>1</td>\n      <td>1947330</td>\n      <td>ANCOR FinTech</td>\n      <td>0</td>\n      <td>0</td>\n      <td>0</td>\n      <td>54</td>\n      <td>Красноярск</td>\n      <td>2019-11-12 07:10:11+03:00</td>\n    </tr>\n    <tr>\n      <th>3</th>\n      <td>34519187</td>\n      <td>Android\\ iOS Developer</td>\n      <td>&lt;strong&gt;Задача:&lt;/strong&gt; &lt;ul&gt; &lt;li&gt;...</td>\n      <td>Git\\nAndroid\\nKotlin\\nJava\\niOS\\nObjective-C\\n...</td>\n      <td>1</td>\n      <td>1947330</td>\n      <td>ANCOR FinTech</td>\n      <td>0</td>\n      <td>0</td>\n      <td>0</td>\n      <td>90</td>\n      <td>Томск</td>\n      <td>2019-11-12 07:10:11+03:00</td>\n    </tr>\n    <tr>\n      <th>4</th>\n      <td>32362823</td>\n      <td>Технический архитектор 1С</td>\n      <td>&lt;em&gt;&lt;strong&gt;Ваши задачи:&lt;/strong&gt;&lt;/em&gt; &lt;ul&gt; &lt;l...</td>\n      <td></td>\n      <td>2</td>\n      <td>139</td>\n      <td>IBS</td>\n      <td>0</td>\n      <td>0</td>\n      <td>0</td>\n      <td>1</td>\n      <td>Москва</td>\n      <td>2019-08-05 09:24:36+03:00</td>\n    </tr>\n    <tr>\n      <th>...</th>\n      <td>...</td>\n      <td>...</td>\n      <td>...</td>\n      <td>...</td>\n      <td>...</td>\n      <td>...</td>\n      <td>...</td>\n      <td>...</td>\n      <td>...</td>\n      <td>...</td>\n      <td>...</td>\n      <td>...</td>\n      <td>...</td>\n    </tr>\n    <tr>\n      <th>28972</th>\n      <td>39081282</td>\n      <td>Программист C#</td>\n      <td>Чем заниматься : Разрабатывать и поддерживать ...</td>\n      <td>Git\\nC#\\nXML\\nOracle Pl/SQL\\nMS SQL Server\\nSQL</td>\n      <td>0</td>\n      <td>4258227</td>\n      <td>В2-Групп</td>\n      <td>0</td>\n      <td>0</td>\n      <td>0</td>\n      <td>3695</td>\n      <td>Промышленная</td>\n      <td>2020-09-07 16:50:43+03:00</td>\n    </tr>\n    <tr>\n      <th>28973</th>\n      <td>20398326</td>\n      <td>Программист iOS</td>\n      <td>Швейцарская компания приглашает для длительног...</td>\n      <td>iOS\\nC/C++\\nXcode\\nObjective-C</td>\n      <td>2</td>\n      <td>1979728</td>\n      <td>Swiss Technologies</td>\n      <td>2000</td>\n      <td>0</td>\n      <td>1</td>\n      <td>32</td>\n      <td>Иваново (Ивановская область)</td>\n      <td>2017-05-29 00:24:49+03:00</td>\n    </tr>\n    <tr>\n      <th>28974</th>\n      <td>20398329</td>\n      <td>Senior iOS developer</td>\n      <td>Швейцарская компания приглашает для длительног...</td>\n      <td>iOS\\nC/C++\\nXcode\\nObjective-C</td>\n      <td>2</td>\n      <td>1979728</td>\n      <td>Swiss Technologies</td>\n      <td>2000</td>\n      <td>0</td>\n      <td>1</td>\n      <td>131</td>\n      <td>Симферополь</td>\n      <td>2017-05-29 00:26:27+03:00</td>\n    </tr>\n    <tr>\n      <th>28975</th>\n      <td>20463031</td>\n      <td>Senior iOS developer</td>\n      <td>Швейцарская компания приглашает для длительног...</td>\n      <td>iOS\\nC/C++\\nXcode\\nObjective-C\\nSwift</td>\n      <td>2</td>\n      <td>1979728</td>\n      <td>Swiss Technologies</td>\n      <td>2000</td>\n      <td>0</td>\n      <td>1</td>\n      <td>1</td>\n      <td>Москва</td>\n      <td>2017-06-07 16:44:55+03:00</td>\n    </tr>\n    <tr>\n      <th>28976</th>\n      <td>20463034</td>\n      <td>Программист iOS</td>\n      <td>Швейцарская компания приглашает для длительног...</td>\n      <td>iOS\\nC/C++\\nXcode\\nObjective-C\\nSwift</td>\n      <td>2</td>\n      <td>1979728</td>\n      <td>Swiss Technologies</td>\n      <td>2000</td>\n      <td>0</td>\n      <td>1</td>\n      <td>2</td>\n      <td>Санкт-Петербург</td>\n      <td>2017-06-07 16:46:36+03:00</td>\n    </tr>\n  </tbody>\n</table>\n<p>28977 rows × 13 columns</p>\n</div>"
     },
     "execution_count": 30,
     "metadata": {},
     "output_type": "execute_result"
    }
   ],
   "source": [
    "same_cols=['description', 'employer_id', 'name']\n",
    "df[df[same_cols].duplicated(keep=False)].sort_values(by='description', ascending=True, ignore_index=True)"
   ],
   "metadata": {
    "collapsed": false,
    "ExecuteTime": {
     "end_time": "2024-05-06T14:10:14.965899038Z",
     "start_time": "2024-05-06T14:10:09.524231876Z"
    }
   },
   "id": "348b79a4f0a97260"
  },
  {
   "cell_type": "code",
   "execution_count": 31,
   "outputs": [
    {
     "name": "stdout",
     "output_type": "stream",
     "text": [
      "Количество одинаковых объявлений: 28977\n"
     ]
    }
   ],
   "source": [
    "print(f'Количество одинаковых объявлений: {df[same_cols].duplicated(keep=False).sum()}')"
   ],
   "metadata": {
    "collapsed": false,
    "ExecuteTime": {
     "end_time": "2024-05-06T14:10:24.220656942Z",
     "start_time": "2024-05-06T14:10:18.866491265Z"
    }
   },
   "id": "b798926a5dcec2ba"
  },
  {
   "cell_type": "markdown",
   "source": [
    "Примерно в одном случае из трех работодатели при повторной публикации объявления используют одно и то же описание. Отличаются такие объявления  либо датой публикации, либо регионом. При этом перечень навыков и стаж могут незначительно изменяться, однако такие объявления несомненно являются дублями.\n",
    "Из таблицы видно, что опыт многие работодатели проставляют рандомно, и разным значениям стажа соответствуют одинаковые должности с одинаковыми зарплатами. Поэтому использовать опыт в качестве отличительного признака при определении дублей нет никакого смысла."
   ],
   "metadata": {
    "collapsed": false
   },
   "id": "f637137a4113c89f"
  },
  {
   "cell_type": "markdown",
   "source": [
    "Объявления с одинаковыми описанием, навыками и работодателем (отличаются только названием и опытом):"
   ],
   "metadata": {
    "collapsed": false
   },
   "id": "41dc36cead42355b"
  },
  {
   "cell_type": "code",
   "execution_count": 32,
   "outputs": [
    {
     "data": {
      "text/plain": "             id                              name  \\\n0      30856099            JavaScript разработчик   \n1      30398276            JavaScript разработчик   \n2      34009578      DevOps engineer(офис Москва)   \n3      34009579     DevOps engineer (офис Москва)   \n4      31301144          Back-end Web Разработчик   \n...         ...                               ...   \n55348  20398329              Senior iOS developer   \n55349  20398330           Старший iOS разработчик   \n55350  20398326                   Программист iOS   \n55351  24966349              Full Stack Developer   \n55352  24966350  Full Stack Developer For Startup   \n\n                                             description  \\\n0                  <p><strong><em>Позиция подразумева...   \n1                  <p><strong><em>Позиция подразумева...   \n2                  <p><strong>DevOps engineer</strong...   \n3                  <p><strong>DevOps engineer</strong...   \n4                  <p>Мы разрабатываем уникальные dig...   \n...                                                  ...   \n55348  Швейцарская компания приглашает для длительног...   \n55349  Швейцарская компания приглашает для длительног...   \n55350  Швейцарская компания приглашает для длительног...   \n55351  ▬▬▬▬▬▬▬▬▬▬▬<br />Who are we?<br />▬▬▬▬▬▬▬▬▬▬▬<...   \n55352  ▬▬▬▬▬▬▬▬▬▬▬<br />Who are we?<br />▬▬▬▬▬▬▬▬▬▬▬<...   \n\n                                              key_skills  experience_id  \\\n0                 AngularJS\\nJavaScript\\njQuery\\nNode.js              1   \n1                 AngularJS\\nJavaScript\\njQuery\\nNode.js              2   \n2        Python\\nGit\\nLinux\\nBash\\nУправленческие навыки              1   \n3        Python\\nGit\\nLinux\\nBash\\nУправленческие навыки              1   \n4      PHP\\nYii\\nZend Framework\\nJavaScript\\njQuery\\n...              1   \n...                                                  ...            ...   \n55348                     iOS\\nC/C++\\nXcode\\nObjective-C              2   \n55349                     iOS\\nC/C++\\nXcode\\nObjective-C              2   \n55350                     iOS\\nC/C++\\nXcode\\nObjective-C              2   \n55351                                          AngularJS              2   \n55352                                          AngularJS              2   \n\n       employer_id       employer_name  salary_from  salary_to  \\\n0             6769  EPAM Systems, Inc.            0          0   \n1             6769  EPAM Systems, Inc.            0          0   \n2             4219               Tele2            0          0   \n3             4219               Tele2            0          0   \n4          2297436             Mozgami            0          0   \n...            ...                 ...          ...        ...   \n55348      1979728  Swiss Technologies         2000          0   \n55349      1979728  Swiss Technologies         2000          0   \n55350      1979728  Swiss Technologies         2000          0   \n55351      2160182        RapidSeedbox       120000          0   \n55352      2160182        RapidSeedbox       120000          0   \n\n       salary_currency  area_id                     area_name  \\\n0                    0       51                     Сыктывкар   \n1                    0       15                     Астрахань   \n2                    0       26                       Воронеж   \n3                    0        2               Санкт-Петербург   \n4                    0     2855                        Токмок   \n...                ...      ...                           ...   \n55348                1      131                   Симферополь   \n55349                1       53                     Краснодар   \n55350                1       32  Иваново (Ивановская область)   \n55351                0       72                         Пермь   \n55352                0      104                     Челябинск   \n\n                   published_at  \n0     2019-04-02 10:07:32+03:00  \n1     2019-03-02 13:46:07+03:00  \n2     2019-10-09 17:26:13+03:00  \n3     2019-10-09 17:26:13+03:00  \n4     2019-05-28 14:57:49+03:00  \n...                         ...  \n55348 2017-05-29 00:26:27+03:00  \n55349 2017-05-29 00:27:58+03:00  \n55350 2017-05-29 00:24:49+03:00  \n55351 2018-03-17 06:23:23+03:00  \n55352 2018-03-17 06:23:23+03:00  \n\n[55353 rows x 13 columns]",
      "text/html": "<div>\n<style scoped>\n    .dataframe tbody tr th:only-of-type {\n        vertical-align: middle;\n    }\n\n    .dataframe tbody tr th {\n        vertical-align: top;\n    }\n\n    .dataframe thead th {\n        text-align: right;\n    }\n</style>\n<table border=\"1\" class=\"dataframe\">\n  <thead>\n    <tr style=\"text-align: right;\">\n      <th></th>\n      <th>id</th>\n      <th>name</th>\n      <th>description</th>\n      <th>key_skills</th>\n      <th>experience_id</th>\n      <th>employer_id</th>\n      <th>employer_name</th>\n      <th>salary_from</th>\n      <th>salary_to</th>\n      <th>salary_currency</th>\n      <th>area_id</th>\n      <th>area_name</th>\n      <th>published_at</th>\n    </tr>\n  </thead>\n  <tbody>\n    <tr>\n      <th>0</th>\n      <td>30856099</td>\n      <td>JavaScript разработчик</td>\n      <td>&lt;p&gt;&lt;strong&gt;&lt;em&gt;Позиция подразумева...</td>\n      <td>AngularJS\\nJavaScript\\njQuery\\nNode.js</td>\n      <td>1</td>\n      <td>6769</td>\n      <td>EPAM Systems, Inc.</td>\n      <td>0</td>\n      <td>0</td>\n      <td>0</td>\n      <td>51</td>\n      <td>Сыктывкар</td>\n      <td>2019-04-02 10:07:32+03:00</td>\n    </tr>\n    <tr>\n      <th>1</th>\n      <td>30398276</td>\n      <td>JavaScript разработчик</td>\n      <td>&lt;p&gt;&lt;strong&gt;&lt;em&gt;Позиция подразумева...</td>\n      <td>AngularJS\\nJavaScript\\njQuery\\nNode.js</td>\n      <td>2</td>\n      <td>6769</td>\n      <td>EPAM Systems, Inc.</td>\n      <td>0</td>\n      <td>0</td>\n      <td>0</td>\n      <td>15</td>\n      <td>Астрахань</td>\n      <td>2019-03-02 13:46:07+03:00</td>\n    </tr>\n    <tr>\n      <th>2</th>\n      <td>34009578</td>\n      <td>DevOps engineer(офис Москва)</td>\n      <td>&lt;p&gt;&lt;strong&gt;DevOps engineer&lt;/strong...</td>\n      <td>Python\\nGit\\nLinux\\nBash\\nУправленческие навыки</td>\n      <td>1</td>\n      <td>4219</td>\n      <td>Tele2</td>\n      <td>0</td>\n      <td>0</td>\n      <td>0</td>\n      <td>26</td>\n      <td>Воронеж</td>\n      <td>2019-10-09 17:26:13+03:00</td>\n    </tr>\n    <tr>\n      <th>3</th>\n      <td>34009579</td>\n      <td>DevOps engineer (офис Москва)</td>\n      <td>&lt;p&gt;&lt;strong&gt;DevOps engineer&lt;/strong...</td>\n      <td>Python\\nGit\\nLinux\\nBash\\nУправленческие навыки</td>\n      <td>1</td>\n      <td>4219</td>\n      <td>Tele2</td>\n      <td>0</td>\n      <td>0</td>\n      <td>0</td>\n      <td>2</td>\n      <td>Санкт-Петербург</td>\n      <td>2019-10-09 17:26:13+03:00</td>\n    </tr>\n    <tr>\n      <th>4</th>\n      <td>31301144</td>\n      <td>Back-end Web Разработчик</td>\n      <td>&lt;p&gt;Мы разрабатываем уникальные dig...</td>\n      <td>PHP\\nYii\\nZend Framework\\nJavaScript\\njQuery\\n...</td>\n      <td>1</td>\n      <td>2297436</td>\n      <td>Mozgami</td>\n      <td>0</td>\n      <td>0</td>\n      <td>0</td>\n      <td>2855</td>\n      <td>Токмок</td>\n      <td>2019-05-28 14:57:49+03:00</td>\n    </tr>\n    <tr>\n      <th>...</th>\n      <td>...</td>\n      <td>...</td>\n      <td>...</td>\n      <td>...</td>\n      <td>...</td>\n      <td>...</td>\n      <td>...</td>\n      <td>...</td>\n      <td>...</td>\n      <td>...</td>\n      <td>...</td>\n      <td>...</td>\n      <td>...</td>\n    </tr>\n    <tr>\n      <th>55348</th>\n      <td>20398329</td>\n      <td>Senior iOS developer</td>\n      <td>Швейцарская компания приглашает для длительног...</td>\n      <td>iOS\\nC/C++\\nXcode\\nObjective-C</td>\n      <td>2</td>\n      <td>1979728</td>\n      <td>Swiss Technologies</td>\n      <td>2000</td>\n      <td>0</td>\n      <td>1</td>\n      <td>131</td>\n      <td>Симферополь</td>\n      <td>2017-05-29 00:26:27+03:00</td>\n    </tr>\n    <tr>\n      <th>55349</th>\n      <td>20398330</td>\n      <td>Старший iOS разработчик</td>\n      <td>Швейцарская компания приглашает для длительног...</td>\n      <td>iOS\\nC/C++\\nXcode\\nObjective-C</td>\n      <td>2</td>\n      <td>1979728</td>\n      <td>Swiss Technologies</td>\n      <td>2000</td>\n      <td>0</td>\n      <td>1</td>\n      <td>53</td>\n      <td>Краснодар</td>\n      <td>2017-05-29 00:27:58+03:00</td>\n    </tr>\n    <tr>\n      <th>55350</th>\n      <td>20398326</td>\n      <td>Программист iOS</td>\n      <td>Швейцарская компания приглашает для длительног...</td>\n      <td>iOS\\nC/C++\\nXcode\\nObjective-C</td>\n      <td>2</td>\n      <td>1979728</td>\n      <td>Swiss Technologies</td>\n      <td>2000</td>\n      <td>0</td>\n      <td>1</td>\n      <td>32</td>\n      <td>Иваново (Ивановская область)</td>\n      <td>2017-05-29 00:24:49+03:00</td>\n    </tr>\n    <tr>\n      <th>55351</th>\n      <td>24966349</td>\n      <td>Full Stack Developer</td>\n      <td>▬▬▬▬▬▬▬▬▬▬▬&lt;br /&gt;Who are we?&lt;br /&gt;▬▬▬▬▬▬▬▬▬▬▬&lt;...</td>\n      <td>AngularJS</td>\n      <td>2</td>\n      <td>2160182</td>\n      <td>RapidSeedbox</td>\n      <td>120000</td>\n      <td>0</td>\n      <td>0</td>\n      <td>72</td>\n      <td>Пермь</td>\n      <td>2018-03-17 06:23:23+03:00</td>\n    </tr>\n    <tr>\n      <th>55352</th>\n      <td>24966350</td>\n      <td>Full Stack Developer For Startup</td>\n      <td>▬▬▬▬▬▬▬▬▬▬▬&lt;br /&gt;Who are we?&lt;br /&gt;▬▬▬▬▬▬▬▬▬▬▬&lt;...</td>\n      <td>AngularJS</td>\n      <td>2</td>\n      <td>2160182</td>\n      <td>RapidSeedbox</td>\n      <td>120000</td>\n      <td>0</td>\n      <td>0</td>\n      <td>104</td>\n      <td>Челябинск</td>\n      <td>2018-03-17 06:23:23+03:00</td>\n    </tr>\n  </tbody>\n</table>\n<p>55353 rows × 13 columns</p>\n</div>"
     },
     "execution_count": 32,
     "metadata": {},
     "output_type": "execute_result"
    }
   ],
   "source": [
    "same_cols=['description', 'employer_id', 'key_skills']\n",
    "df[df[same_cols].duplicated(keep=False)].sort_values(by='description', ascending=True, ignore_index=True)"
   ],
   "metadata": {
    "collapsed": false,
    "ExecuteTime": {
     "end_time": "2024-05-06T14:10:40.173883804Z",
     "start_time": "2024-05-06T14:10:34.612505191Z"
    }
   },
   "id": "c17f99ac5e1083d5"
  },
  {
   "cell_type": "code",
   "execution_count": 33,
   "outputs": [
    {
     "name": "stdout",
     "output_type": "stream",
     "text": [
      "Количество одинаковых объявлений: 55353\n"
     ]
    }
   ],
   "source": [
    "print(f'Количество одинаковых объявлений: {df[same_cols].duplicated(keep=False).sum()}')"
   ],
   "metadata": {
    "collapsed": false,
    "ExecuteTime": {
     "end_time": "2024-05-06T14:10:49.300943160Z",
     "start_time": "2024-05-06T14:10:43.915398151Z"
    }
   },
   "id": "27b6c9ff362dd32e"
  },
  {
   "cell_type": "markdown",
   "source": [
    "Из таблицы видно, что одному и тому же сочетанию описания и навыков у одного и того же работодателя могут соответствовать разные вакансии и должности. При этом у них может отличаться и зарплата. Отличительным признаком объявлений-дублей в этом случае может служить полная или некоторая схожесть названия объявления: общая база + дополнительная информация в скобочках.\n",
    " Присутствуют также дубли, у которых названия объявлений содержат слова-синонимы, относящиеся к одной и той же должности или профессии. Такие дубли можно распознать только методами машинного обучения."
   ],
   "metadata": {
    "collapsed": false
   },
   "id": "8bd60f22aeed3cb3"
  },
  {
   "cell_type": "markdown",
   "source": [
    "Объявления с одинаковыми названием, описанием, работодателем и навыками (отличаются только опытом):"
   ],
   "metadata": {
    "collapsed": false
   },
   "id": "e60610cc869a0051"
  },
  {
   "cell_type": "code",
   "execution_count": 34,
   "outputs": [
    {
     "data": {
      "text/plain": "             id                                               name  \\\n0      30856099                             JavaScript разработчик   \n1      30398276                             JavaScript разработчик   \n2      32363491                          Технический архитектор 1С   \n3      32363745                          Технический архитектор 1С   \n4      50732928                         Ведущий Python разработчик   \n...         ...                                                ...   \n14249  19311411  Tax Consultant (C1) - Business Process Solutio...   \n14250  23988222                              Разработчик фронтенда   \n14251  24861785                              Разработчик фронтенда   \n14252  39081282                                     Программист C#   \n14253  39080983                                     Программист C#   \n\n                                             description  \\\n0                  <p><strong><em>Позиция подразумева...   \n1                  <p><strong><em>Позиция подразумева...   \n2      <em><strong>Ваши задачи:</strong></em> <ul> <l...   \n3      <em><strong>Ваши задачи:</strong></em> <ul> <l...   \n4      <em><strong>Находимся в поиске Ведущего Python...   \n...                                                  ...   \n14249  Ты молод и амбициозен? Мечтаешь работать в кру...   \n14250  Условия: <ul> <li>На работу требуется фронтенд...   \n14251  Условия: <ul> <li>На работу требуется фронтенд...   \n14252  Чем заниматься : Разрабатывать и поддерживать ...   \n14253  Чем заниматься : Разрабатывать и поддерживать ...   \n\n                                              key_skills  experience_id  \\\n0                 AngularJS\\nJavaScript\\njQuery\\nNode.js              1   \n1                 AngularJS\\nJavaScript\\njQuery\\nNode.js              2   \n2                                                     1С              0   \n3                                                     1С              2   \n4      Python\\nООП\\nSQL\\nCистемы управления базами да...              3   \n...                                                  ...            ...   \n14249                                                                 0   \n14250                           JavaScript\\nNode.js\\nGit              1   \n14251                           JavaScript\\nNode.js\\nGit              0   \n14252    Git\\nC#\\nXML\\nOracle Pl/SQL\\nMS SQL Server\\nSQL              0   \n14253    Git\\nC#\\nXML\\nOracle Pl/SQL\\nMS SQL Server\\nSQL              1   \n\n       employer_id                     employer_name  salary_from  salary_to  \\\n0             6769                EPAM Systems, Inc.            0          0   \n1             6769                EPAM Systems, Inc.            0          0   \n2              139                               IBS            0          0   \n3              139                               IBS            0          0   \n4              985          Кадровое агентство Юнити            0     270000   \n...            ...                               ...          ...        ...   \n14249      1513490  Интеграция Taleo Тестовая версия        30000     100000   \n14250      2453463                       Стронг-Софт       200000     350000   \n14251      2453463                       Стронг-Софт       250000          0   \n14252      4258227                          В2-Групп            0          0   \n14253      4258227                          В2-Групп            0          0   \n\n       salary_currency  area_id        area_name              published_at  \n0                    0       51        Сыктывкар 2019-04-02 10:07:32+03:00  \n1                    0       15        Астрахань 2019-03-02 13:46:07+03:00  \n2                    0       72            Пермь 2019-08-05 09:25:16+03:00  \n3                    0       66  Нижний Новгород 2019-08-05 09:25:20+03:00  \n4                    0        2  Санкт-Петербург 2021-12-28 14:25:06+03:00  \n...                ...      ...              ...                       ...  \n14249                0     1218           Алейск 2017-01-05 15:28:35+03:00  \n14250                2      181         Павлодар 2018-02-09 12:36:21+03:00  \n14251                2      181         Павлодар 2018-07-18 11:46:33+03:00  \n14252                0     3695     Промышленная 2020-09-07 16:50:43+03:00  \n14253                0     1237         Мариинск 2020-09-07 16:43:52+03:00  \n\n[14254 rows x 13 columns]",
      "text/html": "<div>\n<style scoped>\n    .dataframe tbody tr th:only-of-type {\n        vertical-align: middle;\n    }\n\n    .dataframe tbody tr th {\n        vertical-align: top;\n    }\n\n    .dataframe thead th {\n        text-align: right;\n    }\n</style>\n<table border=\"1\" class=\"dataframe\">\n  <thead>\n    <tr style=\"text-align: right;\">\n      <th></th>\n      <th>id</th>\n      <th>name</th>\n      <th>description</th>\n      <th>key_skills</th>\n      <th>experience_id</th>\n      <th>employer_id</th>\n      <th>employer_name</th>\n      <th>salary_from</th>\n      <th>salary_to</th>\n      <th>salary_currency</th>\n      <th>area_id</th>\n      <th>area_name</th>\n      <th>published_at</th>\n    </tr>\n  </thead>\n  <tbody>\n    <tr>\n      <th>0</th>\n      <td>30856099</td>\n      <td>JavaScript разработчик</td>\n      <td>&lt;p&gt;&lt;strong&gt;&lt;em&gt;Позиция подразумева...</td>\n      <td>AngularJS\\nJavaScript\\njQuery\\nNode.js</td>\n      <td>1</td>\n      <td>6769</td>\n      <td>EPAM Systems, Inc.</td>\n      <td>0</td>\n      <td>0</td>\n      <td>0</td>\n      <td>51</td>\n      <td>Сыктывкар</td>\n      <td>2019-04-02 10:07:32+03:00</td>\n    </tr>\n    <tr>\n      <th>1</th>\n      <td>30398276</td>\n      <td>JavaScript разработчик</td>\n      <td>&lt;p&gt;&lt;strong&gt;&lt;em&gt;Позиция подразумева...</td>\n      <td>AngularJS\\nJavaScript\\njQuery\\nNode.js</td>\n      <td>2</td>\n      <td>6769</td>\n      <td>EPAM Systems, Inc.</td>\n      <td>0</td>\n      <td>0</td>\n      <td>0</td>\n      <td>15</td>\n      <td>Астрахань</td>\n      <td>2019-03-02 13:46:07+03:00</td>\n    </tr>\n    <tr>\n      <th>2</th>\n      <td>32363491</td>\n      <td>Технический архитектор 1С</td>\n      <td>&lt;em&gt;&lt;strong&gt;Ваши задачи:&lt;/strong&gt;&lt;/em&gt; &lt;ul&gt; &lt;l...</td>\n      <td>1С</td>\n      <td>0</td>\n      <td>139</td>\n      <td>IBS</td>\n      <td>0</td>\n      <td>0</td>\n      <td>0</td>\n      <td>72</td>\n      <td>Пермь</td>\n      <td>2019-08-05 09:25:16+03:00</td>\n    </tr>\n    <tr>\n      <th>3</th>\n      <td>32363745</td>\n      <td>Технический архитектор 1С</td>\n      <td>&lt;em&gt;&lt;strong&gt;Ваши задачи:&lt;/strong&gt;&lt;/em&gt; &lt;ul&gt; &lt;l...</td>\n      <td>1С</td>\n      <td>2</td>\n      <td>139</td>\n      <td>IBS</td>\n      <td>0</td>\n      <td>0</td>\n      <td>0</td>\n      <td>66</td>\n      <td>Нижний Новгород</td>\n      <td>2019-08-05 09:25:20+03:00</td>\n    </tr>\n    <tr>\n      <th>4</th>\n      <td>50732928</td>\n      <td>Ведущий Python разработчик</td>\n      <td>&lt;em&gt;&lt;strong&gt;Находимся в поиске Ведущего Python...</td>\n      <td>Python\\nООП\\nSQL\\nCистемы управления базами да...</td>\n      <td>3</td>\n      <td>985</td>\n      <td>Кадровое агентство Юнити</td>\n      <td>0</td>\n      <td>270000</td>\n      <td>0</td>\n      <td>2</td>\n      <td>Санкт-Петербург</td>\n      <td>2021-12-28 14:25:06+03:00</td>\n    </tr>\n    <tr>\n      <th>...</th>\n      <td>...</td>\n      <td>...</td>\n      <td>...</td>\n      <td>...</td>\n      <td>...</td>\n      <td>...</td>\n      <td>...</td>\n      <td>...</td>\n      <td>...</td>\n      <td>...</td>\n      <td>...</td>\n      <td>...</td>\n      <td>...</td>\n    </tr>\n    <tr>\n      <th>14249</th>\n      <td>19311411</td>\n      <td>Tax Consultant (C1) - Business Process Solutio...</td>\n      <td>Ты молод и амбициозен? Мечтаешь работать в кру...</td>\n      <td></td>\n      <td>0</td>\n      <td>1513490</td>\n      <td>Интеграция Taleo Тестовая версия</td>\n      <td>30000</td>\n      <td>100000</td>\n      <td>0</td>\n      <td>1218</td>\n      <td>Алейск</td>\n      <td>2017-01-05 15:28:35+03:00</td>\n    </tr>\n    <tr>\n      <th>14250</th>\n      <td>23988222</td>\n      <td>Разработчик фронтенда</td>\n      <td>Условия: &lt;ul&gt; &lt;li&gt;На работу требуется фронтенд...</td>\n      <td>JavaScript\\nNode.js\\nGit</td>\n      <td>1</td>\n      <td>2453463</td>\n      <td>Стронг-Софт</td>\n      <td>200000</td>\n      <td>350000</td>\n      <td>2</td>\n      <td>181</td>\n      <td>Павлодар</td>\n      <td>2018-02-09 12:36:21+03:00</td>\n    </tr>\n    <tr>\n      <th>14251</th>\n      <td>24861785</td>\n      <td>Разработчик фронтенда</td>\n      <td>Условия: &lt;ul&gt; &lt;li&gt;На работу требуется фронтенд...</td>\n      <td>JavaScript\\nNode.js\\nGit</td>\n      <td>0</td>\n      <td>2453463</td>\n      <td>Стронг-Софт</td>\n      <td>250000</td>\n      <td>0</td>\n      <td>2</td>\n      <td>181</td>\n      <td>Павлодар</td>\n      <td>2018-07-18 11:46:33+03:00</td>\n    </tr>\n    <tr>\n      <th>14252</th>\n      <td>39081282</td>\n      <td>Программист C#</td>\n      <td>Чем заниматься : Разрабатывать и поддерживать ...</td>\n      <td>Git\\nC#\\nXML\\nOracle Pl/SQL\\nMS SQL Server\\nSQL</td>\n      <td>0</td>\n      <td>4258227</td>\n      <td>В2-Групп</td>\n      <td>0</td>\n      <td>0</td>\n      <td>0</td>\n      <td>3695</td>\n      <td>Промышленная</td>\n      <td>2020-09-07 16:50:43+03:00</td>\n    </tr>\n    <tr>\n      <th>14253</th>\n      <td>39080983</td>\n      <td>Программист C#</td>\n      <td>Чем заниматься : Разрабатывать и поддерживать ...</td>\n      <td>Git\\nC#\\nXML\\nOracle Pl/SQL\\nMS SQL Server\\nSQL</td>\n      <td>1</td>\n      <td>4258227</td>\n      <td>В2-Групп</td>\n      <td>0</td>\n      <td>0</td>\n      <td>0</td>\n      <td>1237</td>\n      <td>Мариинск</td>\n      <td>2020-09-07 16:43:52+03:00</td>\n    </tr>\n  </tbody>\n</table>\n<p>14254 rows × 13 columns</p>\n</div>"
     },
     "execution_count": 34,
     "metadata": {},
     "output_type": "execute_result"
    }
   ],
   "source": [
    "same_cols=['name','description', 'employer_id','key_skills']\n",
    "df[df[same_cols].duplicated(keep=False)].sort_values(by='description', ascending=True, ignore_index=True)"
   ],
   "metadata": {
    "collapsed": false,
    "ExecuteTime": {
     "end_time": "2024-05-06T14:11:06.280639579Z",
     "start_time": "2024-05-06T14:11:00.647850418Z"
    }
   },
   "id": "81280f69ac79beb2"
  },
  {
   "cell_type": "code",
   "execution_count": 35,
   "outputs": [
    {
     "name": "stdout",
     "output_type": "stream",
     "text": [
      "Количество одинаковых объявлений: 14254\n"
     ]
    }
   ],
   "source": [
    "print(f'Количество одинаковых объявлений: {df[same_cols].duplicated(keep=False).sum()}')"
   ],
   "metadata": {
    "collapsed": false,
    "ExecuteTime": {
     "end_time": "2024-05-06T14:11:14.709248674Z",
     "start_time": "2024-05-06T14:11:09.099959256Z"
    }
   },
   "id": "eb5c3c264b96964a"
  },
  {
   "cell_type": "markdown",
   "source": [
    "Все объявления с одинаковыми названием, описанием, работодателем и навыками можно считать дублями."
   ],
   "metadata": {
    "collapsed": false
   },
   "id": "a00219c47e17729d"
  },
  {
   "cell_type": "markdown",
   "source": [
    "Анализ этих таблиц показывает, что в  наборе много объявлений с одинаковым описанием и навыками, которые отличаются только названием. Такое возможно в следующих ситуациях:\n",
    "    - работодатели одно и то же объявление публикуют для разных должностей в силу своей некомпетентности, слабо представляя различия в должностных обязанностях и требованиям к соискателям для разных позиций (например, Инженер технической поддержки и Главный инженер);\n",
    "    - одну и ту же должность по-разному именуют для большего охвата аудитории (например, специалист контакт-центра и менеджер по работе с входящими обращениями), т.е. это по сути синонимы названия должности;\n",
    "    - одну и ту же позицию продвигают для разных населенных пунктов, отличия в названии заключаются в добавлении названия населенного пункта или адреса (например, Инженер технической поддержки (Обь) и Инженер технической поддержки (Новосибирск)).\n",
    "\n",
    "Следовательно, признаками дублей являются:\n",
    "1. Одинаковые: описания, названия, работодатель, дата публикации, отличается регион. Оставляем тот вариант, у которого навыки длиннее.\n",
    "2. Одинаковые: описания, названия, работодатель, регион, отличается дата публикации. Оставляем тот вариант, у которого навыки длиннее.\n",
    "3. Одинаковые: описания, работодатель; регионы и даты могут отличаться,  но название = общий корень + название города, название города в названии совпадает с регионом. Оставляем тот вариант, у которого строка с навыками длиннее.\n",
    "4. Одинаковые: описания, список навыков, работодатель,  а названия имеют общий корень. Оставляем самое короткое название.\n",
    "5. Одинаковые: описания, названия, работодатель, список навыков. Оставляем с наименьшим опытом.\n",
    "\n",
    "Анализ также показал, что у одного и того же работодателя могут быть объявления с очень близкими названиями, при совпадающих других параметрах. Можно предположить, что такие объявления также являются дублями, но перед их проверкой на совпадение, их необходимо привести к некой общей базе. Для этого удалим специальные символы, текст в скобках, поменяем регистр и сохраним измененное название в новом столбце с названием 'short_title':"
   ],
   "metadata": {
    "collapsed": false
   },
   "id": "1cf722fa21d0293d"
  },
  {
   "cell_type": "code",
   "execution_count": 36,
   "outputs": [],
   "source": [
    "prepare.add_shortname_feature(df)"
   ],
   "metadata": {
    "collapsed": false,
    "ExecuteTime": {
     "end_time": "2024-05-06T14:11:31.009946336Z",
     "start_time": "2024-05-06T14:11:23.749313958Z"
    }
   },
   "id": "aaf8d4cbc310d7c"
  },
  {
   "cell_type": "code",
   "execution_count": 37,
   "outputs": [
    {
     "data": {
      "text/plain": "                                                     name  \\\n0       Эксперт по тестированию на проникновение/Пенте...   \n1       Эксперт по тестированию на проникновение/Пенте...   \n2                      Системный аналитик (DWH/BI, DG/DQ)   \n3                                        Специалист по IT   \n4                     Системный администратор/программист   \n...                                                   ...   \n784699                                    IOS разработчик   \n784700                                   Java-разработчик   \n784701                                      Квант-трейдер   \n784702                 Frontend разработчик / верстальщик   \n784703                   JavaScript разработчик Front-End   \n\n                                               short_name  \n0       эксперт по тестированию на проникновение/пенте...  \n1       эксперт по тестированию на проникновение/пенте...  \n2                                      системный аналитик  \n3                                        специалист по it  \n4                     системный администратор/программист  \n...                                                   ...  \n784699                                    ios разработчик  \n784700                                   java разработчик  \n784701                                      квант трейдер  \n784702                 frontend разработчик / верстальщик  \n784703                   javascript разработчик front end  \n\n[784501 rows x 2 columns]",
      "text/html": "<div>\n<style scoped>\n    .dataframe tbody tr th:only-of-type {\n        vertical-align: middle;\n    }\n\n    .dataframe tbody tr th {\n        vertical-align: top;\n    }\n\n    .dataframe thead th {\n        text-align: right;\n    }\n</style>\n<table border=\"1\" class=\"dataframe\">\n  <thead>\n    <tr style=\"text-align: right;\">\n      <th></th>\n      <th>name</th>\n      <th>short_name</th>\n    </tr>\n  </thead>\n  <tbody>\n    <tr>\n      <th>0</th>\n      <td>Эксперт по тестированию на проникновение/Пенте...</td>\n      <td>эксперт по тестированию на проникновение/пенте...</td>\n    </tr>\n    <tr>\n      <th>1</th>\n      <td>Эксперт по тестированию на проникновение/Пенте...</td>\n      <td>эксперт по тестированию на проникновение/пенте...</td>\n    </tr>\n    <tr>\n      <th>2</th>\n      <td>Системный аналитик (DWH/BI, DG/DQ)</td>\n      <td>системный аналитик</td>\n    </tr>\n    <tr>\n      <th>3</th>\n      <td>Специалист по IT</td>\n      <td>специалист по it</td>\n    </tr>\n    <tr>\n      <th>4</th>\n      <td>Системный администратор/программист</td>\n      <td>системный администратор/программист</td>\n    </tr>\n    <tr>\n      <th>...</th>\n      <td>...</td>\n      <td>...</td>\n    </tr>\n    <tr>\n      <th>784699</th>\n      <td>IOS разработчик</td>\n      <td>ios разработчик</td>\n    </tr>\n    <tr>\n      <th>784700</th>\n      <td>Java-разработчик</td>\n      <td>java разработчик</td>\n    </tr>\n    <tr>\n      <th>784701</th>\n      <td>Квант-трейдер</td>\n      <td>квант трейдер</td>\n    </tr>\n    <tr>\n      <th>784702</th>\n      <td>Frontend разработчик / верстальщик</td>\n      <td>frontend разработчик / верстальщик</td>\n    </tr>\n    <tr>\n      <th>784703</th>\n      <td>JavaScript разработчик Front-End</td>\n      <td>javascript разработчик front end</td>\n    </tr>\n  </tbody>\n</table>\n<p>784501 rows × 2 columns</p>\n</div>"
     },
     "execution_count": 37,
     "metadata": {},
     "output_type": "execute_result"
    }
   ],
   "source": [
    "df[['name', 'short_name']]"
   ],
   "metadata": {
    "collapsed": false,
    "ExecuteTime": {
     "end_time": "2024-05-06T14:11:33.000771324Z",
     "start_time": "2024-05-06T14:11:32.956614407Z"
    }
   },
   "id": "618680cb4df35e52"
  },
  {
   "cell_type": "markdown",
   "source": [
    "Количество дублей с новым признаком для названия объявления удвоилось:"
   ],
   "metadata": {
    "collapsed": false
   },
   "id": "f5ebac727395c20"
  },
  {
   "cell_type": "code",
   "execution_count": 38,
   "outputs": [
    {
     "data": {
      "text/plain": "             id                           name  \\\n0      30398276         JavaScript разработчик   \n1      30856099         JavaScript разработчик   \n2      34009578   DevOps engineer(офис Москва)   \n3      34009579  DevOps engineer (офис Москва)   \n4      34519189         Android/ iOS Developer   \n...         ...                            ...   \n29137  39081282                 Программист C#   \n29138  20452721                  IOS developer   \n29139  20398330        Старший iOS разработчик   \n29140  20398329           Senior iOS developer   \n29141  20398321                IOS разработчик   \n\n                                             description  \\\n0                  <p><strong><em>Позиция подразумева...   \n1                  <p><strong><em>Позиция подразумева...   \n2                  <p><strong>DevOps engineer</strong...   \n3                  <p><strong>DevOps engineer</strong...   \n4                  <strong>Задача:</strong> <ul> <li>...   \n...                                                  ...   \n29137  Чем заниматься : Разрабатывать и поддерживать ...   \n29138  Швейцарская компания приглашает для длительног...   \n29139  Швейцарская компания приглашает для длительног...   \n29140  Швейцарская компания приглашает для длительног...   \n29141  Швейцарская компания приглашает для длительног...   \n\n                                              key_skills  experience_id  \\\n0                 AngularJS\\nJavaScript\\njQuery\\nNode.js              2   \n1                 AngularJS\\nJavaScript\\njQuery\\nNode.js              1   \n2        Python\\nGit\\nLinux\\nBash\\nУправленческие навыки              1   \n3        Python\\nGit\\nLinux\\nBash\\nУправленческие навыки              1   \n4      Git\\nAndroid\\nKotlin\\nJava\\niOS\\nObjective-C\\n...              1   \n...                                                  ...            ...   \n29137    Git\\nC#\\nXML\\nOracle Pl/SQL\\nMS SQL Server\\nSQL              0   \n29138                     iOS\\nC/C++\\nXcode\\nObjective-C              2   \n29139                     iOS\\nC/C++\\nXcode\\nObjective-C              2   \n29140                     iOS\\nC/C++\\nXcode\\nObjective-C              2   \n29141                     iOS\\nC/C++\\nXcode\\nObjective-C              2   \n\n       employer_id       employer_name  salary_from  salary_to  \\\n0             6769  EPAM Systems, Inc.            0          0   \n1             6769  EPAM Systems, Inc.            0          0   \n2             4219               Tele2            0          0   \n3             4219               Tele2            0          0   \n4          1947330       ANCOR FinTech            0          0   \n...            ...                 ...          ...        ...   \n29137      4258227            В2-Групп            0          0   \n29138      1979728  Swiss Technologies         2000          0   \n29139      1979728  Swiss Technologies         2000          0   \n29140      1979728  Swiss Technologies         2000          0   \n29141      1979728  Swiss Technologies         2000          0   \n\n       salary_currency  area_id        area_name              published_at  \\\n0                    0       15        Астрахань 2019-03-02 13:46:07+03:00   \n1                    0       51        Сыктывкар 2019-04-02 10:07:32+03:00   \n2                    0       26          Воронеж 2019-10-09 17:26:13+03:00   \n3                    0        2  Санкт-Петербург 2019-10-09 17:26:13+03:00   \n4                    0       11          Барнаул 2019-11-12 07:10:11+03:00   \n...                ...      ...              ...                       ...   \n29137                0     3695     Промышленная 2020-09-07 16:50:43+03:00   \n29138                1        4      Новосибирск 2017-06-04 13:10:03+03:00   \n29139                1       53        Краснодар 2017-05-29 00:27:58+03:00   \n29140                1      131      Симферополь 2017-05-29 00:26:27+03:00   \n29141                1     1126          Ангарск 2017-04-29 00:17:45+03:00   \n\n                   short_name  \n0      javascript разработчик  \n1      javascript разработчик  \n2             devops engineer  \n3             devops engineer  \n4      android/ ios developer  \n...                       ...  \n29137          программист c#  \n29138           ios developer  \n29139         ios разработчик  \n29140           ios developer  \n29141         ios разработчик  \n\n[29142 rows x 14 columns]",
      "text/html": "<div>\n<style scoped>\n    .dataframe tbody tr th:only-of-type {\n        vertical-align: middle;\n    }\n\n    .dataframe tbody tr th {\n        vertical-align: top;\n    }\n\n    .dataframe thead th {\n        text-align: right;\n    }\n</style>\n<table border=\"1\" class=\"dataframe\">\n  <thead>\n    <tr style=\"text-align: right;\">\n      <th></th>\n      <th>id</th>\n      <th>name</th>\n      <th>description</th>\n      <th>key_skills</th>\n      <th>experience_id</th>\n      <th>employer_id</th>\n      <th>employer_name</th>\n      <th>salary_from</th>\n      <th>salary_to</th>\n      <th>salary_currency</th>\n      <th>area_id</th>\n      <th>area_name</th>\n      <th>published_at</th>\n      <th>short_name</th>\n    </tr>\n  </thead>\n  <tbody>\n    <tr>\n      <th>0</th>\n      <td>30398276</td>\n      <td>JavaScript разработчик</td>\n      <td>&lt;p&gt;&lt;strong&gt;&lt;em&gt;Позиция подразумева...</td>\n      <td>AngularJS\\nJavaScript\\njQuery\\nNode.js</td>\n      <td>2</td>\n      <td>6769</td>\n      <td>EPAM Systems, Inc.</td>\n      <td>0</td>\n      <td>0</td>\n      <td>0</td>\n      <td>15</td>\n      <td>Астрахань</td>\n      <td>2019-03-02 13:46:07+03:00</td>\n      <td>javascript разработчик</td>\n    </tr>\n    <tr>\n      <th>1</th>\n      <td>30856099</td>\n      <td>JavaScript разработчик</td>\n      <td>&lt;p&gt;&lt;strong&gt;&lt;em&gt;Позиция подразумева...</td>\n      <td>AngularJS\\nJavaScript\\njQuery\\nNode.js</td>\n      <td>1</td>\n      <td>6769</td>\n      <td>EPAM Systems, Inc.</td>\n      <td>0</td>\n      <td>0</td>\n      <td>0</td>\n      <td>51</td>\n      <td>Сыктывкар</td>\n      <td>2019-04-02 10:07:32+03:00</td>\n      <td>javascript разработчик</td>\n    </tr>\n    <tr>\n      <th>2</th>\n      <td>34009578</td>\n      <td>DevOps engineer(офис Москва)</td>\n      <td>&lt;p&gt;&lt;strong&gt;DevOps engineer&lt;/strong...</td>\n      <td>Python\\nGit\\nLinux\\nBash\\nУправленческие навыки</td>\n      <td>1</td>\n      <td>4219</td>\n      <td>Tele2</td>\n      <td>0</td>\n      <td>0</td>\n      <td>0</td>\n      <td>26</td>\n      <td>Воронеж</td>\n      <td>2019-10-09 17:26:13+03:00</td>\n      <td>devops engineer</td>\n    </tr>\n    <tr>\n      <th>3</th>\n      <td>34009579</td>\n      <td>DevOps engineer (офис Москва)</td>\n      <td>&lt;p&gt;&lt;strong&gt;DevOps engineer&lt;/strong...</td>\n      <td>Python\\nGit\\nLinux\\nBash\\nУправленческие навыки</td>\n      <td>1</td>\n      <td>4219</td>\n      <td>Tele2</td>\n      <td>0</td>\n      <td>0</td>\n      <td>0</td>\n      <td>2</td>\n      <td>Санкт-Петербург</td>\n      <td>2019-10-09 17:26:13+03:00</td>\n      <td>devops engineer</td>\n    </tr>\n    <tr>\n      <th>4</th>\n      <td>34519189</td>\n      <td>Android/ iOS Developer</td>\n      <td>&lt;strong&gt;Задача:&lt;/strong&gt; &lt;ul&gt; &lt;li&gt;...</td>\n      <td>Git\\nAndroid\\nKotlin\\nJava\\niOS\\nObjective-C\\n...</td>\n      <td>1</td>\n      <td>1947330</td>\n      <td>ANCOR FinTech</td>\n      <td>0</td>\n      <td>0</td>\n      <td>0</td>\n      <td>11</td>\n      <td>Барнаул</td>\n      <td>2019-11-12 07:10:11+03:00</td>\n      <td>android/ ios developer</td>\n    </tr>\n    <tr>\n      <th>...</th>\n      <td>...</td>\n      <td>...</td>\n      <td>...</td>\n      <td>...</td>\n      <td>...</td>\n      <td>...</td>\n      <td>...</td>\n      <td>...</td>\n      <td>...</td>\n      <td>...</td>\n      <td>...</td>\n      <td>...</td>\n      <td>...</td>\n      <td>...</td>\n    </tr>\n    <tr>\n      <th>29137</th>\n      <td>39081282</td>\n      <td>Программист C#</td>\n      <td>Чем заниматься : Разрабатывать и поддерживать ...</td>\n      <td>Git\\nC#\\nXML\\nOracle Pl/SQL\\nMS SQL Server\\nSQL</td>\n      <td>0</td>\n      <td>4258227</td>\n      <td>В2-Групп</td>\n      <td>0</td>\n      <td>0</td>\n      <td>0</td>\n      <td>3695</td>\n      <td>Промышленная</td>\n      <td>2020-09-07 16:50:43+03:00</td>\n      <td>программист c#</td>\n    </tr>\n    <tr>\n      <th>29138</th>\n      <td>20452721</td>\n      <td>IOS developer</td>\n      <td>Швейцарская компания приглашает для длительног...</td>\n      <td>iOS\\nC/C++\\nXcode\\nObjective-C</td>\n      <td>2</td>\n      <td>1979728</td>\n      <td>Swiss Technologies</td>\n      <td>2000</td>\n      <td>0</td>\n      <td>1</td>\n      <td>4</td>\n      <td>Новосибирск</td>\n      <td>2017-06-04 13:10:03+03:00</td>\n      <td>ios developer</td>\n    </tr>\n    <tr>\n      <th>29139</th>\n      <td>20398330</td>\n      <td>Старший iOS разработчик</td>\n      <td>Швейцарская компания приглашает для длительног...</td>\n      <td>iOS\\nC/C++\\nXcode\\nObjective-C</td>\n      <td>2</td>\n      <td>1979728</td>\n      <td>Swiss Technologies</td>\n      <td>2000</td>\n      <td>0</td>\n      <td>1</td>\n      <td>53</td>\n      <td>Краснодар</td>\n      <td>2017-05-29 00:27:58+03:00</td>\n      <td>ios разработчик</td>\n    </tr>\n    <tr>\n      <th>29140</th>\n      <td>20398329</td>\n      <td>Senior iOS developer</td>\n      <td>Швейцарская компания приглашает для длительног...</td>\n      <td>iOS\\nC/C++\\nXcode\\nObjective-C</td>\n      <td>2</td>\n      <td>1979728</td>\n      <td>Swiss Technologies</td>\n      <td>2000</td>\n      <td>0</td>\n      <td>1</td>\n      <td>131</td>\n      <td>Симферополь</td>\n      <td>2017-05-29 00:26:27+03:00</td>\n      <td>ios developer</td>\n    </tr>\n    <tr>\n      <th>29141</th>\n      <td>20398321</td>\n      <td>IOS разработчик</td>\n      <td>Швейцарская компания приглашает для длительног...</td>\n      <td>iOS\\nC/C++\\nXcode\\nObjective-C</td>\n      <td>2</td>\n      <td>1979728</td>\n      <td>Swiss Technologies</td>\n      <td>2000</td>\n      <td>0</td>\n      <td>1</td>\n      <td>1126</td>\n      <td>Ангарск</td>\n      <td>2017-04-29 00:17:45+03:00</td>\n      <td>ios разработчик</td>\n    </tr>\n  </tbody>\n</table>\n<p>29142 rows × 14 columns</p>\n</div>"
     },
     "execution_count": 38,
     "metadata": {},
     "output_type": "execute_result"
    }
   ],
   "source": [
    "same_cols=['short_name','description', 'employer_id','key_skills']\n",
    "df[df[same_cols].duplicated(keep=False)].sort_values(by='description', ascending=True, ignore_index=True)"
   ],
   "metadata": {
    "collapsed": false,
    "ExecuteTime": {
     "end_time": "2024-05-06T14:12:20.981706841Z",
     "start_time": "2024-05-06T14:12:15.303043316Z"
    }
   },
   "id": "8f4f634f64c8cb6"
  },
  {
   "cell_type": "markdown",
   "source": [
    "Удаление дублей:"
   ],
   "metadata": {
    "collapsed": false
   },
   "id": "f3ef9ebf9d028bef"
  },
  {
   "cell_type": "code",
   "execution_count": 39,
   "outputs": [
    {
     "name": "stdout",
     "output_type": "stream",
     "text": [
      "Удалено строк: 74077\n"
     ]
    }
   ],
   "source": [
    "dropped_count =prepare.drop_duplicates(df)\n",
    "print(f\"Удалено строк: {dropped_count}\")"
   ],
   "metadata": {
    "collapsed": false,
    "ExecuteTime": {
     "end_time": "2024-05-06T14:58:36.422545613Z",
     "start_time": "2024-05-06T14:12:45.971289697Z"
    }
   },
   "id": "98edc02684be760e"
  },
  {
   "cell_type": "markdown",
   "source": [
    "Осталось дублей:"
   ],
   "metadata": {
    "collapsed": false
   },
   "id": "33702a486231c72f"
  },
  {
   "cell_type": "code",
   "execution_count": 40,
   "outputs": [
    {
     "data": {
      "text/plain": "0"
     },
     "execution_count": 40,
     "metadata": {},
     "output_type": "execute_result"
    }
   ],
   "source": [
    "same_cols=['short_name','description', 'employer_id','key_skills']\n",
    "df[same_cols].duplicated(keep=False).sum()"
   ],
   "metadata": {
    "collapsed": false,
    "ExecuteTime": {
     "end_time": "2024-05-06T14:59:20.369815291Z",
     "start_time": "2024-05-06T14:59:15.076465689Z"
    }
   },
   "id": "3c410bd613a1d2e5"
  },
  {
   "cell_type": "code",
   "execution_count": 41,
   "outputs": [
    {
     "name": "stdout",
     "output_type": "stream",
     "text": [
      "Размер очищенного датаcета:\n",
      "Строк - 735850\n",
      "Столбцов - 14\n"
     ]
    }
   ],
   "source": [
    "print(f'Размер очищенного датаcета:')\n",
    "print(f'Строк - {df.shape[0]}\\nСтолбцов - {df.shape[1]}')"
   ],
   "metadata": {
    "collapsed": false,
    "ExecuteTime": {
     "end_time": "2024-05-06T14:59:24.280108767Z",
     "start_time": "2024-05-06T14:59:24.261943007Z"
    }
   },
   "id": "f755d23b3d12b17c"
  },
  {
   "cell_type": "markdown",
   "source": [
    "# 3. Сохранение датасета"
   ],
   "metadata": {
    "collapsed": false
   },
   "id": "d2fd6f9063b3f9e8"
  },
  {
   "cell_type": "code",
   "execution_count": 42,
   "outputs": [
    {
     "data": {
      "text/plain": "'/mnt/data/projects/active/urfu/vkr/data/processed/cleaned.csv.gz'"
     },
     "execution_count": 42,
     "metadata": {},
     "output_type": "execute_result"
    }
   ],
   "source": [
    "raw_data_local_subdir = settings.get_fresh('PROCESSED_LOCAL_SUBDIR')\n",
    "filename=settings.get_fresh('FILENAME_CLEANED')\n",
    "\n",
    "files.save_dataframe(df, filename,raw_data_local_subdir)"
   ],
   "metadata": {
    "collapsed": false,
    "ExecuteTime": {
     "end_time": "2024-05-06T15:04:44.690654299Z",
     "start_time": "2024-05-06T14:59:43.223385619Z"
    }
   },
   "id": "3dc6f9e504a31982"
  },
  {
   "cell_type": "markdown",
   "source": [],
   "metadata": {
    "collapsed": false
   },
   "id": "4fb0a68c5aa8d05a"
  }
 ],
 "metadata": {
  "kernelspec": {
   "display_name": "Python 3",
   "language": "python",
   "name": "python3"
  },
  "language_info": {
   "codemirror_mode": {
    "name": "ipython",
    "version": 2
   },
   "file_extension": ".py",
   "mimetype": "text/x-python",
   "name": "python",
   "nbconvert_exporter": "python",
   "pygments_lexer": "ipython2",
   "version": "2.7.6"
  }
 },
 "nbformat": 4,
 "nbformat_minor": 5
}
