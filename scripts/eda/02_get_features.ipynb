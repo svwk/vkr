{
 "cells": [
  {
   "cell_type": "markdown",
   "source": [
    "# Анализ вакансий\n",
    "**Часть 2**\n",
    "## Работа с признаками. Выделение разделов в тексте вакансии"
   ],
   "metadata": {
    "collapsed": false
   },
   "id": "b5dc6b49dc86198"
  },
  {
   "cell_type": "markdown",
   "source": [
    "# 1. Служебный код\n",
    "## 1.1. Импорт\n",
    "### 1.1.1. Импорт библиотек\n"
   ],
   "metadata": {
    "collapsed": false
   },
   "id": "2a3530ccf07c5652"
  },
  {
   "cell_type": "code",
   "execution_count": 2,
   "outputs": [],
   "source": [
    "from importlib import reload\n",
    "import pandas as pd\n",
    "import warnings"
   ],
   "metadata": {
    "collapsed": false,
    "ExecuteTime": {
     "end_time": "2024-05-15T19:27:07.254389093Z",
     "start_time": "2024-05-15T19:27:06.965132135Z"
    }
   },
   "id": "2841f2cd12a4344d"
  },
  {
   "cell_type": "markdown",
   "source": [
    "### 1.1.2. Импорт модулей"
   ],
   "metadata": {
    "collapsed": false
   },
   "id": "a8d220a0b2447b7a"
  },
  {
   "cell_type": "code",
   "execution_count": 3,
   "outputs": [
    {
     "data": {
      "text/plain": "<module 'scripts.utils.files' from '/mnt/data/projects/active/urfu/vkr/scripts/utils/files.py'>"
     },
     "execution_count": 3,
     "metadata": {},
     "output_type": "execute_result"
    }
   ],
   "source": [
    "import config\n",
    "reload(config)\n",
    "from config import settings\n",
    "\n",
    "import scripts.data_scripts.prepare_data as prepare\n",
    "reload(prepare)\n",
    "\n",
    "from scripts.data_scripts import clear_text as cl\n",
    "reload(cl)\n",
    "\n",
    "import scripts.utils.files as files\n",
    "reload(files)"
   ],
   "metadata": {
    "collapsed": false,
    "ExecuteTime": {
     "end_time": "2024-05-15T19:27:24.079858705Z",
     "start_time": "2024-05-15T19:27:09.003637153Z"
    }
   },
   "id": "1f1b3589cc13ee2a"
  },
  {
   "cell_type": "markdown",
   "source": [
    "## 1.2. Настройка параметров"
   ],
   "metadata": {
    "collapsed": false
   },
   "id": "39f6fbc5788c3453"
  },
  {
   "cell_type": "code",
   "execution_count": 4,
   "outputs": [],
   "source": [
    "pd.set_option(\"display.max_rows\", 20)\n",
    "pd.set_option(\"display.max_columns\", 20)\n",
    "pd.set_option(\"display.precision\",6)\n",
    "warnings.simplefilter(\"ignore\")"
   ],
   "metadata": {
    "collapsed": false,
    "ExecuteTime": {
     "end_time": "2024-05-15T19:27:26.657919350Z",
     "start_time": "2024-05-15T19:27:26.628079947Z"
    }
   },
   "id": "ef704cf651ff8615"
  },
  {
   "cell_type": "markdown",
   "source": [
    "# 2. Загрузка данных и общее описание набора данных\n",
    "## 2.1 Словесное описание признаков"
   ],
   "metadata": {
    "collapsed": false
   },
   "id": "af1e2f038d6e39e3"
  },
  {
   "cell_type": "markdown",
   "source": [
    "Элементами данных являются описания вакансий, полученные с сайта hh.ru, полученные с помощью api.hh.ru и предварительно обработанные в 1 части ноутбука.\n",
    "Датасет содержит следующие признаки:\n",
    "\n",
    "- id (int): Идентификатор вакансии\n",
    "- name (string): Название\n",
    "- short_name (string): Укороченное название, очищенное от лишней информации в ч.1 ноутбука.\n",
    "- description (string): Описание в html\n",
    "- key_skills (Array of string): Ключевые навыки, список названий ключевых навыков, не более 30\n",
    "- experience_id (string): Опыт работы, возможные значения: \"noExperience\" (\"Нет опыта\"),\"between1And3\" (\"От 1 года до 3 лет\"), \"between3And6\" (\"От 3 до 6 лет\"), \"moreThan6\" (\"Более 6 лет\")\n",
    "- published_at (string): Дата и время публикации вакансии\n",
    "- employer_id (string) и employer_name: Идентификатор и название компании\n",
    "- salary_from (string): Нижняя граница зарплаты\n",
    "- salary_to (string): Верхняя граница зарплаты\n",
    "- salary_currency (string): Код валюты\n",
    "- area_id (string): Идентификатор региона\n",
    "- area_name (string): Название региона\n"
   ],
   "metadata": {
    "collapsed": false
   },
   "id": "9054b9a1b572b6c6"
  },
  {
   "cell_type": "markdown",
   "source": [
    "## 2.2. Загрузка данных"
   ],
   "metadata": {
    "collapsed": false
   },
   "id": "e7c2c05c66b507d6"
  },
  {
   "cell_type": "code",
   "execution_count": 5,
   "outputs": [],
   "source": [
    "dtypes=settings.get_fresh('types.CSV_DTYPES')\n",
    "subdir = settings.get_fresh('PROCESSED_LOCAL_SUBDIR')\n",
    "cleaned_data_file = 'cleaned'"
   ],
   "metadata": {
    "collapsed": false,
    "ExecuteTime": {
     "end_time": "2024-05-15T19:27:31.347947192Z",
     "start_time": "2024-05-15T19:27:31.119139958Z"
    }
   },
   "id": "7a36a46fc4a9be0f"
  },
  {
   "cell_type": "code",
   "execution_count": 5,
   "outputs": [],
   "source": [
    "df=files.load_file(cleaned_data_file, subdir, dtypes=dtypes,  to_decompress=True)"
   ],
   "metadata": {
    "collapsed": false,
    "ExecuteTime": {
     "end_time": "2024-05-15T18:16:16.190168372Z",
     "start_time": "2024-05-15T18:15:20.200750675Z"
    }
   },
   "id": "528fd33ab726ebe4"
  },
  {
   "cell_type": "markdown",
   "source": [
    "## 2.3. Информация о наборе данных"
   ],
   "metadata": {
    "collapsed": false
   },
   "id": "bb90f60064ece076"
  },
  {
   "cell_type": "code",
   "execution_count": 6,
   "outputs": [
    {
     "data": {
      "text/plain": "              id                                               name  \\\n0       42151148  Эксперт по тестированию на проникновение/Пенте...   \n1       42151191  Эксперт по тестированию на проникновение/Пенте...   \n2       42153070                 Системный аналитик (DWH/BI, DG/DQ)   \n3       42227361                                   Специалист по IT   \n4       42323563                Системный администратор/программист   \n...          ...                                                ...   \n735845  13279849                                    IOS разработчик   \n735846  13279864                                   Java-разработчик   \n735847  13279878                                      Квант-трейдер   \n735848  13279885                 Frontend разработчик / верстальщик   \n735849  13279918                   JavaScript разработчик Front-End   \n\n                                              description  \\\n0       <p>Привет! Мы расширяем команду пентестеров. И...   \n1       <p>Привет! Мы расширяем команду пентестеров. И...   \n2       <p><strong>КОРУС Консалтинг</strong> – одна из...   \n3       <p><strong>Специалист по информационным технол...   \n4       <strong>Обязанности:</strong> <ul> <li> <p>Адм...   \n...                                                   ...   \n735845  <p>amoCRM - это облачный сервис, который позво...   \n735846  <p>Приглашаем присоединиться к команде, котора...   \n735847  <p>Один из лидеров алгоритмической торговли на...   \n735848  <p>Оператору по приему моментальных платежей &...   \n735849  <p><strong>Обазянности:</strong></p> <ul> <li>...   \n\n                                               key_skills  experience_id  \\\n0                                                     NaN              1   \n1                                                     NaN              1   \n2       SQL\\nMS Visio\\nРазработка технических заданий\\...              2   \n3                                                     NaN              0   \n4       Администрирование серверов Linux\\nАдминистриро...              1   \n...                                                   ...            ...   \n735845                                                NaN              1   \n735846       Java\\nSQL\\nJDBC\\nXML\\nXsd\\nSpring Core\\nSOAP              1   \n735847                                                NaN              2   \n735848                                                NaN              1   \n735849                                                NaN              1   \n\n        employer_id                                      employer_name  \\\n0              2393                   Программный Продукт, ИТ-компания   \n1              2393                   Программный Продукт, ИТ-компания   \n2               675                                   КОРУС Консалтинг   \n3           1840010  филиал ФКУ Налог-Сервис ФНС России в Республик...   \n4           1080425  Челябинский государственный университет, ФГБОУ...   \n...             ...                                                ...   \n735845       999442                                             amoCRM   \n735846        22494                                           Неофлекс   \n735847         1833                                 Брокеркредитсервис   \n735848        48666                                         Чек-онлайн   \n735849        40912                                              БИФИТ   \n\n        salary_from  salary_to  salary_currency  area_id       area_name  \\\n0                 0          0                0        4     Новосибирск   \n1                 0          0                0        1          Москва   \n2                 0          0                0        1          Москва   \n3             32000      50000                0       88          Казань   \n4             30000          0                0      104       Челябинск   \n...             ...        ...              ...      ...             ...   \n735845            0      80000                0        1          Москва   \n735846            0          0                0        1          Москва   \n735847            0          0                0        1          Москва   \n735848        30000          0                0       76  Ростов-на-Дону   \n735849            0          0                0        1          Москва   \n\n                    published_at  \\\n0      2022-03-02 11:56:37+03:00   \n1      2022-03-02 11:56:33+03:00   \n2      2022-03-01 12:01:08+03:00   \n3      2022-03-21 11:18:32+03:00   \n4      2022-03-14 06:20:21+03:00   \n...                          ...   \n735845 2015-04-16 17:10:46+03:00   \n735846 2015-11-10 09:53:27+03:00   \n735847 2015-05-06 20:52:06+03:00   \n735848 2015-05-12 10:54:50+03:00   \n735849 2015-05-15 17:43:01+03:00   \n\n                                               short_name  \n0       эксперт по тестированию на проникновение/пенте...  \n1       эксперт по тестированию на проникновение/пенте...  \n2                                      системный аналитик  \n3                                        специалист по it  \n4                     системный администратор/программист  \n...                                                   ...  \n735845                                    ios разработчик  \n735846                                   java разработчик  \n735847                                      квант трейдер  \n735848                 frontend разработчик / верстальщик  \n735849                   javascript разработчик front end  \n\n[735850 rows x 14 columns]",
      "text/html": "<div>\n<style scoped>\n    .dataframe tbody tr th:only-of-type {\n        vertical-align: middle;\n    }\n\n    .dataframe tbody tr th {\n        vertical-align: top;\n    }\n\n    .dataframe thead th {\n        text-align: right;\n    }\n</style>\n<table border=\"1\" class=\"dataframe\">\n  <thead>\n    <tr style=\"text-align: right;\">\n      <th></th>\n      <th>id</th>\n      <th>name</th>\n      <th>description</th>\n      <th>key_skills</th>\n      <th>experience_id</th>\n      <th>employer_id</th>\n      <th>employer_name</th>\n      <th>salary_from</th>\n      <th>salary_to</th>\n      <th>salary_currency</th>\n      <th>area_id</th>\n      <th>area_name</th>\n      <th>published_at</th>\n      <th>short_name</th>\n    </tr>\n  </thead>\n  <tbody>\n    <tr>\n      <th>0</th>\n      <td>42151148</td>\n      <td>Эксперт по тестированию на проникновение/Пенте...</td>\n      <td>&lt;p&gt;Привет! Мы расширяем команду пентестеров. И...</td>\n      <td>NaN</td>\n      <td>1</td>\n      <td>2393</td>\n      <td>Программный Продукт, ИТ-компания</td>\n      <td>0</td>\n      <td>0</td>\n      <td>0</td>\n      <td>4</td>\n      <td>Новосибирск</td>\n      <td>2022-03-02 11:56:37+03:00</td>\n      <td>эксперт по тестированию на проникновение/пенте...</td>\n    </tr>\n    <tr>\n      <th>1</th>\n      <td>42151191</td>\n      <td>Эксперт по тестированию на проникновение/Пенте...</td>\n      <td>&lt;p&gt;Привет! Мы расширяем команду пентестеров. И...</td>\n      <td>NaN</td>\n      <td>1</td>\n      <td>2393</td>\n      <td>Программный Продукт, ИТ-компания</td>\n      <td>0</td>\n      <td>0</td>\n      <td>0</td>\n      <td>1</td>\n      <td>Москва</td>\n      <td>2022-03-02 11:56:33+03:00</td>\n      <td>эксперт по тестированию на проникновение/пенте...</td>\n    </tr>\n    <tr>\n      <th>2</th>\n      <td>42153070</td>\n      <td>Системный аналитик (DWH/BI, DG/DQ)</td>\n      <td>&lt;p&gt;&lt;strong&gt;КОРУС Консалтинг&lt;/strong&gt; – одна из...</td>\n      <td>SQL\\nMS Visio\\nРазработка технических заданий\\...</td>\n      <td>2</td>\n      <td>675</td>\n      <td>КОРУС Консалтинг</td>\n      <td>0</td>\n      <td>0</td>\n      <td>0</td>\n      <td>1</td>\n      <td>Москва</td>\n      <td>2022-03-01 12:01:08+03:00</td>\n      <td>системный аналитик</td>\n    </tr>\n    <tr>\n      <th>3</th>\n      <td>42227361</td>\n      <td>Специалист по IT</td>\n      <td>&lt;p&gt;&lt;strong&gt;Специалист по информационным технол...</td>\n      <td>NaN</td>\n      <td>0</td>\n      <td>1840010</td>\n      <td>филиал ФКУ Налог-Сервис ФНС России в Республик...</td>\n      <td>32000</td>\n      <td>50000</td>\n      <td>0</td>\n      <td>88</td>\n      <td>Казань</td>\n      <td>2022-03-21 11:18:32+03:00</td>\n      <td>специалист по it</td>\n    </tr>\n    <tr>\n      <th>4</th>\n      <td>42323563</td>\n      <td>Системный администратор/программист</td>\n      <td>&lt;strong&gt;Обязанности:&lt;/strong&gt; &lt;ul&gt; &lt;li&gt; &lt;p&gt;Адм...</td>\n      <td>Администрирование серверов Linux\\nАдминистриро...</td>\n      <td>1</td>\n      <td>1080425</td>\n      <td>Челябинский государственный университет, ФГБОУ...</td>\n      <td>30000</td>\n      <td>0</td>\n      <td>0</td>\n      <td>104</td>\n      <td>Челябинск</td>\n      <td>2022-03-14 06:20:21+03:00</td>\n      <td>системный администратор/программист</td>\n    </tr>\n    <tr>\n      <th>...</th>\n      <td>...</td>\n      <td>...</td>\n      <td>...</td>\n      <td>...</td>\n      <td>...</td>\n      <td>...</td>\n      <td>...</td>\n      <td>...</td>\n      <td>...</td>\n      <td>...</td>\n      <td>...</td>\n      <td>...</td>\n      <td>...</td>\n      <td>...</td>\n    </tr>\n    <tr>\n      <th>735845</th>\n      <td>13279849</td>\n      <td>IOS разработчик</td>\n      <td>&lt;p&gt;amoCRM - это облачный сервис, который позво...</td>\n      <td>NaN</td>\n      <td>1</td>\n      <td>999442</td>\n      <td>amoCRM</td>\n      <td>0</td>\n      <td>80000</td>\n      <td>0</td>\n      <td>1</td>\n      <td>Москва</td>\n      <td>2015-04-16 17:10:46+03:00</td>\n      <td>ios разработчик</td>\n    </tr>\n    <tr>\n      <th>735846</th>\n      <td>13279864</td>\n      <td>Java-разработчик</td>\n      <td>&lt;p&gt;Приглашаем присоединиться к команде, котора...</td>\n      <td>Java\\nSQL\\nJDBC\\nXML\\nXsd\\nSpring Core\\nSOAP</td>\n      <td>1</td>\n      <td>22494</td>\n      <td>Неофлекс</td>\n      <td>0</td>\n      <td>0</td>\n      <td>0</td>\n      <td>1</td>\n      <td>Москва</td>\n      <td>2015-11-10 09:53:27+03:00</td>\n      <td>java разработчик</td>\n    </tr>\n    <tr>\n      <th>735847</th>\n      <td>13279878</td>\n      <td>Квант-трейдер</td>\n      <td>&lt;p&gt;Один из лидеров алгоритмической торговли на...</td>\n      <td>NaN</td>\n      <td>2</td>\n      <td>1833</td>\n      <td>Брокеркредитсервис</td>\n      <td>0</td>\n      <td>0</td>\n      <td>0</td>\n      <td>1</td>\n      <td>Москва</td>\n      <td>2015-05-06 20:52:06+03:00</td>\n      <td>квант трейдер</td>\n    </tr>\n    <tr>\n      <th>735848</th>\n      <td>13279885</td>\n      <td>Frontend разработчик / верстальщик</td>\n      <td>&lt;p&gt;Оператору по приему моментальных платежей &amp;...</td>\n      <td>NaN</td>\n      <td>1</td>\n      <td>48666</td>\n      <td>Чек-онлайн</td>\n      <td>30000</td>\n      <td>0</td>\n      <td>0</td>\n      <td>76</td>\n      <td>Ростов-на-Дону</td>\n      <td>2015-05-12 10:54:50+03:00</td>\n      <td>frontend разработчик / верстальщик</td>\n    </tr>\n    <tr>\n      <th>735849</th>\n      <td>13279918</td>\n      <td>JavaScript разработчик Front-End</td>\n      <td>&lt;p&gt;&lt;strong&gt;Обазянности:&lt;/strong&gt;&lt;/p&gt; &lt;ul&gt; &lt;li&gt;...</td>\n      <td>NaN</td>\n      <td>1</td>\n      <td>40912</td>\n      <td>БИФИТ</td>\n      <td>0</td>\n      <td>0</td>\n      <td>0</td>\n      <td>1</td>\n      <td>Москва</td>\n      <td>2015-05-15 17:43:01+03:00</td>\n      <td>javascript разработчик front end</td>\n    </tr>\n  </tbody>\n</table>\n<p>735850 rows × 14 columns</p>\n</div>"
     },
     "execution_count": 6,
     "metadata": {},
     "output_type": "execute_result"
    }
   ],
   "source": [
    "df"
   ],
   "metadata": {
    "collapsed": false,
    "ExecuteTime": {
     "end_time": "2024-05-15T18:17:14.507362153Z",
     "start_time": "2024-05-15T18:17:14.452393947Z"
    }
   },
   "id": "5aab5240d3f8e115"
  },
  {
   "cell_type": "code",
   "execution_count": 7,
   "outputs": [
    {
     "name": "stdout",
     "output_type": "stream",
     "text": [
      "Строк - 735850\n",
      "Столбцов - 14\n"
     ]
    }
   ],
   "source": [
    "print(f'Строк - {df.shape[0]}\\nСтолбцов - {df.shape[1]}')"
   ],
   "metadata": {
    "collapsed": false,
    "ExecuteTime": {
     "end_time": "2024-05-15T18:17:22.154215875Z",
     "start_time": "2024-05-15T18:17:22.106214011Z"
    }
   },
   "id": "91cb0877da57255e"
  },
  {
   "cell_type": "code",
   "execution_count": 8,
   "outputs": [
    {
     "name": "stdout",
     "output_type": "stream",
     "text": [
      "<class 'pandas.core.frame.DataFrame'>\n",
      "RangeIndex: 735850 entries, 0 to 735849\n",
      "Data columns (total 14 columns):\n",
      " #   Column           Non-Null Count   Dtype                    \n",
      "---  ------           --------------   -----                    \n",
      " 0   id               735850 non-null  int64                    \n",
      " 1   name             735850 non-null  object                   \n",
      " 2   description      735850 non-null  object                   \n",
      " 3   key_skills       387582 non-null  object                   \n",
      " 4   experience_id    735850 non-null  uint8                    \n",
      " 5   employer_id      735850 non-null  uint32                   \n",
      " 6   employer_name    735850 non-null  object                   \n",
      " 7   salary_from      735850 non-null  uint32                   \n",
      " 8   salary_to        735850 non-null  uint32                   \n",
      " 9   salary_currency  735850 non-null  uint8                    \n",
      " 10  area_id          735850 non-null  uint16                   \n",
      " 11  area_name        735850 non-null  object                   \n",
      " 12  published_at     735850 non-null  datetime64[ns, UTC+03:00]\n",
      " 13  short_name       735850 non-null  object                   \n",
      "dtypes: datetime64[ns, UTC+03:00](1), int64(1), object(6), uint16(1), uint32(3), uint8(2)\n",
      "memory usage: 56.1+ MB\n"
     ]
    }
   ],
   "source": [
    "df.info()"
   ],
   "metadata": {
    "collapsed": false,
    "ExecuteTime": {
     "end_time": "2024-05-15T18:17:24.689180797Z",
     "start_time": "2024-05-15T18:17:24.482887230Z"
    }
   },
   "id": "4d2642be8b23ee86"
  },
  {
   "cell_type": "markdown",
   "source": [
    "# 3. Подготовка датасета для обучения моделей"
   ],
   "metadata": {
    "collapsed": false
   },
   "id": "e28277fc8a692c73"
  },
  {
   "cell_type": "markdown",
   "source": [
    "Датасет содержит объявления на разных языках. Но, к сожалению, предусмотренное для этого поля шаблона hh.ru авторами объявлений не заполняется. Поэтому для отделения объявлений на русском языке будем использовать поле 'salary_currency' (Код валюты). Его возможные значения"
   ],
   "metadata": {
    "collapsed": false
   },
   "id": "48f6ee2228272c37"
  },
  {
   "cell_type": "code",
   "execution_count": 9,
   "outputs": [
    {
     "data": {
      "text/plain": "salary_currency\n0    690280\n1     18513\n2     12591\n3      6350\n6      3767\n4      3167\n5       837\n7       173\n8       168\n9         4\nName: count, dtype: int64"
     },
     "execution_count": 9,
     "metadata": {},
     "output_type": "execute_result"
    }
   ],
   "source": [
    "df.salary_currency.value_counts()"
   ],
   "metadata": {
    "collapsed": false,
    "ExecuteTime": {
     "end_time": "2024-05-15T18:17:30.198995502Z",
     "start_time": "2024-05-15T18:17:30.167455115Z"
    }
   },
   "id": "77af757c6a2c264b"
  },
  {
   "cell_type": "markdown",
   "source": [
    "Оставим в датасете только строки, для которых salary_currency=0 (RUR) и описание которых содержит русские буквы:"
   ],
   "metadata": {
    "collapsed": false
   },
   "id": "ae85aace34c32787"
  },
  {
   "cell_type": "code",
   "execution_count": 10,
   "outputs": [],
   "source": [
    "df=df[df.salary_currency==0]"
   ],
   "metadata": {
    "collapsed": false,
    "ExecuteTime": {
     "end_time": "2024-05-15T18:17:36.810620575Z",
     "start_time": "2024-05-15T18:17:36.739787994Z"
    }
   },
   "id": "3a4ddd4648e4e7bc"
  },
  {
   "cell_type": "code",
   "execution_count": 35,
   "outputs": [],
   "source": [
    "df=df[df.description.apply(cl.has_russian_symbols)==True]"
   ],
   "metadata": {
    "collapsed": false,
    "ExecuteTime": {
     "end_time": "2024-05-15T18:30:44.125463555Z",
     "start_time": "2024-05-15T18:30:41.633024897Z"
    }
   },
   "id": "5fbab85b4db4888"
  },
  {
   "cell_type": "code",
   "execution_count": 36,
   "outputs": [
    {
     "name": "stdout",
     "output_type": "stream",
     "text": [
      "Строк - 633136\n",
      "Столбцов - 14\n"
     ]
    }
   ],
   "source": [
    "print(f'Строк - {df.shape[0]}\\nСтолбцов - {df.shape[1]}')"
   ],
   "metadata": {
    "collapsed": false,
    "ExecuteTime": {
     "end_time": "2024-05-15T18:30:56.748086660Z",
     "start_time": "2024-05-15T18:30:56.685138715Z"
    }
   },
   "id": "ffb5cc730ccf0d83"
  },
  {
   "cell_type": "markdown",
   "source": [
    "Для дальнейшего обучения нам потребуются данные, в которых поле 'key_skills' (Ключевые навыки) заполнено:"
   ],
   "metadata": {
    "collapsed": false
   },
   "id": "3d1c2f131bfb1632"
  },
  {
   "cell_type": "code",
   "execution_count": 37,
   "outputs": [],
   "source": [
    "df=df[df.key_skills.notna()]"
   ],
   "metadata": {
    "collapsed": false,
    "ExecuteTime": {
     "end_time": "2024-05-15T18:32:17.246192255Z",
     "start_time": "2024-05-15T18:32:17.187526452Z"
    }
   },
   "id": "778115bada6eb77e"
  },
  {
   "cell_type": "code",
   "execution_count": 38,
   "outputs": [
    {
     "name": "stdout",
     "output_type": "stream",
     "text": [
      "Строк - 334380\n",
      "Столбцов - 14\n"
     ]
    }
   ],
   "source": [
    "print(f'Строк - {df.shape[0]}\\nСтолбцов - {df.shape[1]}')"
   ],
   "metadata": {
    "collapsed": false,
    "ExecuteTime": {
     "end_time": "2024-05-15T18:32:19.542249405Z",
     "start_time": "2024-05-15T18:32:19.462627990Z"
    }
   },
   "id": "8332dba98e905a4e"
  },
  {
   "cell_type": "markdown",
   "source": [
    "Для дальнейшего анализа не нужны столбцы: 'employer_id', 'experience_id',  'salary_from', 'salary_to', 'salary_currency', 'area_id', 'area_name', 'published_at'."
   ],
   "metadata": {
    "collapsed": false
   },
   "id": "9ff4ffbcb1400a25"
  },
  {
   "cell_type": "markdown",
   "source": [
    "Удалим ненужные для обучения поля:"
   ],
   "metadata": {
    "collapsed": false
   },
   "id": "e702cd6e851d70d4"
  },
  {
   "cell_type": "code",
   "execution_count": 39,
   "outputs": [],
   "source": [
    "wrong_cols = ['experience_id', 'published_at', 'employer_id', 'salary_from', 'salary_to', 'salary_currency', 'area_id', 'area_name', ]\n",
    "df.drop(columns=wrong_cols, inplace=True, errors='ignore')\n",
    "df.reset_index(drop=True, inplace=True)"
   ],
   "metadata": {
    "collapsed": false,
    "ExecuteTime": {
     "end_time": "2024-05-15T18:32:46.776341558Z",
     "start_time": "2024-05-15T18:32:46.720136505Z"
    }
   },
   "id": "376c9be5aea5a398"
  },
  {
   "cell_type": "code",
   "execution_count": 40,
   "outputs": [
    {
     "name": "stdout",
     "output_type": "stream",
     "text": [
      "<class 'pandas.core.frame.DataFrame'>\n",
      "RangeIndex: 334380 entries, 0 to 334379\n",
      "Data columns (total 6 columns):\n",
      " #   Column         Non-Null Count   Dtype \n",
      "---  ------         --------------   ----- \n",
      " 0   id             334380 non-null  int64 \n",
      " 1   name           334380 non-null  object\n",
      " 2   description    334380 non-null  object\n",
      " 3   key_skills     334380 non-null  object\n",
      " 4   employer_name  334380 non-null  object\n",
      " 5   short_name     334380 non-null  object\n",
      "dtypes: int64(1), object(5)\n",
      "memory usage: 15.3+ MB\n"
     ]
    }
   ],
   "source": [
    "df.info()"
   ],
   "metadata": {
    "collapsed": false,
    "ExecuteTime": {
     "end_time": "2024-05-15T18:32:49.092476540Z",
     "start_time": "2024-05-15T18:32:49.048878882Z"
    }
   },
   "id": "76ce24e6a2e001e4"
  },
  {
   "cell_type": "markdown",
   "source": [
    "Сохраним полученный датасет:"
   ],
   "metadata": {
    "collapsed": false
   },
   "id": "c488ed7cc1b541b1"
  },
  {
   "cell_type": "code",
   "execution_count": 41,
   "outputs": [
    {
     "data": {
      "text/plain": "'/mnt/data/projects/active/urfu/vkr/data/processed/preprocessed.csv.gz'"
     },
     "execution_count": 41,
     "metadata": {},
     "output_type": "execute_result"
    }
   ],
   "source": [
    "filename=settings.get_fresh('FILENAME_PREPROCESSED')\n",
    "files.save_dataframe(df, filename,subdir)"
   ],
   "metadata": {
    "collapsed": false,
    "ExecuteTime": {
     "end_time": "2024-05-15T18:36:18.852154897Z",
     "start_time": "2024-05-15T18:33:35.297228618Z"
    }
   },
   "id": "620744cb7ef2fd6a"
  },
  {
   "cell_type": "markdown",
   "source": [
    "# 4.Извлечение текстовых блоков из описания вакансии"
   ],
   "metadata": {
    "collapsed": false
   },
   "id": "bbb0f842ac5f3e9f"
  },
  {
   "cell_type": "markdown",
   "source": [
    "Первым этапом этой работы является составление словаря терминов - формулировок требований к знаниям, навыкам и качествам соискателя. Эти формулировки будем извлекать из текстов описания вакансии.\n",
    "Пример описания вакансии с сайта hh.ru:"
   ],
   "metadata": {
    "collapsed": false
   },
   "id": "cf981f22ea34e965"
  },
  {
   "cell_type": "code",
   "execution_count": 42,
   "outputs": [
    {
     "data": {
      "text/plain": "'<p><strong>КОРУС Консалтинг</strong> – одна из крупнейших консалтинговых ИТ-компании и компаний-интеграторов в России. Нас уже более 1000 человек, и мы продолжаем расти на протяжении уже 20 лет.</p> <p>Наша география тоже расширяется: Санкт-Петербург, Москва, Ярославль и другие уголки России.</p> <p>Сейчас мы в поиске коллеги <strong>Системного аналитика, на такие проекты, как построение хранилищ данных, отчетности и управление качеством данных, </strong>в департамент аналитических решений. Мы хотим, чтобы специалист стал центром экспертизы и участвовал в развитии практики.</p> <p><strong>Команда</strong> департамента аналитических решений занимается всеми современные направлениями в области работы с данными: внедрением BI-систем и систем аналитической отчетности, проектированием сложных хранилищ и витрин данных, разработками в области продвинутой аналитики и больших данных, применением прикладных продуктов и сервисов с использованием машинного обучения, адаптацией и внедрением решений в области управлениям данными <em>(Data Governance, Data Quality)</em>, разработкой методологии и стратегии работы с данными.</p> <p><strong>Наши проекты:</strong> Мы работаем над амбициозными задачами в самых крупных стратегических проектах, затрагивающих изменение всего технологического ландшафта наших заказчиков. На рынке - единицы проектов подобного уровня, сочетающих в себе как использование инновационных технологических решений, сложные многоуровневые архитектуры, высокую экспертизу всех участников, так и дружественный формат взаимодействия и построения команды.</p> <p><strong>Основной стек технологий, встречающийся на наших проектах:</strong></p> <ul> <li>Классические хранилища: Oracle, PostgreSQL/GreenPlum;</li> <li>Стек Apache: Hadoop, AirFlow, Nifi, Kafka;</li> <li>Системы отчетности: Qlik, Luxms BI.</li> </ul> <p><strong>Что нужно делать:</strong></p> <ul> <li>взаимодействовать с бизнес-аналитиками команды и архитектором для формирования ТЗ и постановок на разработку;</li> <li>разрабатывать логические модели данных совместно с архитектором и бизнес-аналитиком;</li> <li>проводить анализ источников данных, разработку спецификаций на интеграционное взаимодействие;</li> <li>на основе логических моделей данных и описаний источников формировать требования по сбору данных и расчету требуемых показателей;</li> <li>взаимодействовать с командой разработки для контроля разработки по подготовленным ТЗ и постановкам;</li> <li>участвовать в разработке проектной и эксплуатационной документации;</li> <li>участвовать в тестировании разработанного функционала;</li> <li>участвовать в процессах сверки данных (верификация качества данных);</li> <li>участвовать в поддержке системы в опытной и постоянной эксплуатации;</li> <li>тесно взаимодействовать со всей командой.</li> </ul> <strong>Ждем от вас:</strong> <ul> <li>опыт взаимодействия с командой разработки;</li> <li>опыт работы с реляционными БД (SQL) для формирования постановок разработчикам – написание SQL-запросов;</li> <li>опыт работы с функциональными требования для формирования ТЗ;</li> <li>опыт подготовки проектной документации (технические задания на разработку, операционные инструкции и т.д.)</li> <li>знание принципов разработки ПО, проектирования приложений в части БД (плюсом будет навык работы с системами проектирования логических/физичеcких моделей данных, например, SAP Power Designer).</li> </ul> <strong>Успешному кандидату готовы предложить:</strong> <ul> <li>В вопросах компенсации ориентируемся на предложение кандидата: знаем рынок, но не хотим ставить ограничений;</li> <li>Интересные и сложные задачи, крупные проекты;</li> <li>Постоянный профессиональный и личный рост, самостоятельность в работе. У нас нет бюрократии и бесконечных отчетов, а совещания только по необходимости и с четкой программой. Поощряем любое развитие во всех направлениях;</li> <li>Участие в корпоративных образовательных и социальных программах: заботитесь об окружающей среде, помогаете людям в сложной ситуации, занимаетесь спортом? Можете принять участие в любых активностях.</li> <li>Гибкий рабочий график (нет фиксированного времени присутствия в офисе), возможность удаленной работы, 100% отдых на выходные и праздничные дни, корпоративные мероприятия для отдыха в т.ч. с выездом в другие города.</li> <li>Оформление в штат компании, согласно ТК РФ, “белая” заработная плата, ДМС и все остальные стандартные бенефиты.</li> </ul> <p><em>У нас есть возможность проявить себя и получить бесценный опыт на реальных комплексных аналитических проектах в работе с крупнейшими заказчиками своих областей. Присоединяйтесь.</em></p>'"
     },
     "execution_count": 42,
     "metadata": {},
     "output_type": "execute_result"
    }
   ],
   "source": [
    "df.description.loc[0]"
   ],
   "metadata": {
    "collapsed": false,
    "ExecuteTime": {
     "end_time": "2024-05-15T18:36:57.502033169Z",
     "start_time": "2024-05-15T18:36:57.453673012Z"
    }
   },
   "id": "13f58e53ce2f6c1e"
  },
  {
   "cell_type": "markdown",
   "source": [
    "Поле с описанием вакансии представляет собой текст c html-разметкой. Оно может содержать следующие блоки:\n",
    "- описание вакансии и компании, преимущества работы в компании;\n",
    "- описание пректа и стек;\n",
    "- обязанности;\n",
    "- обязательные требования к соискателю;\n",
    "- необязательные требования к соискателю (желательные);\n",
    "- условия работы.\n",
    "\n",
    "Эти блоки не имеют четкой структуры и границ. Множество авторов вакансий, видимо, игнорировало советы о разделении текста вакансий на общепринятые разделы. Текст описания содержит блочные элементы html, наиболее важные части оформляются с помощью строчных элементов. Способ разбиения на блочные элементы определяет автор объявления, поэтому в целом все объявления имеют совершенно разную структуру даже на уровне html-разметки. Часто наблюдаются ошибки разметки, неверное использование тегов html. Семантическая разметка не используется.\n",
    "\n",
    "Для автоматического извлечения требований к кандидату с помощью методов обработки естественного языка необходимо точно знать в каком разделе описания вакансии их можно найти. Учитывая указанные выше особенности, использовать описание вакансии в том виде, в каком оно предоставляется сайтом hh.ru, для этих целей становится весьма проблематичным.\n",
    "Извлечение навыков из текстов вакансий hh.ru возможно только для тех объявлений, которые имеют структуру в соответствии с принятыми нормами, т.е. имеют различимые блоки обязанностей и требований, которые можно извлечь с помощью правил.  Для этих объявлений необходимо выполнить следующую предварительную обработку:\n",
    "1. Выявление общих закономерностей в структуре документов и формирование логических правил разделения на блоки и выделения заголовков.\n",
    "2. Предварительная разбивка текста описания на блоки с помощью методов, основанных на правилах.\n",
    "3. Выделение заголовков блоков с помощью методов, основанных на правилах.\n",
    "4. Удаление тегов html-разметки из блоков.\n",
    "5. Определение типов блоков с помощью ручной разметки.\n",
    "6. Формирование краткого описания вакансии, содержащего только блоки с требованиями."
   ],
   "metadata": {
    "collapsed": false
   },
   "id": "bd5c78caaa481a36"
  },
  {
   "cell_type": "markdown",
   "source": [
    "Правила разделения на блоки и выделения заголовков после анализа сформулированы в виде регулярных выражений в модуле  'clear_text.py' и методов обработки дерева BeautifulSoup в модуле 'prepare_data.py'. Вся обработка описания выполняется в методе parse_all_descriptions, в результате которой создается новый датафрейм, содержащий извлеченные текстовые блоки:"
   ],
   "metadata": {
    "collapsed": false
   },
   "id": "f339a2d90128da4d"
  },
  {
   "cell_type": "markdown",
   "source": [
    "Датасет был обработан внешним скриптом, результат загружен ниже."
   ],
   "metadata": {
    "collapsed": false
   },
   "id": "400def7e408913b7"
  },
  {
   "cell_type": "code",
   "execution_count": 12,
   "outputs": [],
   "source": [
    "filename=settings.get_fresh('FILENAME_BLOCKS_EXTRACTED')\n",
    "df_descriptions = files.load_file(filename, subdir, dtypes = dtypes,  to_decompress = True, with_dates = False)"
   ],
   "metadata": {
    "collapsed": false,
    "ExecuteTime": {
     "end_time": "2024-05-15T19:37:13.040080617Z",
     "start_time": "2024-05-15T19:36:57.700334944Z"
    }
   },
   "id": "493700c48c812463"
  },
  {
   "cell_type": "code",
   "execution_count": 44,
   "outputs": [
    {
     "name": "stdout",
     "output_type": "stream",
     "text": [
      "<class 'pandas.core.frame.DataFrame'>\n",
      "RangeIndex: 1365078 entries, 0 to 1365077\n",
      "Data columns (total 6 columns):\n",
      " #   Column         Non-Null Count    Dtype \n",
      "---  ------         --------------    ----- \n",
      " 0   id             1365078 non-null  int64 \n",
      " 1   title          995455 non-null   object\n",
      " 2   content        1364743 non-null  object\n",
      " 3   content_type   1365078 non-null  int64 \n",
      " 4   semantic_type  1365078 non-null  int64 \n",
      " 5   block_id       1365078 non-null  int64 \n",
      "dtypes: int64(4), object(2)\n",
      "memory usage: 62.5+ MB\n"
     ]
    }
   ],
   "source": [
    "df_descriptions.info()"
   ],
   "metadata": {
    "collapsed": false,
    "ExecuteTime": {
     "end_time": "2024-05-15T18:43:31.029300868Z",
     "start_time": "2024-05-15T18:43:30.874497179Z"
    }
   },
   "id": "df0a3e9480b4c1d6"
  },
  {
   "cell_type": "code",
   "execution_count": 13,
   "outputs": [
    {
     "data": {
      "text/plain": "               id                                              title  \\\n0        42153070                                                NaN   \n1        42153070  Основной стек технологий, встречающийся на наш...   \n2        42153070                                   Что нужно делать   \n3        42153070                                        Ждем от вас   \n4        42153070              Успешному кандидату готовы предложить   \n...           ...                                                ...   \n1365073  13279864                                                NaN   \n1365074  13279864                                             Задачи   \n1365075  13279864                                          Нам важно   \n1365076  13279864                        Дополнительным плюсом будет   \n1365077  13279864                                      Мы предлагаем   \n\n                                                   content  content_type  \\\n0        КОРУС Консалтинг – одна из крупнейших консалти...             0   \n1        Классические хранилища: Oracle, PostgreSQL/Gre...             1   \n2        взаимодействовать с бизнес-аналитиками команды...             1   \n3        опыт взаимодействия с командой разработки;\\nоп...             1   \n4        В вопросах компенсации ориентируемся на предло...             1   \n...                                                    ...           ...   \n1365073  Приглашаем присоединиться к команде, которая р...             0   \n1365074  Проектирование и разработка высоконагруженных ...             1   \n1365075  Опыт разработки на Java от 2-х;\\nОпыт работы с...             1   \n1365076  Практические навыки работы Spring Core (знания...             1   \n1365077  Работа в крупной консалтинговой IT-компании;\\n...             1   \n\n         semantic_type  block_id  \n0                    0         5  \n1                    0         7  \n2                    0         9  \n3                    0        11  \n4                    0        13  \n...                ...       ...  \n1365073              0         1  \n1365074              0         3  \n1365075              0         5  \n1365076              0         7  \n1365077              0         9  \n\n[1365078 rows x 6 columns]",
      "text/html": "<div>\n<style scoped>\n    .dataframe tbody tr th:only-of-type {\n        vertical-align: middle;\n    }\n\n    .dataframe tbody tr th {\n        vertical-align: top;\n    }\n\n    .dataframe thead th {\n        text-align: right;\n    }\n</style>\n<table border=\"1\" class=\"dataframe\">\n  <thead>\n    <tr style=\"text-align: right;\">\n      <th></th>\n      <th>id</th>\n      <th>title</th>\n      <th>content</th>\n      <th>content_type</th>\n      <th>semantic_type</th>\n      <th>block_id</th>\n    </tr>\n  </thead>\n  <tbody>\n    <tr>\n      <th>0</th>\n      <td>42153070</td>\n      <td>NaN</td>\n      <td>КОРУС Консалтинг – одна из крупнейших консалти...</td>\n      <td>0</td>\n      <td>0</td>\n      <td>5</td>\n    </tr>\n    <tr>\n      <th>1</th>\n      <td>42153070</td>\n      <td>Основной стек технологий, встречающийся на наш...</td>\n      <td>Классические хранилища: Oracle, PostgreSQL/Gre...</td>\n      <td>1</td>\n      <td>0</td>\n      <td>7</td>\n    </tr>\n    <tr>\n      <th>2</th>\n      <td>42153070</td>\n      <td>Что нужно делать</td>\n      <td>взаимодействовать с бизнес-аналитиками команды...</td>\n      <td>1</td>\n      <td>0</td>\n      <td>9</td>\n    </tr>\n    <tr>\n      <th>3</th>\n      <td>42153070</td>\n      <td>Ждем от вас</td>\n      <td>опыт взаимодействия с командой разработки;\\nоп...</td>\n      <td>1</td>\n      <td>0</td>\n      <td>11</td>\n    </tr>\n    <tr>\n      <th>4</th>\n      <td>42153070</td>\n      <td>Успешному кандидату готовы предложить</td>\n      <td>В вопросах компенсации ориентируемся на предло...</td>\n      <td>1</td>\n      <td>0</td>\n      <td>13</td>\n    </tr>\n    <tr>\n      <th>...</th>\n      <td>...</td>\n      <td>...</td>\n      <td>...</td>\n      <td>...</td>\n      <td>...</td>\n      <td>...</td>\n    </tr>\n    <tr>\n      <th>1365073</th>\n      <td>13279864</td>\n      <td>NaN</td>\n      <td>Приглашаем присоединиться к команде, которая р...</td>\n      <td>0</td>\n      <td>0</td>\n      <td>1</td>\n    </tr>\n    <tr>\n      <th>1365074</th>\n      <td>13279864</td>\n      <td>Задачи</td>\n      <td>Проектирование и разработка высоконагруженных ...</td>\n      <td>1</td>\n      <td>0</td>\n      <td>3</td>\n    </tr>\n    <tr>\n      <th>1365075</th>\n      <td>13279864</td>\n      <td>Нам важно</td>\n      <td>Опыт разработки на Java от 2-х;\\nОпыт работы с...</td>\n      <td>1</td>\n      <td>0</td>\n      <td>5</td>\n    </tr>\n    <tr>\n      <th>1365076</th>\n      <td>13279864</td>\n      <td>Дополнительным плюсом будет</td>\n      <td>Практические навыки работы Spring Core (знания...</td>\n      <td>1</td>\n      <td>0</td>\n      <td>7</td>\n    </tr>\n    <tr>\n      <th>1365077</th>\n      <td>13279864</td>\n      <td>Мы предлагаем</td>\n      <td>Работа в крупной консалтинговой IT-компании;\\n...</td>\n      <td>1</td>\n      <td>0</td>\n      <td>9</td>\n    </tr>\n  </tbody>\n</table>\n<p>1365078 rows × 6 columns</p>\n</div>"
     },
     "execution_count": 13,
     "metadata": {},
     "output_type": "execute_result"
    }
   ],
   "source": [
    "df_descriptions"
   ],
   "metadata": {
    "collapsed": false,
    "ExecuteTime": {
     "end_time": "2024-05-15T19:37:18.474089857Z",
     "start_time": "2024-05-15T19:37:18.441940408Z"
    }
   },
   "id": "a809dc040548f070"
  },
  {
   "cell_type": "markdown",
   "source": [
    "Проверим наличие дублей:"
   ],
   "metadata": {
    "collapsed": false
   },
   "id": "f575dc13e627aba3"
  },
  {
   "cell_type": "code",
   "execution_count": 46,
   "outputs": [
    {
     "data": {
      "text/plain": "              id                                              title  \\\n0       38576931                                                NaN   \n1       38576932                                                NaN   \n2       30159387                                                NaN   \n3       29053407                                                NaN   \n4       19565014                                                NaN   \n...          ...                                                ...   \n611245  15884403  Компания Tech Round ищет профессионалов для уч...   \n611246  15886012  Мы разрабатываем и поддерживаем внутреннюю сис...   \n611247  18107857  Мы делаем из Junior-ов Middle-ов, из Middle-ов...   \n611248  18108117  Мы делаем из Junior-ов Middle-ов, из Middle-ов...   \n611249  15084868  В проектную команду по веб-разработке ищем про...   \n\n                                                  content  content_type  \\\n0       *Instinctools  специализируясь на разработке и...             0   \n1       *Instinctools  специализируясь на разработке и...             0   \n2       *MS SQL (Transact-SQL\\n*SSAS (Analysis Service...             0   \n3       *MS SQL (Transact-SQL\\n*SSAS (Analysis Service...             0   \n4       *NIX системы;\\nWindows Server 2012 R2;\\nPowers...             1   \n...                                                   ...           ...   \n611245                                                NaN             2   \n611246                                                NaN             2   \n611247                                                NaN             2   \n611248                                                NaN             2   \n611249                                                NaN             2   \n\n        semantic_type  block_id  \n0                   0         2  \n1                   0         2  \n2                   0         9  \n3                   0         9  \n4                   0        11  \n...               ...       ...  \n611245              0         1  \n611246              0         2  \n611247              0         1  \n611248              0         1  \n611249              0         1  \n\n[611250 rows x 6 columns]",
      "text/html": "<div>\n<style scoped>\n    .dataframe tbody tr th:only-of-type {\n        vertical-align: middle;\n    }\n\n    .dataframe tbody tr th {\n        vertical-align: top;\n    }\n\n    .dataframe thead th {\n        text-align: right;\n    }\n</style>\n<table border=\"1\" class=\"dataframe\">\n  <thead>\n    <tr style=\"text-align: right;\">\n      <th></th>\n      <th>id</th>\n      <th>title</th>\n      <th>content</th>\n      <th>content_type</th>\n      <th>semantic_type</th>\n      <th>block_id</th>\n    </tr>\n  </thead>\n  <tbody>\n    <tr>\n      <th>0</th>\n      <td>38576931</td>\n      <td>NaN</td>\n      <td>*Instinctools  специализируясь на разработке и...</td>\n      <td>0</td>\n      <td>0</td>\n      <td>2</td>\n    </tr>\n    <tr>\n      <th>1</th>\n      <td>38576932</td>\n      <td>NaN</td>\n      <td>*Instinctools  специализируясь на разработке и...</td>\n      <td>0</td>\n      <td>0</td>\n      <td>2</td>\n    </tr>\n    <tr>\n      <th>2</th>\n      <td>30159387</td>\n      <td>NaN</td>\n      <td>*MS SQL (Transact-SQL\\n*SSAS (Analysis Service...</td>\n      <td>0</td>\n      <td>0</td>\n      <td>9</td>\n    </tr>\n    <tr>\n      <th>3</th>\n      <td>29053407</td>\n      <td>NaN</td>\n      <td>*MS SQL (Transact-SQL\\n*SSAS (Analysis Service...</td>\n      <td>0</td>\n      <td>0</td>\n      <td>9</td>\n    </tr>\n    <tr>\n      <th>4</th>\n      <td>19565014</td>\n      <td>NaN</td>\n      <td>*NIX системы;\\nWindows Server 2012 R2;\\nPowers...</td>\n      <td>1</td>\n      <td>0</td>\n      <td>11</td>\n    </tr>\n    <tr>\n      <th>...</th>\n      <td>...</td>\n      <td>...</td>\n      <td>...</td>\n      <td>...</td>\n      <td>...</td>\n      <td>...</td>\n    </tr>\n    <tr>\n      <th>611245</th>\n      <td>15884403</td>\n      <td>Компания Tech Round ищет профессионалов для уч...</td>\n      <td>NaN</td>\n      <td>2</td>\n      <td>0</td>\n      <td>1</td>\n    </tr>\n    <tr>\n      <th>611246</th>\n      <td>15886012</td>\n      <td>Мы разрабатываем и поддерживаем внутреннюю сис...</td>\n      <td>NaN</td>\n      <td>2</td>\n      <td>0</td>\n      <td>2</td>\n    </tr>\n    <tr>\n      <th>611247</th>\n      <td>18107857</td>\n      <td>Мы делаем из Junior-ов Middle-ов, из Middle-ов...</td>\n      <td>NaN</td>\n      <td>2</td>\n      <td>0</td>\n      <td>1</td>\n    </tr>\n    <tr>\n      <th>611248</th>\n      <td>18108117</td>\n      <td>Мы делаем из Junior-ов Middle-ов, из Middle-ов...</td>\n      <td>NaN</td>\n      <td>2</td>\n      <td>0</td>\n      <td>1</td>\n    </tr>\n    <tr>\n      <th>611249</th>\n      <td>15084868</td>\n      <td>В проектную команду по веб-разработке ищем про...</td>\n      <td>NaN</td>\n      <td>2</td>\n      <td>0</td>\n      <td>1</td>\n    </tr>\n  </tbody>\n</table>\n<p>611250 rows × 6 columns</p>\n</div>"
     },
     "execution_count": 46,
     "metadata": {},
     "output_type": "execute_result"
    }
   ],
   "source": [
    "df_descriptions[df_descriptions['content'].duplicated(keep=False)].sort_values(by='content', ascending=True, ignore_index=True)"
   ],
   "metadata": {
    "collapsed": false,
    "ExecuteTime": {
     "end_time": "2024-05-15T18:43:51.133497287Z",
     "start_time": "2024-05-15T18:43:50.218188832Z"
    }
   },
   "id": "cbb1f621861c19e1"
  },
  {
   "cell_type": "markdown",
   "source": [
    "Дубли есть. Для задач извлечения навыков они не нужны. Удаление дублей блоков:"
   ],
   "metadata": {
    "collapsed": false
   },
   "id": "80c8ffaad412643f"
  },
  {
   "cell_type": "code",
   "execution_count": 51,
   "outputs": [],
   "source": [
    "df_descriptions.drop(df_descriptions[df_descriptions['content'].duplicated(keep='last')].index, inplace=True)"
   ],
   "metadata": {
    "collapsed": false,
    "ExecuteTime": {
     "end_time": "2024-05-12T01:01:47.344536290Z",
     "start_time": "2024-05-12T01:01:47.234542297Z"
    }
   },
   "id": "3390c299174776d1"
  },
  {
   "cell_type": "markdown",
   "source": [
    "После удаления дублей количество блоков уменьшилось в 1,5 раза:"
   ],
   "metadata": {
    "collapsed": false
   },
   "id": "e0577e49ec79a20b"
  },
  {
   "cell_type": "code",
   "execution_count": 52,
   "outputs": [
    {
     "name": "stdout",
     "output_type": "stream",
     "text": [
      "<class 'pandas.core.frame.DataFrame'>\n",
      "RangeIndex: 1365078 entries, 0 to 1365077\n",
      "Data columns (total 6 columns):\n",
      " #   Column         Non-Null Count    Dtype \n",
      "---  ------         --------------    ----- \n",
      " 0   id             1365078 non-null  int64 \n",
      " 1   title          995455 non-null   object\n",
      " 2   content        1364743 non-null  object\n",
      " 3   content_type   1365078 non-null  int64 \n",
      " 4   semantic_type  1365078 non-null  int64 \n",
      " 5   block_id       1365078 non-null  int64 \n",
      "dtypes: int64(4), object(2)\n",
      "memory usage: 62.5+ MB\n"
     ]
    }
   ],
   "source": [
    "df_descriptions.info()"
   ],
   "metadata": {
    "collapsed": false,
    "ExecuteTime": {
     "end_time": "2024-05-15T18:51:29.829890035Z",
     "start_time": "2024-05-15T18:51:29.654660961Z"
    }
   },
   "id": "dc46f184faeb9b33"
  },
  {
   "cell_type": "markdown",
   "source": [
    "В результате выполненного преобразования было выделено свыше 1 млн. блоков. Для обучения модели количество  этих данных слишком много, поэтому будут выбраны только блоки с выраженной структурой и содержанием. Отбор будет выполняться на основании ручной разметки данных. Сохранение датасета для разметки:"
   ],
   "metadata": {
    "collapsed": false
   },
   "id": "6ddebecc12ef5967"
  },
  {
   "cell_type": "code",
   "execution_count": 53,
   "outputs": [
    {
     "data": {
      "text/plain": "'/mnt/data/projects/active/urfu/vkr/data/processed/blocks_extracted_shrinked..csv.gz'"
     },
     "execution_count": 53,
     "metadata": {},
     "output_type": "execute_result"
    }
   ],
   "source": [
    "filename=settings.get_fresh('BLOCKS_EXTRACTED_SHRINKED')\n",
    "files.save_dataframe(df_descriptions, filename,subdir, to_compress=True)"
   ],
   "metadata": {
    "collapsed": false,
    "ExecuteTime": {
     "end_time": "2024-05-12T01:06:29.057524158Z",
     "start_time": "2024-05-12T01:04:43.818010174Z"
    }
   },
   "id": "4fb88dfba33a721"
  },
  {
   "cell_type": "markdown",
   "source": [
    "Теперь датасет содержит следующие признаки:\n",
    "- id (int) - идентификатор объявления на hh.ru;\n",
    "- title (str) - извлеченный заголовок блока;\n",
    "- content (str) - содержимое текстового блока;\n",
    "- content_type (int) - тип содержимого блока, возможны 4 варианта: текстовый (text=0),\n",
    "список (list = 1), возможно список (list_br = 2), только заголовок (block_title = 3);\n",
    "- semantic_type (int) - семантический тип, возможны 6 вариантов: неизвестное назначение (unknown = 0), описание вакансии (description = 1), обязанности (responsibilities = 2), требования (requirements = 3), желательные требования (desirable = 4), условия работы (conditions = 5)."
   ],
   "metadata": {
    "collapsed": false
   },
   "id": "570299e07829afb8"
  },
  {
   "cell_type": "markdown",
   "source": [
    "Для обучения модели была выполнена разметка датасета,  в ходе которой были заполнены значения признака 'structure_type' (семантический тип блока). Для ускорения этого процесса использовались тексты заголовков блоков:"
   ],
   "metadata": {
    "collapsed": false
   },
   "id": "96e744b3bbefa89f"
  },
  {
   "cell_type": "code",
   "execution_count": 14,
   "outputs": [
    {
     "data": {
      "text/plain": "                                                     count\ntitle                                                     \nТребования                                          180006\nОбязанности                                         155542\nУсловия                                              87483\nБудет плюсом                                         26774\nМы предлагаем                                        26396\n...                                                    ...\nОсновной стэк WCRM и Chat-bot                            1\nChat-bot                                                 1\nGXB is looking for Mobile-developer Flutter who...       1\nОбзорный стек технологий используемый в проектах         1\nВ задачи тест-лида будет входить                         1\n\n[56062 rows x 1 columns]",
      "text/html": "<div>\n<style scoped>\n    .dataframe tbody tr th:only-of-type {\n        vertical-align: middle;\n    }\n\n    .dataframe tbody tr th {\n        vertical-align: top;\n    }\n\n    .dataframe thead th {\n        text-align: right;\n    }\n</style>\n<table border=\"1\" class=\"dataframe\">\n  <thead>\n    <tr style=\"text-align: right;\">\n      <th></th>\n      <th>count</th>\n    </tr>\n    <tr>\n      <th>title</th>\n      <th></th>\n    </tr>\n  </thead>\n  <tbody>\n    <tr>\n      <th>Требования</th>\n      <td>180006</td>\n    </tr>\n    <tr>\n      <th>Обязанности</th>\n      <td>155542</td>\n    </tr>\n    <tr>\n      <th>Условия</th>\n      <td>87483</td>\n    </tr>\n    <tr>\n      <th>Будет плюсом</th>\n      <td>26774</td>\n    </tr>\n    <tr>\n      <th>Мы предлагаем</th>\n      <td>26396</td>\n    </tr>\n    <tr>\n      <th>...</th>\n      <td>...</td>\n    </tr>\n    <tr>\n      <th>Основной стэк WCRM и Chat-bot</th>\n      <td>1</td>\n    </tr>\n    <tr>\n      <th>Chat-bot</th>\n      <td>1</td>\n    </tr>\n    <tr>\n      <th>GXB is looking for Mobile-developer Flutter who want to gain experience and make meaningful contributions in a variety of areas, including</th>\n      <td>1</td>\n    </tr>\n    <tr>\n      <th>Обзорный стек технологий используемый в проектах</th>\n      <td>1</td>\n    </tr>\n    <tr>\n      <th>В задачи тест-лида будет входить</th>\n      <td>1</td>\n    </tr>\n  </tbody>\n</table>\n<p>56062 rows × 1 columns</p>\n</div>"
     },
     "execution_count": 14,
     "metadata": {},
     "output_type": "execute_result"
    }
   ],
   "source": [
    "df_titles=pd.DataFrame(df_descriptions.title.value_counts())\n",
    "df_titles"
   ],
   "metadata": {
    "collapsed": false,
    "ExecuteTime": {
     "end_time": "2024-05-15T19:37:34.744596139Z",
     "start_time": "2024-05-15T19:37:34.696866227Z"
    }
   },
   "id": "e67f5318907dfa21"
  },
  {
   "cell_type": "markdown",
   "source": [
    "Нашлось свыше 50 тыс. текстов заголовков, и преобладают, как и ожидалось, \"требования\", \"условия\" и \"обязанности\". Остальные заголовки являются их возможными синонимами, а также различные ошибки парсинга.\n",
    "Оставим только те заголовки, для которых количество блоков будет более 100:"
   ],
   "metadata": {
    "collapsed": false
   },
   "id": "a8967d6213189578"
  },
  {
   "cell_type": "code",
   "execution_count": 15,
   "outputs": [
    {
     "data": {
      "text/plain": "['Требования',\n 'Обязанности',\n 'Условия',\n 'Будет плюсом',\n 'Мы предлагаем',\n 'Задачи',\n 'Чем предстоит заниматься',\n 'Желательно',\n 'Что мы предлагаем',\n 'Приветствуется',\n 'Плюсом будет',\n 'Условия работы',\n 'Вам предстоит',\n 'Основные задачи',\n 'Наши ожидания',\n 'Требования к кандидату',\n 'Должностные обязанности',\n 'О нас',\n 'Что нужно делать',\n 'Что нужно будет делать',\n 'Будет преимуществом',\n 'О компании',\n 'Что предстоит делать',\n 'Обязательные требования',\n 'Ваши задачи',\n 'Кого мы ищем',\n 'Основные требования',\n 'ТРЕБОВАНИЯ',\n 'Необходимые навыки',\n 'Кто мы',\n 'О проекте',\n 'Личные качества',\n 'Основные обязанности',\n 'Мы ожидаем',\n 'Обязательно',\n 'ОБЯЗАННОСТИ',\n 'Требования к кандидатам',\n 'Преимуществом будет',\n 'Для нас важно',\n 'Плюсами будут',\n 'Бонусы',\n 'БУДЕТ ПЛЮСОМ',\n 'От нас',\n 'Что предлагаем',\n 'Наши требования',\n 'Предлагаем',\n 'Большим плюсом будет',\n 'Стек технологий',\n 'Дополнительным плюсом будет',\n 'Приветствуются',\n 'Будет большим плюсом',\n 'Наш стек',\n 'Что для нас важно',\n 'Дополнительно',\n 'Чем нужно будет заниматься',\n 'Наши условия',\n 'МЫ ПРЕДЛАГАЕМ',\n 'Тебе предстоит',\n 'Что делать',\n 'Как мы работаем',\n 'Ключевые задачи',\n 'Что мы ждем от кандидата',\n 'Технологии',\n 'Что мы ожидаем от кандидата',\n 'Стек',\n 'Описание проекта',\n 'Ключевые навыки',\n 'Что мы ожидаем от вас',\n 'Вашим преимуществом будет',\n 'Навыки',\n 'Кто нам нужен',\n 'Наши ожидания от кандидата',\n 'Мы ожидаем, что вы',\n 'Технологический стек',\n 'Что мы ожидаем',\n 'Мы готовы предложить',\n 'Наши преимущества',\n 'Функциональные обязанности',\n 'ЧЕМ ПРЕДСТОИТ ЗАНИМАТЬСЯ',\n 'Мы ждем от Вас',\n 'Мы ждем от вас',\n 'Задачи, которые предстоит решать',\n 'УСЛОВИЯ',\n 'Компания предлагает',\n 'Мы ждем от тебя',\n 'Чем вы будете заниматься',\n 'Чем придется заниматься',\n 'Мы ожидаем от Вас',\n 'Мы ожидаем, что Вы',\n 'Что нужно знать и уметь',\n 'Что мы ждем от вас',\n 'Мы ценим',\n 'Наш идеальный кандидат',\n 'Мы ожидаем от вас',\n 'Мы гарантируем',\n 'Мы используем',\n 'У нас',\n 'Что мы можем предложить',\n 'Проект',\n 'Нам важно',\n 'Немного о нас',\n 'Требуемые навыки',\n 'Личностные качества',\n 'Что мы делаем',\n 'Что мы ждем от тебя',\n 'Требования к соискателю',\n 'Пожелания',\n 'Пожелания к кандидату',\n 'Ожидания от квалификации',\n 'DATAART ПРЕДЛАГАЕТ',\n 'Плюсом будут',\n 'Что мы готовы предложить',\n 'Функционал',\n 'Мы ждем, что вы',\n 'Ваши обязанности',\n 'Описание',\n 'Что вы будете делать',\n 'Желательные требования',\n 'Responsibilities',\n 'О команде',\n 'Дополнительные требования',\n 'ЗАДАЧИ',\n 'Кого ищем',\n 'Содержание работы',\n 'Желательные навыки',\n 'Будут плюсом',\n 'Преимущества',\n 'Мы ожидаем от кандидата',\n 'Привет',\n 'Как плюс',\n 'Чем ты будешь заниматься',\n 'Профессиональные требования',\n 'Что предстоит',\n 'Общие требования',\n 'Наши пожелания',\n 'Что надо будет делать',\n 'ОБЯЗАТЕЛЬНЫЕ ТРЕБОВАНИЯ',\n 'Преимущество',\n 'От вас',\n 'Что требуется',\n 'Что ты будешь делать',\n 'Что мы ожидаем от Вас',\n 'Будет плюсом, если вы',\n 'Дополнительным преимуществом будет',\n 'Интересные задачи',\n 'Что для этого нужно',\n 'Мы предлагаем Вам',\n 'Ожидания от кандидата',\n 'Ожидания',\n 'Используемые технологии',\n 'Технические требования',\n 'Предстоящие задачи',\n 'С чем предстоит работать',\n 'Что нужно уметь',\n 'Ваши будущие задачи',\n 'Какие задачи предстоит решать',\n 'Дополнительно приветствуются',\n 'Чем Вы будете заниматься',\n 'Описание вакансии',\n 'Мы ищем',\n 'Наши задачи',\n 'Обязательные',\n 'Что мы ждем',\n 'Requirements',\n 'Необходимо',\n 'А также',\n 'Условия труда',\n 'Наш стек технологий',\n 'Что нужно знать',\n 'Твои задачи',\n 'О вакансии',\n 'ЧТО МЫ ПРЕДЛАГАЕМ',\n 'Команда',\n 'Дополнительные инструкции',\n 'Минимальные требования',\n 'О продукте',\n 'Что будем делать',\n 'Пожелания к кандидатам',\n 'Чем Вам предстоит заниматься',\n 'Что мы ожидаем от кандидатов',\n 'Что предлагаем мы',\n 'Мы ожидаем от тебя',\n 'Дополнительно приветствуется',\n 'Наши пожелания к кандидату',\n 'Плюсами будет',\n 'Важно',\n 'От Вас мы ждем',\n 'Чем мы занимаемся',\n 'НАШИ ПОЖЕЛАНИЯ К СПЕЦИАЛИСТУ',\n 'Дополнительными плюсами будут',\n 'Знания',\n 'Мы ожидаем, что ты',\n 'В Ваши обязанности будет входить',\n 'Плюсы',\n 'Чем тебе предстоит заниматься',\n 'Функции',\n 'В ваши обязанности будет входить',\n 'Вам предстоит заниматься',\n 'Что будет плюсом',\n 'Профессиональные навыки',\n 'Наш кандидат',\n 'Почему мы',\n 'Каким мы видим подходящего кандидата',\n 'Мы ждем от кандидата',\n 'От вас мы ожидаем',\n 'Желательные',\n 'Требуется',\n 'Основная задача',\n 'ЖЕЛАТЕЛЬНО',\n 'Обязательные навыки',\n 'Необходимые знания',\n 'Задача',\n 'Что у нас есть',\n 'Опыт',\n 'Кто мы такие',\n 'Ты нам подходишь, если',\n 'Что вам предстоит',\n 'От Вас',\n 'Если ты',\n 'Что надо делать',\n 'Вы будете',\n 'Наши ожидания от кандидатов',\n 'Чем вам предстоит заниматься',\n 'Мы',\n 'Вашими задачами будут',\n 'Будет дополнительным плюсом',\n 'Над чем предстоит работать',\n 'А еще',\n 'Необходимые знания и навыки',\n 'Вы нам подходите, если',\n 'Чем нужно заниматься',\n 'Наши проекты',\n 'Что мы ждем от Вас',\n 'Мы ожидаем, что у вас есть',\n 'Что нам важно',\n 'Преимущества работы у нас',\n 'Наш стэк',\n 'Опыт работы',\n 'Мы ждём от Вас',\n 'Про нас',\n 'От вас требуется',\n 'Требования к соискателям',\n 'Зона ответственности',\n 'Наше предложение',\n 'Как преимущество',\n 'Вы нам подходите, если у вас есть',\n 'Ожидания от кандидатов',\n 'Предстоит',\n 'Мы предлагаем вам',\n 'Работа у нас — это',\n 'Перспективы',\n 'Идеальный кандидат',\n 'Компания',\n 'Чем заниматься',\n 'Требования к квалификации',\n 'Что нужно',\n 'Что важно для нас',\n 'С чем работать',\n 'Вимоги',\n 'Что необходимо',\n 'Примеры задач',\n 'Коротко о нас',\n 'Преимуществом будут',\n 'Круг задач',\n 'Чем придётся заниматься',\n 'Нашим сотрудникам мы предлагаем',\n 'Мы ожидаем от успешного кандидата',\n 'Возможности',\n 'Наши пожелания к кандидатам',\n 'Что тебя ждет',\n 'Приятные бонусы',\n 'Что мы ожидаем от тебя',\n 'Что мы используем',\n 'ВАЖНО УМЕТЬ И ЗНАТЬ',\n 'Ключевые обязанности',\n 'Ожидаем от Вас',\n 'Кто мы и чем занимаемся',\n 'Итак, тебе предстоит',\n 'Наш технологический стек',\n 'EGAR сегодня - это',\n 'Пожелания к опыту',\n 'Если Вы',\n 'Ми пропонуємо',\n 'Наши требования к кандидатам',\n 'Дополнительными преимуществами будут',\n 'Что вас ждет',\n 'Требование',\n 'Знание',\n 'Что нам нужно',\n 'От вас потребуется',\n 'Мы рады предложить',\n 'Чего мы ждем от тебя',\n 'Мы ждём от тебя',\n 'Ты нам подходишь, если у тебя есть',\n 'Что мы ждем от кандидатов',\n 'От кандидата мы ожидаем',\n 'Проекты',\n 'Важно уметь и знать',\n 'Будет здорово, если вы',\n 'Что мы хотим видеть',\n 'Необходимые компетенции',\n 'Мы предоставляем',\n 'Чего мы ждем от кандидата',\n 'Что мы предлагаем взамен',\n 'Тип занятости',\n 'Задачи и обязанности',\n 'Ожидаем от кандидата',\n 'Что необходимо делать',\n 'О КОМПАНИИ',\n 'Что мы ждём от вас',\n 'Ждем от вас',\n 'Какие задачи ждут именно тебя',\n 'Чем будем заниматься',\n 'Требования к опыту',\n 'Преимуществами будут',\n 'Необходимые навыки и знания',\n 'От кандидата ожидаем',\n 'Что важно',\n 'Backend',\n 'Наши требования к кандидату',\n 'Будет плюсом, если ты',\n 'Что ждем от тебя',\n 'Что ждем от кандидата',\n 'В обязанности будет входить',\n 'Предлагаемые условия',\n 'Чем надо будет заниматься',\n 'Чего мы ждем',\n 'График работы',\n 'Что для этого потребуется',\n 'Чем будете заниматься',\n 'МЫ ЖДЕМ ОТ ВАС',\n 'Что ждем от вас',\n 'Ждем от Вас',\n 'Наши ценности',\n 'Вы нам подходите если',\n 'Будет плюсом, если Вы',\n 'Frontend',\n 'Взамен мы предлагаем',\n 'Необходимый опыт',\n 'НАШИ ОЖИДАНИЯ',\n 'Вас ждет',\n 'Технические компетенции',\n 'Со своей стороны мы предлагаем',\n 'Плюшки',\n 'Мы приветствуем',\n 'Что требуется от вас',\n 'Требуемый опыт',\n 'Что мы от вас ожидаем',\n 'Что ожидаем от кандидата',\n 'Профессиональные знания и навыки',\n 'Образование',\n 'Что мы ждём от тебя',\n 'Какие задачи решать',\n 'Навыки и опыт',\n 'О работе',\n 'Вы будете заниматься',\n 'Наша команда',\n 'Дополнительные преимущества',\n 'Обучение и карьера',\n 'От Вас мы ожидаем',\n 'Будет являться преимуществом',\n 'УСЛОВИЯ РАБОТЫ',\n 'Что нужно от тебя',\n 'От вас мы ждем',\n 'С нашей стороны',\n 'Дополнительные плюсы',\n 'Почему у нас классно',\n 'Мы предлагаем тебе',\n 'В задачи будет входить',\n 'Технические навыки',\n 'Ключевые требования',\n 'Для этого потребуется',\n 'Основные требования к кандидату',\n 'Дополнительная информация',\n 'Мы ждём, что ты',\n 'Наши технологии',\n 'Зарплата',\n 'Nice to have',\n 'Фронт работ',\n 'Мы знаем, что здоровье — это важно',\n 'Что придется делать',\n 'Будет плюсом, если',\n 'Буде плюсом',\n 'Что для этого необходимо',\n 'Мы ищем человека, который',\n 'Будет дополнительным преимуществом',\n 'Какие будут задачи',\n 'Основные условия',\n 'От тебя',\n \"Обов'язки\",\n 'Мы делаем всё, чтобы сотрудникам было удобно',\n 'О компании Noveo',\n 'Про вас',\n 'Стэк',\n 'Со своей стороны предлагаем',\n 'Условия сотрудничества',\n 'Базовые требования',\n 'Ожидаем от вас',\n 'Вы получите',\n 'Знания и навыки',\n 'С чем придется работать',\n 'Вы будете выполнять следующие задачи',\n 'Наши ожидания от вас',\n 'КТО МЫ',\n 'От Вас требуется',\n 'Нам нужен человек, который',\n 'Если вы',\n 'У нашего кандидата есть',\n 'Работа в Mail.ru Group — это',\n 'Вы',\n 'Условия нашего сотрудничества',\n 'Ваши функции',\n 'Тебя ждет',\n 'Удаленное сотрудничество',\n 'Какие профессиональные навыки нам важны',\n 'Выплаты и бонусы',\n 'Вашим плюсом будет',\n 'Вы нам подходите, если вы',\n 'Вашими преимуществами будут',\n 'Что ты уже умеешь',\n 'Технологии, которые мы используем',\n 'Стек проекта',\n 'Работа в Аркадии — это',\n 'С нас',\n 'Какие задачи',\n 'О проектах',\n 'Желательно, но не обязательно',\n 'Мы ждем, что ты',\n 'Какие задачи необходимо решать',\n 'Что Вам необходимо для этого',\n 'Стек задач будет включать',\n 'Преимущества работы в нашей компании',\n 'В зону вашей ответственности будет входить',\n 'Project Description',\n 'Оплата',\n 'Где можно работать',\n 'Нам нужен',\n 'Чего мы ожидаем от кандидата',\n 'Для успешного выполнения задач тебе потребуется',\n 'Мы поручим',\n 'Не обязательно, но будет плюсом',\n 'О задачах',\n 'Пара слов о нас',\n 'Инструменты',\n 'Продукт',\n 'О вас',\n 'О НАС',\n 'Мы ждем',\n 'Для чего Вы нам нужны',\n 'Адрес',\n 'Большим плюсом будут',\n 'Чем будешь заниматься',\n 'Работа у нас - это',\n 'Условия, которые мы предлагаем',\n 'Какие задачи необходимо будет решать',\n 'От Вас мы ждём',\n 'Плюсом является',\n 'Уважаемые соискатели',\n 'Ты будешь',\n 'Место работы',\n 'Мы будем рады предложить',\n 'Чем занимаемся',\n 'Что будете делать',\n 'Плюсы работы у нас',\n 'Личностные характеристики',\n 'От тебя мы ждем',\n 'Must have',\n 'От тебя мы ожидаем',\n 'Также приветствуется',\n 'Заработная плата',\n 'ПЛЮСОМ БУДЕТ',\n 'Квалификационные требования',\n 'Мы, в свою очередь, гарантируем',\n 'Ожидаем',\n 'С чем мы работаем',\n 'Мы готовы предложить вам',\n 'Что вам предстоит делать',\n 'Стек используемых технологий',\n 'Условия работы и приятные «плюсы',\n 'Идеальный кандидат имеет',\n 'Будет вашим преимуществом',\n 'Будем плюсом',\n 'Мы ищем разработчика, который',\n 'Основные функции',\n 'Про проект',\n 'ВАЖНО',\n 'Будет здорово, если',\n 'Сфера ответственности',\n 'У нас есть',\n 'Дополнительные навыки',\n 'В твоем опыте нам важно',\n 'Основные преимущества работы в нашей компании',\n 'Необходимый опыт и знания',\n 'Работа в Mail.Ru Group ― это',\n 'Что мы ждём от кандидата',\n 'Что взамен',\n 'Что мы хотим видеть в кандидате',\n 'Чего мы ждем от Вас',\n 'Необходимые профессиональные навыки',\n 'Soft skills',\n 'Что мы ждём',\n 'Рады предложить',\n 'Дополнительным плюсом будут',\n 'Наши ожидания от Вас',\n 'Что Вы будете делать',\n 'Что делаем',\n 'Обязательные требования к кандидату',\n 'Готовы предложить',\n 'Что от нас',\n 'Мы ждем, что Вы',\n 'В обязанности входит',\n 'Почему стоит идти к нам работать',\n 'Дополнительные пожелания',\n 'Ждем от тебя',\n 'Ваша работа',\n 'Для выполнения задач необходимы',\n 'Кроме этого сотрудники iTechArt',\n 'Существенным плюсом будет',\n 'Собеседование',\n 'Предложение',\n 'Для нас важны',\n 'Зачем тебе к нам',\n 'Чего у нас нет',\n 'Что есть у нас',\n 'Чего мы ожидаем от успешного кандидата',\n 'От кандидата мы ждем',\n 'Желательны',\n 'Что мы можем вам предложить',\n 'ДОПОЛНИТЕЛЬНО ПРИВЕТСТВУЮТСЯ',\n 'Со своей стороны мы готовы предложить',\n 'Почему именно мы',\n 'Для наших сотрудников мы предлагаем',\n 'Почему стоит работать у нас',\n 'В свою очередь мы предлагаем',\n 'У нас хорошо',\n 'Наши принципы',\n 'Что ты получишь',\n 'Компетенции',\n 'Для этого важно',\n 'Предстоит заниматься',\n 'Необходимые навыки и опыт',\n 'Ваши знания и навыки',\n 'Ждем от кандидата',\n 'Что мы за это предлагаем',\n 'О Компании',\n 'Чего мы ждем от вас',\n 'Будет круто, если',\n 'ЧТО МЫ МОЖЕМ ВАМ ПРЕДЛОЖИТЬ',\n 'Наш успешный кандидат',\n 'Что нужно от вас',\n 'В Ваши задачи будет входить',\n 'Мы ожидаем, что у Вас есть',\n 'ВАМ ПРЕДСТОИТ',\n 'Участвуйте в конкурсном отборе, и получите возможность',\n 'Работа в Mail.ru Group ― это',\n 'Как работаем',\n 'Мы ждем от кандидатов',\n 'Плюсом будет являться',\n 'Особенности работы',\n 'Чем необходимо будет заниматься',\n 'Используемый стек технологий',\n 'Мы ждём от вас',\n 'Пара слов о проекте',\n 'О ПРОЕКТЕ',\n 'Что мы ценим',\n 'Что необходимо будет делать',\n 'ОТ ВАС ЖДЕМ',\n 'Что необходимо кандидату',\n 'Что готовы предложить',\n 'ОСНОВНЫЕ ЗАДАЧИ',\n 'Чем необходимо заниматься',\n 'Гарантируем',\n 'Что мы от тебя ждем',\n 'Почему у нас круто',\n 'Будет существенным плюсом',\n 'Присоединившись к нам, в Ваши обязанности будет входить',\n 'КЛЮЧЕВЫЕ ЗАДАЧИ',\n 'Для решения этих задач требуется',\n 'Наш будущий коллега',\n 'MUST HAVE',\n 'Что необходимо знать и уметь',\n 'Что будет полезно',\n 'Как к нам попасть',\n 'Обязательные знания',\n 'Будет плюсом знание',\n 'В чем заключается работа',\n 'Что мы Вам предлагаем',\n 'Будет плюсом если',\n 'ДОПОЛНИТЕЛЬНО ПРИВЕТСТВУЕТСЯ',\n 'Преимущества работы в компании',\n 'Основные направления деятельности',\n 'We offer',\n 'Цель должности',\n 'У нас интересно, потому что',\n 'Каким мы тебя видим',\n 'Не обязательно, но круто, если вы',\n 'Каким мы видим идеального кандидата',\n 'Вам необходимо',\n 'Мы ждём от кандидата',\n 'Мы ждём от наших будущих коллег',\n 'Необходимые знания и опыт',\n 'Желательные знания',\n 'ЧТО НУЖНО БУДЕТ ДЕЛАТЬ',\n 'Мы используем технологии',\n 'ПРОЕКТ',\n 'Что мы даем',\n 'Что входит в обязанности',\n 'Что ты будешь делать в этой роли',\n 'Что мы предлагаем Вам',\n 'ЧТО МЫ ДАЕМ',\n 'Что используем',\n 'Технологический стек проекта',\n 'Что ожидаем от тебя',\n 'Будет Вашим преимуществом',\n 'Что мы ожидаем от успешного кандидата',\n 'Твоим преимуществом будет',\n 'Основные требования к кандидатам',\n 'Стэк технологий',\n 'Несколько фактов о нас',\n 'От Вас потребуется',\n 'Приветствуются знания',\n 'Наши продукты',\n 'Требуются',\n 'Также будет плюсом',\n 'Основные функциональные обязанности',\n 'Что ожидаем',\n 'Обязательные знания и навыки',\n 'Ваши основные задачи',\n 'У нас вы получите',\n 'Описание команды',\n 'Компенсация',\n 'Ваши будущие обязанности',\n 'О плюсах работы в нашей компании',\n 'Преимуществом будет являться',\n 'Почему у нас хорошо',\n 'В Noveo вас ждет',\n 'В твои задачи будет входить',\n 'Тестовое задание',\n 'Задачи, которые вам предстоит решать',\n 'Бонусом будет',\n 'Какие условия',\n 'Кого мы ждем',\n 'Для вас',\n 'Про задачи',\n 'Наши бонусы к предложению',\n 'Комфортные условия работы',\n 'Что от вас требуется',\n 'Если у Вас есть',\n 'Дополнительно оценим',\n 'Работа в Mail.Ru Group ─ это',\n 'Наши достижения',\n 'Формат работы',\n 'Твои обязанности',\n 'Развитие',\n 'Основные задачи и обязанности',\n 'Требования к личным качествам',\n 'Вы можете стать частью нашей команды, если у вас есть',\n 'ПРИВЕТСТВУЕТСЯ',\n 'Суть работы',\n 'Вас ожидает',\n 'Что мы хотим видеть в Вас',\n 'Что будет входить в твои обязанности',\n 'Описание работы',\n 'К чему нужно быть готовым',\n 'В ваши задачи будет входить',\n 'Ваша зона ответственности',\n 'Задачи на проекте',\n 'Мы можем предложить',\n 'Наша цель',\n 'Будет весомым плюсом',\n 'Нам нужен специалист, который',\n 'Основные навыки',\n 'Требования к знаниям и опыту',\n 'Требования (обязательные',\n 'От Вас ожидают',\n 'Хотели бы увидеть',\n 'Что вам будет интересно',\n 'В ваши обязанности будут входить',\n 'Забота о здоровье',\n 'Основными задачами будут',\n 'Кто мы и что делаем',\n 'Что еще',\n 'Плюсом будет знание',\n 'Вам потребуется',\n 'Будет круто, если у тебя есть',\n 'КОГО МЫ ИЩЕМ',\n 'Основные функции и задачи',\n 'Почему у нас круто работать',\n 'Будет здорово, если ты',\n 'WOULD BE A PLUS',\n 'Ваши преимущества',\n 'Большим преимуществом будет',\n 'Для тебя',\n 'Hard skills',\n 'Что мы хотим видеть в вас',\n 'Особенности',\n 'Северсталь-Инфоком» сегодня это',\n 'Обов’язки',\n 'ОПИСАНИЕ',\n 'В твои обязанности будет входить',\n 'Требования к знаниям',\n 'О тебе',\n 'Знания и опыт',\n 'Желательно знание',\n 'Цель',\n 'Что мы хотим от вас',\n 'Является плюсом',\n 'Несколько слов о нас',\n 'О подразделении',\n 'Что мы от вас ждем',\n 'От кандидатов мы ожидаем',\n 'Описание компании',\n 'Своим сотрудникам мы предлагаем',\n 'Кроме того, приветствуются',\n 'Что мы гарантируем',\n 'Вашими плюсами будет',\n 'Пара слов о том, как мы работаем',\n 'От вас ожидается',\n 'Предметная область',\n 'Об условиях',\n 'Успешному кандидату мы готовы предложить',\n 'Мы ищем специалиста, который',\n 'Необходимые требования',\n 'Что вы получите',\n 'Наша миссия',\n 'Наш основной стек',\n 'Итак, чем предстоит заниматься',\n 'Огромным плюсом будет',\n 'Задачи для тебя',\n 'Чем предстоит заняться',\n 'Приветствуем',\n 'Основной функционал',\n 'Квалификация',\n 'Почему стоит идти к нам',\n 'Что можем предложить',\n 'Основные должностные обязанности',\n 'Краткое описание проекта',\n 'ЧЕМ ВАМ ПРЕДСТОИТ ЗАНИМАТЬСЯ',\n 'Требования к образованию',\n 'Что Вам предстоит',\n 'Желательный опыт',\n 'От вас мы ждём',\n 'С тебя',\n 'Будет плюсом, но не обязательно',\n 'От нового коллеги ждем',\n 'Мы ждём, что вы',\n 'Плюсом будет опыт работы с',\n 'Необходимая экспертиза',\n 'Знание технологий',\n 'Наши плюсы',\n 'Предлагаем Вам',\n 'Что мы от Вас ожидаем',\n 'Что ожидаем от вас',\n 'ОСНОВНЫЕ ТРЕБОВАНИЯ',\n 'Дополнительными плюсами будет',\n 'Что будет входить в обязанности',\n 'Северсталь-инфоком» сегодня это',\n 'Наши ожидания от успешного кандидата',\n 'Основной стек',\n 'Мы ожидаем от кандидатов',\n 'Будет большим преимуществом',\n 'Что уметь',\n 'Мы предлагаем нашим сотрудникам',\n 'Необходимые знания и умения',\n 'Здорово, если ты',\n 'Дополнительные условия',\n 'Личные навыки',\n 'Что мы используем в работе',\n 'Важное о нас',\n 'Ищем',\n 'Компания предоставляет',\n 'Зоны ответственности',\n 'Мы ценим своих сотрудников и предлагаем',\n 'Знания и умения',\n 'Компания goTRG',\n 'PRO требования',\n 'Круто, если вы',\n 'Итого',\n 'Является преимуществом',\n 'Будет огромным плюсом',\n 'Чтобы стать кандидатом, нужно',\n 'Основная деятельность',\n 'Дополнительные бонусы',\n 'Вам предстоит решать следующие задачи',\n 'Общие условия работы',\n 'Какие требования',\n 'Наш идеальный кандидат имеет',\n 'Работа в Paragon Software Group это возможность',\n 'Что мы можем Вам предложить',\n 'Основні вимоги',\n 'Что дальше',\n 'Почему к нам',\n 'В своей работе мы используем',\n 'Что нужно от Вас',\n 'Немного о проекте',\n 'Необхідні навички',\n 'Мы Вам предлагаем',\n 'Как понять, подходите ли Вы нам',\n 'Что с нас',\n 'О нашей компании',\n 'Желательно (будет плюсом',\n 'DataArt предлагает',\n 'Нам важны',\n 'Вас ждёт',\n 'На каких условиях мы будем взаимодействовать',\n 'Опционально',\n 'Мы, в свою очередь гарантируем',\n 'Информация о проекте',\n 'Что получают наши сотрудники',\n 'Требуемые знания и навыки',\n 'Плюсами являются',\n 'Требования и навыки',\n 'Большой плюс',\n 'Наши особенности',\n 'От вас ожидаем',\n 'Что Вас ждет',\n 'Как мы проводим собеседования',\n 'Дополнительно будет плюсом',\n 'Место и график работы',\n 'По условиям',\n 'Ты',\n 'Качества',\n 'Мы хотим поручить тебе',\n 'Ты нам подходишь если',\n 'Обязанности и задачи',\n 'Преимущества работы',\n 'Мы ожидаем, что вы имеете',\n 'Вашим преимуществом будут',\n 'Вы наш идеальный кандидат, если',\n 'Став частью Sportmaster Lab, вы получите',\n 'Для нас важно, чтобы ты',\n 'Подробности',\n 'Направления деятельности',\n 'Что требуется от Вас',\n 'Ожидания от Вас',\n 'От тебя требуется',\n 'Этапы интервью',\n 'Що ми пропонуємо',\n 'Какой человек нам нужен',\n 'Среди задач будут',\n 'Оплата труда',\n 'Общие',\n 'Ближайшие задачи',\n 'Ваш профиль',\n 'ОСНОВНЫЕ ОБЯЗАННОСТИ',\n 'Наш стэк технологий',\n 'Понадобится',\n 'Хорошим дополнением будет',\n 'Что тебя ждёт',\n 'Будет плюсом, если у тебя есть',\n 'Тогда добро пожаловать к нам',\n 'Что мы даем взамен',\n 'Задачи в данной роли',\n 'Используем',\n 'PRO задачи',\n 'Приветствуется опыт',\n 'Требования обязательные',\n 'А именно',\n 'Опыт и навыки',\n 'Очень желательно',\n 'От вас необходимо',\n 'Мы готовы предложить Вам',\n 'Условия трудоустройства',\n 'Этапы собеседования',\n 'Плюсом будет, если',\n 'Что требуется от тебя',\n 'Что будет входить в Ваши обязанности',\n 'Нужен ли английский, и на каком уровне',\n 'Используемый стек',\n 'Помимо опыта нам важны',\n 'В своих сотрудниках мы хотим видеть',\n 'Что нужно, чтобы к нам присоединиться',\n 'Nice-to-Have Skills',\n 'Что Вы получите',\n 'Требуемые знания',\n 'БУДЕТ ПРЕИМУЩЕСТВОМ',\n 'Итак, вам предстоит',\n 'Социальный пакет',\n 'Было бы плюсом',\n 'У нас есть классные бенефиты, ведь мы',\n 'Про команду',\n 'Всем привет',\n 'Какие задачи мы решаем',\n 'Желательно знать',\n 'Наши бонусы',\n 'Желательно иметь',\n 'Что ждём от кандидата',\n 'Компенсационный пакет',\n 'Что нужно, чтобы присоединиться к нам',\n 'Какие задачи нужно будет решать',\n 'В нашей компании',\n 'Что будешь делать',\n 'Будет здорово, если Вы',\n 'Работа со смыслом',\n 'Работа удаленная, полная занятость',\n 'Ваши дополнительные преимущества',\n 'От вас ждем',\n 'Основные обязанности сотрудника',\n 'От компании',\n 'Вы получаете',\n 'Вашим дополнительным преимуществом будет',\n 'Прочее',\n 'Чего мы ожидаем от тебя',\n 'Основные',\n 'Мы ждем тех, кто',\n 'Mandatory Skills',\n 'От Вас ожидаем',\n 'Присоединившись к нам, в ваши обязанности будет входить',\n 'МЫ ОЖИДАЕМ',\n 'Вимоги до кандидата',\n 'Рабочие задачи',\n 'Наши требования к Вам',\n 'Если',\n 'Это вакансия для вас, если вы',\n 'Знание английского языка',\n 'Для работы понадобится',\n 'Желаемые навыки',\n 'Что предлагаем взамен',\n 'Что мы от тебя ожидаем',\n 'Что мы разрабатываем',\n 'Будет плюсом если Вы',\n 'Что потребуется',\n 'Что необходимо знать',\n 'Как понять, что Вы нам подходите',\n 'Процессы',\n 'Личные и профессиональные качества',\n 'Кроме того, приветствуется',\n 'Что мы хотим от кандидата',\n 'Задачи разработчика',\n 'Условия для работы',\n 'Что потребуется от Вас',\n 'О технологиях',\n 'Какие у нас требования',\n 'Пожелания к соискателям',\n 'В задачи входит',\n 'Кроме этого',\n 'Будет плюсом опыт работы с',\n 'Мы — компания «Автомакон',\n 'Для нас крайне важно, чтобы ты',\n 'Требования к разработчику',\n 'Job Description',\n 'Прочие требования',\n 'Чем мы интересны',\n 'Предстоит делать такую работу',\n 'ВАШИ ЗАДАЧИ',\n 'Описание позиции',\n 'Будут плюсами',\n 'Для этого Вам потребуется',\n 'Вашим преимуществом станет',\n 'Необходимые качества',\n 'Мы ищем того, кто',\n 'Планируемый технологический стек',\n 'Этапы отбора',\n 'Требования к техническим компетенциям',\n 'У нас вы будете',\n 'В свою очередь, мы предлагаем',\n 'Необходимая квалификация',\n 'Что вы найдете в команде Big Data',\n 'Должен знать',\n 'Кроме того',\n 'Чего не будет',\n 'Будет плюсом, если у Вас есть',\n 'Какие навыки необходимы',\n 'Технический стек',\n 'Ты нам подходишь, если ты',\n 'Мы ищем сотрудника, который',\n 'Задачи, которыми предстоит заниматься',\n \"Основні обов'язки\",\n 'Что будет входить в ваши обязанности',\n 'Офис в БЦ «Куликовский',\n 'Требования к вам',\n 'Какими навыками нужно обладать',\n 'Что будет входить в задачи',\n 'Немного о компании',\n 'Cтек технологий',\n 'Основной стек технологий',\n 'Мы предлагаем успешному кандидату корпоративные бонусы',\n 'Требования (обязательно',\n 'Мы обещаем',\n 'Наши основные направления',\n 'Нужно',\n 'Требования и профессиональные навыки',\n 'Что мы предлагаем тебе',\n 'Задачи должности',\n 'Что мы ожидаем от будущего коллеги',\n 'Про Сбербанк',\n 'От тебя потребуется',\n 'ЗАДАЧИ, КОТОРЫЕ ПРЕДСТОИТ РЕШАТЬ',\n 'Работа в Movavi - это',\n 'Основні обов’язки',\n 'Вас ждут',\n 'Несомненным плюсом будет',\n 'Что тебе предстоит делать',\n 'Твоими задачами будут',\n 'Мы используем следующие технологии',\n 'Что вас ждет на проекте',\n 'От тебя ждем',\n 'Требования к навыкам',\n 'Обеспечим интересными задачами',\n 'Режим работы',\n ...]"
     },
     "execution_count": 15,
     "metadata": {},
     "output_type": "execute_result"
    }
   ],
   "source": [
    "selected_titles= list(df_titles[df_titles['count']>50].index.values)\n",
    "selected_titles"
   ],
   "metadata": {
    "collapsed": false,
    "ExecuteTime": {
     "end_time": "2024-05-15T19:37:38.671688757Z",
     "start_time": "2024-05-15T19:37:38.634869131Z"
    }
   },
   "id": "9c83b857b7c2c329"
  },
  {
   "cell_type": "markdown",
   "source": [
    "Сохранение датасета df_titles для дальнейшего редактирования вручную:"
   ],
   "metadata": {
    "collapsed": false
   },
   "id": "f2d4cd2e8738da7c"
  },
  {
   "cell_type": "code",
   "execution_count": 23,
   "outputs": [
    {
     "data": {
      "text/plain": "'/mnt/data/projects/active/urfu/vkr/data/processed/titles_extracted_002.csv'"
     },
     "execution_count": 23,
     "metadata": {},
     "output_type": "execute_result"
    }
   ],
   "source": [
    "filename=settings.get_fresh('FILENAME_TITLES_EXTRACTED')\n",
    "files.save_dataframe(df_titles, filename,subdir, to_compress=False, index=True)"
   ],
   "metadata": {
    "collapsed": false,
    "ExecuteTime": {
     "start_time": "2024-05-10T04:04:34.471086563Z"
    }
   },
   "id": "a09909805b9274dc"
  },
  {
   "cell_type": "markdown",
   "source": [
    "Датасет был обновлен с помощью скрипта 'update_descriptions.py'\n",
    "Загрузка датасета df_descriptions_ed после редактирования вручную:"
   ],
   "metadata": {
    "collapsed": false
   },
   "id": "86726716040e1c74"
  },
  {
   "cell_type": "code",
   "execution_count": 8,
   "outputs": [],
   "source": [
    "filename=settings.get_fresh('FILENAME_BLOCKS_EXTRACTED_EDITED')\n",
    "# filename='blocks_extracted_ed_3'\n",
    "df_descriptions_ed= files.load_file(filename, subdir, dtypes = dtypes,  to_decompress = True, with_dates = False)"
   ],
   "metadata": {
    "collapsed": false,
    "ExecuteTime": {
     "end_time": "2024-05-15T19:36:06.050606463Z",
     "start_time": "2024-05-15T19:35:50.576992707Z"
    }
   },
   "id": "f6d3c436900a2d9b"
  },
  {
   "cell_type": "markdown",
   "source": [
    "Распределение блоков по семантическим классам:"
   ],
   "metadata": {
    "collapsed": false
   },
   "id": "985c46a9dddaf203"
  },
  {
   "cell_type": "code",
   "execution_count": 9,
   "outputs": [
    {
     "data": {
      "text/plain": "semantic_type\n 0    506794\n 3    306660\n 2    257502\n 5    155510\n 4     94576\n 1     43219\n-1       817\nName: count, dtype: int64"
     },
     "execution_count": 9,
     "metadata": {},
     "output_type": "execute_result"
    }
   ],
   "source": [
    "df_descriptions_ed.semantic_type.value_counts()"
   ],
   "metadata": {
    "collapsed": false,
    "ExecuteTime": {
     "end_time": "2024-05-15T19:36:11.843300766Z",
     "start_time": "2024-05-15T19:36:11.816389852Z"
    }
   },
   "id": "366918b8f795d92c"
  },
  {
   "cell_type": "markdown",
   "source": [
    "Будем считать, что требования расположены в блоках типа 'requirements' = 3 и 'desirable' = 4, и перечислены в списке (имеют content_type 1 или 2):"
   ],
   "metadata": {
    "collapsed": false
   },
   "id": "66d6c759f5b9ef24"
  },
  {
   "cell_type": "code",
   "execution_count": 16,
   "outputs": [],
   "source": [
    "df_selected= df_descriptions_ed[(df_descriptions_ed['title'].isin(selected_titles))]\n",
    "df_selected = df_selected[df_selected.semantic_type.isin([3, 4])]\n",
    "df_selected = df_selected [df_selected.content_type.isin([1, 2])]"
   ],
   "metadata": {
    "collapsed": false,
    "ExecuteTime": {
     "end_time": "2024-05-15T19:37:59.705091506Z",
     "start_time": "2024-05-15T19:37:59.618924339Z"
    }
   },
   "id": "9fef1160e7a55ad1"
  },
  {
   "cell_type": "code",
   "execution_count": 17,
   "outputs": [
    {
     "data": {
      "text/plain": "               id                            title  \\\n3        42153070                      Ждем от вас   \n7        42323563                       Требования   \n10       42324314                       Требования   \n11       42324314  Будет плюсом, но не обязательно   \n14       42352885            Что мы ожидаем от вас   \n...           ...                              ...   \n1365062  15568958                       Требования   \n1365066  15569541      Что мы ожидаем от кандидата   \n1365070  15569605      Наши пожелания к кандидатам   \n1365075  13279864                        Нам важно   \n1365076  13279864      Дополнительным плюсом будет   \n\n                                                   content  content_type  \\\n3        опыт взаимодействия с командой разработки;\\nоп...             1   \n7        Профильное образование не ниже средне-специаль...             1   \n10       Опыт на аналогичной должности – более 2 лет;\\n...             1   \n11                        Liquibase\\nTestContainers\\nJUnit             1   \n14       Вы обладаете опытом коммерческой разработки пр...             1   \n...                                                    ...           ...   \n1365062                     креативность, работа в команде             1   \n1365066  Знание HTML5, CSS3, JavaScript;\\nЗнание хотя б...             1   \n1365070  Иметь опыт работы по пунктам выше\\nУметь и не ...             1   \n1365075  Опыт разработки на Java от 2-х;\\nОпыт работы с...             1   \n1365076  Практические навыки работы Spring Core (знания...             1   \n\n         semantic_type  block_id  \n3                    3        11  \n7                    3         4  \n10                   3         5  \n11                   4         7  \n14                   3         4  \n...                ...       ...  \n1365062              3         4  \n1365066              3         6  \n1365070              3         6  \n1365075              3         5  \n1365076              4         7  \n\n[337861 rows x 6 columns]",
      "text/html": "<div>\n<style scoped>\n    .dataframe tbody tr th:only-of-type {\n        vertical-align: middle;\n    }\n\n    .dataframe tbody tr th {\n        vertical-align: top;\n    }\n\n    .dataframe thead th {\n        text-align: right;\n    }\n</style>\n<table border=\"1\" class=\"dataframe\">\n  <thead>\n    <tr style=\"text-align: right;\">\n      <th></th>\n      <th>id</th>\n      <th>title</th>\n      <th>content</th>\n      <th>content_type</th>\n      <th>semantic_type</th>\n      <th>block_id</th>\n    </tr>\n  </thead>\n  <tbody>\n    <tr>\n      <th>3</th>\n      <td>42153070</td>\n      <td>Ждем от вас</td>\n      <td>опыт взаимодействия с командой разработки;\\nоп...</td>\n      <td>1</td>\n      <td>3</td>\n      <td>11</td>\n    </tr>\n    <tr>\n      <th>7</th>\n      <td>42323563</td>\n      <td>Требования</td>\n      <td>Профильное образование не ниже средне-специаль...</td>\n      <td>1</td>\n      <td>3</td>\n      <td>4</td>\n    </tr>\n    <tr>\n      <th>10</th>\n      <td>42324314</td>\n      <td>Требования</td>\n      <td>Опыт на аналогичной должности – более 2 лет;\\n...</td>\n      <td>1</td>\n      <td>3</td>\n      <td>5</td>\n    </tr>\n    <tr>\n      <th>11</th>\n      <td>42324314</td>\n      <td>Будет плюсом, но не обязательно</td>\n      <td>Liquibase\\nTestContainers\\nJUnit</td>\n      <td>1</td>\n      <td>4</td>\n      <td>7</td>\n    </tr>\n    <tr>\n      <th>14</th>\n      <td>42352885</td>\n      <td>Что мы ожидаем от вас</td>\n      <td>Вы обладаете опытом коммерческой разработки пр...</td>\n      <td>1</td>\n      <td>3</td>\n      <td>4</td>\n    </tr>\n    <tr>\n      <th>...</th>\n      <td>...</td>\n      <td>...</td>\n      <td>...</td>\n      <td>...</td>\n      <td>...</td>\n      <td>...</td>\n    </tr>\n    <tr>\n      <th>1365062</th>\n      <td>15568958</td>\n      <td>Требования</td>\n      <td>креативность, работа в команде</td>\n      <td>1</td>\n      <td>3</td>\n      <td>4</td>\n    </tr>\n    <tr>\n      <th>1365066</th>\n      <td>15569541</td>\n      <td>Что мы ожидаем от кандидата</td>\n      <td>Знание HTML5, CSS3, JavaScript;\\nЗнание хотя б...</td>\n      <td>1</td>\n      <td>3</td>\n      <td>6</td>\n    </tr>\n    <tr>\n      <th>1365070</th>\n      <td>15569605</td>\n      <td>Наши пожелания к кандидатам</td>\n      <td>Иметь опыт работы по пунктам выше\\nУметь и не ...</td>\n      <td>1</td>\n      <td>3</td>\n      <td>6</td>\n    </tr>\n    <tr>\n      <th>1365075</th>\n      <td>13279864</td>\n      <td>Нам важно</td>\n      <td>Опыт разработки на Java от 2-х;\\nОпыт работы с...</td>\n      <td>1</td>\n      <td>3</td>\n      <td>5</td>\n    </tr>\n    <tr>\n      <th>1365076</th>\n      <td>13279864</td>\n      <td>Дополнительным плюсом будет</td>\n      <td>Практические навыки работы Spring Core (знания...</td>\n      <td>1</td>\n      <td>4</td>\n      <td>7</td>\n    </tr>\n  </tbody>\n</table>\n<p>337861 rows × 6 columns</p>\n</div>"
     },
     "execution_count": 17,
     "metadata": {},
     "output_type": "execute_result"
    }
   ],
   "source": [
    "df_selected"
   ],
   "metadata": {
    "collapsed": false,
    "ExecuteTime": {
     "end_time": "2024-05-15T19:38:02.453798907Z",
     "start_time": "2024-05-15T19:38:02.422745330Z"
    }
   },
   "id": "224056bf7c4d8074"
  },
  {
   "cell_type": "markdown",
   "source": [
    "В результате осталось чуть больше 330 тыс. записей, которые мы и будем использовать далее. Сохраним этот датасет:"
   ],
   "metadata": {
    "collapsed": false
   },
   "id": "d1293da31227f2c6"
  },
  {
   "cell_type": "code",
   "execution_count": 18,
   "outputs": [
    {
     "data": {
      "text/plain": "'/mnt/data/projects/active/urfu/vkr/data/processed/blocks_selected.csv.gz'"
     },
     "execution_count": 18,
     "metadata": {},
     "output_type": "execute_result"
    }
   ],
   "source": [
    "filename=settings.get_fresh('FILENAME_BLOCKS_SELECTED')\n",
    "files.save_dataframe(df_selected, filename,subdir, to_compress=True)"
   ],
   "metadata": {
    "collapsed": false,
    "ExecuteTime": {
     "end_time": "2024-05-15T19:39:59.572175870Z",
     "start_time": "2024-05-15T19:39:32.461971211Z"
    }
   },
   "id": "85ec23c14f275106"
  }
 ],
 "metadata": {
  "kernelspec": {
   "display_name": "Python 3",
   "language": "python",
   "name": "python3"
  },
  "language_info": {
   "codemirror_mode": {
    "name": "ipython",
    "version": 2
   },
   "file_extension": ".py",
   "mimetype": "text/x-python",
   "name": "python",
   "nbconvert_exporter": "python",
   "pygments_lexer": "ipython2",
   "version": "2.7.6"
  }
 },
 "nbformat": 4,
 "nbformat_minor": 5
}
